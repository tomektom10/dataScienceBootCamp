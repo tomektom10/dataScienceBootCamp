{
  "nbformat": 4,
  "nbformat_minor": 0,
  "metadata": {
    "colab": {
      "provenance": [],
      "machine_shape": "hm",
      "include_colab_link": true
    },
    "kernelspec": {
      "name": "python3",
      "display_name": "Python 3"
    },
    "language_info": {
      "name": "python"
    }
  },
  "cells": [
    {
      "cell_type": "markdown",
      "metadata": {
        "id": "view-in-github",
        "colab_type": "text"
      },
      "source": [
        "<a href=\"https://colab.research.google.com/github/tomektom10/dataScienceBootCamp/blob/main/18_09_model_%2Bulepszenia_pojedyncze.ipynb\" target=\"_parent\"><img src=\"https://colab.research.google.com/assets/colab-badge.svg\" alt=\"Open In Colab\"/></a>"
      ]
    },
    {
      "cell_type": "code",
      "source": [
        "pip install bayesian-optimization"
      ],
      "metadata": {
        "id": "OUufsRaCKVeQ",
        "outputId": "d21b1d1b-7176-464d-fab7-97f4763041b1",
        "colab": {
          "base_uri": "https://localhost:8080/"
        }
      },
      "execution_count": 211,
      "outputs": [
        {
          "output_type": "stream",
          "name": "stdout",
          "text": [
            "Requirement already satisfied: bayesian-optimization in /usr/local/lib/python3.10/dist-packages (1.5.1)\n",
            "Requirement already satisfied: colorama<0.5.0,>=0.4.6 in /usr/local/lib/python3.10/dist-packages (from bayesian-optimization) (0.4.6)\n",
            "Requirement already satisfied: numpy>=1.25 in /usr/local/lib/python3.10/dist-packages (from bayesian-optimization) (1.26.4)\n",
            "Requirement already satisfied: scikit-learn<2.0.0,>=1.0.0 in /usr/local/lib/python3.10/dist-packages (from bayesian-optimization) (1.3.2)\n",
            "Requirement already satisfied: scipy<2.0.0,>=1.0.0 in /usr/local/lib/python3.10/dist-packages (from bayesian-optimization) (1.13.1)\n",
            "Requirement already satisfied: joblib>=1.1.1 in /usr/local/lib/python3.10/dist-packages (from scikit-learn<2.0.0,>=1.0.0->bayesian-optimization) (1.4.2)\n",
            "Requirement already satisfied: threadpoolctl>=2.0.0 in /usr/local/lib/python3.10/dist-packages (from scikit-learn<2.0.0,>=1.0.0->bayesian-optimization) (3.5.0)\n"
          ]
        }
      ]
    },
    {
      "cell_type": "code",
      "source": [
        "\n",
        "from sklearn.model_selection import train_test_split\n",
        "from sklearn.preprocessing import MinMaxScaler"
      ],
      "metadata": {
        "id": "RgaLieSWELoL"
      },
      "execution_count": 212,
      "outputs": []
    },
    {
      "cell_type": "code",
      "execution_count": 213,
      "metadata": {
        "id": "B6bZFIBhA7L-"
      },
      "outputs": [],
      "source": [
        "import pandas as pd\n",
        "import pandas as pd\n",
        "import numpy as np\n",
        "df = pd.read_excel(\"DANE_KRZYCHU_całe_mniej.xlsx\")"
      ]
    },
    {
      "cell_type": "code",
      "source": [
        "\n",
        "df_12 = df[df['Hour'] == 2]\n",
        "\n",
        "df_12"
      ],
      "metadata": {
        "colab": {
          "base_uri": "https://localhost:8080/",
          "height": 875
        },
        "id": "Q3rgmllz9MKi",
        "outputId": "31bd6f44-1a03-46cd-9a4c-dd082584da19"
      },
      "execution_count": 214,
      "outputs": [
        {
          "output_type": "execute_result",
          "data": {
            "text/plain": [
              "                 Datetime  Hour  Day  SK Price Spot EUR/MWh OKTE   \\\n",
              "1     2023-01-01 01:00:00     2    7                         0.33   \n",
              "25    2023-01-02 01:00:00     2    1                        57.98   \n",
              "49    2023-01-03 01:00:00     2    2                       120.00   \n",
              "73    2023-01-04 01:00:00     2    3                        84.00   \n",
              "97    2023-01-05 01:00:00     2    4                       144.30   \n",
              "...                   ...   ...  ...                          ...   \n",
              "14569 2024-08-30 01:00:00     2    5                       102.82   \n",
              "14593 2024-08-31 01:00:00     2    6                       107.98   \n",
              "14617 2024-09-01 01:00:00     2    7                        86.03   \n",
              "14641 2024-09-02 01:00:00     2    1                        99.52   \n",
              "14665 2024-09-03 01:00:00     2    2                       102.49   \n",
              "\n",
              "       Imbalance Price OKTE  SK Nuclear Production MWh/h H Actual  \\\n",
              "1                 -4.997500                                1976.0   \n",
              "25                -5.000000                                1973.0   \n",
              "49               180.000000                                1974.0   \n",
              "73               132.000000                                1979.0   \n",
              "97               161.087500                                1978.0   \n",
              "...                     ...                                   ...   \n",
              "14569             -4.561925                                2356.0   \n",
              "14593             -4.613925                                2361.0   \n",
              "14617            147.821250                                2356.0   \n",
              "14641             -4.715550                                2366.0   \n",
              "14665             -3.121950                                2357.0   \n",
              "\n",
              "       SK Hydro Run-of-river Production MWh/h H Actual  \\\n",
              "1                                                247.0   \n",
              "25                                               242.0   \n",
              "49                                               239.0   \n",
              "73                                               280.0   \n",
              "97                                               225.0   \n",
              "...                                                ...   \n",
              "14569                                            239.0   \n",
              "14593                                            208.0   \n",
              "14617                                            225.0   \n",
              "14641                                            216.0   \n",
              "14665                                            184.0   \n",
              "\n",
              "       SK Natural Gas Power Production MWh/h H Actual  \\\n",
              "1                                               183.0   \n",
              "25                                              176.0   \n",
              "49                                              190.0   \n",
              "73                                              207.0   \n",
              "97                                              195.0   \n",
              "...                                               ...   \n",
              "14569                                           107.0   \n",
              "14593                                           103.0   \n",
              "14617                                           113.0   \n",
              "14641                                           104.0   \n",
              "14665                                           111.0   \n",
              "\n",
              "       SK Solar Photovoltaic Production MWh/h H Actual  \\\n",
              "1                                                  0.0   \n",
              "25                                                 0.0   \n",
              "49                                                 0.0   \n",
              "73                                                 0.0   \n",
              "97                                                 0.0   \n",
              "...                                                ...   \n",
              "14569                                              1.0   \n",
              "14593                                              0.0   \n",
              "14617                                              0.0   \n",
              "14641                                              0.0   \n",
              "14665                                              0.0   \n",
              "\n",
              "       SK Hydro Pumped-storage Production MWh/h H Actual  \\\n",
              "1                                                      0   \n",
              "25                                                     0   \n",
              "49                                                     0   \n",
              "73                                                     0   \n",
              "97                                                     0   \n",
              "...                                                  ...   \n",
              "14569                                                  0   \n",
              "14593                                                  0   \n",
              "14617                                                  0   \n",
              "14641                                                  0   \n",
              "14665                                                  0   \n",
              "\n",
              "       SK Other Power Production MWh/h H Actual  \\\n",
              "1                                         234.0   \n",
              "25                                        231.0   \n",
              "49                                        236.0   \n",
              "73                                        241.0   \n",
              "97                                        244.0   \n",
              "...                                         ...   \n",
              "14569                                     161.0   \n",
              "14593                                     178.0   \n",
              "14617                                     165.0   \n",
              "14641                                     162.0   \n",
              "14665                                     179.0   \n",
              "\n",
              "       SK Hydro Reservoir Production MWh/h H Actual  \\\n",
              "1                                               2.0   \n",
              "25                                              2.0   \n",
              "49                                              3.0   \n",
              "73                                              0.0   \n",
              "97                                              4.0   \n",
              "...                                             ...   \n",
              "14569                                           0.0   \n",
              "14593                                           0.0   \n",
              "14617                                           0.0   \n",
              "14641                                           0.0   \n",
              "14665                                           0.0   \n",
              "\n",
              "       SK sum of Production MWh/h  SK Consumption MWh/h H Actual  \\\n",
              "1                          2642.0                         2201.0   \n",
              "25                         2624.0                         2090.0   \n",
              "49                         2642.0                         2368.0   \n",
              "73                         2707.0                         2445.0   \n",
              "97                         2646.0                         2434.0   \n",
              "...                           ...                            ...   \n",
              "14569                      2864.0                         2338.0   \n",
              "14593                      2850.0                         2353.0   \n",
              "14617                      2859.0                         2171.0   \n",
              "14641                      2848.0                         2153.0   \n",
              "14665                      2831.0                         2391.0   \n",
              "\n",
              "       SK Exchange Physical Flow Net Import MWh/h H Actual  \\\n",
              "1                                                 -361.0     \n",
              "25                                                -439.0     \n",
              "49                                                -223.0     \n",
              "73                                                -217.0     \n",
              "97                                                -107.0     \n",
              "...                                                  ...     \n",
              "14569                                             -606.5     \n",
              "14593                                             -607.0     \n",
              "14617                                             -726.8     \n",
              "14641                                             -732.5     \n",
              "14665                                             -461.5     \n",
              "\n",
              "       Weighted average price of all trades (EUR/MWh)  \n",
              "1                                                1.35  \n",
              "25                                              69.16  \n",
              "49                                             108.84  \n",
              "73                                              87.39  \n",
              "97                                             124.12  \n",
              "...                                               ...  \n",
              "14569                                          119.91  \n",
              "14593                                           85.00  \n",
              "14617                                           90.73  \n",
              "14641                                           96.45  \n",
              "14665                                          103.54  \n",
              "\n",
              "[612 rows x 16 columns]"
            ],
            "text/html": [
              "\n",
              "  <div id=\"df-b8ac0130-40bd-448e-82a4-fa58c6e70b52\" class=\"colab-df-container\">\n",
              "    <div>\n",
              "<style scoped>\n",
              "    .dataframe tbody tr th:only-of-type {\n",
              "        vertical-align: middle;\n",
              "    }\n",
              "\n",
              "    .dataframe tbody tr th {\n",
              "        vertical-align: top;\n",
              "    }\n",
              "\n",
              "    .dataframe thead th {\n",
              "        text-align: right;\n",
              "    }\n",
              "</style>\n",
              "<table border=\"1\" class=\"dataframe\">\n",
              "  <thead>\n",
              "    <tr style=\"text-align: right;\">\n",
              "      <th></th>\n",
              "      <th>Datetime</th>\n",
              "      <th>Hour</th>\n",
              "      <th>Day</th>\n",
              "      <th>SK Price Spot EUR/MWh OKTE</th>\n",
              "      <th>Imbalance Price OKTE</th>\n",
              "      <th>SK Nuclear Production MWh/h H Actual</th>\n",
              "      <th>SK Hydro Run-of-river Production MWh/h H Actual</th>\n",
              "      <th>SK Natural Gas Power Production MWh/h H Actual</th>\n",
              "      <th>SK Solar Photovoltaic Production MWh/h H Actual</th>\n",
              "      <th>SK Hydro Pumped-storage Production MWh/h H Actual</th>\n",
              "      <th>SK Other Power Production MWh/h H Actual</th>\n",
              "      <th>SK Hydro Reservoir Production MWh/h H Actual</th>\n",
              "      <th>SK sum of Production MWh/h</th>\n",
              "      <th>SK Consumption MWh/h H Actual</th>\n",
              "      <th>SK Exchange Physical Flow Net Import MWh/h H Actual</th>\n",
              "      <th>Weighted average price of all trades (EUR/MWh)</th>\n",
              "    </tr>\n",
              "  </thead>\n",
              "  <tbody>\n",
              "    <tr>\n",
              "      <th>1</th>\n",
              "      <td>2023-01-01 01:00:00</td>\n",
              "      <td>2</td>\n",
              "      <td>7</td>\n",
              "      <td>0.33</td>\n",
              "      <td>-4.997500</td>\n",
              "      <td>1976.0</td>\n",
              "      <td>247.0</td>\n",
              "      <td>183.0</td>\n",
              "      <td>0.0</td>\n",
              "      <td>0</td>\n",
              "      <td>234.0</td>\n",
              "      <td>2.0</td>\n",
              "      <td>2642.0</td>\n",
              "      <td>2201.0</td>\n",
              "      <td>-361.0</td>\n",
              "      <td>1.35</td>\n",
              "    </tr>\n",
              "    <tr>\n",
              "      <th>25</th>\n",
              "      <td>2023-01-02 01:00:00</td>\n",
              "      <td>2</td>\n",
              "      <td>1</td>\n",
              "      <td>57.98</td>\n",
              "      <td>-5.000000</td>\n",
              "      <td>1973.0</td>\n",
              "      <td>242.0</td>\n",
              "      <td>176.0</td>\n",
              "      <td>0.0</td>\n",
              "      <td>0</td>\n",
              "      <td>231.0</td>\n",
              "      <td>2.0</td>\n",
              "      <td>2624.0</td>\n",
              "      <td>2090.0</td>\n",
              "      <td>-439.0</td>\n",
              "      <td>69.16</td>\n",
              "    </tr>\n",
              "    <tr>\n",
              "      <th>49</th>\n",
              "      <td>2023-01-03 01:00:00</td>\n",
              "      <td>2</td>\n",
              "      <td>2</td>\n",
              "      <td>120.00</td>\n",
              "      <td>180.000000</td>\n",
              "      <td>1974.0</td>\n",
              "      <td>239.0</td>\n",
              "      <td>190.0</td>\n",
              "      <td>0.0</td>\n",
              "      <td>0</td>\n",
              "      <td>236.0</td>\n",
              "      <td>3.0</td>\n",
              "      <td>2642.0</td>\n",
              "      <td>2368.0</td>\n",
              "      <td>-223.0</td>\n",
              "      <td>108.84</td>\n",
              "    </tr>\n",
              "    <tr>\n",
              "      <th>73</th>\n",
              "      <td>2023-01-04 01:00:00</td>\n",
              "      <td>2</td>\n",
              "      <td>3</td>\n",
              "      <td>84.00</td>\n",
              "      <td>132.000000</td>\n",
              "      <td>1979.0</td>\n",
              "      <td>280.0</td>\n",
              "      <td>207.0</td>\n",
              "      <td>0.0</td>\n",
              "      <td>0</td>\n",
              "      <td>241.0</td>\n",
              "      <td>0.0</td>\n",
              "      <td>2707.0</td>\n",
              "      <td>2445.0</td>\n",
              "      <td>-217.0</td>\n",
              "      <td>87.39</td>\n",
              "    </tr>\n",
              "    <tr>\n",
              "      <th>97</th>\n",
              "      <td>2023-01-05 01:00:00</td>\n",
              "      <td>2</td>\n",
              "      <td>4</td>\n",
              "      <td>144.30</td>\n",
              "      <td>161.087500</td>\n",
              "      <td>1978.0</td>\n",
              "      <td>225.0</td>\n",
              "      <td>195.0</td>\n",
              "      <td>0.0</td>\n",
              "      <td>0</td>\n",
              "      <td>244.0</td>\n",
              "      <td>4.0</td>\n",
              "      <td>2646.0</td>\n",
              "      <td>2434.0</td>\n",
              "      <td>-107.0</td>\n",
              "      <td>124.12</td>\n",
              "    </tr>\n",
              "    <tr>\n",
              "      <th>...</th>\n",
              "      <td>...</td>\n",
              "      <td>...</td>\n",
              "      <td>...</td>\n",
              "      <td>...</td>\n",
              "      <td>...</td>\n",
              "      <td>...</td>\n",
              "      <td>...</td>\n",
              "      <td>...</td>\n",
              "      <td>...</td>\n",
              "      <td>...</td>\n",
              "      <td>...</td>\n",
              "      <td>...</td>\n",
              "      <td>...</td>\n",
              "      <td>...</td>\n",
              "      <td>...</td>\n",
              "      <td>...</td>\n",
              "    </tr>\n",
              "    <tr>\n",
              "      <th>14569</th>\n",
              "      <td>2024-08-30 01:00:00</td>\n",
              "      <td>2</td>\n",
              "      <td>5</td>\n",
              "      <td>102.82</td>\n",
              "      <td>-4.561925</td>\n",
              "      <td>2356.0</td>\n",
              "      <td>239.0</td>\n",
              "      <td>107.0</td>\n",
              "      <td>1.0</td>\n",
              "      <td>0</td>\n",
              "      <td>161.0</td>\n",
              "      <td>0.0</td>\n",
              "      <td>2864.0</td>\n",
              "      <td>2338.0</td>\n",
              "      <td>-606.5</td>\n",
              "      <td>119.91</td>\n",
              "    </tr>\n",
              "    <tr>\n",
              "      <th>14593</th>\n",
              "      <td>2024-08-31 01:00:00</td>\n",
              "      <td>2</td>\n",
              "      <td>6</td>\n",
              "      <td>107.98</td>\n",
              "      <td>-4.613925</td>\n",
              "      <td>2361.0</td>\n",
              "      <td>208.0</td>\n",
              "      <td>103.0</td>\n",
              "      <td>0.0</td>\n",
              "      <td>0</td>\n",
              "      <td>178.0</td>\n",
              "      <td>0.0</td>\n",
              "      <td>2850.0</td>\n",
              "      <td>2353.0</td>\n",
              "      <td>-607.0</td>\n",
              "      <td>85.00</td>\n",
              "    </tr>\n",
              "    <tr>\n",
              "      <th>14617</th>\n",
              "      <td>2024-09-01 01:00:00</td>\n",
              "      <td>2</td>\n",
              "      <td>7</td>\n",
              "      <td>86.03</td>\n",
              "      <td>147.821250</td>\n",
              "      <td>2356.0</td>\n",
              "      <td>225.0</td>\n",
              "      <td>113.0</td>\n",
              "      <td>0.0</td>\n",
              "      <td>0</td>\n",
              "      <td>165.0</td>\n",
              "      <td>0.0</td>\n",
              "      <td>2859.0</td>\n",
              "      <td>2171.0</td>\n",
              "      <td>-726.8</td>\n",
              "      <td>90.73</td>\n",
              "    </tr>\n",
              "    <tr>\n",
              "      <th>14641</th>\n",
              "      <td>2024-09-02 01:00:00</td>\n",
              "      <td>2</td>\n",
              "      <td>1</td>\n",
              "      <td>99.52</td>\n",
              "      <td>-4.715550</td>\n",
              "      <td>2366.0</td>\n",
              "      <td>216.0</td>\n",
              "      <td>104.0</td>\n",
              "      <td>0.0</td>\n",
              "      <td>0</td>\n",
              "      <td>162.0</td>\n",
              "      <td>0.0</td>\n",
              "      <td>2848.0</td>\n",
              "      <td>2153.0</td>\n",
              "      <td>-732.5</td>\n",
              "      <td>96.45</td>\n",
              "    </tr>\n",
              "    <tr>\n",
              "      <th>14665</th>\n",
              "      <td>2024-09-03 01:00:00</td>\n",
              "      <td>2</td>\n",
              "      <td>2</td>\n",
              "      <td>102.49</td>\n",
              "      <td>-3.121950</td>\n",
              "      <td>2357.0</td>\n",
              "      <td>184.0</td>\n",
              "      <td>111.0</td>\n",
              "      <td>0.0</td>\n",
              "      <td>0</td>\n",
              "      <td>179.0</td>\n",
              "      <td>0.0</td>\n",
              "      <td>2831.0</td>\n",
              "      <td>2391.0</td>\n",
              "      <td>-461.5</td>\n",
              "      <td>103.54</td>\n",
              "    </tr>\n",
              "  </tbody>\n",
              "</table>\n",
              "<p>612 rows × 16 columns</p>\n",
              "</div>\n",
              "    <div class=\"colab-df-buttons\">\n",
              "\n",
              "  <div class=\"colab-df-container\">\n",
              "    <button class=\"colab-df-convert\" onclick=\"convertToInteractive('df-b8ac0130-40bd-448e-82a4-fa58c6e70b52')\"\n",
              "            title=\"Convert this dataframe to an interactive table.\"\n",
              "            style=\"display:none;\">\n",
              "\n",
              "  <svg xmlns=\"http://www.w3.org/2000/svg\" height=\"24px\" viewBox=\"0 -960 960 960\">\n",
              "    <path d=\"M120-120v-720h720v720H120Zm60-500h600v-160H180v160Zm220 220h160v-160H400v160Zm0 220h160v-160H400v160ZM180-400h160v-160H180v160Zm440 0h160v-160H620v160ZM180-180h160v-160H180v160Zm440 0h160v-160H620v160Z\"/>\n",
              "  </svg>\n",
              "    </button>\n",
              "\n",
              "  <style>\n",
              "    .colab-df-container {\n",
              "      display:flex;\n",
              "      gap: 12px;\n",
              "    }\n",
              "\n",
              "    .colab-df-convert {\n",
              "      background-color: #E8F0FE;\n",
              "      border: none;\n",
              "      border-radius: 50%;\n",
              "      cursor: pointer;\n",
              "      display: none;\n",
              "      fill: #1967D2;\n",
              "      height: 32px;\n",
              "      padding: 0 0 0 0;\n",
              "      width: 32px;\n",
              "    }\n",
              "\n",
              "    .colab-df-convert:hover {\n",
              "      background-color: #E2EBFA;\n",
              "      box-shadow: 0px 1px 2px rgba(60, 64, 67, 0.3), 0px 1px 3px 1px rgba(60, 64, 67, 0.15);\n",
              "      fill: #174EA6;\n",
              "    }\n",
              "\n",
              "    .colab-df-buttons div {\n",
              "      margin-bottom: 4px;\n",
              "    }\n",
              "\n",
              "    [theme=dark] .colab-df-convert {\n",
              "      background-color: #3B4455;\n",
              "      fill: #D2E3FC;\n",
              "    }\n",
              "\n",
              "    [theme=dark] .colab-df-convert:hover {\n",
              "      background-color: #434B5C;\n",
              "      box-shadow: 0px 1px 3px 1px rgba(0, 0, 0, 0.15);\n",
              "      filter: drop-shadow(0px 1px 2px rgba(0, 0, 0, 0.3));\n",
              "      fill: #FFFFFF;\n",
              "    }\n",
              "  </style>\n",
              "\n",
              "    <script>\n",
              "      const buttonEl =\n",
              "        document.querySelector('#df-b8ac0130-40bd-448e-82a4-fa58c6e70b52 button.colab-df-convert');\n",
              "      buttonEl.style.display =\n",
              "        google.colab.kernel.accessAllowed ? 'block' : 'none';\n",
              "\n",
              "      async function convertToInteractive(key) {\n",
              "        const element = document.querySelector('#df-b8ac0130-40bd-448e-82a4-fa58c6e70b52');\n",
              "        const dataTable =\n",
              "          await google.colab.kernel.invokeFunction('convertToInteractive',\n",
              "                                                    [key], {});\n",
              "        if (!dataTable) return;\n",
              "\n",
              "        const docLinkHtml = 'Like what you see? Visit the ' +\n",
              "          '<a target=\"_blank\" href=https://colab.research.google.com/notebooks/data_table.ipynb>data table notebook</a>'\n",
              "          + ' to learn more about interactive tables.';\n",
              "        element.innerHTML = '';\n",
              "        dataTable['output_type'] = 'display_data';\n",
              "        await google.colab.output.renderOutput(dataTable, element);\n",
              "        const docLink = document.createElement('div');\n",
              "        docLink.innerHTML = docLinkHtml;\n",
              "        element.appendChild(docLink);\n",
              "      }\n",
              "    </script>\n",
              "  </div>\n",
              "\n",
              "\n",
              "<div id=\"df-c49c6fdb-7b24-4c33-8461-260245f0c389\">\n",
              "  <button class=\"colab-df-quickchart\" onclick=\"quickchart('df-c49c6fdb-7b24-4c33-8461-260245f0c389')\"\n",
              "            title=\"Suggest charts\"\n",
              "            style=\"display:none;\">\n",
              "\n",
              "<svg xmlns=\"http://www.w3.org/2000/svg\" height=\"24px\"viewBox=\"0 0 24 24\"\n",
              "     width=\"24px\">\n",
              "    <g>\n",
              "        <path d=\"M19 3H5c-1.1 0-2 .9-2 2v14c0 1.1.9 2 2 2h14c1.1 0 2-.9 2-2V5c0-1.1-.9-2-2-2zM9 17H7v-7h2v7zm4 0h-2V7h2v10zm4 0h-2v-4h2v4z\"/>\n",
              "    </g>\n",
              "</svg>\n",
              "  </button>\n",
              "\n",
              "<style>\n",
              "  .colab-df-quickchart {\n",
              "      --bg-color: #E8F0FE;\n",
              "      --fill-color: #1967D2;\n",
              "      --hover-bg-color: #E2EBFA;\n",
              "      --hover-fill-color: #174EA6;\n",
              "      --disabled-fill-color: #AAA;\n",
              "      --disabled-bg-color: #DDD;\n",
              "  }\n",
              "\n",
              "  [theme=dark] .colab-df-quickchart {\n",
              "      --bg-color: #3B4455;\n",
              "      --fill-color: #D2E3FC;\n",
              "      --hover-bg-color: #434B5C;\n",
              "      --hover-fill-color: #FFFFFF;\n",
              "      --disabled-bg-color: #3B4455;\n",
              "      --disabled-fill-color: #666;\n",
              "  }\n",
              "\n",
              "  .colab-df-quickchart {\n",
              "    background-color: var(--bg-color);\n",
              "    border: none;\n",
              "    border-radius: 50%;\n",
              "    cursor: pointer;\n",
              "    display: none;\n",
              "    fill: var(--fill-color);\n",
              "    height: 32px;\n",
              "    padding: 0;\n",
              "    width: 32px;\n",
              "  }\n",
              "\n",
              "  .colab-df-quickchart:hover {\n",
              "    background-color: var(--hover-bg-color);\n",
              "    box-shadow: 0 1px 2px rgba(60, 64, 67, 0.3), 0 1px 3px 1px rgba(60, 64, 67, 0.15);\n",
              "    fill: var(--button-hover-fill-color);\n",
              "  }\n",
              "\n",
              "  .colab-df-quickchart-complete:disabled,\n",
              "  .colab-df-quickchart-complete:disabled:hover {\n",
              "    background-color: var(--disabled-bg-color);\n",
              "    fill: var(--disabled-fill-color);\n",
              "    box-shadow: none;\n",
              "  }\n",
              "\n",
              "  .colab-df-spinner {\n",
              "    border: 2px solid var(--fill-color);\n",
              "    border-color: transparent;\n",
              "    border-bottom-color: var(--fill-color);\n",
              "    animation:\n",
              "      spin 1s steps(1) infinite;\n",
              "  }\n",
              "\n",
              "  @keyframes spin {\n",
              "    0% {\n",
              "      border-color: transparent;\n",
              "      border-bottom-color: var(--fill-color);\n",
              "      border-left-color: var(--fill-color);\n",
              "    }\n",
              "    20% {\n",
              "      border-color: transparent;\n",
              "      border-left-color: var(--fill-color);\n",
              "      border-top-color: var(--fill-color);\n",
              "    }\n",
              "    30% {\n",
              "      border-color: transparent;\n",
              "      border-left-color: var(--fill-color);\n",
              "      border-top-color: var(--fill-color);\n",
              "      border-right-color: var(--fill-color);\n",
              "    }\n",
              "    40% {\n",
              "      border-color: transparent;\n",
              "      border-right-color: var(--fill-color);\n",
              "      border-top-color: var(--fill-color);\n",
              "    }\n",
              "    60% {\n",
              "      border-color: transparent;\n",
              "      border-right-color: var(--fill-color);\n",
              "    }\n",
              "    80% {\n",
              "      border-color: transparent;\n",
              "      border-right-color: var(--fill-color);\n",
              "      border-bottom-color: var(--fill-color);\n",
              "    }\n",
              "    90% {\n",
              "      border-color: transparent;\n",
              "      border-bottom-color: var(--fill-color);\n",
              "    }\n",
              "  }\n",
              "</style>\n",
              "\n",
              "  <script>\n",
              "    async function quickchart(key) {\n",
              "      const quickchartButtonEl =\n",
              "        document.querySelector('#' + key + ' button');\n",
              "      quickchartButtonEl.disabled = true;  // To prevent multiple clicks.\n",
              "      quickchartButtonEl.classList.add('colab-df-spinner');\n",
              "      try {\n",
              "        const charts = await google.colab.kernel.invokeFunction(\n",
              "            'suggestCharts', [key], {});\n",
              "      } catch (error) {\n",
              "        console.error('Error during call to suggestCharts:', error);\n",
              "      }\n",
              "      quickchartButtonEl.classList.remove('colab-df-spinner');\n",
              "      quickchartButtonEl.classList.add('colab-df-quickchart-complete');\n",
              "    }\n",
              "    (() => {\n",
              "      let quickchartButtonEl =\n",
              "        document.querySelector('#df-c49c6fdb-7b24-4c33-8461-260245f0c389 button');\n",
              "      quickchartButtonEl.style.display =\n",
              "        google.colab.kernel.accessAllowed ? 'block' : 'none';\n",
              "    })();\n",
              "  </script>\n",
              "</div>\n",
              "\n",
              "  <div id=\"id_e013e4f4-62dc-4271-8949-179c5b53d41b\">\n",
              "    <style>\n",
              "      .colab-df-generate {\n",
              "        background-color: #E8F0FE;\n",
              "        border: none;\n",
              "        border-radius: 50%;\n",
              "        cursor: pointer;\n",
              "        display: none;\n",
              "        fill: #1967D2;\n",
              "        height: 32px;\n",
              "        padding: 0 0 0 0;\n",
              "        width: 32px;\n",
              "      }\n",
              "\n",
              "      .colab-df-generate:hover {\n",
              "        background-color: #E2EBFA;\n",
              "        box-shadow: 0px 1px 2px rgba(60, 64, 67, 0.3), 0px 1px 3px 1px rgba(60, 64, 67, 0.15);\n",
              "        fill: #174EA6;\n",
              "      }\n",
              "\n",
              "      [theme=dark] .colab-df-generate {\n",
              "        background-color: #3B4455;\n",
              "        fill: #D2E3FC;\n",
              "      }\n",
              "\n",
              "      [theme=dark] .colab-df-generate:hover {\n",
              "        background-color: #434B5C;\n",
              "        box-shadow: 0px 1px 3px 1px rgba(0, 0, 0, 0.15);\n",
              "        filter: drop-shadow(0px 1px 2px rgba(0, 0, 0, 0.3));\n",
              "        fill: #FFFFFF;\n",
              "      }\n",
              "    </style>\n",
              "    <button class=\"colab-df-generate\" onclick=\"generateWithVariable('df_12')\"\n",
              "            title=\"Generate code using this dataframe.\"\n",
              "            style=\"display:none;\">\n",
              "\n",
              "  <svg xmlns=\"http://www.w3.org/2000/svg\" height=\"24px\"viewBox=\"0 0 24 24\"\n",
              "       width=\"24px\">\n",
              "    <path d=\"M7,19H8.4L18.45,9,17,7.55,7,17.6ZM5,21V16.75L18.45,3.32a2,2,0,0,1,2.83,0l1.4,1.43a1.91,1.91,0,0,1,.58,1.4,1.91,1.91,0,0,1-.58,1.4L9.25,21ZM18.45,9,17,7.55Zm-12,3A5.31,5.31,0,0,0,4.9,8.1,5.31,5.31,0,0,0,1,6.5,5.31,5.31,0,0,0,4.9,4.9,5.31,5.31,0,0,0,6.5,1,5.31,5.31,0,0,0,8.1,4.9,5.31,5.31,0,0,0,12,6.5,5.46,5.46,0,0,0,6.5,12Z\"/>\n",
              "  </svg>\n",
              "    </button>\n",
              "    <script>\n",
              "      (() => {\n",
              "      const buttonEl =\n",
              "        document.querySelector('#id_e013e4f4-62dc-4271-8949-179c5b53d41b button.colab-df-generate');\n",
              "      buttonEl.style.display =\n",
              "        google.colab.kernel.accessAllowed ? 'block' : 'none';\n",
              "\n",
              "      buttonEl.onclick = () => {\n",
              "        google.colab.notebook.generateWithVariable('df_12');\n",
              "      }\n",
              "      })();\n",
              "    </script>\n",
              "  </div>\n",
              "\n",
              "    </div>\n",
              "  </div>\n"
            ],
            "application/vnd.google.colaboratory.intrinsic+json": {
              "type": "dataframe",
              "variable_name": "df_12",
              "summary": "{\n  \"name\": \"df_12\",\n  \"rows\": 612,\n  \"fields\": [\n    {\n      \"column\": \"Datetime\",\n      \"properties\": {\n        \"dtype\": \"date\",\n        \"min\": \"2023-01-01 01:00:00\",\n        \"max\": \"2024-09-03 01:00:00\",\n        \"num_unique_values\": 612,\n        \"samples\": [\n          \"2023-03-23 01:00:00\",\n          \"2023-08-07 01:00:00\",\n          \"2023-02-25 01:00:00\"\n        ],\n        \"semantic_type\": \"\",\n        \"description\": \"\"\n      }\n    },\n    {\n      \"column\": \"Hour\",\n      \"properties\": {\n        \"dtype\": \"number\",\n        \"std\": 0,\n        \"min\": 2,\n        \"max\": 2,\n        \"num_unique_values\": 1,\n        \"samples\": [\n          2\n        ],\n        \"semantic_type\": \"\",\n        \"description\": \"\"\n      }\n    },\n    {\n      \"column\": \"Day\",\n      \"properties\": {\n        \"dtype\": \"number\",\n        \"std\": 2,\n        \"min\": 1,\n        \"max\": 7,\n        \"num_unique_values\": 7,\n        \"samples\": [\n          7\n        ],\n        \"semantic_type\": \"\",\n        \"description\": \"\"\n      }\n    },\n    {\n      \"column\": \"SK Price Spot EUR/MWh OKTE \",\n      \"properties\": {\n        \"dtype\": \"number\",\n        \"std\": 30.646250426318094,\n        \"min\": -6.34,\n        \"max\": 200.92,\n        \"num_unique_values\": 585,\n        \"samples\": [\n          96.68\n        ],\n        \"semantic_type\": \"\",\n        \"description\": \"\"\n      }\n    },\n    {\n      \"column\": \"Imbalance Price OKTE\",\n      \"properties\": {\n        \"dtype\": \"number\",\n        \"std\": 66.36192015475028,\n        \"min\": -11.655,\n        \"max\": 558.40125,\n        \"num_unique_values\": 493,\n        \"samples\": [\n          -4.41235\n        ],\n        \"semantic_type\": \"\",\n        \"description\": \"\"\n      }\n    },\n    {\n      \"column\": \"SK Nuclear Production MWh/h H Actual\",\n      \"properties\": {\n        \"dtype\": \"number\",\n        \"std\": 342.0105273016746,\n        \"min\": 957.0,\n        \"max\": 2457.0,\n        \"num_unique_values\": 345,\n        \"samples\": [\n          1921.0\n        ],\n        \"semantic_type\": \"\",\n        \"description\": \"\"\n      }\n    },\n    {\n      \"column\": \"SK Hydro Run-of-river Production MWh/h H Actual\",\n      \"properties\": {\n        \"dtype\": \"number\",\n        \"std\": 175.68386717073813,\n        \"min\": 0.0,\n        \"max\": 976.0,\n        \"num_unique_values\": 405,\n        \"samples\": [\n          482.0\n        ],\n        \"semantic_type\": \"\",\n        \"description\": \"\"\n      }\n    },\n    {\n      \"column\": \"SK Natural Gas Power Production MWh/h H Actual\",\n      \"properties\": {\n        \"dtype\": \"number\",\n        \"std\": 110.14018492616141,\n        \"min\": 0.0,\n        \"max\": 548.0,\n        \"num_unique_values\": 219,\n        \"samples\": [\n          346.0\n        ],\n        \"semantic_type\": \"\",\n        \"description\": \"\"\n      }\n    },\n    {\n      \"column\": \"SK Solar Photovoltaic Production MWh/h H Actual\",\n      \"properties\": {\n        \"dtype\": \"number\",\n        \"std\": 1.7395446028384802,\n        \"min\": 0.0,\n        \"max\": 17.0,\n        \"num_unique_values\": 15,\n        \"samples\": [\n          12.0\n        ],\n        \"semantic_type\": \"\",\n        \"description\": \"\"\n      }\n    },\n    {\n      \"column\": \"SK Hydro Pumped-storage Production MWh/h H Actual\",\n      \"properties\": {\n        \"dtype\": \"number\",\n        \"std\": 19,\n        \"min\": 0,\n        \"max\": 283,\n        \"num_unique_values\": 40,\n        \"samples\": [\n          20\n        ],\n        \"semantic_type\": \"\",\n        \"description\": \"\"\n      }\n    },\n    {\n      \"column\": \"SK Other Power Production MWh/h H Actual\",\n      \"properties\": {\n        \"dtype\": \"number\",\n        \"std\": 32.577764641135055,\n        \"min\": 44.0,\n        \"max\": 290.0,\n        \"num_unique_values\": 135,\n        \"samples\": [\n          189.0\n        ],\n        \"semantic_type\": \"\",\n        \"description\": \"\"\n      }\n    },\n    {\n      \"column\": \"SK Hydro Reservoir Production MWh/h H Actual\",\n      \"properties\": {\n        \"dtype\": \"number\",\n        \"std\": 22.722340576918945,\n        \"min\": 0.0,\n        \"max\": 160.0,\n        \"num_unique_values\": 79,\n        \"samples\": [\n          12.0\n        ],\n        \"semantic_type\": \"\",\n        \"description\": \"\"\n      }\n    },\n    {\n      \"column\": \"SK sum of Production MWh/h\",\n      \"properties\": {\n        \"dtype\": \"number\",\n        \"std\": 416.2530968507862,\n        \"min\": 1638.0,\n        \"max\": 3933.0,\n        \"num_unique_values\": 502,\n        \"samples\": [\n          3672.0\n        ],\n        \"semantic_type\": \"\",\n        \"description\": \"\"\n      }\n    },\n    {\n      \"column\": \"SK Consumption MWh/h H Actual\",\n      \"properties\": {\n        \"dtype\": \"number\",\n        \"std\": 228.05453218940463,\n        \"min\": 1955.0,\n        \"max\": 3077.0,\n        \"num_unique_values\": 440,\n        \"samples\": [\n          2600.0\n        ],\n        \"semantic_type\": \"\",\n        \"description\": \"\"\n      }\n    },\n    {\n      \"column\": \"SK Exchange Physical Flow Net Import MWh/h H Actual\",\n      \"properties\": {\n        \"dtype\": \"number\",\n        \"std\": 387.43561000976007,\n        \"min\": -1782.0,\n        \"max\": 560.0,\n        \"num_unique_values\": 520,\n        \"samples\": [\n          -843.0\n        ],\n        \"semantic_type\": \"\",\n        \"description\": \"\"\n      }\n    },\n    {\n      \"column\": \"Weighted average price of all trades (EUR/MWh)\",\n      \"properties\": {\n        \"dtype\": \"number\",\n        \"std\": 29.805407950586496,\n        \"min\": -7.77,\n        \"max\": 171.24,\n        \"num_unique_values\": 590,\n        \"samples\": [\n          105.15\n        ],\n        \"semantic_type\": \"\",\n        \"description\": \"\"\n      }\n    }\n  ]\n}"
            }
          },
          "metadata": {},
          "execution_count": 214
        }
      ]
    },
    {
      "cell_type": "code",
      "source": [
        "df"
      ],
      "metadata": {
        "id": "IO84NLxFBGOG",
        "colab": {
          "base_uri": "https://localhost:8080/",
          "height": 875
        },
        "outputId": "b3204418-8fbd-4e68-8540-532bf8f6f66a"
      },
      "execution_count": 215,
      "outputs": [
        {
          "output_type": "execute_result",
          "data": {
            "text/plain": [
              "                 Datetime  Hour  Day  SK Price Spot EUR/MWh OKTE   \\\n",
              "0     2023-01-01 00:00:00     1    7                        20.26   \n",
              "1     2023-01-01 01:00:00     2    7                         0.33   \n",
              "2     2023-01-01 02:00:00     3    7                         0.50   \n",
              "3     2023-01-01 03:00:00     4    7                         0.50   \n",
              "4     2023-01-01 04:00:00     5    7                         0.10   \n",
              "...                   ...   ...  ...                          ...   \n",
              "14683 2024-09-03 19:00:00    20    2                       736.30   \n",
              "14684 2024-09-03 20:00:00    21    2                       622.58   \n",
              "14685 2024-09-03 21:00:00    22    2                       243.10   \n",
              "14686 2024-09-03 22:00:00    23    2                       121.26   \n",
              "14687 2024-09-03 23:00:00    24    2                       124.56   \n",
              "\n",
              "       Imbalance Price OKTE  SK Nuclear Production MWh/h H Actual  \\\n",
              "0                 -5.000000                                1979.0   \n",
              "1                 -4.997500                                1976.0   \n",
              "2                 -5.000000                                1981.0   \n",
              "3                 -5.000000                                1984.0   \n",
              "4                 -5.000000                                1984.0   \n",
              "...                     ...                                   ...   \n",
              "14683           1547.580000                                2330.0   \n",
              "14684           1187.070000                                2333.0   \n",
              "14685            398.989025                                2343.0   \n",
              "14686             -2.901100                                2347.0   \n",
              "14687             -1.000000                                2348.0   \n",
              "\n",
              "       SK Hydro Run-of-river Production MWh/h H Actual  \\\n",
              "0                                                252.0   \n",
              "1                                                247.0   \n",
              "2                                                244.0   \n",
              "3                                                243.0   \n",
              "4                                                241.0   \n",
              "...                                                ...   \n",
              "14683                                            545.0   \n",
              "14684                                            483.0   \n",
              "14685                                            408.0   \n",
              "14686                                            302.0   \n",
              "14687                                            281.0   \n",
              "\n",
              "       SK Natural Gas Power Production MWh/h H Actual  \\\n",
              "0                                               178.0   \n",
              "1                                               183.0   \n",
              "2                                               177.0   \n",
              "3                                               175.0   \n",
              "4                                               177.0   \n",
              "...                                               ...   \n",
              "14683                                           530.0   \n",
              "14684                                           523.0   \n",
              "14685                                           494.0   \n",
              "14686                                           466.0   \n",
              "14687                                           478.0   \n",
              "\n",
              "       SK Solar Photovoltaic Production MWh/h H Actual  \\\n",
              "0                                                  0.0   \n",
              "1                                                  0.0   \n",
              "2                                                  0.0   \n",
              "3                                                  0.0   \n",
              "4                                                  0.0   \n",
              "...                                                ...   \n",
              "14683                                              1.0   \n",
              "14684                                              1.0   \n",
              "14685                                              0.0   \n",
              "14686                                              0.0   \n",
              "14687                                              0.0   \n",
              "\n",
              "       SK Hydro Pumped-storage Production MWh/h H Actual  \\\n",
              "0                                                      0   \n",
              "1                                                      0   \n",
              "2                                                      0   \n",
              "3                                                      0   \n",
              "4                                                      0   \n",
              "...                                                  ...   \n",
              "14683                                                600   \n",
              "14684                                                562   \n",
              "14685                                                358   \n",
              "14686                                                 10   \n",
              "14687                                                  0   \n",
              "\n",
              "       SK Other Power Production MWh/h H Actual  \\\n",
              "0                                         233.0   \n",
              "1                                         234.0   \n",
              "2                                         231.0   \n",
              "3                                         230.0   \n",
              "4                                         229.0   \n",
              "...                                         ...   \n",
              "14683                                     221.0   \n",
              "14684                                     197.0   \n",
              "14685                                     189.0   \n",
              "14686                                     180.0   \n",
              "14687                                     180.0   \n",
              "\n",
              "       SK Hydro Reservoir Production MWh/h H Actual  \\\n",
              "0                                               2.0   \n",
              "1                                               2.0   \n",
              "2                                               2.0   \n",
              "3                                               2.0   \n",
              "4                                               2.0   \n",
              "...                                             ...   \n",
              "14683                                         154.0   \n",
              "14684                                         144.0   \n",
              "14685                                          36.0   \n",
              "14686                                          37.0   \n",
              "14687                                          21.0   \n",
              "\n",
              "       SK sum of Production MWh/h  SK Consumption MWh/h H Actual  \\\n",
              "0                          2644.0                        2339.00   \n",
              "1                          2642.0                        2201.00   \n",
              "2                          2635.0                        2211.00   \n",
              "3                          2634.0                        2164.00   \n",
              "4                          2633.0                        2152.00   \n",
              "...                           ...                            ...   \n",
              "14683                      4381.0                        3122.89   \n",
              "14684                      4243.0                        3148.73   \n",
              "14685                      3828.0                        2964.00   \n",
              "14686                      3342.0                        2731.00   \n",
              "14687                      3308.0                        2591.00   \n",
              "\n",
              "       SK Exchange Physical Flow Net Import MWh/h H Actual  \\\n",
              "0                                                 -335.0     \n",
              "1                                                 -361.0     \n",
              "2                                                 -186.0     \n",
              "3                                                 -316.0     \n",
              "4                                                 -135.0     \n",
              "...                                                  ...     \n",
              "14683                                            -1086.0     \n",
              "14684                                             -964.0     \n",
              "14685                                             -876.0     \n",
              "14686                                             -583.0     \n",
              "14687                                             -731.0     \n",
              "\n",
              "       Weighted average price of all trades (EUR/MWh)  \n",
              "0                                               18.93  \n",
              "1                                                1.35  \n",
              "2                                                2.05  \n",
              "3                                                2.26  \n",
              "4                                                3.12  \n",
              "...                                               ...  \n",
              "14683                                          915.22  \n",
              "14684                                          814.30  \n",
              "14685                                          219.79  \n",
              "14686                                          124.66  \n",
              "14687                                          120.24  \n",
              "\n",
              "[14688 rows x 16 columns]"
            ],
            "text/html": [
              "\n",
              "  <div id=\"df-d3a76830-31c7-4e43-a653-b8c1eb53c3a2\" class=\"colab-df-container\">\n",
              "    <div>\n",
              "<style scoped>\n",
              "    .dataframe tbody tr th:only-of-type {\n",
              "        vertical-align: middle;\n",
              "    }\n",
              "\n",
              "    .dataframe tbody tr th {\n",
              "        vertical-align: top;\n",
              "    }\n",
              "\n",
              "    .dataframe thead th {\n",
              "        text-align: right;\n",
              "    }\n",
              "</style>\n",
              "<table border=\"1\" class=\"dataframe\">\n",
              "  <thead>\n",
              "    <tr style=\"text-align: right;\">\n",
              "      <th></th>\n",
              "      <th>Datetime</th>\n",
              "      <th>Hour</th>\n",
              "      <th>Day</th>\n",
              "      <th>SK Price Spot EUR/MWh OKTE</th>\n",
              "      <th>Imbalance Price OKTE</th>\n",
              "      <th>SK Nuclear Production MWh/h H Actual</th>\n",
              "      <th>SK Hydro Run-of-river Production MWh/h H Actual</th>\n",
              "      <th>SK Natural Gas Power Production MWh/h H Actual</th>\n",
              "      <th>SK Solar Photovoltaic Production MWh/h H Actual</th>\n",
              "      <th>SK Hydro Pumped-storage Production MWh/h H Actual</th>\n",
              "      <th>SK Other Power Production MWh/h H Actual</th>\n",
              "      <th>SK Hydro Reservoir Production MWh/h H Actual</th>\n",
              "      <th>SK sum of Production MWh/h</th>\n",
              "      <th>SK Consumption MWh/h H Actual</th>\n",
              "      <th>SK Exchange Physical Flow Net Import MWh/h H Actual</th>\n",
              "      <th>Weighted average price of all trades (EUR/MWh)</th>\n",
              "    </tr>\n",
              "  </thead>\n",
              "  <tbody>\n",
              "    <tr>\n",
              "      <th>0</th>\n",
              "      <td>2023-01-01 00:00:00</td>\n",
              "      <td>1</td>\n",
              "      <td>7</td>\n",
              "      <td>20.26</td>\n",
              "      <td>-5.000000</td>\n",
              "      <td>1979.0</td>\n",
              "      <td>252.0</td>\n",
              "      <td>178.0</td>\n",
              "      <td>0.0</td>\n",
              "      <td>0</td>\n",
              "      <td>233.0</td>\n",
              "      <td>2.0</td>\n",
              "      <td>2644.0</td>\n",
              "      <td>2339.00</td>\n",
              "      <td>-335.0</td>\n",
              "      <td>18.93</td>\n",
              "    </tr>\n",
              "    <tr>\n",
              "      <th>1</th>\n",
              "      <td>2023-01-01 01:00:00</td>\n",
              "      <td>2</td>\n",
              "      <td>7</td>\n",
              "      <td>0.33</td>\n",
              "      <td>-4.997500</td>\n",
              "      <td>1976.0</td>\n",
              "      <td>247.0</td>\n",
              "      <td>183.0</td>\n",
              "      <td>0.0</td>\n",
              "      <td>0</td>\n",
              "      <td>234.0</td>\n",
              "      <td>2.0</td>\n",
              "      <td>2642.0</td>\n",
              "      <td>2201.00</td>\n",
              "      <td>-361.0</td>\n",
              "      <td>1.35</td>\n",
              "    </tr>\n",
              "    <tr>\n",
              "      <th>2</th>\n",
              "      <td>2023-01-01 02:00:00</td>\n",
              "      <td>3</td>\n",
              "      <td>7</td>\n",
              "      <td>0.50</td>\n",
              "      <td>-5.000000</td>\n",
              "      <td>1981.0</td>\n",
              "      <td>244.0</td>\n",
              "      <td>177.0</td>\n",
              "      <td>0.0</td>\n",
              "      <td>0</td>\n",
              "      <td>231.0</td>\n",
              "      <td>2.0</td>\n",
              "      <td>2635.0</td>\n",
              "      <td>2211.00</td>\n",
              "      <td>-186.0</td>\n",
              "      <td>2.05</td>\n",
              "    </tr>\n",
              "    <tr>\n",
              "      <th>3</th>\n",
              "      <td>2023-01-01 03:00:00</td>\n",
              "      <td>4</td>\n",
              "      <td>7</td>\n",
              "      <td>0.50</td>\n",
              "      <td>-5.000000</td>\n",
              "      <td>1984.0</td>\n",
              "      <td>243.0</td>\n",
              "      <td>175.0</td>\n",
              "      <td>0.0</td>\n",
              "      <td>0</td>\n",
              "      <td>230.0</td>\n",
              "      <td>2.0</td>\n",
              "      <td>2634.0</td>\n",
              "      <td>2164.00</td>\n",
              "      <td>-316.0</td>\n",
              "      <td>2.26</td>\n",
              "    </tr>\n",
              "    <tr>\n",
              "      <th>4</th>\n",
              "      <td>2023-01-01 04:00:00</td>\n",
              "      <td>5</td>\n",
              "      <td>7</td>\n",
              "      <td>0.10</td>\n",
              "      <td>-5.000000</td>\n",
              "      <td>1984.0</td>\n",
              "      <td>241.0</td>\n",
              "      <td>177.0</td>\n",
              "      <td>0.0</td>\n",
              "      <td>0</td>\n",
              "      <td>229.0</td>\n",
              "      <td>2.0</td>\n",
              "      <td>2633.0</td>\n",
              "      <td>2152.00</td>\n",
              "      <td>-135.0</td>\n",
              "      <td>3.12</td>\n",
              "    </tr>\n",
              "    <tr>\n",
              "      <th>...</th>\n",
              "      <td>...</td>\n",
              "      <td>...</td>\n",
              "      <td>...</td>\n",
              "      <td>...</td>\n",
              "      <td>...</td>\n",
              "      <td>...</td>\n",
              "      <td>...</td>\n",
              "      <td>...</td>\n",
              "      <td>...</td>\n",
              "      <td>...</td>\n",
              "      <td>...</td>\n",
              "      <td>...</td>\n",
              "      <td>...</td>\n",
              "      <td>...</td>\n",
              "      <td>...</td>\n",
              "      <td>...</td>\n",
              "    </tr>\n",
              "    <tr>\n",
              "      <th>14683</th>\n",
              "      <td>2024-09-03 19:00:00</td>\n",
              "      <td>20</td>\n",
              "      <td>2</td>\n",
              "      <td>736.30</td>\n",
              "      <td>1547.580000</td>\n",
              "      <td>2330.0</td>\n",
              "      <td>545.0</td>\n",
              "      <td>530.0</td>\n",
              "      <td>1.0</td>\n",
              "      <td>600</td>\n",
              "      <td>221.0</td>\n",
              "      <td>154.0</td>\n",
              "      <td>4381.0</td>\n",
              "      <td>3122.89</td>\n",
              "      <td>-1086.0</td>\n",
              "      <td>915.22</td>\n",
              "    </tr>\n",
              "    <tr>\n",
              "      <th>14684</th>\n",
              "      <td>2024-09-03 20:00:00</td>\n",
              "      <td>21</td>\n",
              "      <td>2</td>\n",
              "      <td>622.58</td>\n",
              "      <td>1187.070000</td>\n",
              "      <td>2333.0</td>\n",
              "      <td>483.0</td>\n",
              "      <td>523.0</td>\n",
              "      <td>1.0</td>\n",
              "      <td>562</td>\n",
              "      <td>197.0</td>\n",
              "      <td>144.0</td>\n",
              "      <td>4243.0</td>\n",
              "      <td>3148.73</td>\n",
              "      <td>-964.0</td>\n",
              "      <td>814.30</td>\n",
              "    </tr>\n",
              "    <tr>\n",
              "      <th>14685</th>\n",
              "      <td>2024-09-03 21:00:00</td>\n",
              "      <td>22</td>\n",
              "      <td>2</td>\n",
              "      <td>243.10</td>\n",
              "      <td>398.989025</td>\n",
              "      <td>2343.0</td>\n",
              "      <td>408.0</td>\n",
              "      <td>494.0</td>\n",
              "      <td>0.0</td>\n",
              "      <td>358</td>\n",
              "      <td>189.0</td>\n",
              "      <td>36.0</td>\n",
              "      <td>3828.0</td>\n",
              "      <td>2964.00</td>\n",
              "      <td>-876.0</td>\n",
              "      <td>219.79</td>\n",
              "    </tr>\n",
              "    <tr>\n",
              "      <th>14686</th>\n",
              "      <td>2024-09-03 22:00:00</td>\n",
              "      <td>23</td>\n",
              "      <td>2</td>\n",
              "      <td>121.26</td>\n",
              "      <td>-2.901100</td>\n",
              "      <td>2347.0</td>\n",
              "      <td>302.0</td>\n",
              "      <td>466.0</td>\n",
              "      <td>0.0</td>\n",
              "      <td>10</td>\n",
              "      <td>180.0</td>\n",
              "      <td>37.0</td>\n",
              "      <td>3342.0</td>\n",
              "      <td>2731.00</td>\n",
              "      <td>-583.0</td>\n",
              "      <td>124.66</td>\n",
              "    </tr>\n",
              "    <tr>\n",
              "      <th>14687</th>\n",
              "      <td>2024-09-03 23:00:00</td>\n",
              "      <td>24</td>\n",
              "      <td>2</td>\n",
              "      <td>124.56</td>\n",
              "      <td>-1.000000</td>\n",
              "      <td>2348.0</td>\n",
              "      <td>281.0</td>\n",
              "      <td>478.0</td>\n",
              "      <td>0.0</td>\n",
              "      <td>0</td>\n",
              "      <td>180.0</td>\n",
              "      <td>21.0</td>\n",
              "      <td>3308.0</td>\n",
              "      <td>2591.00</td>\n",
              "      <td>-731.0</td>\n",
              "      <td>120.24</td>\n",
              "    </tr>\n",
              "  </tbody>\n",
              "</table>\n",
              "<p>14688 rows × 16 columns</p>\n",
              "</div>\n",
              "    <div class=\"colab-df-buttons\">\n",
              "\n",
              "  <div class=\"colab-df-container\">\n",
              "    <button class=\"colab-df-convert\" onclick=\"convertToInteractive('df-d3a76830-31c7-4e43-a653-b8c1eb53c3a2')\"\n",
              "            title=\"Convert this dataframe to an interactive table.\"\n",
              "            style=\"display:none;\">\n",
              "\n",
              "  <svg xmlns=\"http://www.w3.org/2000/svg\" height=\"24px\" viewBox=\"0 -960 960 960\">\n",
              "    <path d=\"M120-120v-720h720v720H120Zm60-500h600v-160H180v160Zm220 220h160v-160H400v160Zm0 220h160v-160H400v160ZM180-400h160v-160H180v160Zm440 0h160v-160H620v160ZM180-180h160v-160H180v160Zm440 0h160v-160H620v160Z\"/>\n",
              "  </svg>\n",
              "    </button>\n",
              "\n",
              "  <style>\n",
              "    .colab-df-container {\n",
              "      display:flex;\n",
              "      gap: 12px;\n",
              "    }\n",
              "\n",
              "    .colab-df-convert {\n",
              "      background-color: #E8F0FE;\n",
              "      border: none;\n",
              "      border-radius: 50%;\n",
              "      cursor: pointer;\n",
              "      display: none;\n",
              "      fill: #1967D2;\n",
              "      height: 32px;\n",
              "      padding: 0 0 0 0;\n",
              "      width: 32px;\n",
              "    }\n",
              "\n",
              "    .colab-df-convert:hover {\n",
              "      background-color: #E2EBFA;\n",
              "      box-shadow: 0px 1px 2px rgba(60, 64, 67, 0.3), 0px 1px 3px 1px rgba(60, 64, 67, 0.15);\n",
              "      fill: #174EA6;\n",
              "    }\n",
              "\n",
              "    .colab-df-buttons div {\n",
              "      margin-bottom: 4px;\n",
              "    }\n",
              "\n",
              "    [theme=dark] .colab-df-convert {\n",
              "      background-color: #3B4455;\n",
              "      fill: #D2E3FC;\n",
              "    }\n",
              "\n",
              "    [theme=dark] .colab-df-convert:hover {\n",
              "      background-color: #434B5C;\n",
              "      box-shadow: 0px 1px 3px 1px rgba(0, 0, 0, 0.15);\n",
              "      filter: drop-shadow(0px 1px 2px rgba(0, 0, 0, 0.3));\n",
              "      fill: #FFFFFF;\n",
              "    }\n",
              "  </style>\n",
              "\n",
              "    <script>\n",
              "      const buttonEl =\n",
              "        document.querySelector('#df-d3a76830-31c7-4e43-a653-b8c1eb53c3a2 button.colab-df-convert');\n",
              "      buttonEl.style.display =\n",
              "        google.colab.kernel.accessAllowed ? 'block' : 'none';\n",
              "\n",
              "      async function convertToInteractive(key) {\n",
              "        const element = document.querySelector('#df-d3a76830-31c7-4e43-a653-b8c1eb53c3a2');\n",
              "        const dataTable =\n",
              "          await google.colab.kernel.invokeFunction('convertToInteractive',\n",
              "                                                    [key], {});\n",
              "        if (!dataTable) return;\n",
              "\n",
              "        const docLinkHtml = 'Like what you see? Visit the ' +\n",
              "          '<a target=\"_blank\" href=https://colab.research.google.com/notebooks/data_table.ipynb>data table notebook</a>'\n",
              "          + ' to learn more about interactive tables.';\n",
              "        element.innerHTML = '';\n",
              "        dataTable['output_type'] = 'display_data';\n",
              "        await google.colab.output.renderOutput(dataTable, element);\n",
              "        const docLink = document.createElement('div');\n",
              "        docLink.innerHTML = docLinkHtml;\n",
              "        element.appendChild(docLink);\n",
              "      }\n",
              "    </script>\n",
              "  </div>\n",
              "\n",
              "\n",
              "<div id=\"df-8c3dd751-4340-4689-980e-09e83ee66ab0\">\n",
              "  <button class=\"colab-df-quickchart\" onclick=\"quickchart('df-8c3dd751-4340-4689-980e-09e83ee66ab0')\"\n",
              "            title=\"Suggest charts\"\n",
              "            style=\"display:none;\">\n",
              "\n",
              "<svg xmlns=\"http://www.w3.org/2000/svg\" height=\"24px\"viewBox=\"0 0 24 24\"\n",
              "     width=\"24px\">\n",
              "    <g>\n",
              "        <path d=\"M19 3H5c-1.1 0-2 .9-2 2v14c0 1.1.9 2 2 2h14c1.1 0 2-.9 2-2V5c0-1.1-.9-2-2-2zM9 17H7v-7h2v7zm4 0h-2V7h2v10zm4 0h-2v-4h2v4z\"/>\n",
              "    </g>\n",
              "</svg>\n",
              "  </button>\n",
              "\n",
              "<style>\n",
              "  .colab-df-quickchart {\n",
              "      --bg-color: #E8F0FE;\n",
              "      --fill-color: #1967D2;\n",
              "      --hover-bg-color: #E2EBFA;\n",
              "      --hover-fill-color: #174EA6;\n",
              "      --disabled-fill-color: #AAA;\n",
              "      --disabled-bg-color: #DDD;\n",
              "  }\n",
              "\n",
              "  [theme=dark] .colab-df-quickchart {\n",
              "      --bg-color: #3B4455;\n",
              "      --fill-color: #D2E3FC;\n",
              "      --hover-bg-color: #434B5C;\n",
              "      --hover-fill-color: #FFFFFF;\n",
              "      --disabled-bg-color: #3B4455;\n",
              "      --disabled-fill-color: #666;\n",
              "  }\n",
              "\n",
              "  .colab-df-quickchart {\n",
              "    background-color: var(--bg-color);\n",
              "    border: none;\n",
              "    border-radius: 50%;\n",
              "    cursor: pointer;\n",
              "    display: none;\n",
              "    fill: var(--fill-color);\n",
              "    height: 32px;\n",
              "    padding: 0;\n",
              "    width: 32px;\n",
              "  }\n",
              "\n",
              "  .colab-df-quickchart:hover {\n",
              "    background-color: var(--hover-bg-color);\n",
              "    box-shadow: 0 1px 2px rgba(60, 64, 67, 0.3), 0 1px 3px 1px rgba(60, 64, 67, 0.15);\n",
              "    fill: var(--button-hover-fill-color);\n",
              "  }\n",
              "\n",
              "  .colab-df-quickchart-complete:disabled,\n",
              "  .colab-df-quickchart-complete:disabled:hover {\n",
              "    background-color: var(--disabled-bg-color);\n",
              "    fill: var(--disabled-fill-color);\n",
              "    box-shadow: none;\n",
              "  }\n",
              "\n",
              "  .colab-df-spinner {\n",
              "    border: 2px solid var(--fill-color);\n",
              "    border-color: transparent;\n",
              "    border-bottom-color: var(--fill-color);\n",
              "    animation:\n",
              "      spin 1s steps(1) infinite;\n",
              "  }\n",
              "\n",
              "  @keyframes spin {\n",
              "    0% {\n",
              "      border-color: transparent;\n",
              "      border-bottom-color: var(--fill-color);\n",
              "      border-left-color: var(--fill-color);\n",
              "    }\n",
              "    20% {\n",
              "      border-color: transparent;\n",
              "      border-left-color: var(--fill-color);\n",
              "      border-top-color: var(--fill-color);\n",
              "    }\n",
              "    30% {\n",
              "      border-color: transparent;\n",
              "      border-left-color: var(--fill-color);\n",
              "      border-top-color: var(--fill-color);\n",
              "      border-right-color: var(--fill-color);\n",
              "    }\n",
              "    40% {\n",
              "      border-color: transparent;\n",
              "      border-right-color: var(--fill-color);\n",
              "      border-top-color: var(--fill-color);\n",
              "    }\n",
              "    60% {\n",
              "      border-color: transparent;\n",
              "      border-right-color: var(--fill-color);\n",
              "    }\n",
              "    80% {\n",
              "      border-color: transparent;\n",
              "      border-right-color: var(--fill-color);\n",
              "      border-bottom-color: var(--fill-color);\n",
              "    }\n",
              "    90% {\n",
              "      border-color: transparent;\n",
              "      border-bottom-color: var(--fill-color);\n",
              "    }\n",
              "  }\n",
              "</style>\n",
              "\n",
              "  <script>\n",
              "    async function quickchart(key) {\n",
              "      const quickchartButtonEl =\n",
              "        document.querySelector('#' + key + ' button');\n",
              "      quickchartButtonEl.disabled = true;  // To prevent multiple clicks.\n",
              "      quickchartButtonEl.classList.add('colab-df-spinner');\n",
              "      try {\n",
              "        const charts = await google.colab.kernel.invokeFunction(\n",
              "            'suggestCharts', [key], {});\n",
              "      } catch (error) {\n",
              "        console.error('Error during call to suggestCharts:', error);\n",
              "      }\n",
              "      quickchartButtonEl.classList.remove('colab-df-spinner');\n",
              "      quickchartButtonEl.classList.add('colab-df-quickchart-complete');\n",
              "    }\n",
              "    (() => {\n",
              "      let quickchartButtonEl =\n",
              "        document.querySelector('#df-8c3dd751-4340-4689-980e-09e83ee66ab0 button');\n",
              "      quickchartButtonEl.style.display =\n",
              "        google.colab.kernel.accessAllowed ? 'block' : 'none';\n",
              "    })();\n",
              "  </script>\n",
              "</div>\n",
              "\n",
              "  <div id=\"id_574c51bb-6501-4c79-81d4-00d8e83c52af\">\n",
              "    <style>\n",
              "      .colab-df-generate {\n",
              "        background-color: #E8F0FE;\n",
              "        border: none;\n",
              "        border-radius: 50%;\n",
              "        cursor: pointer;\n",
              "        display: none;\n",
              "        fill: #1967D2;\n",
              "        height: 32px;\n",
              "        padding: 0 0 0 0;\n",
              "        width: 32px;\n",
              "      }\n",
              "\n",
              "      .colab-df-generate:hover {\n",
              "        background-color: #E2EBFA;\n",
              "        box-shadow: 0px 1px 2px rgba(60, 64, 67, 0.3), 0px 1px 3px 1px rgba(60, 64, 67, 0.15);\n",
              "        fill: #174EA6;\n",
              "      }\n",
              "\n",
              "      [theme=dark] .colab-df-generate {\n",
              "        background-color: #3B4455;\n",
              "        fill: #D2E3FC;\n",
              "      }\n",
              "\n",
              "      [theme=dark] .colab-df-generate:hover {\n",
              "        background-color: #434B5C;\n",
              "        box-shadow: 0px 1px 3px 1px rgba(0, 0, 0, 0.15);\n",
              "        filter: drop-shadow(0px 1px 2px rgba(0, 0, 0, 0.3));\n",
              "        fill: #FFFFFF;\n",
              "      }\n",
              "    </style>\n",
              "    <button class=\"colab-df-generate\" onclick=\"generateWithVariable('df')\"\n",
              "            title=\"Generate code using this dataframe.\"\n",
              "            style=\"display:none;\">\n",
              "\n",
              "  <svg xmlns=\"http://www.w3.org/2000/svg\" height=\"24px\"viewBox=\"0 0 24 24\"\n",
              "       width=\"24px\">\n",
              "    <path d=\"M7,19H8.4L18.45,9,17,7.55,7,17.6ZM5,21V16.75L18.45,3.32a2,2,0,0,1,2.83,0l1.4,1.43a1.91,1.91,0,0,1,.58,1.4,1.91,1.91,0,0,1-.58,1.4L9.25,21ZM18.45,9,17,7.55Zm-12,3A5.31,5.31,0,0,0,4.9,8.1,5.31,5.31,0,0,0,1,6.5,5.31,5.31,0,0,0,4.9,4.9,5.31,5.31,0,0,0,6.5,1,5.31,5.31,0,0,0,8.1,4.9,5.31,5.31,0,0,0,12,6.5,5.46,5.46,0,0,0,6.5,12Z\"/>\n",
              "  </svg>\n",
              "    </button>\n",
              "    <script>\n",
              "      (() => {\n",
              "      const buttonEl =\n",
              "        document.querySelector('#id_574c51bb-6501-4c79-81d4-00d8e83c52af button.colab-df-generate');\n",
              "      buttonEl.style.display =\n",
              "        google.colab.kernel.accessAllowed ? 'block' : 'none';\n",
              "\n",
              "      buttonEl.onclick = () => {\n",
              "        google.colab.notebook.generateWithVariable('df');\n",
              "      }\n",
              "      })();\n",
              "    </script>\n",
              "  </div>\n",
              "\n",
              "    </div>\n",
              "  </div>\n"
            ],
            "application/vnd.google.colaboratory.intrinsic+json": {
              "type": "dataframe",
              "variable_name": "df",
              "summary": "{\n  \"name\": \"df\",\n  \"rows\": 14688,\n  \"fields\": [\n    {\n      \"column\": \"Datetime\",\n      \"properties\": {\n        \"dtype\": \"date\",\n        \"min\": \"2023-01-01 00:00:00\",\n        \"max\": \"2024-09-03 23:00:00\",\n        \"num_unique_values\": 14688,\n        \"samples\": [\n          \"2023-12-01 18:00:00\",\n          \"2024-09-03 22:00:00\",\n          \"2023-10-03 11:00:00\"\n        ],\n        \"semantic_type\": \"\",\n        \"description\": \"\"\n      }\n    },\n    {\n      \"column\": \"Hour\",\n      \"properties\": {\n        \"dtype\": \"number\",\n        \"std\": 6,\n        \"min\": 1,\n        \"max\": 24,\n        \"num_unique_values\": 24,\n        \"samples\": [\n          9,\n          17,\n          1\n        ],\n        \"semantic_type\": \"\",\n        \"description\": \"\"\n      }\n    },\n    {\n      \"column\": \"Day\",\n      \"properties\": {\n        \"dtype\": \"number\",\n        \"std\": 2,\n        \"min\": 1,\n        \"max\": 7,\n        \"num_unique_values\": 7,\n        \"samples\": [\n          7,\n          1,\n          5\n        ],\n        \"semantic_type\": \"\",\n        \"description\": \"\"\n      }\n    },\n    {\n      \"column\": \"SK Price Spot EUR/MWh OKTE \",\n      \"properties\": {\n        \"dtype\": \"number\",\n        \"std\": 50.79218130805374,\n        \"min\": -146.13,\n        \"max\": 736.3,\n        \"num_unique_values\": 9332,\n        \"samples\": [\n          9.05,\n          70.7,\n          118.17\n        ],\n        \"semantic_type\": \"\",\n        \"description\": \"\"\n      }\n    },\n    {\n      \"column\": \"Imbalance Price OKTE\",\n      \"properties\": {\n        \"dtype\": \"number\",\n        \"std\": 90.23319581491916,\n        \"min\": -1371.67625,\n        \"max\": 2075.955,\n        \"num_unique_values\": 10697,\n        \"samples\": [\n          77.8825,\n          188.265,\n          149.205\n        ],\n        \"semantic_type\": \"\",\n        \"description\": \"\"\n      }\n    },\n    {\n      \"column\": \"SK Nuclear Production MWh/h H Actual\",\n      \"properties\": {\n        \"dtype\": \"number\",\n        \"std\": 344.41181962666315,\n        \"min\": 482.0,\n        \"max\": 2461.0,\n        \"num_unique_values\": 1066,\n        \"samples\": [\n          1959.0,\n          2358.0,\n          1451.0\n        ],\n        \"semantic_type\": \"\",\n        \"description\": \"\"\n      }\n    },\n    {\n      \"column\": \"SK Hydro Run-of-river Production MWh/h H Actual\",\n      \"properties\": {\n        \"dtype\": \"number\",\n        \"std\": 192.96215468579925,\n        \"min\": 0.0,\n        \"max\": 1082.0,\n        \"num_unique_values\": 899,\n        \"samples\": [\n          384.0,\n          925.0,\n          175.0\n        ],\n        \"semantic_type\": \"\",\n        \"description\": \"\"\n      }\n    },\n    {\n      \"column\": \"SK Natural Gas Power Production MWh/h H Actual\",\n      \"properties\": {\n        \"dtype\": \"number\",\n        \"std\": 163.6830934374939,\n        \"min\": 0.0,\n        \"max\": 659.0,\n        \"num_unique_values\": 602,\n        \"samples\": [\n          301.0,\n          322.0,\n          272.0\n        ],\n        \"semantic_type\": \"\",\n        \"description\": \"\"\n      }\n    },\n    {\n      \"column\": \"SK Solar Photovoltaic Production MWh/h H Actual\",\n      \"properties\": {\n        \"dtype\": \"number\",\n        \"std\": 91.71780073088529,\n        \"min\": 0.0,\n        \"max\": 366.0,\n        \"num_unique_values\": 391,\n        \"samples\": [\n          32.0,\n          101.0,\n          10.0\n        ],\n        \"semantic_type\": \"\",\n        \"description\": \"\"\n      }\n    },\n    {\n      \"column\": \"SK Hydro Pumped-storage Production MWh/h H Actual\",\n      \"properties\": {\n        \"dtype\": \"number\",\n        \"std\": 122,\n        \"min\": 0,\n        \"max\": 707,\n        \"num_unique_values\": 608,\n        \"samples\": [\n          293,\n          5,\n          193\n        ],\n        \"semantic_type\": \"\",\n        \"description\": \"\"\n      }\n    },\n    {\n      \"column\": \"SK Other Power Production MWh/h H Actual\",\n      \"properties\": {\n        \"dtype\": \"number\",\n        \"std\": 33.90387654734039,\n        \"min\": 40.0,\n        \"max\": 341.0,\n        \"num_unique_values\": 203,\n        \"samples\": [\n          242.0,\n          235.0,\n          195.0\n        ],\n        \"semantic_type\": \"\",\n        \"description\": \"\"\n      }\n    },\n    {\n      \"column\": \"SK Hydro Reservoir Production MWh/h H Actual\",\n      \"properties\": {\n        \"dtype\": \"number\",\n        \"std\": 51.6415994927617,\n        \"min\": 0.0,\n        \"max\": 335.0,\n        \"num_unique_values\": 291,\n        \"samples\": [\n          169.0,\n          234.0,\n          98.0\n        ],\n        \"semantic_type\": \"\",\n        \"description\": \"\"\n      }\n    },\n    {\n      \"column\": \"SK sum of Production MWh/h\",\n      \"properties\": {\n        \"dtype\": \"number\",\n        \"std\": 525.0444695750994,\n        \"min\": 1308.0,\n        \"max\": 5024.0,\n        \"num_unique_values\": 2505,\n        \"samples\": [\n          4273.0,\n          2802.0,\n          4264.0\n        ],\n        \"semantic_type\": \"\",\n        \"description\": \"\"\n      }\n    },\n    {\n      \"column\": \"SK Consumption MWh/h H Actual\",\n      \"properties\": {\n        \"dtype\": \"number\",\n        \"std\": 444.6203625149969,\n        \"min\": 1905.0,\n        \"max\": 4170.0,\n        \"num_unique_values\": 2058,\n        \"samples\": [\n          2139.0,\n          3733.0,\n          2512.0\n        ],\n        \"semantic_type\": \"\",\n        \"description\": \"\"\n      }\n    },\n    {\n      \"column\": \"SK Exchange Physical Flow Net Import MWh/h H Actual\",\n      \"properties\": {\n        \"dtype\": \"number\",\n        \"std\": 476.7719949395487,\n        \"min\": -1782.0,\n        \"max\": 1657.5,\n        \"num_unique_values\": 3487,\n        \"samples\": [\n          221.0,\n          -315.2,\n          -650.5\n        ],\n        \"semantic_type\": \"\",\n        \"description\": \"\"\n      }\n    },\n    {\n      \"column\": \"Weighted average price of all trades (EUR/MWh)\",\n      \"properties\": {\n        \"dtype\": \"number\",\n        \"std\": 52.930312111116834,\n        \"min\": -289.95,\n        \"max\": 915.22,\n        \"num_unique_values\": 9680,\n        \"samples\": [\n          96.07,\n          141.08,\n          55.63\n        ],\n        \"semantic_type\": \"\",\n        \"description\": \"\"\n      }\n    }\n  ]\n}"
            }
          },
          "metadata": {},
          "execution_count": 215
        }
      ]
    },
    {
      "cell_type": "code",
      "source": [
        "#missing_per_column = df.isna().sum()\n",
        "#missing_per_column"
      ],
      "metadata": {
        "id": "FiXY1fbsPoUZ"
      },
      "execution_count": 216,
      "outputs": []
    },
    {
      "cell_type": "code",
      "source": [
        "#futures=['SK Residual Production Backcast', \"SK Residual Load Backcast\", 'Weighted average price of all trades (EUR/MWh)'  ]"
      ],
      "metadata": {
        "id": "xFqDJGqeBJWT"
      },
      "execution_count": 217,
      "outputs": []
    },
    {
      "cell_type": "code",
      "source": [
        "df.columns"
      ],
      "metadata": {
        "id": "Nl3nw3fjBh26",
        "colab": {
          "base_uri": "https://localhost:8080/"
        },
        "outputId": "c01f2c9e-7ed8-47fc-88f7-764c532e22b5"
      },
      "execution_count": 218,
      "outputs": [
        {
          "output_type": "execute_result",
          "data": {
            "text/plain": [
              "Index(['Datetime', 'Hour', 'Day', 'SK Price Spot EUR/MWh OKTE ',\n",
              "       'Imbalance Price OKTE', 'SK Nuclear Production MWh/h H Actual',\n",
              "       'SK Hydro Run-of-river Production MWh/h H Actual',\n",
              "       'SK Natural Gas Power Production MWh/h H Actual',\n",
              "       'SK Solar Photovoltaic Production MWh/h H Actual',\n",
              "       'SK Hydro Pumped-storage Production MWh/h H Actual',\n",
              "       'SK Other Power Production MWh/h H Actual',\n",
              "       'SK Hydro Reservoir Production MWh/h H Actual',\n",
              "       'SK sum of Production MWh/h', 'SK Consumption MWh/h H Actual',\n",
              "       'SK Exchange Physical Flow Net Import MWh/h H Actual',\n",
              "       'Weighted average price of all trades (EUR/MWh)'],\n",
              "      dtype='object')"
            ]
          },
          "metadata": {},
          "execution_count": 218
        }
      ]
    },
    {
      "cell_type": "markdown",
      "source": [],
      "metadata": {
        "id": "g86y_GyOA6oY"
      }
    },
    {
      "cell_type": "code",
      "source": [],
      "metadata": {
        "id": "Q_uAqrUmA65h"
      },
      "execution_count": 218,
      "outputs": []
    },
    {
      "cell_type": "code",
      "source": [
        "target = df_12['Weighted average price of all trades (EUR/MWh)'].values"
      ],
      "metadata": {
        "id": "0RaP9fThBix0"
      },
      "execution_count": 219,
      "outputs": []
    },
    {
      "cell_type": "code",
      "source": [
        "input = df_12[[\n",
        "              \"Hour\",\n",
        "              \"Day\",\n",
        "             'SK Nuclear Production MWh/h H Actual',\n",
        "             'SK Hydro Run-of-river Production MWh/h H Actual',\n",
        "             'SK Natural Gas Power Production MWh/h H Actual',\n",
        "              \"SK Solar Photovoltaic Production MWh/h H Actual\",\n",
        "             \"SK Consumption MWh/h H Actual\",\n",
        "             'SK Exchange Physical Flow Net Import MWh/h H Actual',\n",
        "             \"Weighted average price of all trades (EUR/MWh)\"]].values\n",
        "\n",
        "\n",
        "\n",
        "\n",
        "\n"
      ],
      "metadata": {
        "id": "jboJYqiUDeFq"
      },
      "execution_count": 220,
      "outputs": []
    },
    {
      "cell_type": "code",
      "source": [
        "scaler = MinMaxScaler()\n",
        "\n",
        "futures_scaled = scaler.fit_transform(input)\n",
        "\n",
        "\n"
      ],
      "metadata": {
        "id": "b_zN82Xusi6m"
      },
      "execution_count": 221,
      "outputs": []
    },
    {
      "cell_type": "code",
      "source": [
        "# Create sequences for LSTM\n",
        "def create_sequences(data, window_size, prediction_size):\n",
        "    X = []\n",
        "    y = []\n",
        "    for i in range(len(data) - window_size - prediction_size + 1):\n",
        "        X.append(data[i:(i + window_size)])\n",
        "        y.append(data[i + window_size:i + window_size + prediction_size, -1])  # Predicting only the price\n",
        "    return np.array(X), np.array(y)"
      ],
      "metadata": {
        "id": "f44LCvuwuCZW"
      },
      "execution_count": 222,
      "outputs": []
    },
    {
      "cell_type": "code",
      "source": [],
      "metadata": {
        "id": "LXw3f4rm_ZB4"
      },
      "execution_count": 222,
      "outputs": []
    },
    {
      "cell_type": "code",
      "source": [
        "#liczbs godzina na bazie ktorych generujemy predykcje\n",
        "window_size = 2\n",
        "\n",
        "prediction_size = 1"
      ],
      "metadata": {
        "id": "uIVNZdvuuCR3"
      },
      "execution_count": 223,
      "outputs": []
    },
    {
      "cell_type": "code",
      "source": [
        "X,y = create_sequences (futures_scaled, window_size, prediction_size)"
      ],
      "metadata": {
        "id": "bAJjWVExuX9n"
      },
      "execution_count": 224,
      "outputs": []
    },
    {
      "cell_type": "markdown",
      "source": [],
      "metadata": {
        "id": "EQx8ewX48j3E"
      }
    },
    {
      "cell_type": "code",
      "source": [
        "X_train, X_test, y_train, y_test = train_test_split(X, y, test_size=0.2, random_state=42)"
      ],
      "metadata": {
        "id": "pBSGQVebvj8a"
      },
      "execution_count": 225,
      "outputs": []
    },
    {
      "cell_type": "code",
      "source": [
        "print(f'Shape of X_train: {X_train.shape}')\n",
        "print(f'Shape of y_train: {y_train.shape}')"
      ],
      "metadata": {
        "id": "r-eua9FhuX4f",
        "colab": {
          "base_uri": "https://localhost:8080/"
        },
        "outputId": "6b7d60e1-de61-44c0-f4ab-05e7bfa99b0e"
      },
      "execution_count": 226,
      "outputs": [
        {
          "output_type": "stream",
          "name": "stdout",
          "text": [
            "Shape of X_train: (488, 2, 9)\n",
            "Shape of y_train: (488, 1)\n"
          ]
        }
      ]
    },
    {
      "cell_type": "code",
      "source": [],
      "metadata": {
        "id": "-L3aGtpFD68t"
      },
      "execution_count": 226,
      "outputs": []
    },
    {
      "cell_type": "code",
      "source": [],
      "metadata": {
        "id": "h1A-KaBQFAgS"
      },
      "execution_count": 226,
      "outputs": []
    },
    {
      "cell_type": "code",
      "source": [],
      "metadata": {
        "id": "RBYBMngvLQOA"
      },
      "execution_count": 226,
      "outputs": []
    },
    {
      "cell_type": "code",
      "source": [
        "from bayes_opt import BayesianOptimization\n",
        "from keras.models import Sequential\n",
        "from keras.layers import LSTM, Dense, Dropout\n",
        "from keras.optimizers import Adam\n",
        "from sklearn.model_selection import train_test_split\n",
        "import numpy as np\n",
        "\n",
        "def build_and_evaluate_lstm(window_size, lstm_units, dropout_rate, learning_rate):\n",
        "    # Ensure the hyperparameters are in the correct format\n",
        "    window_size = int(window_size)\n",
        "    lstm_units = int(lstm_units)\n",
        "\n",
        "    # Create sequences with the specified window size\n",
        "    X, y = create_sequences(futures_scaled, window_size, prediction_size)\n",
        "    X_train, X_val, y_train, y_val = train_test_split(X, y, test_size=0.2, random_state=42)\n",
        "\n",
        "    # Build the LSTM model\n",
        "    model = Sequential()\n",
        "    model.add(LSTM(units=lstm_units, return_sequences=False, input_shape=(X_train.shape[1], X_train.shape[2])))\n",
        "    model.add(Dropout(dropout_rate))\n",
        "    model.add(Dense(units=prediction_size))\n",
        "\n",
        "    # Compile the model\n",
        "    optimizer = Adam(learning_rate=learning_rate)\n",
        "    model.compile(optimizer=optimizer, loss='mean_squared_error')\n",
        "\n",
        "    # Train the model\n",
        "    history = model.fit(X_train, y_train, epochs=5, batch_size=32, validation_data=(X_val, y_val), verbose=0)\n",
        "\n",
        "    # Return the validation loss\n",
        "    val_loss = history.history['val_loss'][-1]\n",
        "    return -val_loss"
      ],
      "metadata": {
        "id": "SxUdAXAFLQQ5"
      },
      "execution_count": 227,
      "outputs": []
    },
    {
      "cell_type": "code",
      "source": [
        "# Define the parameter space for optimization\n",
        "param_bounds = {\n",
        "    'window_size': (10, 100),       # The range for window size\n",
        "    'lstm_units': (10, 100),        # The range for LSTM units\n",
        "    'dropout_rate': (0.1, 0.5),     # The range for dropout rate\n",
        "    'learning_rate': (0.0001, 0.01) # The range for learning rate\n",
        "}\n",
        "\n",
        "# Perform Bayesian optimization\n",
        "optimizer = BayesianOptimization(\n",
        "    f=build_and_evaluate_lstm,\n",
        "    pbounds=param_bounds,\n",
        "    random_state=42,\n",
        "    verbose=2\n",
        ")\n",
        "\n",
        "optimizer.maximize(init_points=5, n_iter=20)\n",
        "\n",
        "# Extract the best parameters\n",
        "best_params = optimizer.max['params']\n",
        "best_window_size = int(best_params['window_size'])\n",
        "best_lstm_units = int(best_params['lstm_units'])\n",
        "best_dropout_rate = best_params['dropout_rate']\n",
        "best_learning_rate = best_params['learning_rate']\n",
        "\n",
        "print(\"Best Parameters:\")\n",
        "print(f\"Window Size: {best_window_size}\")\n",
        "print(f\"LSTM Units: {best_lstm_units}\")\n",
        "print(f\"Dropout Rate: {best_dropout_rate}\")\n",
        "print(f\"Learning Rate: {best_learning_rate}\")"
      ],
      "metadata": {
        "id": "BTHGhbK8LZhu",
        "colab": {
          "base_uri": "https://localhost:8080/"
        },
        "outputId": "81892a28-8578-462b-a4a1-5f7da2e447dc"
      },
      "execution_count": 228,
      "outputs": [
        {
          "output_type": "stream",
          "name": "stdout",
          "text": [
            "|   iter    |  target   | dropou... | learni... | lstm_u... | window... |\n",
            "-------------------------------------------------------------------------\n"
          ]
        },
        {
          "output_type": "stream",
          "name": "stderr",
          "text": [
            "/usr/local/lib/python3.10/dist-packages/keras/src/layers/rnn/rnn.py:204: UserWarning: Do not pass an `input_shape`/`input_dim` argument to a layer. When using Sequential models, prefer using an `Input(shape)` object as the first layer in the model instead.\n",
            "  super().__init__(**kwargs)\n"
          ]
        },
        {
          "output_type": "stream",
          "name": "stdout",
          "text": [
            "| \u001b[39m1        \u001b[39m | \u001b[39m-0.01752 \u001b[39m | \u001b[39m0.2498   \u001b[39m | \u001b[39m0.009512 \u001b[39m | \u001b[39m75.88    \u001b[39m | \u001b[39m63.88    \u001b[39m |\n",
            "| \u001b[39m2        \u001b[39m | \u001b[39m-0.02216 \u001b[39m | \u001b[39m0.1624   \u001b[39m | \u001b[39m0.001644 \u001b[39m | \u001b[39m15.23    \u001b[39m | \u001b[39m87.96    \u001b[39m |\n",
            "| \u001b[35m3        \u001b[39m | \u001b[35m-0.01451 \u001b[39m | \u001b[35m0.3404   \u001b[39m | \u001b[35m0.00711  \u001b[39m | \u001b[35m11.85    \u001b[39m | \u001b[35m97.29    \u001b[39m |\n",
            "| \u001b[39m4        \u001b[39m | \u001b[39m-0.01743 \u001b[39m | \u001b[39m0.433    \u001b[39m | \u001b[39m0.002202 \u001b[39m | \u001b[39m26.36    \u001b[39m | \u001b[39m26.51    \u001b[39m |\n",
            "| \u001b[39m5        \u001b[39m | \u001b[39m-0.01511 \u001b[39m | \u001b[39m0.2217   \u001b[39m | \u001b[39m0.005295 \u001b[39m | \u001b[39m48.88    \u001b[39m | \u001b[39m36.21    \u001b[39m |\n"
          ]
        },
        {
          "output_type": "stream",
          "name": "stderr",
          "text": [
            "/usr/local/lib/python3.10/dist-packages/keras/src/layers/rnn/rnn.py:204: UserWarning: Do not pass an `input_shape`/`input_dim` argument to a layer. When using Sequential models, prefer using an `Input(shape)` object as the first layer in the model instead.\n",
            "  super().__init__(**kwargs)\n"
          ]
        },
        {
          "output_type": "stream",
          "name": "stdout",
          "text": [
            "| \u001b[35m6        \u001b[39m | \u001b[35m-0.01221 \u001b[39m | \u001b[35m0.3814   \u001b[39m | \u001b[35m0.009813 \u001b[39m | \u001b[35m11.89    \u001b[39m | \u001b[35m97.33    \u001b[39m |\n"
          ]
        },
        {
          "output_type": "stream",
          "name": "stderr",
          "text": [
            "/usr/local/lib/python3.10/dist-packages/keras/src/layers/rnn/rnn.py:204: UserWarning: Do not pass an `input_shape`/`input_dim` argument to a layer. When using Sequential models, prefer using an `Input(shape)` object as the first layer in the model instead.\n",
            "  super().__init__(**kwargs)\n"
          ]
        },
        {
          "output_type": "stream",
          "name": "stdout",
          "text": [
            "| \u001b[39m7        \u001b[39m | \u001b[39m-0.01452 \u001b[39m | \u001b[39m0.4518   \u001b[39m | \u001b[39m0.009645 \u001b[39m | \u001b[39m11.96    \u001b[39m | \u001b[39m97.4     \u001b[39m |\n"
          ]
        },
        {
          "output_type": "stream",
          "name": "stderr",
          "text": [
            "/usr/local/lib/python3.10/dist-packages/keras/src/layers/rnn/rnn.py:204: UserWarning: Do not pass an `input_shape`/`input_dim` argument to a layer. When using Sequential models, prefer using an `Input(shape)` object as the first layer in the model instead.\n",
            "  super().__init__(**kwargs)\n"
          ]
        },
        {
          "output_type": "stream",
          "name": "stdout",
          "text": [
            "| \u001b[39m8        \u001b[39m | \u001b[39m-0.01389 \u001b[39m | \u001b[39m0.4862   \u001b[39m | \u001b[39m0.004813 \u001b[39m | \u001b[39m71.67    \u001b[39m | \u001b[39m96.16    \u001b[39m |\n"
          ]
        },
        {
          "output_type": "stream",
          "name": "stderr",
          "text": [
            "/usr/local/lib/python3.10/dist-packages/keras/src/layers/rnn/rnn.py:204: UserWarning: Do not pass an `input_shape`/`input_dim` argument to a layer. When using Sequential models, prefer using an `Input(shape)` object as the first layer in the model instead.\n",
            "  super().__init__(**kwargs)\n"
          ]
        },
        {
          "output_type": "stream",
          "name": "stdout",
          "text": [
            "| \u001b[39m9        \u001b[39m | \u001b[39m-0.01746 \u001b[39m | \u001b[39m0.3083   \u001b[39m | \u001b[39m0.005573 \u001b[39m | \u001b[39m99.8     \u001b[39m | \u001b[39m40.08    \u001b[39m |\n"
          ]
        },
        {
          "output_type": "stream",
          "name": "stderr",
          "text": [
            "/usr/local/lib/python3.10/dist-packages/keras/src/layers/rnn/rnn.py:204: UserWarning: Do not pass an `input_shape`/`input_dim` argument to a layer. When using Sequential models, prefer using an `Input(shape)` object as the first layer in the model instead.\n",
            "  super().__init__(**kwargs)\n"
          ]
        },
        {
          "output_type": "stream",
          "name": "stdout",
          "text": [
            "| \u001b[39m10       \u001b[39m | \u001b[39m-0.01753 \u001b[39m | \u001b[39m0.3387   \u001b[39m | \u001b[39m0.006252 \u001b[39m | \u001b[39m71.63    \u001b[39m | \u001b[39m96.15    \u001b[39m |\n"
          ]
        },
        {
          "output_type": "stream",
          "name": "stderr",
          "text": [
            "/usr/local/lib/python3.10/dist-packages/keras/src/layers/rnn/rnn.py:204: UserWarning: Do not pass an `input_shape`/`input_dim` argument to a layer. When using Sequential models, prefer using an `Input(shape)` object as the first layer in the model instead.\n",
            "  super().__init__(**kwargs)\n"
          ]
        },
        {
          "output_type": "stream",
          "name": "stdout",
          "text": [
            "| \u001b[39m11       \u001b[39m | \u001b[39m-0.01465 \u001b[39m | \u001b[39m0.4748   \u001b[39m | \u001b[39m0.00753  \u001b[39m | \u001b[39m36.08    \u001b[39m | \u001b[39m88.29    \u001b[39m |\n"
          ]
        },
        {
          "output_type": "stream",
          "name": "stderr",
          "text": [
            "/usr/local/lib/python3.10/dist-packages/keras/src/layers/rnn/rnn.py:204: UserWarning: Do not pass an `input_shape`/`input_dim` argument to a layer. When using Sequential models, prefer using an `Input(shape)` object as the first layer in the model instead.\n",
            "  super().__init__(**kwargs)\n"
          ]
        },
        {
          "output_type": "stream",
          "name": "stdout",
          "text": [
            "| \u001b[39m12       \u001b[39m | \u001b[39m-0.01758 \u001b[39m | \u001b[39m0.1998   \u001b[39m | \u001b[39m0.008122 \u001b[39m | \u001b[39m43.09    \u001b[39m | \u001b[39m91.58    \u001b[39m |\n"
          ]
        },
        {
          "output_type": "stream",
          "name": "stderr",
          "text": [
            "/usr/local/lib/python3.10/dist-packages/keras/src/layers/rnn/rnn.py:204: UserWarning: Do not pass an `input_shape`/`input_dim` argument to a layer. When using Sequential models, prefer using an `Input(shape)` object as the first layer in the model instead.\n",
            "  super().__init__(**kwargs)\n"
          ]
        },
        {
          "output_type": "stream",
          "name": "stdout",
          "text": [
            "| \u001b[39m13       \u001b[39m | \u001b[39m-0.02473 \u001b[39m | \u001b[39m0.1543   \u001b[39m | \u001b[39m0.000971 \u001b[39m | \u001b[39m57.87    \u001b[39m | \u001b[39m19.97    \u001b[39m |\n"
          ]
        },
        {
          "output_type": "stream",
          "name": "stderr",
          "text": [
            "/usr/local/lib/python3.10/dist-packages/keras/src/layers/rnn/rnn.py:204: UserWarning: Do not pass an `input_shape`/`input_dim` argument to a layer. When using Sequential models, prefer using an `Input(shape)` object as the first layer in the model instead.\n",
            "  super().__init__(**kwargs)\n"
          ]
        },
        {
          "output_type": "stream",
          "name": "stdout",
          "text": [
            "| \u001b[39m14       \u001b[39m | \u001b[39m-0.01993 \u001b[39m | \u001b[39m0.4685   \u001b[39m | \u001b[39m0.002021 \u001b[39m | \u001b[39m23.17    \u001b[39m | \u001b[39m43.63    \u001b[39m |\n"
          ]
        },
        {
          "output_type": "stream",
          "name": "stderr",
          "text": [
            "/usr/local/lib/python3.10/dist-packages/keras/src/layers/rnn/rnn.py:204: UserWarning: Do not pass an `input_shape`/`input_dim` argument to a layer. When using Sequential models, prefer using an `Input(shape)` object as the first layer in the model instead.\n",
            "  super().__init__(**kwargs)\n"
          ]
        },
        {
          "output_type": "stream",
          "name": "stdout",
          "text": [
            "| \u001b[39m15       \u001b[39m | \u001b[39m-0.01717 \u001b[39m | \u001b[39m0.2619   \u001b[39m | \u001b[39m0.001645 \u001b[39m | \u001b[39m82.84    \u001b[39m | \u001b[39m26.47    \u001b[39m |\n"
          ]
        },
        {
          "output_type": "stream",
          "name": "stderr",
          "text": [
            "/usr/local/lib/python3.10/dist-packages/keras/src/layers/rnn/rnn.py:204: UserWarning: Do not pass an `input_shape`/`input_dim` argument to a layer. When using Sequential models, prefer using an `Input(shape)` object as the first layer in the model instead.\n",
            "  super().__init__(**kwargs)\n"
          ]
        },
        {
          "output_type": "stream",
          "name": "stdout",
          "text": [
            "| \u001b[39m16       \u001b[39m | \u001b[39m-0.01374 \u001b[39m | \u001b[39m0.3058   \u001b[39m | \u001b[39m0.01     \u001b[39m | \u001b[39m11.99    \u001b[39m | \u001b[39m97.36    \u001b[39m |\n"
          ]
        },
        {
          "output_type": "stream",
          "name": "stderr",
          "text": [
            "/usr/local/lib/python3.10/dist-packages/keras/src/layers/rnn/rnn.py:204: UserWarning: Do not pass an `input_shape`/`input_dim` argument to a layer. When using Sequential models, prefer using an `Input(shape)` object as the first layer in the model instead.\n",
            "  super().__init__(**kwargs)\n"
          ]
        },
        {
          "output_type": "stream",
          "name": "stdout",
          "text": [
            "| \u001b[39m17       \u001b[39m | \u001b[39m-0.0125  \u001b[39m | \u001b[39m0.3429   \u001b[39m | \u001b[39m0.01     \u001b[39m | \u001b[39m11.85    \u001b[39m | \u001b[39m97.46    \u001b[39m |\n"
          ]
        },
        {
          "output_type": "stream",
          "name": "stderr",
          "text": [
            "/usr/local/lib/python3.10/dist-packages/keras/src/layers/rnn/rnn.py:204: UserWarning: Do not pass an `input_shape`/`input_dim` argument to a layer. When using Sequential models, prefer using an `Input(shape)` object as the first layer in the model instead.\n",
            "  super().__init__(**kwargs)\n"
          ]
        },
        {
          "output_type": "stream",
          "name": "stdout",
          "text": [
            "| \u001b[39m18       \u001b[39m | \u001b[39m-0.01545 \u001b[39m | \u001b[39m0.4807   \u001b[39m | \u001b[39m0.01     \u001b[39m | \u001b[39m11.76    \u001b[39m | \u001b[39m97.41    \u001b[39m |\n"
          ]
        },
        {
          "output_type": "stream",
          "name": "stderr",
          "text": [
            "/usr/local/lib/python3.10/dist-packages/keras/src/layers/rnn/rnn.py:204: UserWarning: Do not pass an `input_shape`/`input_dim` argument to a layer. When using Sequential models, prefer using an `Input(shape)` object as the first layer in the model instead.\n",
            "  super().__init__(**kwargs)\n"
          ]
        },
        {
          "output_type": "stream",
          "name": "stdout",
          "text": [
            "| \u001b[35m19       \u001b[39m | \u001b[35m-0.01101 \u001b[39m | \u001b[35m0.1396   \u001b[39m | \u001b[35m0.008116 \u001b[39m | \u001b[35m82.36    \u001b[39m | \u001b[35m97.77    \u001b[39m |\n"
          ]
        },
        {
          "output_type": "stream",
          "name": "stderr",
          "text": [
            "/usr/local/lib/python3.10/dist-packages/keras/src/layers/rnn/rnn.py:204: UserWarning: Do not pass an `input_shape`/`input_dim` argument to a layer. When using Sequential models, prefer using an `Input(shape)` object as the first layer in the model instead.\n",
            "  super().__init__(**kwargs)\n"
          ]
        },
        {
          "output_type": "stream",
          "name": "stdout",
          "text": [
            "| \u001b[39m20       \u001b[39m | \u001b[39m-0.0111  \u001b[39m | \u001b[39m0.1349   \u001b[39m | \u001b[39m0.008603 \u001b[39m | \u001b[39m82.36    \u001b[39m | \u001b[39m97.78    \u001b[39m |\n"
          ]
        },
        {
          "output_type": "stream",
          "name": "stderr",
          "text": [
            "/usr/local/lib/python3.10/dist-packages/keras/src/layers/rnn/rnn.py:204: UserWarning: Do not pass an `input_shape`/`input_dim` argument to a layer. When using Sequential models, prefer using an `Input(shape)` object as the first layer in the model instead.\n",
            "  super().__init__(**kwargs)\n"
          ]
        },
        {
          "output_type": "stream",
          "name": "stdout",
          "text": [
            "| \u001b[39m21       \u001b[39m | \u001b[39m-0.01185 \u001b[39m | \u001b[39m0.2421   \u001b[39m | \u001b[39m0.009959 \u001b[39m | \u001b[39m82.45    \u001b[39m | \u001b[39m97.87    \u001b[39m |\n"
          ]
        },
        {
          "output_type": "stream",
          "name": "stderr",
          "text": [
            "/usr/local/lib/python3.10/dist-packages/keras/src/layers/rnn/rnn.py:204: UserWarning: Do not pass an `input_shape`/`input_dim` argument to a layer. When using Sequential models, prefer using an `Input(shape)` object as the first layer in the model instead.\n",
            "  super().__init__(**kwargs)\n"
          ]
        },
        {
          "output_type": "stream",
          "name": "stdout",
          "text": [
            "| \u001b[39m22       \u001b[39m | \u001b[39m-0.01827 \u001b[39m | \u001b[39m0.3061   \u001b[39m | \u001b[39m0.0003269\u001b[39m | \u001b[39m82.28    \u001b[39m | \u001b[39m97.75    \u001b[39m |\n"
          ]
        },
        {
          "output_type": "stream",
          "name": "stderr",
          "text": [
            "/usr/local/lib/python3.10/dist-packages/keras/src/layers/rnn/rnn.py:204: UserWarning: Do not pass an `input_shape`/`input_dim` argument to a layer. When using Sequential models, prefer using an `Input(shape)` object as the first layer in the model instead.\n",
            "  super().__init__(**kwargs)\n"
          ]
        },
        {
          "output_type": "stream",
          "name": "stdout",
          "text": [
            "| \u001b[39m23       \u001b[39m | \u001b[39m-0.01114 \u001b[39m | \u001b[39m0.1      \u001b[39m | \u001b[39m0.01     \u001b[39m | \u001b[39m82.5     \u001b[39m | \u001b[39m97.81    \u001b[39m |\n"
          ]
        },
        {
          "output_type": "stream",
          "name": "stderr",
          "text": [
            "/usr/local/lib/python3.10/dist-packages/keras/src/layers/rnn/rnn.py:204: UserWarning: Do not pass an `input_shape`/`input_dim` argument to a layer. When using Sequential models, prefer using an `Input(shape)` object as the first layer in the model instead.\n",
            "  super().__init__(**kwargs)\n"
          ]
        },
        {
          "output_type": "stream",
          "name": "stdout",
          "text": [
            "| \u001b[39m24       \u001b[39m | \u001b[39m-0.01108 \u001b[39m | \u001b[39m0.1      \u001b[39m | \u001b[39m0.01     \u001b[39m | \u001b[39m82.48    \u001b[39m | \u001b[39m97.62    \u001b[39m |\n"
          ]
        },
        {
          "output_type": "stream",
          "name": "stderr",
          "text": [
            "/usr/local/lib/python3.10/dist-packages/keras/src/layers/rnn/rnn.py:204: UserWarning: Do not pass an `input_shape`/`input_dim` argument to a layer. When using Sequential models, prefer using an `Input(shape)` object as the first layer in the model instead.\n",
            "  super().__init__(**kwargs)\n"
          ]
        },
        {
          "output_type": "stream",
          "name": "stdout",
          "text": [
            "| \u001b[39m25       \u001b[39m | \u001b[39m-0.01188 \u001b[39m | \u001b[39m0.2381   \u001b[39m | \u001b[39m0.01     \u001b[39m | \u001b[39m82.61    \u001b[39m | \u001b[39m97.7     \u001b[39m |\n",
            "=========================================================================\n",
            "Best Parameters:\n",
            "Window Size: 97\n",
            "LSTM Units: 82\n",
            "Dropout Rate: 0.1395779892819241\n",
            "Learning Rate: 0.008115995015512025\n"
          ]
        }
      ]
    },
    {
      "cell_type": "code",
      "source": [],
      "metadata": {
        "id": "ZP-kkMYULQUA"
      },
      "execution_count": 228,
      "outputs": []
    },
    {
      "cell_type": "code",
      "source": [],
      "metadata": {
        "id": "D8WdlWjvLQWd"
      },
      "execution_count": 228,
      "outputs": []
    },
    {
      "cell_type": "code",
      "source": [],
      "metadata": {
        "id": "hC70gSzaGFck"
      },
      "execution_count": 228,
      "outputs": []
    },
    {
      "cell_type": "code",
      "source": [
        "# # Przekształcenie danych do formatu akceptowalnego przez LSTM (próbki, kroki czasowe, cechy)\n",
        "# X_train = np.reshape(X_train, (X_train.shape[0], 1, X_train.shape[1]))\n",
        "# # X_test = np.reshape(X_test, (X_test.shape[0], 1, X_test.shape[1]))"
      ],
      "metadata": {
        "id": "7fujrvH1GZHs"
      },
      "execution_count": 229,
      "outputs": []
    },
    {
      "cell_type": "code",
      "source": [
        "import tensorflow as tf\n",
        "from tensorflow.keras.models import Sequential\n",
        "from tensorflow.keras.layers import LSTM, Dense, Dropout"
      ],
      "metadata": {
        "id": "x8ElScNcG8pR"
      },
      "execution_count": 230,
      "outputs": []
    },
    {
      "cell_type": "code",
      "source": [
        "# Inicjalizacja modelu LSTM\n",
        "model = Sequential()\n",
        "\n",
        "# Dodanie warstwy LSTM\n",
        "model.add(LSTM(units=25, return_sequences=False, input_shape=(X_train.shape[1], X_train.shape[2])))\n",
        "model.add(Dropout(0.2))\n",
        "\n",
        "# Dodanie kolejnej warstwy LSTM\n",
        "#model.add(LSTM(units=2, return_sequences=False))\n",
        "#model.add(Dropout(0.2))\n",
        "\n",
        "# Dodanie warstwy wyjściowej\n",
        "model.add(Dense(units = prediction_size))\n"
      ],
      "metadata": {
        "id": "sXD6ZL9PHIVp"
      },
      "execution_count": 231,
      "outputs": []
    },
    {
      "cell_type": "code",
      "source": [
        "# Kompilacja modelu\n",
        "model.compile(optimizer='adam', loss='mean_squared_error')\n",
        "\n",
        "# Wyświetlenie architektury modelu\n",
        "model.summary()"
      ],
      "metadata": {
        "id": "3MvRFxgeHmw-",
        "colab": {
          "base_uri": "https://localhost:8080/",
          "height": 238
        },
        "outputId": "286c947c-74f2-46c2-ac76-50d0e9008fbd"
      },
      "execution_count": 232,
      "outputs": [
        {
          "output_type": "display_data",
          "data": {
            "text/plain": [
              "\u001b[1mModel: \"sequential_78\"\u001b[0m\n"
            ],
            "text/html": [
              "<pre style=\"white-space:pre;overflow-x:auto;line-height:normal;font-family:Menlo,'DejaVu Sans Mono',consolas,'Courier New',monospace\"><span style=\"font-weight: bold\">Model: \"sequential_78\"</span>\n",
              "</pre>\n"
            ]
          },
          "metadata": {}
        },
        {
          "output_type": "display_data",
          "data": {
            "text/plain": [
              "┏━━━━━━━━━━━━━━━━━━━━━━━━━━━━━━━━━━━━━━┳━━━━━━━━━━━━━━━━━━━━━━━━━━━━━┳━━━━━━━━━━━━━━━━━┓\n",
              "┃\u001b[1m \u001b[0m\u001b[1mLayer (type)                        \u001b[0m\u001b[1m \u001b[0m┃\u001b[1m \u001b[0m\u001b[1mOutput Shape               \u001b[0m\u001b[1m \u001b[0m┃\u001b[1m \u001b[0m\u001b[1m        Param #\u001b[0m\u001b[1m \u001b[0m┃\n",
              "┡━━━━━━━━━━━━━━━━━━━━━━━━━━━━━━━━━━━━━━╇━━━━━━━━━━━━━━━━━━━━━━━━━━━━━╇━━━━━━━━━━━━━━━━━┩\n",
              "│ lstm_78 (\u001b[38;5;33mLSTM\u001b[0m)                       │ (\u001b[38;5;45mNone\u001b[0m, \u001b[38;5;34m25\u001b[0m)                  │           \u001b[38;5;34m3,500\u001b[0m │\n",
              "├──────────────────────────────────────┼─────────────────────────────┼─────────────────┤\n",
              "│ dropout_78 (\u001b[38;5;33mDropout\u001b[0m)                 │ (\u001b[38;5;45mNone\u001b[0m, \u001b[38;5;34m25\u001b[0m)                  │               \u001b[38;5;34m0\u001b[0m │\n",
              "├──────────────────────────────────────┼─────────────────────────────┼─────────────────┤\n",
              "│ dense_78 (\u001b[38;5;33mDense\u001b[0m)                     │ (\u001b[38;5;45mNone\u001b[0m, \u001b[38;5;34m1\u001b[0m)                   │              \u001b[38;5;34m26\u001b[0m │\n",
              "└──────────────────────────────────────┴─────────────────────────────┴─────────────────┘\n"
            ],
            "text/html": [
              "<pre style=\"white-space:pre;overflow-x:auto;line-height:normal;font-family:Menlo,'DejaVu Sans Mono',consolas,'Courier New',monospace\">┏━━━━━━━━━━━━━━━━━━━━━━━━━━━━━━━━━━━━━━┳━━━━━━━━━━━━━━━━━━━━━━━━━━━━━┳━━━━━━━━━━━━━━━━━┓\n",
              "┃<span style=\"font-weight: bold\"> Layer (type)                         </span>┃<span style=\"font-weight: bold\"> Output Shape                </span>┃<span style=\"font-weight: bold\">         Param # </span>┃\n",
              "┡━━━━━━━━━━━━━━━━━━━━━━━━━━━━━━━━━━━━━━╇━━━━━━━━━━━━━━━━━━━━━━━━━━━━━╇━━━━━━━━━━━━━━━━━┩\n",
              "│ lstm_78 (<span style=\"color: #0087ff; text-decoration-color: #0087ff\">LSTM</span>)                       │ (<span style=\"color: #00d7ff; text-decoration-color: #00d7ff\">None</span>, <span style=\"color: #00af00; text-decoration-color: #00af00\">25</span>)                  │           <span style=\"color: #00af00; text-decoration-color: #00af00\">3,500</span> │\n",
              "├──────────────────────────────────────┼─────────────────────────────┼─────────────────┤\n",
              "│ dropout_78 (<span style=\"color: #0087ff; text-decoration-color: #0087ff\">Dropout</span>)                 │ (<span style=\"color: #00d7ff; text-decoration-color: #00d7ff\">None</span>, <span style=\"color: #00af00; text-decoration-color: #00af00\">25</span>)                  │               <span style=\"color: #00af00; text-decoration-color: #00af00\">0</span> │\n",
              "├──────────────────────────────────────┼─────────────────────────────┼─────────────────┤\n",
              "│ dense_78 (<span style=\"color: #0087ff; text-decoration-color: #0087ff\">Dense</span>)                     │ (<span style=\"color: #00d7ff; text-decoration-color: #00d7ff\">None</span>, <span style=\"color: #00af00; text-decoration-color: #00af00\">1</span>)                   │              <span style=\"color: #00af00; text-decoration-color: #00af00\">26</span> │\n",
              "└──────────────────────────────────────┴─────────────────────────────┴─────────────────┘\n",
              "</pre>\n"
            ]
          },
          "metadata": {}
        },
        {
          "output_type": "display_data",
          "data": {
            "text/plain": [
              "\u001b[1m Total params: \u001b[0m\u001b[38;5;34m3,526\u001b[0m (13.77 KB)\n"
            ],
            "text/html": [
              "<pre style=\"white-space:pre;overflow-x:auto;line-height:normal;font-family:Menlo,'DejaVu Sans Mono',consolas,'Courier New',monospace\"><span style=\"font-weight: bold\"> Total params: </span><span style=\"color: #00af00; text-decoration-color: #00af00\">3,526</span> (13.77 KB)\n",
              "</pre>\n"
            ]
          },
          "metadata": {}
        },
        {
          "output_type": "display_data",
          "data": {
            "text/plain": [
              "\u001b[1m Trainable params: \u001b[0m\u001b[38;5;34m3,526\u001b[0m (13.77 KB)\n"
            ],
            "text/html": [
              "<pre style=\"white-space:pre;overflow-x:auto;line-height:normal;font-family:Menlo,'DejaVu Sans Mono',consolas,'Courier New',monospace\"><span style=\"font-weight: bold\"> Trainable params: </span><span style=\"color: #00af00; text-decoration-color: #00af00\">3,526</span> (13.77 KB)\n",
              "</pre>\n"
            ]
          },
          "metadata": {}
        },
        {
          "output_type": "display_data",
          "data": {
            "text/plain": [
              "\u001b[1m Non-trainable params: \u001b[0m\u001b[38;5;34m0\u001b[0m (0.00 B)\n"
            ],
            "text/html": [
              "<pre style=\"white-space:pre;overflow-x:auto;line-height:normal;font-family:Menlo,'DejaVu Sans Mono',consolas,'Courier New',monospace\"><span style=\"font-weight: bold\"> Non-trainable params: </span><span style=\"color: #00af00; text-decoration-color: #00af00\">0</span> (0.00 B)\n",
              "</pre>\n"
            ]
          },
          "metadata": {}
        }
      ]
    },
    {
      "cell_type": "code",
      "source": [
        "# Trenowanie modelu LSTM\n",
        "history = model.fit(X_train, y_train, epochs=100, batch_size=32, validation_data=(X_test, y_test), verbose=1)"
      ],
      "metadata": {
        "id": "OHK21QMFIC6i",
        "colab": {
          "base_uri": "https://localhost:8080/"
        },
        "outputId": "4bbf8bf7-17b1-41b5-e945-7eda351818ff"
      },
      "execution_count": 233,
      "outputs": [
        {
          "output_type": "stream",
          "name": "stdout",
          "text": [
            "Epoch 1/100\n",
            "\u001b[1m16/16\u001b[0m \u001b[32m━━━━━━━━━━━━━━━━━━━━\u001b[0m\u001b[37m\u001b[0m \u001b[1m2s\u001b[0m 20ms/step - loss: 0.2433 - val_loss: 0.1014\n",
            "Epoch 2/100\n",
            "\u001b[1m16/16\u001b[0m \u001b[32m━━━━━━━━━━━━━━━━━━━━\u001b[0m\u001b[37m\u001b[0m \u001b[1m0s\u001b[0m 4ms/step - loss: 0.0832 - val_loss: 0.0323\n",
            "Epoch 3/100\n",
            "\u001b[1m16/16\u001b[0m \u001b[32m━━━━━━━━━━━━━━━━━━━━\u001b[0m\u001b[37m\u001b[0m \u001b[1m0s\u001b[0m 4ms/step - loss: 0.0387 - val_loss: 0.0289\n",
            "Epoch 4/100\n",
            "\u001b[1m16/16\u001b[0m \u001b[32m━━━━━━━━━━━━━━━━━━━━\u001b[0m\u001b[37m\u001b[0m \u001b[1m0s\u001b[0m 4ms/step - loss: 0.0378 - val_loss: 0.0273\n",
            "Epoch 5/100\n",
            "\u001b[1m16/16\u001b[0m \u001b[32m━━━━━━━━━━━━━━━━━━━━\u001b[0m\u001b[37m\u001b[0m \u001b[1m0s\u001b[0m 4ms/step - loss: 0.0373 - val_loss: 0.0257\n",
            "Epoch 6/100\n",
            "\u001b[1m16/16\u001b[0m \u001b[32m━━━━━━━━━━━━━━━━━━━━\u001b[0m\u001b[37m\u001b[0m \u001b[1m0s\u001b[0m 4ms/step - loss: 0.0335 - val_loss: 0.0238\n",
            "Epoch 7/100\n",
            "\u001b[1m16/16\u001b[0m \u001b[32m━━━━━━━━━━━━━━━━━━━━\u001b[0m\u001b[37m\u001b[0m \u001b[1m0s\u001b[0m 4ms/step - loss: 0.0328 - val_loss: 0.0228\n",
            "Epoch 8/100\n",
            "\u001b[1m16/16\u001b[0m \u001b[32m━━━━━━━━━━━━━━━━━━━━\u001b[0m\u001b[37m\u001b[0m \u001b[1m0s\u001b[0m 4ms/step - loss: 0.0312 - val_loss: 0.0214\n",
            "Epoch 9/100\n",
            "\u001b[1m16/16\u001b[0m \u001b[32m━━━━━━━━━━━━━━━━━━━━\u001b[0m\u001b[37m\u001b[0m \u001b[1m0s\u001b[0m 4ms/step - loss: 0.0245 - val_loss: 0.0210\n",
            "Epoch 10/100\n",
            "\u001b[1m16/16\u001b[0m \u001b[32m━━━━━━━━━━━━━━━━━━━━\u001b[0m\u001b[37m\u001b[0m \u001b[1m0s\u001b[0m 4ms/step - loss: 0.0277 - val_loss: 0.0201\n",
            "Epoch 11/100\n",
            "\u001b[1m16/16\u001b[0m \u001b[32m━━━━━━━━━━━━━━━━━━━━\u001b[0m\u001b[37m\u001b[0m \u001b[1m0s\u001b[0m 4ms/step - loss: 0.0288 - val_loss: 0.0196\n",
            "Epoch 12/100\n",
            "\u001b[1m16/16\u001b[0m \u001b[32m━━━━━━━━━━━━━━━━━━━━\u001b[0m\u001b[37m\u001b[0m \u001b[1m0s\u001b[0m 5ms/step - loss: 0.0255 - val_loss: 0.0192\n",
            "Epoch 13/100\n",
            "\u001b[1m16/16\u001b[0m \u001b[32m━━━━━━━━━━━━━━━━━━━━\u001b[0m\u001b[37m\u001b[0m \u001b[1m0s\u001b[0m 4ms/step - loss: 0.0245 - val_loss: 0.0195\n",
            "Epoch 14/100\n",
            "\u001b[1m16/16\u001b[0m \u001b[32m━━━━━━━━━━━━━━━━━━━━\u001b[0m\u001b[37m\u001b[0m \u001b[1m0s\u001b[0m 4ms/step - loss: 0.0238 - val_loss: 0.0188\n",
            "Epoch 15/100\n",
            "\u001b[1m16/16\u001b[0m \u001b[32m━━━━━━━━━━━━━━━━━━━━\u001b[0m\u001b[37m\u001b[0m \u001b[1m0s\u001b[0m 4ms/step - loss: 0.0204 - val_loss: 0.0190\n",
            "Epoch 16/100\n",
            "\u001b[1m16/16\u001b[0m \u001b[32m━━━━━━━━━━━━━━━━━━━━\u001b[0m\u001b[37m\u001b[0m \u001b[1m0s\u001b[0m 4ms/step - loss: 0.0236 - val_loss: 0.0189\n",
            "Epoch 17/100\n",
            "\u001b[1m16/16\u001b[0m \u001b[32m━━━━━━━━━━━━━━━━━━━━\u001b[0m\u001b[37m\u001b[0m \u001b[1m0s\u001b[0m 4ms/step - loss: 0.0245 - val_loss: 0.0188\n",
            "Epoch 18/100\n",
            "\u001b[1m16/16\u001b[0m \u001b[32m━━━━━━━━━━━━━━━━━━━━\u001b[0m\u001b[37m\u001b[0m \u001b[1m0s\u001b[0m 4ms/step - loss: 0.0212 - val_loss: 0.0189\n",
            "Epoch 19/100\n",
            "\u001b[1m16/16\u001b[0m \u001b[32m━━━━━━━━━━━━━━━━━━━━\u001b[0m\u001b[37m\u001b[0m \u001b[1m0s\u001b[0m 4ms/step - loss: 0.0245 - val_loss: 0.0189\n",
            "Epoch 20/100\n",
            "\u001b[1m16/16\u001b[0m \u001b[32m━━━━━━━━━━━━━━━━━━━━\u001b[0m\u001b[37m\u001b[0m \u001b[1m0s\u001b[0m 4ms/step - loss: 0.0212 - val_loss: 0.0186\n",
            "Epoch 21/100\n",
            "\u001b[1m16/16\u001b[0m \u001b[32m━━━━━━━━━━━━━━━━━━━━\u001b[0m\u001b[37m\u001b[0m \u001b[1m0s\u001b[0m 4ms/step - loss: 0.0199 - val_loss: 0.0188\n",
            "Epoch 22/100\n",
            "\u001b[1m16/16\u001b[0m \u001b[32m━━━━━━━━━━━━━━━━━━━━\u001b[0m\u001b[37m\u001b[0m \u001b[1m0s\u001b[0m 4ms/step - loss: 0.0226 - val_loss: 0.0184\n",
            "Epoch 23/100\n",
            "\u001b[1m16/16\u001b[0m \u001b[32m━━━━━━━━━━━━━━━━━━━━\u001b[0m\u001b[37m\u001b[0m \u001b[1m0s\u001b[0m 4ms/step - loss: 0.0226 - val_loss: 0.0188\n",
            "Epoch 24/100\n",
            "\u001b[1m16/16\u001b[0m \u001b[32m━━━━━━━━━━━━━━━━━━━━\u001b[0m\u001b[37m\u001b[0m \u001b[1m0s\u001b[0m 4ms/step - loss: 0.0213 - val_loss: 0.0187\n",
            "Epoch 25/100\n",
            "\u001b[1m16/16\u001b[0m \u001b[32m━━━━━━━━━━━━━━━━━━━━\u001b[0m\u001b[37m\u001b[0m \u001b[1m0s\u001b[0m 4ms/step - loss: 0.0224 - val_loss: 0.0184\n",
            "Epoch 26/100\n",
            "\u001b[1m16/16\u001b[0m \u001b[32m━━━━━━━━━━━━━━━━━━━━\u001b[0m\u001b[37m\u001b[0m \u001b[1m0s\u001b[0m 4ms/step - loss: 0.0213 - val_loss: 0.0187\n",
            "Epoch 27/100\n",
            "\u001b[1m16/16\u001b[0m \u001b[32m━━━━━━━━━━━━━━━━━━━━\u001b[0m\u001b[37m\u001b[0m \u001b[1m0s\u001b[0m 4ms/step - loss: 0.0202 - val_loss: 0.0188\n",
            "Epoch 28/100\n",
            "\u001b[1m16/16\u001b[0m \u001b[32m━━━━━━━━━━━━━━━━━━━━\u001b[0m\u001b[37m\u001b[0m \u001b[1m0s\u001b[0m 4ms/step - loss: 0.0217 - val_loss: 0.0185\n",
            "Epoch 29/100\n",
            "\u001b[1m16/16\u001b[0m \u001b[32m━━━━━━━━━━━━━━━━━━━━\u001b[0m\u001b[37m\u001b[0m \u001b[1m0s\u001b[0m 4ms/step - loss: 0.0196 - val_loss: 0.0184\n",
            "Epoch 30/100\n",
            "\u001b[1m16/16\u001b[0m \u001b[32m━━━━━━━━━━━━━━━━━━━━\u001b[0m\u001b[37m\u001b[0m \u001b[1m0s\u001b[0m 4ms/step - loss: 0.0210 - val_loss: 0.0184\n",
            "Epoch 31/100\n",
            "\u001b[1m16/16\u001b[0m \u001b[32m━━━━━━━━━━━━━━━━━━━━\u001b[0m\u001b[37m\u001b[0m \u001b[1m0s\u001b[0m 4ms/step - loss: 0.0192 - val_loss: 0.0183\n",
            "Epoch 32/100\n",
            "\u001b[1m16/16\u001b[0m \u001b[32m━━━━━━━━━━━━━━━━━━━━\u001b[0m\u001b[37m\u001b[0m \u001b[1m0s\u001b[0m 4ms/step - loss: 0.0209 - val_loss: 0.0188\n",
            "Epoch 33/100\n",
            "\u001b[1m16/16\u001b[0m \u001b[32m━━━━━━━━━━━━━━━━━━━━\u001b[0m\u001b[37m\u001b[0m \u001b[1m0s\u001b[0m 4ms/step - loss: 0.0206 - val_loss: 0.0182\n",
            "Epoch 34/100\n",
            "\u001b[1m16/16\u001b[0m \u001b[32m━━━━━━━━━━━━━━━━━━━━\u001b[0m\u001b[37m\u001b[0m \u001b[1m0s\u001b[0m 4ms/step - loss: 0.0215 - val_loss: 0.0185\n",
            "Epoch 35/100\n",
            "\u001b[1m16/16\u001b[0m \u001b[32m━━━━━━━━━━━━━━━━━━━━\u001b[0m\u001b[37m\u001b[0m \u001b[1m0s\u001b[0m 4ms/step - loss: 0.0229 - val_loss: 0.0183\n",
            "Epoch 36/100\n",
            "\u001b[1m16/16\u001b[0m \u001b[32m━━━━━━━━━━━━━━━━━━━━\u001b[0m\u001b[37m\u001b[0m \u001b[1m0s\u001b[0m 4ms/step - loss: 0.0213 - val_loss: 0.0183\n",
            "Epoch 37/100\n",
            "\u001b[1m16/16\u001b[0m \u001b[32m━━━━━━━━━━━━━━━━━━━━\u001b[0m\u001b[37m\u001b[0m \u001b[1m0s\u001b[0m 4ms/step - loss: 0.0217 - val_loss: 0.0185\n",
            "Epoch 38/100\n",
            "\u001b[1m16/16\u001b[0m \u001b[32m━━━━━━━━━━━━━━━━━━━━\u001b[0m\u001b[37m\u001b[0m \u001b[1m0s\u001b[0m 4ms/step - loss: 0.0198 - val_loss: 0.0188\n",
            "Epoch 39/100\n",
            "\u001b[1m16/16\u001b[0m \u001b[32m━━━━━━━━━━━━━━━━━━━━\u001b[0m\u001b[37m\u001b[0m \u001b[1m0s\u001b[0m 4ms/step - loss: 0.0190 - val_loss: 0.0182\n",
            "Epoch 40/100\n",
            "\u001b[1m16/16\u001b[0m \u001b[32m━━━━━━━━━━━━━━━━━━━━\u001b[0m\u001b[37m\u001b[0m \u001b[1m0s\u001b[0m 4ms/step - loss: 0.0189 - val_loss: 0.0186\n",
            "Epoch 41/100\n",
            "\u001b[1m16/16\u001b[0m \u001b[32m━━━━━━━━━━━━━━━━━━━━\u001b[0m\u001b[37m\u001b[0m \u001b[1m0s\u001b[0m 4ms/step - loss: 0.0203 - val_loss: 0.0185\n",
            "Epoch 42/100\n",
            "\u001b[1m16/16\u001b[0m \u001b[32m━━━━━━━━━━━━━━━━━━━━\u001b[0m\u001b[37m\u001b[0m \u001b[1m0s\u001b[0m 4ms/step - loss: 0.0185 - val_loss: 0.0183\n",
            "Epoch 43/100\n",
            "\u001b[1m16/16\u001b[0m \u001b[32m━━━━━━━━━━━━━━━━━━━━\u001b[0m\u001b[37m\u001b[0m \u001b[1m0s\u001b[0m 4ms/step - loss: 0.0209 - val_loss: 0.0184\n",
            "Epoch 44/100\n",
            "\u001b[1m16/16\u001b[0m \u001b[32m━━━━━━━━━━━━━━━━━━━━\u001b[0m\u001b[37m\u001b[0m \u001b[1m0s\u001b[0m 4ms/step - loss: 0.0211 - val_loss: 0.0182\n",
            "Epoch 45/100\n",
            "\u001b[1m16/16\u001b[0m \u001b[32m━━━━━━━━━━━━━━━━━━━━\u001b[0m\u001b[37m\u001b[0m \u001b[1m0s\u001b[0m 4ms/step - loss: 0.0184 - val_loss: 0.0181\n",
            "Epoch 46/100\n",
            "\u001b[1m16/16\u001b[0m \u001b[32m━━━━━━━━━━━━━━━━━━━━\u001b[0m\u001b[37m\u001b[0m \u001b[1m0s\u001b[0m 4ms/step - loss: 0.0222 - val_loss: 0.0181\n",
            "Epoch 47/100\n",
            "\u001b[1m16/16\u001b[0m \u001b[32m━━━━━━━━━━━━━━━━━━━━\u001b[0m\u001b[37m\u001b[0m \u001b[1m0s\u001b[0m 4ms/step - loss: 0.0200 - val_loss: 0.0181\n",
            "Epoch 48/100\n",
            "\u001b[1m16/16\u001b[0m \u001b[32m━━━━━━━━━━━━━━━━━━━━\u001b[0m\u001b[37m\u001b[0m \u001b[1m0s\u001b[0m 4ms/step - loss: 0.0227 - val_loss: 0.0182\n",
            "Epoch 49/100\n",
            "\u001b[1m16/16\u001b[0m \u001b[32m━━━━━━━━━━━━━━━━━━━━\u001b[0m\u001b[37m\u001b[0m \u001b[1m0s\u001b[0m 4ms/step - loss: 0.0200 - val_loss: 0.0180\n",
            "Epoch 50/100\n",
            "\u001b[1m16/16\u001b[0m \u001b[32m━━━━━━━━━━━━━━━━━━━━\u001b[0m\u001b[37m\u001b[0m \u001b[1m0s\u001b[0m 4ms/step - loss: 0.0193 - val_loss: 0.0184\n",
            "Epoch 51/100\n",
            "\u001b[1m16/16\u001b[0m \u001b[32m━━━━━━━━━━━━━━━━━━━━\u001b[0m\u001b[37m\u001b[0m \u001b[1m0s\u001b[0m 4ms/step - loss: 0.0225 - val_loss: 0.0181\n",
            "Epoch 52/100\n",
            "\u001b[1m16/16\u001b[0m \u001b[32m━━━━━━━━━━━━━━━━━━━━\u001b[0m\u001b[37m\u001b[0m \u001b[1m0s\u001b[0m 4ms/step - loss: 0.0199 - val_loss: 0.0181\n",
            "Epoch 53/100\n",
            "\u001b[1m16/16\u001b[0m \u001b[32m━━━━━━━━━━━━━━━━━━━━\u001b[0m\u001b[37m\u001b[0m \u001b[1m0s\u001b[0m 4ms/step - loss: 0.0198 - val_loss: 0.0181\n",
            "Epoch 54/100\n",
            "\u001b[1m16/16\u001b[0m \u001b[32m━━━━━━━━━━━━━━━━━━━━\u001b[0m\u001b[37m\u001b[0m \u001b[1m0s\u001b[0m 4ms/step - loss: 0.0208 - val_loss: 0.0181\n",
            "Epoch 55/100\n",
            "\u001b[1m16/16\u001b[0m \u001b[32m━━━━━━━━━━━━━━━━━━━━\u001b[0m\u001b[37m\u001b[0m \u001b[1m0s\u001b[0m 4ms/step - loss: 0.0205 - val_loss: 0.0182\n",
            "Epoch 56/100\n",
            "\u001b[1m16/16\u001b[0m \u001b[32m━━━━━━━━━━━━━━━━━━━━\u001b[0m\u001b[37m\u001b[0m \u001b[1m0s\u001b[0m 4ms/step - loss: 0.0185 - val_loss: 0.0180\n",
            "Epoch 57/100\n",
            "\u001b[1m16/16\u001b[0m \u001b[32m━━━━━━━━━━━━━━━━━━━━\u001b[0m\u001b[37m\u001b[0m \u001b[1m0s\u001b[0m 4ms/step - loss: 0.0227 - val_loss: 0.0182\n",
            "Epoch 58/100\n",
            "\u001b[1m16/16\u001b[0m \u001b[32m━━━━━━━━━━━━━━━━━━━━\u001b[0m\u001b[37m\u001b[0m \u001b[1m0s\u001b[0m 4ms/step - loss: 0.0187 - val_loss: 0.0178\n",
            "Epoch 59/100\n",
            "\u001b[1m16/16\u001b[0m \u001b[32m━━━━━━━━━━━━━━━━━━━━\u001b[0m\u001b[37m\u001b[0m \u001b[1m0s\u001b[0m 4ms/step - loss: 0.0205 - val_loss: 0.0180\n",
            "Epoch 60/100\n",
            "\u001b[1m16/16\u001b[0m \u001b[32m━━━━━━━━━━━━━━━━━━━━\u001b[0m\u001b[37m\u001b[0m \u001b[1m0s\u001b[0m 4ms/step - loss: 0.0189 - val_loss: 0.0180\n",
            "Epoch 61/100\n",
            "\u001b[1m16/16\u001b[0m \u001b[32m━━━━━━━━━━━━━━━━━━━━\u001b[0m\u001b[37m\u001b[0m \u001b[1m0s\u001b[0m 4ms/step - loss: 0.0218 - val_loss: 0.0185\n",
            "Epoch 62/100\n",
            "\u001b[1m16/16\u001b[0m \u001b[32m━━━━━━━━━━━━━━━━━━━━\u001b[0m\u001b[37m\u001b[0m \u001b[1m0s\u001b[0m 4ms/step - loss: 0.0212 - val_loss: 0.0181\n",
            "Epoch 63/100\n",
            "\u001b[1m16/16\u001b[0m \u001b[32m━━━━━━━━━━━━━━━━━━━━\u001b[0m\u001b[37m\u001b[0m \u001b[1m0s\u001b[0m 4ms/step - loss: 0.0196 - val_loss: 0.0186\n",
            "Epoch 64/100\n",
            "\u001b[1m16/16\u001b[0m \u001b[32m━━━━━━━━━━━━━━━━━━━━\u001b[0m\u001b[37m\u001b[0m \u001b[1m0s\u001b[0m 4ms/step - loss: 0.0208 - val_loss: 0.0181\n",
            "Epoch 65/100\n",
            "\u001b[1m16/16\u001b[0m \u001b[32m━━━━━━━━━━━━━━━━━━━━\u001b[0m\u001b[37m\u001b[0m \u001b[1m0s\u001b[0m 4ms/step - loss: 0.0181 - val_loss: 0.0184\n",
            "Epoch 66/100\n",
            "\u001b[1m16/16\u001b[0m \u001b[32m━━━━━━━━━━━━━━━━━━━━\u001b[0m\u001b[37m\u001b[0m \u001b[1m0s\u001b[0m 4ms/step - loss: 0.0193 - val_loss: 0.0180\n",
            "Epoch 67/100\n",
            "\u001b[1m16/16\u001b[0m \u001b[32m━━━━━━━━━━━━━━━━━━━━\u001b[0m\u001b[37m\u001b[0m \u001b[1m0s\u001b[0m 4ms/step - loss: 0.0198 - val_loss: 0.0181\n",
            "Epoch 68/100\n",
            "\u001b[1m16/16\u001b[0m \u001b[32m━━━━━━━━━━━━━━━━━━━━\u001b[0m\u001b[37m\u001b[0m \u001b[1m0s\u001b[0m 4ms/step - loss: 0.0179 - val_loss: 0.0182\n",
            "Epoch 69/100\n",
            "\u001b[1m16/16\u001b[0m \u001b[32m━━━━━━━━━━━━━━━━━━━━\u001b[0m\u001b[37m\u001b[0m \u001b[1m0s\u001b[0m 4ms/step - loss: 0.0193 - val_loss: 0.0182\n",
            "Epoch 70/100\n",
            "\u001b[1m16/16\u001b[0m \u001b[32m━━━━━━━━━━━━━━━━━━━━\u001b[0m\u001b[37m\u001b[0m \u001b[1m0s\u001b[0m 4ms/step - loss: 0.0189 - val_loss: 0.0182\n",
            "Epoch 71/100\n",
            "\u001b[1m16/16\u001b[0m \u001b[32m━━━━━━━━━━━━━━━━━━━━\u001b[0m\u001b[37m\u001b[0m \u001b[1m0s\u001b[0m 4ms/step - loss: 0.0171 - val_loss: 0.0185\n",
            "Epoch 72/100\n",
            "\u001b[1m16/16\u001b[0m \u001b[32m━━━━━━━━━━━━━━━━━━━━\u001b[0m\u001b[37m\u001b[0m \u001b[1m0s\u001b[0m 4ms/step - loss: 0.0212 - val_loss: 0.0182\n",
            "Epoch 73/100\n",
            "\u001b[1m16/16\u001b[0m \u001b[32m━━━━━━━━━━━━━━━━━━━━\u001b[0m\u001b[37m\u001b[0m \u001b[1m0s\u001b[0m 4ms/step - loss: 0.0197 - val_loss: 0.0182\n",
            "Epoch 74/100\n",
            "\u001b[1m16/16\u001b[0m \u001b[32m━━━━━━━━━━━━━━━━━━━━\u001b[0m\u001b[37m\u001b[0m \u001b[1m0s\u001b[0m 4ms/step - loss: 0.0194 - val_loss: 0.0185\n",
            "Epoch 75/100\n",
            "\u001b[1m16/16\u001b[0m \u001b[32m━━━━━━━━━━━━━━━━━━━━\u001b[0m\u001b[37m\u001b[0m \u001b[1m0s\u001b[0m 4ms/step - loss: 0.0169 - val_loss: 0.0182\n",
            "Epoch 76/100\n",
            "\u001b[1m16/16\u001b[0m \u001b[32m━━━━━━━━━━━━━━━━━━━━\u001b[0m\u001b[37m\u001b[0m \u001b[1m0s\u001b[0m 4ms/step - loss: 0.0197 - val_loss: 0.0182\n",
            "Epoch 77/100\n",
            "\u001b[1m16/16\u001b[0m \u001b[32m━━━━━━━━━━━━━━━━━━━━\u001b[0m\u001b[37m\u001b[0m \u001b[1m0s\u001b[0m 4ms/step - loss: 0.0198 - val_loss: 0.0185\n",
            "Epoch 78/100\n",
            "\u001b[1m16/16\u001b[0m \u001b[32m━━━━━━━━━━━━━━━━━━━━\u001b[0m\u001b[37m\u001b[0m \u001b[1m0s\u001b[0m 4ms/step - loss: 0.0180 - val_loss: 0.0181\n",
            "Epoch 79/100\n",
            "\u001b[1m16/16\u001b[0m \u001b[32m━━━━━━━━━━━━━━━━━━━━\u001b[0m\u001b[37m\u001b[0m \u001b[1m0s\u001b[0m 4ms/step - loss: 0.0181 - val_loss: 0.0181\n",
            "Epoch 80/100\n",
            "\u001b[1m16/16\u001b[0m \u001b[32m━━━━━━━━━━━━━━━━━━━━\u001b[0m\u001b[37m\u001b[0m \u001b[1m0s\u001b[0m 4ms/step - loss: 0.0177 - val_loss: 0.0183\n",
            "Epoch 81/100\n",
            "\u001b[1m16/16\u001b[0m \u001b[32m━━━━━━━━━━━━━━━━━━━━\u001b[0m\u001b[37m\u001b[0m \u001b[1m0s\u001b[0m 4ms/step - loss: 0.0175 - val_loss: 0.0183\n",
            "Epoch 82/100\n",
            "\u001b[1m16/16\u001b[0m \u001b[32m━━━━━━━━━━━━━━━━━━━━\u001b[0m\u001b[37m\u001b[0m \u001b[1m0s\u001b[0m 4ms/step - loss: 0.0183 - val_loss: 0.0181\n",
            "Epoch 83/100\n",
            "\u001b[1m16/16\u001b[0m \u001b[32m━━━━━━━━━━━━━━━━━━━━\u001b[0m\u001b[37m\u001b[0m \u001b[1m0s\u001b[0m 4ms/step - loss: 0.0193 - val_loss: 0.0181\n",
            "Epoch 84/100\n",
            "\u001b[1m16/16\u001b[0m \u001b[32m━━━━━━━━━━━━━━━━━━━━\u001b[0m\u001b[37m\u001b[0m \u001b[1m0s\u001b[0m 4ms/step - loss: 0.0185 - val_loss: 0.0181\n",
            "Epoch 85/100\n",
            "\u001b[1m16/16\u001b[0m \u001b[32m━━━━━━━━━━━━━━━━━━━━\u001b[0m\u001b[37m\u001b[0m \u001b[1m0s\u001b[0m 4ms/step - loss: 0.0197 - val_loss: 0.0183\n",
            "Epoch 86/100\n",
            "\u001b[1m16/16\u001b[0m \u001b[32m━━━━━━━━━━━━━━━━━━━━\u001b[0m\u001b[37m\u001b[0m \u001b[1m0s\u001b[0m 4ms/step - loss: 0.0195 - val_loss: 0.0179\n",
            "Epoch 87/100\n",
            "\u001b[1m16/16\u001b[0m \u001b[32m━━━━━━━━━━━━━━━━━━━━\u001b[0m\u001b[37m\u001b[0m \u001b[1m0s\u001b[0m 4ms/step - loss: 0.0181 - val_loss: 0.0181\n",
            "Epoch 88/100\n",
            "\u001b[1m16/16\u001b[0m \u001b[32m━━━━━━━━━━━━━━━━━━━━\u001b[0m\u001b[37m\u001b[0m \u001b[1m0s\u001b[0m 4ms/step - loss: 0.0203 - val_loss: 0.0183\n",
            "Epoch 89/100\n",
            "\u001b[1m16/16\u001b[0m \u001b[32m━━━━━━━━━━━━━━━━━━━━\u001b[0m\u001b[37m\u001b[0m \u001b[1m0s\u001b[0m 4ms/step - loss: 0.0173 - val_loss: 0.0180\n",
            "Epoch 90/100\n",
            "\u001b[1m16/16\u001b[0m \u001b[32m━━━━━━━━━━━━━━━━━━━━\u001b[0m\u001b[37m\u001b[0m \u001b[1m0s\u001b[0m 4ms/step - loss: 0.0189 - val_loss: 0.0183\n",
            "Epoch 91/100\n",
            "\u001b[1m16/16\u001b[0m \u001b[32m━━━━━━━━━━━━━━━━━━━━\u001b[0m\u001b[37m\u001b[0m \u001b[1m0s\u001b[0m 4ms/step - loss: 0.0191 - val_loss: 0.0181\n",
            "Epoch 92/100\n",
            "\u001b[1m16/16\u001b[0m \u001b[32m━━━━━━━━━━━━━━━━━━━━\u001b[0m\u001b[37m\u001b[0m \u001b[1m0s\u001b[0m 4ms/step - loss: 0.0179 - val_loss: 0.0183\n",
            "Epoch 93/100\n",
            "\u001b[1m16/16\u001b[0m \u001b[32m━━━━━━━━━━━━━━━━━━━━\u001b[0m\u001b[37m\u001b[0m \u001b[1m0s\u001b[0m 4ms/step - loss: 0.0177 - val_loss: 0.0182\n",
            "Epoch 94/100\n",
            "\u001b[1m16/16\u001b[0m \u001b[32m━━━━━━━━━━━━━━━━━━━━\u001b[0m\u001b[37m\u001b[0m \u001b[1m0s\u001b[0m 4ms/step - loss: 0.0184 - val_loss: 0.0184\n",
            "Epoch 95/100\n",
            "\u001b[1m16/16\u001b[0m \u001b[32m━━━━━━━━━━━━━━━━━━━━\u001b[0m\u001b[37m\u001b[0m \u001b[1m0s\u001b[0m 4ms/step - loss: 0.0164 - val_loss: 0.0180\n",
            "Epoch 96/100\n",
            "\u001b[1m16/16\u001b[0m \u001b[32m━━━━━━━━━━━━━━━━━━━━\u001b[0m\u001b[37m\u001b[0m \u001b[1m0s\u001b[0m 4ms/step - loss: 0.0203 - val_loss: 0.0178\n",
            "Epoch 97/100\n",
            "\u001b[1m16/16\u001b[0m \u001b[32m━━━━━━━━━━━━━━━━━━━━\u001b[0m\u001b[37m\u001b[0m \u001b[1m0s\u001b[0m 4ms/step - loss: 0.0198 - val_loss: 0.0183\n",
            "Epoch 98/100\n",
            "\u001b[1m16/16\u001b[0m \u001b[32m━━━━━━━━━━━━━━━━━━━━\u001b[0m\u001b[37m\u001b[0m \u001b[1m0s\u001b[0m 4ms/step - loss: 0.0188 - val_loss: 0.0180\n",
            "Epoch 99/100\n",
            "\u001b[1m16/16\u001b[0m \u001b[32m━━━━━━━━━━━━━━━━━━━━\u001b[0m\u001b[37m\u001b[0m \u001b[1m0s\u001b[0m 4ms/step - loss: 0.0178 - val_loss: 0.0183\n",
            "Epoch 100/100\n",
            "\u001b[1m16/16\u001b[0m \u001b[32m━━━━━━━━━━━━━━━━━━━━\u001b[0m\u001b[37m\u001b[0m \u001b[1m0s\u001b[0m 4ms/step - loss: 0.0193 - val_loss: 0.0178\n"
          ]
        }
      ]
    },
    {
      "cell_type": "code",
      "source": [
        "# Wykres strat treningowych i walidacyjnych\n",
        "import matplotlib.pyplot as plt\n",
        "\n",
        "plt.plot(history.history['loss'], label='Strata treningowa')\n",
        "plt.plot(history.history['val_loss'], label='Strata walidacyjna')\n",
        "plt.title('Strata modelu')\n",
        "plt.xlabel('Epoki')\n",
        "plt.ylabel('Strata')\n",
        "plt.legend()\n",
        "plt.show()"
      ],
      "metadata": {
        "id": "AHp0yU1kIRpo",
        "colab": {
          "base_uri": "https://localhost:8080/",
          "height": 472
        },
        "outputId": "52f1c4f4-3f81-40f8-cf5b-da6670030969"
      },
      "execution_count": 234,
      "outputs": [
        {
          "output_type": "display_data",
          "data": {
            "text/plain": [
              "<Figure size 640x480 with 1 Axes>"
            ],
            "image/png": "[encoded data removed]"
          },
          "metadata": {}
        }
      ]
    },
    {
      "cell_type": "code",
      "source": [
        "# Evaluate the model on test data\n",
        "test_loss = model.evaluate(X_test, y_test)\n",
        "print(f'Test Loss: {test_loss}')"
      ],
      "metadata": {
        "id": "250bV7W6JZsX",
        "colab": {
          "base_uri": "https://localhost:8080/"
        },
        "outputId": "3d874650-8834-45cc-eee7-14405cd681fe"
      },
      "execution_count": 235,
      "outputs": [
        {
          "output_type": "stream",
          "name": "stdout",
          "text": [
            "\u001b[1m4/4\u001b[0m \u001b[32m━━━━━━━━━━━━━━━━━━━━\u001b[0m\u001b[37m\u001b[0m \u001b[1m0s\u001b[0m 2ms/step - loss: 0.0163 \n",
            "Test Loss: 0.01783410832285881\n"
          ]
        }
      ]
    },
    {
      "cell_type": "code",
      "source": [
        "# Make predictions\n",
        "predictions = model.predict(X_test)"
      ],
      "metadata": {
        "id": "ESwFfSzU13n3",
        "colab": {
          "base_uri": "https://localhost:8080/"
        },
        "outputId": "bc1f9a30-b2a9-4ea0-f2f6-4cbd18557887"
      },
      "execution_count": 236,
      "outputs": [
        {
          "output_type": "stream",
          "name": "stdout",
          "text": [
            "\u001b[1m4/4\u001b[0m \u001b[32m━━━━━━━━━━━━━━━━━━━━\u001b[0m\u001b[37m\u001b[0m \u001b[1m0s\u001b[0m 49ms/step\n"
          ]
        }
      ]
    },
    {
      "cell_type": "markdown",
      "source": [],
      "metadata": {
        "id": "74dt32FP2xTU"
      }
    },
    {
      "cell_type": "code",
      "source": [
        "y_test_24 = y_test[:, -1]"
      ],
      "metadata": {
        "id": "tTOIwU9u_zAs"
      },
      "execution_count": 237,
      "outputs": []
    },
    {
      "cell_type": "code",
      "source": [
        "predictions_24 = predictions[:, -1]"
      ],
      "metadata": {
        "id": "TG-d0snMCmko"
      },
      "execution_count": 238,
      "outputs": []
    },
    {
      "cell_type": "code",
      "source": [],
      "metadata": {
        "id": "_PTe9ERNDE2J"
      },
      "execution_count": 238,
      "outputs": []
    },
    {
      "cell_type": "markdown",
      "source": [],
      "metadata": {
        "id": "-VeJW2LM2xNt"
      }
    },
    {
      "cell_type": "code",
      "source": [
        "y_test_rescaled = scaler.inverse_transform(np.concatenate([np.zeros((y_test_24.shape[0], 8)), y_test_24.reshape(-1, 1)], axis=1))[:, -1]\n"
      ],
      "metadata": {
        "id": "vLwFTkK12AJK"
      },
      "execution_count": 239,
      "outputs": []
    },
    {
      "cell_type": "code",
      "source": [
        "np.concatenate([np.zeros((y_test.shape[0], 8)), y_test],axis=1).shape"
      ],
      "metadata": {
        "id": "6a1IxrgmAcxl",
        "colab": {
          "base_uri": "https://localhost:8080/"
        },
        "outputId": "68629bbd-b511-4bbe-d992-be8ad086d981"
      },
      "execution_count": 240,
      "outputs": [
        {
          "output_type": "execute_result",
          "data": {
            "text/plain": [
              "(122, 9)"
            ]
          },
          "metadata": {},
          "execution_count": 240
        }
      ]
    },
    {
      "cell_type": "code",
      "source": [
        "np.zeros((y_test.shape[0], 8)).shape"
      ],
      "metadata": {
        "id": "EdOLjmGvBhvi",
        "colab": {
          "base_uri": "https://localhost:8080/"
        },
        "outputId": "e373b0e2-ac46-40ce-fdec-af25f34672db"
      },
      "execution_count": 241,
      "outputs": [
        {
          "output_type": "execute_result",
          "data": {
            "text/plain": [
              "(122, 8)"
            ]
          },
          "metadata": {},
          "execution_count": 241
        }
      ]
    },
    {
      "cell_type": "code",
      "source": [],
      "metadata": {
        "id": "T1mGanQ5DmAJ"
      },
      "execution_count": 241,
      "outputs": []
    },
    {
      "cell_type": "code",
      "source": [],
      "metadata": {
        "id": "hvbZoDITDl3x"
      },
      "execution_count": 241,
      "outputs": []
    },
    {
      "cell_type": "code",
      "source": [
        "predictions_rescaled = scaler.inverse_transform(np.concatenate([np.zeros((predictions_24.shape[0], 8)), predictions_24.reshape(-1, 1)], axis=1))[:, -1]"
      ],
      "metadata": {
        "id": "ec9vHu3XAC9s"
      },
      "execution_count": 242,
      "outputs": []
    },
    {
      "cell_type": "markdown",
      "source": [],
      "metadata": {
        "id": "cUYICv12SJ5d"
      }
    },
    {
      "cell_type": "code",
      "source": [
        "predictions_rescaled"
      ],
      "metadata": {
        "id": "6BVG-wVy8GNL",
        "colab": {
          "base_uri": "https://localhost:8080/"
        },
        "outputId": "a7f1d293-5852-4585-9664-7bec99b0f95b"
      },
      "execution_count": 243,
      "outputs": [
        {
          "output_type": "execute_result",
          "data": {
            "text/plain": [
              "array([ 77.5788568 ,  31.48514348,  76.20570335, 103.54882205,\n",
              "        83.91904966,  83.29020204,  70.99242032,  52.28827146,\n",
              "        80.33082403,  82.34405509,  89.31712877,  86.35264525,\n",
              "        80.68198939,  77.75913954,  90.46522355,  62.79169763,\n",
              "       102.65151091,  72.35908651,  92.16089387, 100.66167344,\n",
              "        99.02698119,  88.6980227 ,  78.29399131, 102.34443327,\n",
              "        85.87270574,  67.82565821,  77.95594451,  88.75965163,\n",
              "        72.74936746,  76.37791437,  84.58214743,  67.08120301,\n",
              "        99.39000073,  66.57981181,  73.56159207,  73.51115046,\n",
              "       115.56633408,  92.66044452,  26.51208361, 107.13980584,\n",
              "        84.10063946,  82.11153821,  96.84932275,  35.54940346,\n",
              "       114.33370227,  98.79682234,  58.63624263,  70.98372441,\n",
              "        85.13968859, 108.34533629,  91.99911794,  55.90695412,\n",
              "        71.55954832,  66.9723761 ,  67.63853611,  99.04911041,\n",
              "       104.01302357, 100.18264087, 117.85405179,  84.99040704,\n",
              "        73.27341603, 122.06046055, 100.71016781,  95.20534774,\n",
              "        86.17016986,  77.21461023,  77.73478566,  99.0351436 ,\n",
              "       103.16404674,  65.01151256,  77.33469914,  99.05737952,\n",
              "       111.90575102,  86.45190665,  88.58587215,  59.07338013,\n",
              "       100.23564857,  89.08277668,  61.35687792,  93.9584397 ,\n",
              "        53.0174368 , 107.46203463,  81.57979135,  85.22452439,\n",
              "        88.65868305,  54.74552739,  84.20778586,  88.4781389 ,\n",
              "        51.48349439,  96.52167369,  90.06243756,  75.71293871,\n",
              "        78.03275659,  45.75062277,  68.76162614,  71.830754  ,\n",
              "        41.30575404,  85.80408808, 104.42797316, 115.42595116,\n",
              "        76.20603412,  72.90910011, 110.27678846,  76.66429254,\n",
              "        76.77128957,  89.97956501,  86.6547294 , 118.59815489,\n",
              "        95.12995474,  65.46511893,  52.26091403,  86.91641759,\n",
              "       105.2156625 ,  81.80872851,  55.19414029,  61.84083995,\n",
              "        99.75315897, 111.69663307,  87.56012828,  82.9854611 ,\n",
              "        77.10110994,  97.89700378])"
            ]
          },
          "metadata": {},
          "execution_count": 243
        }
      ]
    },
    {
      "cell_type": "code",
      "source": [
        "# y_test_rescaled = scaler.inverse_transform(y_test)\n",
        "\n"
      ],
      "metadata": {
        "id": "mVb6xb-V2XLf"
      },
      "execution_count": 244,
      "outputs": []
    },
    {
      "cell_type": "code",
      "source": [
        "# Plot true vs predicted prices for the next 24 hours\n",
        "plt.figure(figsize=(10, 6))\n",
        "plt.plot(y_test_24[:100], label='True Prices')\n",
        "plt.plot(predictions_24[:100], label='Predicted Prices')\n",
        "plt.title('True vs Predicted Prices for the Next 24 Hours')\n",
        "plt.xlabel('Time Steps')\n",
        "plt.ylabel('Price')\n",
        "plt.legend()\n",
        "plt.show()"
      ],
      "metadata": {
        "id": "9PfI-YCi3Cd1",
        "colab": {
          "base_uri": "https://localhost:8080/",
          "height": 564
        },
        "outputId": "02152d2f-c0f1-4f2c-fe2f-7252c92a6b64"
      },
      "execution_count": 245,
      "outputs": [
        {
          "output_type": "display_data",
          "data": {
            "text/plain": [
              "<Figure size 1000x600 with 1 Axes>"
            ],
            "image/png": "[encoded data removed]"
          },
          "metadata": {}
        }
      ]
    },
    {
      "cell_type": "code",
      "source": [
        "true_24th = y_test[:, -1]        # True values for the 24th hour\n",
        "predicted_24th = predictions[:, -1]  # Predicted values for the 24th hour"
      ],
      "metadata": {
        "id": "OhMfX_HE3w5M"
      },
      "execution_count": 246,
      "outputs": []
    },
    {
      "cell_type": "code",
      "source": [
        "percent_errors = np.abs(true_24th - predicted_24th) / np.abs(true_24th) * 100"
      ],
      "metadata": {
        "id": "M-w9r8ZM4bKL"
      },
      "execution_count": 247,
      "outputs": []
    },
    {
      "cell_type": "code",
      "source": [
        "sr_blad = np.mean(percent_errors)"
      ],
      "metadata": {
        "id": "x02Xv9CH4hc_"
      },
      "execution_count": 248,
      "outputs": []
    },
    {
      "cell_type": "code",
      "source": [
        "sr_blad"
      ],
      "metadata": {
        "id": "fHqpsnK_4wsU",
        "colab": {
          "base_uri": "https://localhost:8080/"
        },
        "outputId": "f14d6824-b88b-421c-f310-b73ef5bcfb10"
      },
      "execution_count": 249,
      "outputs": [
        {
          "output_type": "execute_result",
          "data": {
            "text/plain": [
              "77.38770736369332"
            ]
          },
          "metadata": {},
          "execution_count": 249
        }
      ]
    },
    {
      "cell_type": "code",
      "source": [
        "##### do zmiany parametrow sieciu moge zmienic size okna, liczbe unit do danych,"
      ],
      "metadata": {
        "id": "r9Njwp0J4yFV"
      },
      "execution_count": 250,
      "outputs": []
    },
    {
      "cell_type": "code",
      "source": [
        "percent_errors = np.abs(y_test_24 - predictions_24) / np.abs(y_test_24) * 100"
      ],
      "metadata": {
        "id": "USVOjUfE5p-f"
      },
      "execution_count": 251,
      "outputs": []
    },
    {
      "cell_type": "code",
      "source": [
        "sr_blad_real = np.mean(percent_errors)"
      ],
      "metadata": {
        "id": "BjsW3SW3EZKz"
      },
      "execution_count": 252,
      "outputs": []
    },
    {
      "cell_type": "code",
      "source": [
        "sr_blad_real"
      ],
      "metadata": {
        "id": "-FoiRFBUElB7",
        "colab": {
          "base_uri": "https://localhost:8080/"
        },
        "outputId": "c15023bf-830a-4ee6-f400-50c7eae2dca0"
      },
      "execution_count": 253,
      "outputs": [
        {
          "output_type": "execute_result",
          "data": {
            "text/plain": [
              "77.38770736369332"
            ]
          },
          "metadata": {},
          "execution_count": 253
        }
      ]
    },
    {
      "cell_type": "code",
      "source": [
        "###### WPROWADZANIE REALNYCH WARTOSCI"
      ],
      "metadata": {
        "id": "Vs_CxTXvEl_S"
      },
      "execution_count": 254,
      "outputs": []
    },
    {
      "cell_type": "code",
      "source": [
        "X_test[-1]"
      ],
      "metadata": {
        "id": "TCudeYoMFF6Z",
        "colab": {
          "base_uri": "https://localhost:8080/"
        },
        "outputId": "c715617a-1711-4964-dabc-f6b9cc839b72"
      },
      "execution_count": 255,
      "outputs": [
        {
          "output_type": "execute_result",
          "data": {
            "text/plain": [
              "array([[0.        , 0.16666667, 0.798     , 0.49385246, 0.21715328,\n",
              "        0.        , 0.51960784, 0.45644748, 0.70465337],\n",
              "       [0.        , 0.33333333, 0.804     , 0.45081967, 0.24270073,\n",
              "        0.        , 0.55525847, 0.48590948, 0.64124909]])"
            ]
          },
          "metadata": {},
          "execution_count": 255
        }
      ]
    },
    {
      "cell_type": "code",
      "source": [
        "predictions = model.predict(np.array([X_test[-1]]))"
      ],
      "metadata": {
        "id": "cTTtw8lqFChU",
        "colab": {
          "base_uri": "https://localhost:8080/"
        },
        "outputId": "42cb3086-da31-4118-9ae6-ef2e1bb4fe0a"
      },
      "execution_count": 256,
      "outputs": [
        {
          "output_type": "stream",
          "name": "stdout",
          "text": [
            "\u001b[1m1/1\u001b[0m \u001b[32m━━━━━━━━━━━━━━━━━━━━\u001b[0m\u001b[37m\u001b[0m \u001b[1m0s\u001b[0m 20ms/step\n"
          ]
        }
      ]
    },
    {
      "cell_type": "code",
      "source": [],
      "metadata": {
        "id": "yhNEleIMGhTB"
      },
      "execution_count": 256,
      "outputs": []
    },
    {
      "cell_type": "code",
      "source": [
        "predictions.shape"
      ],
      "metadata": {
        "id": "ALkpE2yxFcdA",
        "colab": {
          "base_uri": "https://localhost:8080/"
        },
        "outputId": "99a1a9de-1e37-470d-9eeb-ffcd369e5bd9"
      },
      "execution_count": 257,
      "outputs": [
        {
          "output_type": "execute_result",
          "data": {
            "text/plain": [
              "(1, 1)"
            ]
          },
          "metadata": {},
          "execution_count": 257
        }
      ]
    },
    {
      "cell_type": "code",
      "source": [
        "predictions_24 = np.array([predictions[:, -1]])"
      ],
      "metadata": {
        "id": "3u_-6czMGiNq"
      },
      "execution_count": 258,
      "outputs": []
    },
    {
      "cell_type": "code",
      "source": [
        "predictions_24.shape"
      ],
      "metadata": {
        "id": "AtPozMi4HDEi",
        "colab": {
          "base_uri": "https://localhost:8080/"
        },
        "outputId": "03b707f9-965e-4fce-b6fd-32207b068da9"
      },
      "execution_count": 259,
      "outputs": [
        {
          "output_type": "execute_result",
          "data": {
            "text/plain": [
              "(1, 1)"
            ]
          },
          "metadata": {},
          "execution_count": 259
        }
      ]
    },
    {
      "cell_type": "code",
      "source": [
        "predictions_rescaled = scaler.inverse_transform(np.concatenate([np.zeros((predictions_24.shape[0], 8)), predictions_24.reshape(-1, 1)], axis=1))[:, -1]"
      ],
      "metadata": {
        "id": "0t_iv3Y0GATe"
      },
      "execution_count": 260,
      "outputs": []
    },
    {
      "cell_type": "code",
      "source": [
        "predictions_rescaled"
      ],
      "metadata": {
        "id": "Jb9JJzSuGTEL",
        "colab": {
          "base_uri": "https://localhost:8080/"
        },
        "outputId": "05a849f8-7373-4006-d667-c4ed2574a2b2"
      },
      "execution_count": 261,
      "outputs": [
        {
          "output_type": "execute_result",
          "data": {
            "text/plain": [
              "array([97.89701445])"
            ]
          },
          "metadata": {},
          "execution_count": 261
        }
      ]
    },
    {
      "cell_type": "code",
      "source": [
        "#wczytywanie realnych danych"
      ],
      "metadata": {
        "id": "INrQPeTTHTVN"
      },
      "execution_count": 262,
      "outputs": []
    },
    {
      "cell_type": "code",
      "source": [
        "df1 = pd.read_excel(\"swierze)dane.xlsx\")"
      ],
      "metadata": {
        "id": "OUdJCUmJKbBc"
      },
      "execution_count": 263,
      "outputs": []
    },
    {
      "cell_type": "code",
      "source": [
        "df1= df1[[     \"Hour\",\n",
        "              \"Day\",\n",
        "             'SK Nuclear Production MWh/h H Actual',\n",
        "             'SK Hydro Run-of-river Production MWh/h H Actual',\n",
        "             'SK Natural Gas Power Production MWh/h H Actual',\n",
        "              \"SK Solar Photovoltaic Production MWh/h H Actual\",\n",
        "             \"SK Consumption MWh/h H Actual\",\n",
        "             'SK Exchange Physical Flow Net Import MWh/h H Actual',\n",
        "             \"Weighted average price of all trades (EUR/MWh)\"]]\n"
      ],
      "metadata": {
        "id": "UfkTUQUtVmN0"
      },
      "execution_count": 264,
      "outputs": []
    },
    {
      "cell_type": "code",
      "source": [
        "df.columns"
      ],
      "metadata": {
        "colab": {
          "base_uri": "https://localhost:8080/"
        },
        "id": "Q18x21GeVFFF",
        "outputId": "75de5b6c-35a8-4e3e-f8ea-b0c1a2b4ccd8"
      },
      "execution_count": 265,
      "outputs": [
        {
          "output_type": "execute_result",
          "data": {
            "text/plain": [
              "Index(['Datetime', 'Hour', 'Day', 'SK Price Spot EUR/MWh OKTE ',\n",
              "       'Imbalance Price OKTE', 'SK Nuclear Production MWh/h H Actual',\n",
              "       'SK Hydro Run-of-river Production MWh/h H Actual',\n",
              "       'SK Natural Gas Power Production MWh/h H Actual',\n",
              "       'SK Solar Photovoltaic Production MWh/h H Actual',\n",
              "       'SK Hydro Pumped-storage Production MWh/h H Actual',\n",
              "       'SK Other Power Production MWh/h H Actual',\n",
              "       'SK Hydro Reservoir Production MWh/h H Actual',\n",
              "       'SK sum of Production MWh/h', 'SK Consumption MWh/h H Actual',\n",
              "       'SK Exchange Physical Flow Net Import MWh/h H Actual',\n",
              "       'Weighted average price of all trades (EUR/MWh)'],\n",
              "      dtype='object')"
            ]
          },
          "metadata": {},
          "execution_count": 265
        }
      ]
    },
    {
      "cell_type": "code",
      "source": [
        "df_numeryczny = df1[df1[\"Hour\"]==2]"
      ],
      "metadata": {
        "id": "pxrG4gUtVWw8"
      },
      "execution_count": 266,
      "outputs": []
    },
    {
      "cell_type": "code",
      "source": [],
      "metadata": {
        "id": "EHWrNUzNVWg2"
      },
      "execution_count": 266,
      "outputs": []
    },
    {
      "cell_type": "code",
      "source": [
        "df1.values"
      ],
      "metadata": {
        "id": "wYGrgOI7Kq2P",
        "colab": {
          "base_uri": "https://localhost:8080/"
        },
        "outputId": "afcf9c75-2b87-4f0a-cac8-4386df74df80"
      },
      "execution_count": 267,
      "outputs": [
        {
          "output_type": "execute_result",
          "data": {
            "text/plain": [
              "array([[ 2.4000e+01,  2.0000e+00,  1.9790e+03, ...,  2.3390e+03,\n",
              "        -3.3500e+02,  1.8930e+01],\n",
              "       [ 2.3000e+01,  2.0000e+00,  1.9760e+03, ...,  2.2010e+03,\n",
              "        -3.6100e+02,  1.3500e+00],\n",
              "       [ 2.2000e+01,  2.0000e+00,  1.9810e+03, ...,  2.2110e+03,\n",
              "        -1.8600e+02,  2.0500e+00],\n",
              "       ...,\n",
              "       [ 3.0000e+00,  5.0000e+00,  1.9640e+03, ...,  2.9220e+03,\n",
              "        -1.4800e+02,  1.3958e+02],\n",
              "       [ 2.0000e+00,  5.0000e+00,  1.9640e+03, ...,  2.7720e+03,\n",
              "        -2.3500e+02,  1.2895e+02],\n",
              "       [ 1.0000e+00,  5.0000e+00,  1.9660e+03, ...,  2.6650e+03,\n",
              "        -2.7300e+02,  1.1833e+02]])"
            ]
          },
          "metadata": {},
          "execution_count": 267
        }
      ]
    },
    {
      "cell_type": "code",
      "source": [
        "probka = df_numeryczny.values"
      ],
      "metadata": {
        "id": "HEn61Z22Lk5I"
      },
      "execution_count": 268,
      "outputs": []
    },
    {
      "cell_type": "code",
      "source": [],
      "metadata": {
        "id": "GK0NNyKCTaik"
      },
      "execution_count": 268,
      "outputs": []
    },
    {
      "cell_type": "code",
      "source": [
        "probka_scaled = scaler.transform(probka)"
      ],
      "metadata": {
        "id": "9vLs6RccKuVv"
      },
      "execution_count": 269,
      "outputs": []
    },
    {
      "cell_type": "code",
      "source": [
        "probka_scaled.shape"
      ],
      "metadata": {
        "id": "1T1YWxdbMVVc",
        "colab": {
          "base_uri": "https://localhost:8080/"
        },
        "outputId": "372232d4-2200-4fd1-8815-d969368dd00f"
      },
      "execution_count": 270,
      "outputs": [
        {
          "output_type": "execute_result",
          "data": {
            "text/plain": [
              "(5, 9)"
            ]
          },
          "metadata": {},
          "execution_count": 270
        }
      ]
    },
    {
      "cell_type": "code",
      "source": [
        "predictions = model.predict(np.array([probka_scaled]))"
      ],
      "metadata": {
        "id": "Aw3Qyb1OLqkL",
        "colab": {
          "base_uri": "https://localhost:8080/"
        },
        "outputId": "05389b32-d73f-4819-900f-4e07612050c9"
      },
      "execution_count": 271,
      "outputs": [
        {
          "output_type": "stream",
          "name": "stdout",
          "text": [
            "\u001b[1m1/1\u001b[0m \u001b[32m━━━━━━━━━━━━━━━━━━━━\u001b[0m\u001b[37m\u001b[0m \u001b[1m0s\u001b[0m 233ms/step\n"
          ]
        }
      ]
    },
    {
      "cell_type": "code",
      "source": [
        "predictions.shape"
      ],
      "metadata": {
        "id": "5oJmA1IvNXxM",
        "colab": {
          "base_uri": "https://localhost:8080/"
        },
        "outputId": "a00c9a26-7f71-44af-8c25-68e323033e0e"
      },
      "execution_count": 272,
      "outputs": [
        {
          "output_type": "execute_result",
          "data": {
            "text/plain": [
              "(1, 1)"
            ]
          },
          "metadata": {},
          "execution_count": 272
        }
      ]
    },
    {
      "cell_type": "code",
      "source": [
        "predictions = predictions.reshape(1)"
      ],
      "metadata": {
        "id": "jyzlpNVpNjhT"
      },
      "execution_count": 273,
      "outputs": []
    },
    {
      "cell_type": "markdown",
      "source": [],
      "metadata": {
        "id": "50ZLA_qZiyrg"
      }
    },
    {
      "cell_type": "markdown",
      "source": [],
      "metadata": {
        "id": "qjHkudkziypZ"
      }
    },
    {
      "cell_type": "markdown",
      "source": [],
      "metadata": {
        "id": "7cif2Cvo4XZH"
      }
    },
    {
      "cell_type": "code",
      "source": [
        "predictions_rescaled = scaler.inverse_transform(np.concatenate([np.zeros((predictions.shape[0], 8)), predictions.reshape(-1, 1)], axis=1))[:, -1]"
      ],
      "metadata": {
        "id": "dT3t5XweL9Kt"
      },
      "execution_count": 274,
      "outputs": []
    },
    {
      "cell_type": "code",
      "source": [
        "predictions_rescaled"
      ],
      "metadata": {
        "id": "aeRfHk2GNs44",
        "colab": {
          "base_uri": "https://localhost:8080/"
        },
        "outputId": "edecd9e9-77e0-4023-cabd-bc5aa1e6f4ce"
      },
      "execution_count": 275,
      "outputs": [
        {
          "output_type": "execute_result",
          "data": {
            "text/plain": [
              "array([151.03696979])"
            ]
          },
          "metadata": {},
          "execution_count": 275
        }
      ]
    },
    {
      "cell_type": "code",
      "source": [
        "# Przekształcamy tablicę na pionowy format\n",
        "def make_vertical(arr):\n",
        "    if arr.ndim == 1:\n",
        "        arr = arr.reshape(-1, 1)\n",
        "    return arr\n",
        "\n",
        "# Uzyskujemy pionowy format\n",
        "predictions_vertical = make_vertical(predictions_rescaled)\n",
        "\n",
        "# Wyświetlamy tablicę pionowo bez nawiasów\n",
        "for value in predictions_vertical:\n",
        "    print(value[0])"
      ],
      "metadata": {
        "id": "gatOvrN3Nu6h",
        "colab": {
          "base_uri": "https://localhost:8080/"
        },
        "outputId": "dfdb0566-9677-4d79-ae8b-e35cf6661eac"
      },
      "execution_count": 276,
      "outputs": [
        {
          "output_type": "stream",
          "name": "stdout",
          "text": [
            "151.03696978747845\n"
          ]
        }
      ]
    },
    {
      "cell_type": "code",
      "source": [],
      "metadata": {
        "id": "hVFPHvXRk9x-"
      },
      "execution_count": 276,
      "outputs": []
    }
  ]
}