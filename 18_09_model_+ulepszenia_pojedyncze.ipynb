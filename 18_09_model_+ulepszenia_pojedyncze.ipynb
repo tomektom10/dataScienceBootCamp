{
  "nbformat": 4,
  "nbformat_minor": 0,
  "metadata": {
    "colab": {
      "provenance": [],
      "machine_shape": "hm",
      "include_colab_link": true
    },
    "kernelspec": {
      "name": "python3",
      "display_name": "Python 3"
    },
    "language_info": {
      "name": "python"
    }
  },
  "cells": [
    {
      "cell_type": "markdown",
      "metadata": {
        "id": "view-in-github",
        "colab_type": "text"
      },
      "source": [
        "<a href=\"https://colab.research.google.com/github/tomektom10/dataScienceBootCamp/blob/main/18_09_model_%2Bulepszenia_pojedyncze.ipynb\" target=\"_parent\"><img src=\"https://colab.research.google.com/assets/colab-badge.svg\" alt=\"Open In Colab\"/></a>"
      ]
    },
    {
      "cell_type": "code",
      "source": [
        "# pip install bayesian-optimization"
      ],
      "metadata": {
        "id": "OUufsRaCKVeQ"
      },
      "execution_count": 919,
      "outputs": []
    },
    {
      "cell_type": "code",
      "source": [
        "\n",
        "from sklearn.model_selection import train_test_split\n",
        "from sklearn.preprocessing import MinMaxScaler"
      ],
      "metadata": {
        "id": "RgaLieSWELoL"
      },
      "execution_count": 920,
      "outputs": []
    },
    {
      "cell_type": "code",
      "execution_count": 921,
      "metadata": {
        "id": "B6bZFIBhA7L-"
      },
      "outputs": [],
      "source": [
        "#  import pandas as pd\n",
        "# import pandas as pd\n",
        "# import numpy as np\n",
        "# df = pd.read_excel(\"DANE_KRZYCHU_całe.xlsx\")"
      ]
    },
    {
      "cell_type": "code",
      "source": [
        "\n",
        "df_12 = df[df['Hour'] == 21]\n",
        "\n"
      ],
      "metadata": {
        "id": "Q3rgmllz9MKi"
      },
      "execution_count": 922,
      "outputs": []
    },
    {
      "cell_type": "code",
      "source": [
        "#missing_per_column = df.isna().sum()\n",
        "#missing_per_column"
      ],
      "metadata": {
        "id": "FiXY1fbsPoUZ"
      },
      "execution_count": 923,
      "outputs": []
    },
    {
      "cell_type": "code",
      "source": [
        "#futures=['SK Residual Production Backcast', \"SK Residual Load Backcast\", 'Weighted average price of all trades (EUR/MWh)'  ]"
      ],
      "metadata": {
        "id": "xFqDJGqeBJWT"
      },
      "execution_count": 924,
      "outputs": []
    },
    {
      "cell_type": "markdown",
      "source": [],
      "metadata": {
        "id": "g86y_GyOA6oY"
      }
    },
    {
      "cell_type": "code",
      "source": [
        "target = df_12['Weighted average price of all trades (EUR/MWh)'].values"
      ],
      "metadata": {
        "id": "0RaP9fThBix0"
      },
      "execution_count": 925,
      "outputs": []
    },
    {
      "cell_type": "code",
      "source": [
        "input = df_12[[\n",
        "              \"Hour\",\n",
        "              \"Day\",\n",
        "              \"SK Price Spot EUR/MWh OKTE \",\n",
        "             'SK Nuclear Production MWh/h H Actual',\n",
        "             'SK Hydro Run-of-river Production MWh/h H Actual',\n",
        "             'SK Natural Gas Power Production MWh/h H Actual',\n",
        "              \"SK Solar Photovoltaic Production MWh/h H Actual\",\n",
        "              \"SK Hydro Pumped-storage Production MWh/h H Actual\",\n",
        "              'SK Other Power Production MWh/h H Actual',\n",
        "              'SK Hydro Reservoir Production MWh/h H Actual',\n",
        "             \"SK Consumption MWh/h H Actual\",\n",
        "             'SK Exchange Physical Flow Net Import MWh/h H Actual',\n",
        "             \"Weighted average price of all trades (EUR/MWh)\"]].values\n",
        "\n",
        "\n",
        "\n",
        "\n",
        "\n"
      ],
      "metadata": {
        "id": "jboJYqiUDeFq"
      },
      "execution_count": 926,
      "outputs": []
    },
    {
      "cell_type": "code",
      "source": [
        "scaler = MinMaxScaler()\n",
        "\n",
        "futures_scaled = scaler.fit_transform(input)\n",
        "\n",
        "\n"
      ],
      "metadata": {
        "id": "b_zN82Xusi6m"
      },
      "execution_count": 927,
      "outputs": []
    },
    {
      "cell_type": "code",
      "source": [
        "# Create sequences for LSTM\n",
        "def create_sequences(data, window_size, prediction_size):\n",
        "    X = []\n",
        "    y = []\n",
        "    for i in range(len(data) - window_size - prediction_size + 1):\n",
        "        X.append(data[i:(i + window_size)])\n",
        "        y.append(data[i + window_size:i + window_size + prediction_size, -1])  # Predicting only the price\n",
        "    return np.array(X), np.array(y)"
      ],
      "metadata": {
        "id": "f44LCvuwuCZW"
      },
      "execution_count": 928,
      "outputs": []
    },
    {
      "cell_type": "code",
      "source": [
        "#liczbs godzina na bazie ktorych generujemy predykcje\n",
        "window_size = 20\n",
        "\n",
        "prediction_size = 1"
      ],
      "metadata": {
        "id": "uIVNZdvuuCR3"
      },
      "execution_count": 929,
      "outputs": []
    },
    {
      "cell_type": "code",
      "source": [
        "X,y = create_sequences (futures_scaled, window_size, prediction_size)"
      ],
      "metadata": {
        "id": "bAJjWVExuX9n"
      },
      "execution_count": 930,
      "outputs": []
    },
    {
      "cell_type": "markdown",
      "source": [],
      "metadata": {
        "id": "EQx8ewX48j3E"
      }
    },
    {
      "cell_type": "code",
      "source": [
        "X_train, X_test, y_train, y_test = train_test_split(X, y, test_size=0.01, random_state=42)"
      ],
      "metadata": {
        "id": "pBSGQVebvj8a"
      },
      "execution_count": 931,
      "outputs": []
    },
    {
      "cell_type": "code",
      "source": [
        "print(f'Shape of X_train: {X_train.shape}')\n",
        "print(f'Shape of y_train: {y_train.shape}')"
      ],
      "metadata": {
        "id": "r-eua9FhuX4f",
        "colab": {
          "base_uri": "https://localhost:8080/"
        },
        "outputId": "8f3ea75a-2eab-40d3-df16-9650bdf3d048"
      },
      "execution_count": 932,
      "outputs": [
        {
          "output_type": "stream",
          "name": "stdout",
          "text": [
            "Shape of X_train: (586, 20, 13)\n",
            "Shape of y_train: (586, 1)\n"
          ]
        }
      ]
    },
    {
      "cell_type": "code",
      "source": [],
      "metadata": {
        "id": "-L3aGtpFD68t"
      },
      "execution_count": 932,
      "outputs": []
    },
    {
      "cell_type": "code",
      "source": [],
      "metadata": {
        "id": "h1A-KaBQFAgS"
      },
      "execution_count": 932,
      "outputs": []
    },
    {
      "cell_type": "code",
      "source": [],
      "metadata": {
        "id": "RBYBMngvLQOA"
      },
      "execution_count": 932,
      "outputs": []
    },
    {
      "cell_type": "code",
      "source": [
        "# from bayes_opt import BayesianOptimization\n",
        "# from keras.models import Sequential\n",
        "# from keras.layers import LSTM, Dense, Dropout\n",
        "# from keras.optimizers import Adam\n",
        "# from sklearn.model_selection import train_test_split\n",
        "# import numpy as np\n",
        "\n",
        "# def build_and_evaluate_lstm(window_size, lstm_units, dropout_rate, learning_rate):\n",
        "#     # Ensure the hyperparameters are in the correct format\n",
        "#     window_size = int(window_size)\n",
        "#     lstm_units = int(lstm_units)\n",
        "\n",
        "#     # Create sequences with the specified window size\n",
        "#     X, y = create_sequences(futures_scaled, window_size, prediction_size)\n",
        "#     X_train, X_val, y_train, y_val = train_test_split(X, y, test_size=0.2, random_state=42)\n",
        "\n",
        "#     # Build the LSTM model\n",
        "#     model = Sequential()\n",
        "#     model.add(LSTM(units=lstm_units, return_sequences=False, input_shape=(X_train.shape[1], X_train.shape[2])))\n",
        "#     model.add(Dropout(dropout_rate))\n",
        "#     model.add(Dense(units=prediction_size))\n",
        "\n",
        "#     # Compile the model\n",
        "#     optimizer = Adam(learning_rate=learning_rate)\n",
        "#     model.compile(optimizer=optimizer, loss='mean_squared_error')\n",
        "\n",
        "#     # Train the model\n",
        "#     history = model.fit(X_train, y_train, epochs=5, batch_size=32, validation_data=(X_val, y_val), verbose=0)\n",
        "\n",
        "#     # Return the validation loss\n",
        "#     val_loss = history.history['val_loss'][-1]\n",
        "#     return -val_loss"
      ],
      "metadata": {
        "id": "SxUdAXAFLQQ5"
      },
      "execution_count": 933,
      "outputs": []
    },
    {
      "cell_type": "code",
      "source": [
        "# # Define the parameter space for optimization\n",
        "# param_bounds = {\n",
        "#     'window_size': (10, 100),       # The range for window size\n",
        "#     'lstm_units': (10, 100),        # The range for LSTM units\n",
        "#     'dropout_rate': (0.1, 0.5),     # The range for dropout rate\n",
        "#     'learning_rate': (0.0001, 0.01) # The range for learning rate\n",
        "# }\n",
        "\n",
        "# # Perform Bayesian optimization\n",
        "# optimizer = BayesianOptimization(\n",
        "#     f=build_and_evaluate_lstm,\n",
        "#     pbounds=param_bounds,\n",
        "#     random_state=42,\n",
        "#     verbose=2\n",
        "# )\n",
        "\n",
        "# optimizer.maximize(init_points=5, n_iter=20)\n",
        "\n",
        "# # Extract the best parameters\n",
        "# best_params = optimizer.max['params']\n",
        "# best_window_size = int(best_params['window_size'])\n",
        "# best_lstm_units = int(best_params['lstm_units'])\n",
        "# best_dropout_rate = best_params['dropout_rate']\n",
        "# best_learning_rate = best_params['learning_rate']\n",
        "\n",
        "# print(\"Best Parameters:\")\n",
        "# print(f\"Window Size: {best_window_size}\")\n",
        "# print(f\"LSTM Units: {best_lstm_units}\")\n",
        "# print(f\"Dropout Rate: {best_dropout_rate}\")\n",
        "# print(f\"Learning Rate: {best_learning_rate}\")"
      ],
      "metadata": {
        "id": "BTHGhbK8LZhu"
      },
      "execution_count": 934,
      "outputs": []
    },
    {
      "cell_type": "code",
      "source": [],
      "metadata": {
        "id": "ZP-kkMYULQUA"
      },
      "execution_count": 934,
      "outputs": []
    },
    {
      "cell_type": "code",
      "source": [],
      "metadata": {
        "id": "D8WdlWjvLQWd"
      },
      "execution_count": 934,
      "outputs": []
    },
    {
      "cell_type": "code",
      "source": [],
      "metadata": {
        "id": "hC70gSzaGFck"
      },
      "execution_count": 934,
      "outputs": []
    },
    {
      "cell_type": "code",
      "source": [
        "# # Przekształcenie danych do formatu akceptowalnego przez LSTM (próbki, kroki czasowe, cechy)\n",
        "# X_train = np.reshape(X_train, (X_train.shape[0], 1, X_train.shape[1]))\n",
        "# # X_test = np.reshape(X_test, (X_test.shape[0], 1, X_test.shape[1]))"
      ],
      "metadata": {
        "id": "7fujrvH1GZHs"
      },
      "execution_count": 935,
      "outputs": []
    },
    {
      "cell_type": "code",
      "source": [
        "import tensorflow as tf\n",
        "from tensorflow.keras.models import Sequential\n",
        "from tensorflow.keras.layers import LSTM, Dense, Dropout"
      ],
      "metadata": {
        "id": "x8ElScNcG8pR"
      },
      "execution_count": 936,
      "outputs": []
    },
    {
      "cell_type": "code",
      "source": [
        "# Inicjalizacja modelu LSTM\n",
        "model = Sequential()\n",
        "\n",
        "# Dodanie warstwy LSTM\n",
        "model.add(LSTM(units=82, return_sequences=False, input_shape=(X_train.shape[1], X_train.shape[2])))\n",
        "model.add(Dropout(0.2))\n",
        "\n",
        "# Dodanie kolejnej warstwy LSTM\n",
        "#model.add(LSTM(units=2, return_sequences=False))\n",
        "#model.add(Dropout(0.2))\n",
        "\n",
        "# Dodanie warstwy wyjściowej\n",
        "model.add(Dense(units = prediction_size))\n"
      ],
      "metadata": {
        "id": "sXD6ZL9PHIVp",
        "colab": {
          "base_uri": "https://localhost:8080/"
        },
        "outputId": "bf4f2612-088e-405f-8bbc-97a17dbeffdc"
      },
      "execution_count": 937,
      "outputs": [
        {
          "output_type": "stream",
          "name": "stderr",
          "text": [
            "/usr/local/lib/python3.10/dist-packages/keras/src/layers/rnn/rnn.py:204: UserWarning: Do not pass an `input_shape`/`input_dim` argument to a layer. When using Sequential models, prefer using an `Input(shape)` object as the first layer in the model instead.\n",
            "  super().__init__(**kwargs)\n"
          ]
        }
      ]
    },
    {
      "cell_type": "code",
      "source": [
        "# Kompilacja modelu\n",
        "model.compile(optimizer='adam', loss='mean_squared_error')\n",
        "\n",
        "# Wyświetlenie architektury modelu\n",
        "model.summary()"
      ],
      "metadata": {
        "id": "3MvRFxgeHmw-",
        "colab": {
          "base_uri": "https://localhost:8080/",
          "height": 238
        },
        "outputId": "a2ccea92-a2f9-48d1-98e0-97ee37639f0e"
      },
      "execution_count": 938,
      "outputs": [
        {
          "output_type": "display_data",
          "data": {
            "text/plain": [
              "\u001b[1mModel: \"sequential_14\"\u001b[0m\n"
            ],
            "text/html": [
              "<pre style=\"white-space:pre;overflow-x:auto;line-height:normal;font-family:Menlo,'DejaVu Sans Mono',consolas,'Courier New',monospace\"><span style=\"font-weight: bold\">Model: \"sequential_14\"</span>\n",
              "</pre>\n"
            ]
          },
          "metadata": {}
        },
        {
          "output_type": "display_data",
          "data": {
            "text/plain": [
              "┏━━━━━━━━━━━━━━━━━━━━━━━━━━━━━━━━━━━━━━┳━━━━━━━━━━━━━━━━━━━━━━━━━━━━━┳━━━━━━━━━━━━━━━━━┓\n",
              "┃\u001b[1m \u001b[0m\u001b[1mLayer (type)                        \u001b[0m\u001b[1m \u001b[0m┃\u001b[1m \u001b[0m\u001b[1mOutput Shape               \u001b[0m\u001b[1m \u001b[0m┃\u001b[1m \u001b[0m\u001b[1m        Param #\u001b[0m\u001b[1m \u001b[0m┃\n",
              "┡━━━━━━━━━━━━━━━━━━━━━━━━━━━━━━━━━━━━━━╇━━━━━━━━━━━━━━━━━━━━━━━━━━━━━╇━━━━━━━━━━━━━━━━━┩\n",
              "│ lstm_14 (\u001b[38;5;33mLSTM\u001b[0m)                       │ (\u001b[38;5;45mNone\u001b[0m, \u001b[38;5;34m82\u001b[0m)                  │          \u001b[38;5;34m31,488\u001b[0m │\n",
              "├──────────────────────────────────────┼─────────────────────────────┼─────────────────┤\n",
              "│ dropout_14 (\u001b[38;5;33mDropout\u001b[0m)                 │ (\u001b[38;5;45mNone\u001b[0m, \u001b[38;5;34m82\u001b[0m)                  │               \u001b[38;5;34m0\u001b[0m │\n",
              "├──────────────────────────────────────┼─────────────────────────────┼─────────────────┤\n",
              "│ dense_14 (\u001b[38;5;33mDense\u001b[0m)                     │ (\u001b[38;5;45mNone\u001b[0m, \u001b[38;5;34m1\u001b[0m)                   │              \u001b[38;5;34m83\u001b[0m │\n",
              "└──────────────────────────────────────┴─────────────────────────────┴─────────────────┘\n"
            ],
            "text/html": [
              "<pre style=\"white-space:pre;overflow-x:auto;line-height:normal;font-family:Menlo,'DejaVu Sans Mono',consolas,'Courier New',monospace\">┏━━━━━━━━━━━━━━━━━━━━━━━━━━━━━━━━━━━━━━┳━━━━━━━━━━━━━━━━━━━━━━━━━━━━━┳━━━━━━━━━━━━━━━━━┓\n",
              "┃<span style=\"font-weight: bold\"> Layer (type)                         </span>┃<span style=\"font-weight: bold\"> Output Shape                </span>┃<span style=\"font-weight: bold\">         Param # </span>┃\n",
              "┡━━━━━━━━━━━━━━━━━━━━━━━━━━━━━━━━━━━━━━╇━━━━━━━━━━━━━━━━━━━━━━━━━━━━━╇━━━━━━━━━━━━━━━━━┩\n",
              "│ lstm_14 (<span style=\"color: #0087ff; text-decoration-color: #0087ff\">LSTM</span>)                       │ (<span style=\"color: #00d7ff; text-decoration-color: #00d7ff\">None</span>, <span style=\"color: #00af00; text-decoration-color: #00af00\">82</span>)                  │          <span style=\"color: #00af00; text-decoration-color: #00af00\">31,488</span> │\n",
              "├──────────────────────────────────────┼─────────────────────────────┼─────────────────┤\n",
              "│ dropout_14 (<span style=\"color: #0087ff; text-decoration-color: #0087ff\">Dropout</span>)                 │ (<span style=\"color: #00d7ff; text-decoration-color: #00d7ff\">None</span>, <span style=\"color: #00af00; text-decoration-color: #00af00\">82</span>)                  │               <span style=\"color: #00af00; text-decoration-color: #00af00\">0</span> │\n",
              "├──────────────────────────────────────┼─────────────────────────────┼─────────────────┤\n",
              "│ dense_14 (<span style=\"color: #0087ff; text-decoration-color: #0087ff\">Dense</span>)                     │ (<span style=\"color: #00d7ff; text-decoration-color: #00d7ff\">None</span>, <span style=\"color: #00af00; text-decoration-color: #00af00\">1</span>)                   │              <span style=\"color: #00af00; text-decoration-color: #00af00\">83</span> │\n",
              "└──────────────────────────────────────┴─────────────────────────────┴─────────────────┘\n",
              "</pre>\n"
            ]
          },
          "metadata": {}
        },
        {
          "output_type": "display_data",
          "data": {
            "text/plain": [
              "\u001b[1m Total params: \u001b[0m\u001b[38;5;34m31,571\u001b[0m (123.32 KB)\n"
            ],
            "text/html": [
              "<pre style=\"white-space:pre;overflow-x:auto;line-height:normal;font-family:Menlo,'DejaVu Sans Mono',consolas,'Courier New',monospace\"><span style=\"font-weight: bold\"> Total params: </span><span style=\"color: #00af00; text-decoration-color: #00af00\">31,571</span> (123.32 KB)\n",
              "</pre>\n"
            ]
          },
          "metadata": {}
        },
        {
          "output_type": "display_data",
          "data": {
            "text/plain": [
              "\u001b[1m Trainable params: \u001b[0m\u001b[38;5;34m31,571\u001b[0m (123.32 KB)\n"
            ],
            "text/html": [
              "<pre style=\"white-space:pre;overflow-x:auto;line-height:normal;font-family:Menlo,'DejaVu Sans Mono',consolas,'Courier New',monospace\"><span style=\"font-weight: bold\"> Trainable params: </span><span style=\"color: #00af00; text-decoration-color: #00af00\">31,571</span> (123.32 KB)\n",
              "</pre>\n"
            ]
          },
          "metadata": {}
        },
        {
          "output_type": "display_data",
          "data": {
            "text/plain": [
              "\u001b[1m Non-trainable params: \u001b[0m\u001b[38;5;34m0\u001b[0m (0.00 B)\n"
            ],
            "text/html": [
              "<pre style=\"white-space:pre;overflow-x:auto;line-height:normal;font-family:Menlo,'DejaVu Sans Mono',consolas,'Courier New',monospace\"><span style=\"font-weight: bold\"> Non-trainable params: </span><span style=\"color: #00af00; text-decoration-color: #00af00\">0</span> (0.00 B)\n",
              "</pre>\n"
            ]
          },
          "metadata": {}
        }
      ]
    },
    {
      "cell_type": "code",
      "source": [
        "# Trenowanie modelu LSTM\n",
        "history = model.fit(X_train, y_train, epochs=50, batch_size=32, validation_data=(X_test, y_test), verbose=1)"
      ],
      "metadata": {
        "id": "OHK21QMFIC6i",
        "colab": {
          "base_uri": "https://localhost:8080/"
        },
        "outputId": "e1bda04b-cc4e-4c5b-add7-636bb327189e"
      },
      "execution_count": 939,
      "outputs": [
        {
          "output_type": "stream",
          "name": "stdout",
          "text": [
            "Epoch 1/50\n",
            "\u001b[1m19/19\u001b[0m \u001b[32m━━━━━━━━━━━━━━━━━━━━\u001b[0m\u001b[37m\u001b[0m \u001b[1m2s\u001b[0m 27ms/step - loss: 0.0276 - val_loss: 0.0540\n",
            "Epoch 2/50\n",
            "\u001b[1m19/19\u001b[0m \u001b[32m━━━━━━━━━━━━━━━━━━━━\u001b[0m\u001b[37m\u001b[0m \u001b[1m0s\u001b[0m 13ms/step - loss: 0.0103 - val_loss: 0.0627\n",
            "Epoch 3/50\n",
            "\u001b[1m19/19\u001b[0m \u001b[32m━━━━━━━━━━━━━━━━━━━━\u001b[0m\u001b[37m\u001b[0m \u001b[1m0s\u001b[0m 13ms/step - loss: 0.0062 - val_loss: 0.0631\n",
            "Epoch 4/50\n",
            "\u001b[1m19/19\u001b[0m \u001b[32m━━━━━━━━━━━━━━━━━━━━\u001b[0m\u001b[37m\u001b[0m \u001b[1m0s\u001b[0m 13ms/step - loss: 0.0073 - val_loss: 0.0570\n",
            "Epoch 5/50\n",
            "\u001b[1m19/19\u001b[0m \u001b[32m━━━━━━━━━━━━━━━━━━━━\u001b[0m\u001b[37m\u001b[0m \u001b[1m0s\u001b[0m 13ms/step - loss: 0.0057 - val_loss: 0.0583\n",
            "Epoch 6/50\n",
            "\u001b[1m19/19\u001b[0m \u001b[32m━━━━━━━━━━━━━━━━━━━━\u001b[0m\u001b[37m\u001b[0m \u001b[1m0s\u001b[0m 13ms/step - loss: 0.0057 - val_loss: 0.0555\n",
            "Epoch 7/50\n",
            "\u001b[1m19/19\u001b[0m \u001b[32m━━━━━━━━━━━━━━━━━━━━\u001b[0m\u001b[37m\u001b[0m \u001b[1m0s\u001b[0m 13ms/step - loss: 0.0058 - val_loss: 0.0522\n",
            "Epoch 8/50\n",
            "\u001b[1m19/19\u001b[0m \u001b[32m━━━━━━━━━━━━━━━━━━━━\u001b[0m\u001b[37m\u001b[0m \u001b[1m0s\u001b[0m 13ms/step - loss: 0.0062 - val_loss: 0.0545\n",
            "Epoch 9/50\n",
            "\u001b[1m19/19\u001b[0m \u001b[32m━━━━━━━━━━━━━━━━━━━━\u001b[0m\u001b[37m\u001b[0m \u001b[1m0s\u001b[0m 13ms/step - loss: 0.0054 - val_loss: 0.0549\n",
            "Epoch 10/50\n",
            "\u001b[1m19/19\u001b[0m \u001b[32m━━━━━━━━━━━━━━━━━━━━\u001b[0m\u001b[37m\u001b[0m \u001b[1m0s\u001b[0m 13ms/step - loss: 0.0054 - val_loss: 0.0511\n",
            "Epoch 11/50\n",
            "\u001b[1m19/19\u001b[0m \u001b[32m━━━━━━━━━━━━━━━━━━━━\u001b[0m\u001b[37m\u001b[0m \u001b[1m0s\u001b[0m 13ms/step - loss: 0.0051 - val_loss: 0.0537\n",
            "Epoch 12/50\n",
            "\u001b[1m19/19\u001b[0m \u001b[32m━━━━━━━━━━━━━━━━━━━━\u001b[0m\u001b[37m\u001b[0m \u001b[1m0s\u001b[0m 13ms/step - loss: 0.0049 - val_loss: 0.0480\n",
            "Epoch 13/50\n",
            "\u001b[1m19/19\u001b[0m \u001b[32m━━━━━━━━━━━━━━━━━━━━\u001b[0m\u001b[37m\u001b[0m \u001b[1m0s\u001b[0m 12ms/step - loss: 0.0054 - val_loss: 0.0481\n",
            "Epoch 14/50\n",
            "\u001b[1m19/19\u001b[0m \u001b[32m━━━━━━━━━━━━━━━━━━━━\u001b[0m\u001b[37m\u001b[0m \u001b[1m0s\u001b[0m 13ms/step - loss: 0.0048 - val_loss: 0.0484\n",
            "Epoch 15/50\n",
            "\u001b[1m19/19\u001b[0m \u001b[32m━━━━━━━━━━━━━━━━━━━━\u001b[0m\u001b[37m\u001b[0m \u001b[1m0s\u001b[0m 13ms/step - loss: 0.0041 - val_loss: 0.0464\n",
            "Epoch 16/50\n",
            "\u001b[1m19/19\u001b[0m \u001b[32m━━━━━━━━━━━━━━━━━━━━\u001b[0m\u001b[37m\u001b[0m \u001b[1m0s\u001b[0m 13ms/step - loss: 0.0049 - val_loss: 0.0496\n",
            "Epoch 17/50\n",
            "\u001b[1m19/19\u001b[0m \u001b[32m━━━━━━━━━━━━━━━━━━━━\u001b[0m\u001b[37m\u001b[0m \u001b[1m0s\u001b[0m 13ms/step - loss: 0.0047 - val_loss: 0.0483\n",
            "Epoch 18/50\n",
            "\u001b[1m19/19\u001b[0m \u001b[32m━━━━━━━━━━━━━━━━━━━━\u001b[0m\u001b[37m\u001b[0m \u001b[1m0s\u001b[0m 12ms/step - loss: 0.0050 - val_loss: 0.0460\n",
            "Epoch 19/50\n",
            "\u001b[1m19/19\u001b[0m \u001b[32m━━━━━━━━━━━━━━━━━━━━\u001b[0m\u001b[37m\u001b[0m \u001b[1m0s\u001b[0m 13ms/step - loss: 0.0051 - val_loss: 0.0454\n",
            "Epoch 20/50\n",
            "\u001b[1m19/19\u001b[0m \u001b[32m━━━━━━━━━━━━━━━━━━━━\u001b[0m\u001b[37m\u001b[0m \u001b[1m0s\u001b[0m 13ms/step - loss: 0.0040 - val_loss: 0.0472\n",
            "Epoch 21/50\n",
            "\u001b[1m19/19\u001b[0m \u001b[32m━━━━━━━━━━━━━━━━━━━━\u001b[0m\u001b[37m\u001b[0m \u001b[1m0s\u001b[0m 13ms/step - loss: 0.0035 - val_loss: 0.0424\n",
            "Epoch 22/50\n",
            "\u001b[1m19/19\u001b[0m \u001b[32m━━━━━━━━━━━━━━━━━━━━\u001b[0m\u001b[37m\u001b[0m \u001b[1m0s\u001b[0m 13ms/step - loss: 0.0046 - val_loss: 0.0464\n",
            "Epoch 23/50\n",
            "\u001b[1m19/19\u001b[0m \u001b[32m━━━━━━━━━━━━━━━━━━━━\u001b[0m\u001b[37m\u001b[0m \u001b[1m0s\u001b[0m 13ms/step - loss: 0.0035 - val_loss: 0.0428\n",
            "Epoch 24/50\n",
            "\u001b[1m19/19\u001b[0m \u001b[32m━━━━━━━━━━━━━━━━━━━━\u001b[0m\u001b[37m\u001b[0m \u001b[1m0s\u001b[0m 13ms/step - loss: 0.0047 - val_loss: 0.0477\n",
            "Epoch 25/50\n",
            "\u001b[1m19/19\u001b[0m \u001b[32m━━━━━━━━━━━━━━━━━━━━\u001b[0m\u001b[37m\u001b[0m \u001b[1m0s\u001b[0m 13ms/step - loss: 0.0055 - val_loss: 0.0449\n",
            "Epoch 26/50\n",
            "\u001b[1m19/19\u001b[0m \u001b[32m━━━━━━━━━━━━━━━━━━━━\u001b[0m\u001b[37m\u001b[0m \u001b[1m0s\u001b[0m 13ms/step - loss: 0.0046 - val_loss: 0.0468\n",
            "Epoch 27/50\n",
            "\u001b[1m19/19\u001b[0m \u001b[32m━━━━━━━━━━━━━━━━━━━━\u001b[0m\u001b[37m\u001b[0m \u001b[1m0s\u001b[0m 13ms/step - loss: 0.0049 - val_loss: 0.0468\n",
            "Epoch 28/50\n",
            "\u001b[1m19/19\u001b[0m \u001b[32m━━━━━━━━━━━━━━━━━━━━\u001b[0m\u001b[37m\u001b[0m \u001b[1m0s\u001b[0m 13ms/step - loss: 0.0040 - val_loss: 0.0457\n",
            "Epoch 29/50\n",
            "\u001b[1m19/19\u001b[0m \u001b[32m━━━━━━━━━━━━━━━━━━━━\u001b[0m\u001b[37m\u001b[0m \u001b[1m0s\u001b[0m 13ms/step - loss: 0.0047 - val_loss: 0.0475\n",
            "Epoch 30/50\n",
            "\u001b[1m19/19\u001b[0m \u001b[32m━━━━━━━━━━━━━━━━━━━━\u001b[0m\u001b[37m\u001b[0m \u001b[1m0s\u001b[0m 13ms/step - loss: 0.0035 - val_loss: 0.0451\n",
            "Epoch 31/50\n",
            "\u001b[1m19/19\u001b[0m \u001b[32m━━━━━━━━━━━━━━━━━━━━\u001b[0m\u001b[37m\u001b[0m \u001b[1m0s\u001b[0m 13ms/step - loss: 0.0039 - val_loss: 0.0480\n",
            "Epoch 32/50\n",
            "\u001b[1m19/19\u001b[0m \u001b[32m━━━━━━━━━━━━━━━━━━━━\u001b[0m\u001b[37m\u001b[0m \u001b[1m0s\u001b[0m 13ms/step - loss: 0.0040 - val_loss: 0.0436\n",
            "Epoch 33/50\n",
            "\u001b[1m19/19\u001b[0m \u001b[32m━━━━━━━━━━━━━━━━━━━━\u001b[0m\u001b[37m\u001b[0m \u001b[1m0s\u001b[0m 13ms/step - loss: 0.0053 - val_loss: 0.0427\n",
            "Epoch 34/50\n",
            "\u001b[1m19/19\u001b[0m \u001b[32m━━━━━━━━━━━━━━━━━━━━\u001b[0m\u001b[37m\u001b[0m \u001b[1m0s\u001b[0m 13ms/step - loss: 0.0042 - val_loss: 0.0491\n",
            "Epoch 35/50\n",
            "\u001b[1m19/19\u001b[0m \u001b[32m━━━━━━━━━━━━━━━━━━━━\u001b[0m\u001b[37m\u001b[0m \u001b[1m0s\u001b[0m 13ms/step - loss: 0.0064 - val_loss: 0.0432\n",
            "Epoch 36/50\n",
            "\u001b[1m19/19\u001b[0m \u001b[32m━━━━━━━━━━━━━━━━━━━━\u001b[0m\u001b[37m\u001b[0m \u001b[1m0s\u001b[0m 13ms/step - loss: 0.0043 - val_loss: 0.0425\n",
            "Epoch 37/50\n",
            "\u001b[1m19/19\u001b[0m \u001b[32m━━━━━━━━━━━━━━━━━━━━\u001b[0m\u001b[37m\u001b[0m \u001b[1m0s\u001b[0m 13ms/step - loss: 0.0045 - val_loss: 0.0459\n",
            "Epoch 38/50\n",
            "\u001b[1m19/19\u001b[0m \u001b[32m━━━━━━━━━━━━━━━━━━━━\u001b[0m\u001b[37m\u001b[0m \u001b[1m0s\u001b[0m 13ms/step - loss: 0.0036 - val_loss: 0.0447\n",
            "Epoch 39/50\n",
            "\u001b[1m19/19\u001b[0m \u001b[32m━━━━━━━━━━━━━━━━━━━━\u001b[0m\u001b[37m\u001b[0m \u001b[1m0s\u001b[0m 13ms/step - loss: 0.0039 - val_loss: 0.0394\n",
            "Epoch 40/50\n",
            "\u001b[1m19/19\u001b[0m \u001b[32m━━━━━━━━━━━━━━━━━━━━\u001b[0m\u001b[37m\u001b[0m \u001b[1m0s\u001b[0m 13ms/step - loss: 0.0044 - val_loss: 0.0437\n",
            "Epoch 41/50\n",
            "\u001b[1m19/19\u001b[0m \u001b[32m━━━━━━━━━━━━━━━━━━━━\u001b[0m\u001b[37m\u001b[0m \u001b[1m0s\u001b[0m 13ms/step - loss: 0.0041 - val_loss: 0.0415\n",
            "Epoch 42/50\n",
            "\u001b[1m19/19\u001b[0m \u001b[32m━━━━━━━━━━━━━━━━━━━━\u001b[0m\u001b[37m\u001b[0m \u001b[1m0s\u001b[0m 13ms/step - loss: 0.0034 - val_loss: 0.0413\n",
            "Epoch 43/50\n",
            "\u001b[1m19/19\u001b[0m \u001b[32m━━━━━━━━━━━━━━━━━━━━\u001b[0m\u001b[37m\u001b[0m \u001b[1m0s\u001b[0m 13ms/step - loss: 0.0038 - val_loss: 0.0444\n",
            "Epoch 44/50\n",
            "\u001b[1m19/19\u001b[0m \u001b[32m━━━━━━━━━━━━━━━━━━━━\u001b[0m\u001b[37m\u001b[0m \u001b[1m0s\u001b[0m 13ms/step - loss: 0.0039 - val_loss: 0.0433\n",
            "Epoch 45/50\n",
            "\u001b[1m19/19\u001b[0m \u001b[32m━━━━━━━━━━━━━━━━━━━━\u001b[0m\u001b[37m\u001b[0m \u001b[1m0s\u001b[0m 13ms/step - loss: 0.0035 - val_loss: 0.0413\n",
            "Epoch 46/50\n",
            "\u001b[1m19/19\u001b[0m \u001b[32m━━━━━━━━━━━━━━━━━━━━\u001b[0m\u001b[37m\u001b[0m \u001b[1m0s\u001b[0m 13ms/step - loss: 0.0034 - val_loss: 0.0419\n",
            "Epoch 47/50\n",
            "\u001b[1m19/19\u001b[0m \u001b[32m━━━━━━━━━━━━━━━━━━━━\u001b[0m\u001b[37m\u001b[0m \u001b[1m0s\u001b[0m 13ms/step - loss: 0.0043 - val_loss: 0.0413\n",
            "Epoch 48/50\n",
            "\u001b[1m19/19\u001b[0m \u001b[32m━━━━━━━━━━━━━━━━━━━━\u001b[0m\u001b[37m\u001b[0m \u001b[1m0s\u001b[0m 13ms/step - loss: 0.0030 - val_loss: 0.0413\n",
            "Epoch 49/50\n",
            "\u001b[1m19/19\u001b[0m \u001b[32m━━━━━━━━━━━━━━━━━━━━\u001b[0m\u001b[37m\u001b[0m \u001b[1m0s\u001b[0m 13ms/step - loss: 0.0028 - val_loss: 0.0379\n",
            "Epoch 50/50\n",
            "\u001b[1m19/19\u001b[0m \u001b[32m━━━━━━━━━━━━━━━━━━━━\u001b[0m\u001b[37m\u001b[0m \u001b[1m0s\u001b[0m 13ms/step - loss: 0.0045 - val_loss: 0.0437\n"
          ]
        }
      ]
    },
    {
      "cell_type": "code",
      "source": [
        "# Wykres strat treningowych i walidacyjnych\n",
        "import matplotlib.pyplot as plt\n",
        "\n",
        "plt.plot(history.history['loss'], label='Strata treningowa')\n",
        "plt.plot(history.history['val_loss'], label='Strata walidacyjna')\n",
        "plt.title('Strata modelu')\n",
        "plt.xlabel('Epoki')\n",
        "plt.ylabel('Strata')\n",
        "plt.legend()\n",
        "plt.show()"
      ],
      "metadata": {
        "id": "AHp0yU1kIRpo",
        "colab": {
          "base_uri": "https://localhost:8080/",
          "height": 472
        },
        "outputId": "21b738d9-347d-4dd1-a5dd-2e9d0f91ed5d"
      },
      "execution_count": 940,
      "outputs": [
        {
          "output_type": "display_data",
          "data": {
            "text/plain": [
              "<Figure size 640x480 with 1 Axes>"
            ],
            "image/png": "[encoded data removed]"
          },
          "metadata": {}
        }
      ]
    },
    {
      "cell_type": "code",
      "source": [
        "# Evaluate the model on test data\n",
        "test_loss = model.evaluate(X_test, y_test)\n",
        "print(f'Test Loss: {test_loss}')"
      ],
      "metadata": {
        "id": "250bV7W6JZsX",
        "colab": {
          "base_uri": "https://localhost:8080/"
        },
        "outputId": "aefc097b-ee78-4b9a-e8c6-781338c6e310"
      },
      "execution_count": 941,
      "outputs": [
        {
          "output_type": "stream",
          "name": "stdout",
          "text": [
            "\u001b[1m1/1\u001b[0m \u001b[32m━━━━━━━━━━━━━━━━━━━━\u001b[0m\u001b[37m\u001b[0m \u001b[1m0s\u001b[0m 30ms/step - loss: 0.0437\n",
            "Test Loss: 0.0436779260635376\n"
          ]
        }
      ]
    },
    {
      "cell_type": "code",
      "source": [
        "# Make predictions\n",
        "predictions = model.predict(X_test)"
      ],
      "metadata": {
        "id": "ESwFfSzU13n3",
        "colab": {
          "base_uri": "https://localhost:8080/"
        },
        "outputId": "c7ef858d-5906-4d9e-e020-c9cf205922ce"
      },
      "execution_count": 942,
      "outputs": [
        {
          "output_type": "stream",
          "name": "stdout",
          "text": [
            "\u001b[1m1/1\u001b[0m \u001b[32m━━━━━━━━━━━━━━━━━━━━\u001b[0m\u001b[37m\u001b[0m \u001b[1m0s\u001b[0m 168ms/step\n"
          ]
        }
      ]
    },
    {
      "cell_type": "markdown",
      "source": [],
      "metadata": {
        "id": "74dt32FP2xTU"
      }
    },
    {
      "cell_type": "code",
      "source": [
        "y_test_24 = y_test[:, -1]"
      ],
      "metadata": {
        "id": "tTOIwU9u_zAs"
      },
      "execution_count": 943,
      "outputs": []
    },
    {
      "cell_type": "code",
      "source": [
        "predictions_24 = predictions[:, -1]"
      ],
      "metadata": {
        "id": "TG-d0snMCmko"
      },
      "execution_count": 944,
      "outputs": []
    },
    {
      "cell_type": "markdown",
      "source": [],
      "metadata": {
        "id": "-VeJW2LM2xNt"
      }
    },
    {
      "cell_type": "code",
      "source": [
        "y_test_rescaled = scaler.inverse_transform(np.concatenate([np.zeros((y_test_24.shape[0], 12)), y_test_24.reshape(-1, 1)], axis=1))[:, -1]\n"
      ],
      "metadata": {
        "id": "vLwFTkK12AJK"
      },
      "execution_count": 945,
      "outputs": []
    },
    {
      "cell_type": "code",
      "source": [
        "np.concatenate([np.zeros((y_test.shape[0], 12)), y_test],axis=1).shape"
      ],
      "metadata": {
        "id": "6a1IxrgmAcxl",
        "colab": {
          "base_uri": "https://localhost:8080/"
        },
        "outputId": "634e944d-9bf2-4cb5-9cb4-7d4577befdc1"
      },
      "execution_count": 946,
      "outputs": [
        {
          "output_type": "execute_result",
          "data": {
            "text/plain": [
              "(6, 13)"
            ]
          },
          "metadata": {},
          "execution_count": 946
        }
      ]
    },
    {
      "cell_type": "code",
      "source": [
        "np.zeros((y_test.shape[0], 12)).shape"
      ],
      "metadata": {
        "id": "EdOLjmGvBhvi",
        "colab": {
          "base_uri": "https://localhost:8080/"
        },
        "outputId": "9e4989de-9c2c-4740-e47c-37f0cbd67b4f"
      },
      "execution_count": 947,
      "outputs": [
        {
          "output_type": "execute_result",
          "data": {
            "text/plain": [
              "(6, 12)"
            ]
          },
          "metadata": {},
          "execution_count": 947
        }
      ]
    },
    {
      "cell_type": "code",
      "source": [
        "predictions_rescaled = scaler.inverse_transform(np.concatenate([np.zeros((predictions_24.shape[0], 12)), predictions_24.reshape(-1, 1)], axis=1))[:, -1]"
      ],
      "metadata": {
        "id": "ec9vHu3XAC9s"
      },
      "execution_count": 948,
      "outputs": []
    },
    {
      "cell_type": "markdown",
      "source": [],
      "metadata": {
        "id": "cUYICv12SJ5d"
      }
    },
    {
      "cell_type": "code",
      "source": [
        "predictions_rescaled"
      ],
      "metadata": {
        "id": "6BVG-wVy8GNL",
        "colab": {
          "base_uri": "https://localhost:8080/"
        },
        "outputId": "df6cdd38-4e3e-4922-af1c-e252e550c8c1"
      },
      "execution_count": 949,
      "outputs": [
        {
          "output_type": "execute_result",
          "data": {
            "text/plain": [
              "array([151.27339405, 327.71098216,  94.27948904, 174.25649941,\n",
              "       405.93183786, 147.47227117])"
            ]
          },
          "metadata": {},
          "execution_count": 949
        }
      ]
    },
    {
      "cell_type": "code",
      "source": [
        "# y_test_rescaled = scaler.inverse_transform(y_test)\n",
        "\n"
      ],
      "metadata": {
        "id": "mVb6xb-V2XLf"
      },
      "execution_count": 950,
      "outputs": []
    },
    {
      "cell_type": "code",
      "source": [
        "# # Plot true vs predicted prices for the next 24 hours\n",
        "# plt.figure(figsize=(10, 6))\n",
        "# plt.plot(y_test_24[:100], label='True Prices')\n",
        "# plt.plot(predictions_24[:100], label='Predicted Prices')\n",
        "# plt.title('True vs Predicted Prices for the Next 24 Hours')\n",
        "# plt.xlabel('Time Steps')\n",
        "# plt.ylabel('Price')\n",
        "# plt.legend()\n",
        "# plt.show()"
      ],
      "metadata": {
        "id": "9PfI-YCi3Cd1"
      },
      "execution_count": 951,
      "outputs": []
    },
    {
      "cell_type": "code",
      "source": [
        "true_24th = y_test[:, -1]        # True values for the 24th hour\n",
        "predicted_24th = predictions[:, -1]  # Predicted values for the 24th hour"
      ],
      "metadata": {
        "id": "OhMfX_HE3w5M"
      },
      "execution_count": 952,
      "outputs": []
    },
    {
      "cell_type": "code",
      "source": [
        "percent_errors = np.abs(true_24th - predicted_24th) / np.abs(true_24th) * 100"
      ],
      "metadata": {
        "id": "M-w9r8ZM4bKL"
      },
      "execution_count": 953,
      "outputs": []
    },
    {
      "cell_type": "code",
      "source": [
        "sr_blad = np.mean(percent_errors)"
      ],
      "metadata": {
        "id": "x02Xv9CH4hc_"
      },
      "execution_count": 954,
      "outputs": []
    },
    {
      "cell_type": "code",
      "source": [
        "sr_blad"
      ],
      "metadata": {
        "id": "fHqpsnK_4wsU",
        "colab": {
          "base_uri": "https://localhost:8080/"
        },
        "outputId": "be1885b4-739b-49ce-fe72-e7a56b2e70f0"
      },
      "execution_count": 955,
      "outputs": [
        {
          "output_type": "execute_result",
          "data": {
            "text/plain": [
              "46.865393812125006"
            ]
          },
          "metadata": {},
          "execution_count": 955
        }
      ]
    },
    {
      "cell_type": "code",
      "source": [
        "##### do zmiany parametrow sieciu moge zmienic size okna, liczbe unit do danych,"
      ],
      "metadata": {
        "id": "r9Njwp0J4yFV"
      },
      "execution_count": 956,
      "outputs": []
    },
    {
      "cell_type": "code",
      "source": [
        "percent_errors = np.abs(y_test_24 - predictions_24) / np.abs(y_test_24) * 100"
      ],
      "metadata": {
        "id": "USVOjUfE5p-f"
      },
      "execution_count": 957,
      "outputs": []
    },
    {
      "cell_type": "code",
      "source": [
        "sr_blad_real = np.mean(percent_errors)"
      ],
      "metadata": {
        "id": "BjsW3SW3EZKz"
      },
      "execution_count": 958,
      "outputs": []
    },
    {
      "cell_type": "code",
      "source": [
        "sr_blad_real"
      ],
      "metadata": {
        "id": "-FoiRFBUElB7",
        "colab": {
          "base_uri": "https://localhost:8080/"
        },
        "outputId": "37ac49d9-a4fe-47a2-9074-678105498a29"
      },
      "execution_count": 959,
      "outputs": [
        {
          "output_type": "execute_result",
          "data": {
            "text/plain": [
              "46.865393812125006"
            ]
          },
          "metadata": {},
          "execution_count": 959
        }
      ]
    },
    {
      "cell_type": "code",
      "source": [
        "###### WPROWADZANIE REALNYCH WARTOSCI"
      ],
      "metadata": {
        "id": "Vs_CxTXvEl_S"
      },
      "execution_count": 960,
      "outputs": []
    },
    {
      "cell_type": "code",
      "source": [
        "#X_test[-1]"
      ],
      "metadata": {
        "id": "TCudeYoMFF6Z"
      },
      "execution_count": 961,
      "outputs": []
    },
    {
      "cell_type": "code",
      "source": [
        "predictions = model.predict(np.array([X_test[-1]]))"
      ],
      "metadata": {
        "id": "cTTtw8lqFChU",
        "colab": {
          "base_uri": "https://localhost:8080/"
        },
        "outputId": "99edd79f-b428-4302-cbe6-f11e6f1bdd5d"
      },
      "execution_count": 962,
      "outputs": [
        {
          "output_type": "stream",
          "name": "stdout",
          "text": [
            "\u001b[1m1/1\u001b[0m \u001b[32m━━━━━━━━━━━━━━━━━━━━\u001b[0m\u001b[37m\u001b[0m \u001b[1m0s\u001b[0m 201ms/step\n"
          ]
        }
      ]
    },
    {
      "cell_type": "code",
      "source": [
        "predictions.shape"
      ],
      "metadata": {
        "id": "ALkpE2yxFcdA",
        "colab": {
          "base_uri": "https://localhost:8080/"
        },
        "outputId": "aab53088-58a6-43ff-aad3-d0f15a811e0e"
      },
      "execution_count": 963,
      "outputs": [
        {
          "output_type": "execute_result",
          "data": {
            "text/plain": [
              "(1, 1)"
            ]
          },
          "metadata": {},
          "execution_count": 963
        }
      ]
    },
    {
      "cell_type": "code",
      "source": [
        "predictions_24 = np.array([predictions[:, -1]])"
      ],
      "metadata": {
        "id": "3u_-6czMGiNq"
      },
      "execution_count": 964,
      "outputs": []
    },
    {
      "cell_type": "code",
      "source": [
        "predictions_24.shape"
      ],
      "metadata": {
        "id": "AtPozMi4HDEi",
        "colab": {
          "base_uri": "https://localhost:8080/"
        },
        "outputId": "af6d391d-728e-4ef1-a622-db656c9c40f7"
      },
      "execution_count": 965,
      "outputs": [
        {
          "output_type": "execute_result",
          "data": {
            "text/plain": [
              "(1, 1)"
            ]
          },
          "metadata": {},
          "execution_count": 965
        }
      ]
    },
    {
      "cell_type": "code",
      "source": [
        "predictions_rescaled = scaler.inverse_transform(np.concatenate([np.zeros((predictions_24.shape[0], 12)), predictions_24.reshape(-1, 1)], axis=1))[:, -1]"
      ],
      "metadata": {
        "id": "0t_iv3Y0GATe"
      },
      "execution_count": 966,
      "outputs": []
    },
    {
      "cell_type": "code",
      "source": [
        "predictions_rescaled"
      ],
      "metadata": {
        "id": "Jb9JJzSuGTEL",
        "colab": {
          "base_uri": "https://localhost:8080/"
        },
        "outputId": "64307f53-cf69-4773-9bdd-9968bf966f4a"
      },
      "execution_count": 967,
      "outputs": [
        {
          "output_type": "execute_result",
          "data": {
            "text/plain": [
              "array([147.47227117])"
            ]
          },
          "metadata": {},
          "execution_count": 967
        }
      ]
    },
    {
      "cell_type": "code",
      "source": [
        "#wczytywanie realnych danych"
      ],
      "metadata": {
        "id": "INrQPeTTHTVN"
      },
      "execution_count": 968,
      "outputs": []
    },
    {
      "cell_type": "code",
      "source": [
        "# df1 = pd.read_excel(\"swierze_wszystkie_zmienne+average.xlsx\")"
      ],
      "metadata": {
        "id": "OUdJCUmJKbBc"
      },
      "execution_count": 969,
      "outputs": []
    },
    {
      "cell_type": "code",
      "source": [
        "df1= df1[[     \"Hour\",\n",
        "              \"Day\",\n",
        "              \"SK Price Spot EUR/MWh OKTE \",\n",
        "             'SK Nuclear Production MWh/h H Actual',\n",
        "             'SK Hydro Run-of-river Production MWh/h H Actual',\n",
        "             'SK Natural Gas Power Production MWh/h H Actual',\n",
        "              \"SK Solar Photovoltaic Production MWh/h H Actual\",\n",
        "              \"SK Hydro Pumped-storage Production MWh/h H Actual\",\n",
        "             'SK Other Power Production MWh/h H Actual',\n",
        "             'SK Hydro Reservoir Production MWh/h H Actual',\n",
        "             \"SK Consumption MWh/h H Actual\",\n",
        "             'SK Exchange Physical Flow Net Import MWh/h H Actual',\n",
        "             \"Weighted average price of all trades (EUR/MWh)\"]]\n"
      ],
      "metadata": {
        "id": "UfkTUQUtVmN0"
      },
      "execution_count": 970,
      "outputs": []
    },
    {
      "cell_type": "markdown",
      "source": [],
      "metadata": {
        "id": "652i6yhcVJwK"
      }
    },
    {
      "cell_type": "code",
      "source": [
        "df_numeryczny = df1[df1[\"Hour\"]==21]\n"
      ],
      "metadata": {
        "id": "pxrG4gUtVWw8"
      },
      "execution_count": 971,
      "outputs": []
    },
    {
      "cell_type": "code",
      "source": [
        "probka = df_numeryczny.values"
      ],
      "metadata": {
        "id": "HEn61Z22Lk5I"
      },
      "execution_count": 972,
      "outputs": []
    },
    {
      "cell_type": "code",
      "source": [],
      "metadata": {
        "id": "GK0NNyKCTaik"
      },
      "execution_count": 972,
      "outputs": []
    },
    {
      "cell_type": "code",
      "source": [
        "probka_scaled = scaler.transform(probka)"
      ],
      "metadata": {
        "id": "9vLs6RccKuVv"
      },
      "execution_count": 973,
      "outputs": []
    },
    {
      "cell_type": "code",
      "source": [
        "probka_scaled.shape"
      ],
      "metadata": {
        "id": "1T1YWxdbMVVc",
        "colab": {
          "base_uri": "https://localhost:8080/"
        },
        "outputId": "862baccc-1ee1-4618-8378-afb0c81b9706"
      },
      "execution_count": 974,
      "outputs": [
        {
          "output_type": "execute_result",
          "data": {
            "text/plain": [
              "(619, 13)"
            ]
          },
          "metadata": {},
          "execution_count": 974
        }
      ]
    },
    {
      "cell_type": "code",
      "source": [
        "predictions = model.predict(np.array([probka_scaled]))"
      ],
      "metadata": {
        "id": "Aw3Qyb1OLqkL",
        "colab": {
          "base_uri": "https://localhost:8080/"
        },
        "outputId": "72957dba-3098-4c93-a1fe-aa824a389c61"
      },
      "execution_count": 975,
      "outputs": [
        {
          "output_type": "stream",
          "name": "stdout",
          "text": [
            "\u001b[1m1/1\u001b[0m \u001b[32m━━━━━━━━━━━━━━━━━━━━\u001b[0m\u001b[37m\u001b[0m \u001b[1m0s\u001b[0m 241ms/step\n"
          ]
        }
      ]
    },
    {
      "cell_type": "code",
      "source": [
        "predictions.shape"
      ],
      "metadata": {
        "id": "5oJmA1IvNXxM",
        "colab": {
          "base_uri": "https://localhost:8080/"
        },
        "outputId": "ae284d0e-f6cb-4c5c-a994-49e9c69f2ba6"
      },
      "execution_count": 976,
      "outputs": [
        {
          "output_type": "execute_result",
          "data": {
            "text/plain": [
              "(1, 1)"
            ]
          },
          "metadata": {},
          "execution_count": 976
        }
      ]
    },
    {
      "cell_type": "code",
      "source": [
        "predictions = predictions.reshape(1)"
      ],
      "metadata": {
        "id": "jyzlpNVpNjhT"
      },
      "execution_count": 977,
      "outputs": []
    },
    {
      "cell_type": "code",
      "source": [
        "predictions_rescaled = scaler.inverse_transform(np.concatenate([np.zeros((predictions.shape[0], 12)), predictions.reshape(-1, 1)], axis=1))[:, -1]"
      ],
      "metadata": {
        "id": "dT3t5XweL9Kt"
      },
      "execution_count": 978,
      "outputs": []
    },
    {
      "cell_type": "code",
      "source": [
        "predictions_rescaled"
      ],
      "metadata": {
        "id": "aeRfHk2GNs44",
        "colab": {
          "base_uri": "https://localhost:8080/"
        },
        "outputId": "b5135eed-b7ff-4c3b-c2a8-6f53b2d91e69"
      },
      "execution_count": 979,
      "outputs": [
        {
          "output_type": "execute_result",
          "data": {
            "text/plain": [
              "array([108.40427082])"
            ]
          },
          "metadata": {},
          "execution_count": 979
        }
      ]
    },
    {
      "cell_type": "code",
      "source": [
        "# Przekształcamy tablicę na pionowy format\n",
        "def make_vertical(arr):\n",
        "    if arr.ndim == 1:\n",
        "        arr = arr.reshape(-1, 1)\n",
        "    return arr\n",
        "\n",
        "# Uzyskujemy pionowy format\n",
        "predictions_vertical = make_vertical(predictions_rescaled)\n",
        "\n",
        "# Wyświetlamy tablicę pionowo bez nawiasów\n",
        "for value in predictions_vertical:\n",
        "    print(value[0])"
      ],
      "metadata": {
        "id": "gatOvrN3Nu6h",
        "colab": {
          "base_uri": "https://localhost:8080/"
        },
        "outputId": "226fad34-6a65-4b65-ecda-8e2f3fdac333"
      },
      "execution_count": 980,
      "outputs": [
        {
          "output_type": "stream",
          "name": "stdout",
          "text": [
            "108.40427081942559\n"
          ]
        }
      ]
    },
    {
      "cell_type": "code",
      "source": [],
      "metadata": {
        "id": "hVFPHvXRk9x-"
      },
      "execution_count": 980,
      "outputs": []
    }
  ]
}