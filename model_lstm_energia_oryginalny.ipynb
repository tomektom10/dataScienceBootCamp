{
  "nbformat": 4,
  "nbformat_minor": 0,
  "metadata": {
    "colab": {
      "provenance": [],
      "machine_shape": "hm",
      "gpuType": "A100",
      "authorship_tag": "ABX9TyNj0fu5dmNfjbxvd6xHh/29",
      "include_colab_link": true
    },
    "kernelspec": {
      "name": "python3",
      "display_name": "Python 3"
    },
    "language_info": {
      "name": "python"
    },
    "accelerator": "GPU"
  },
  "cells": [
    {
      "cell_type": "markdown",
      "metadata": {
        "id": "view-in-github",
        "colab_type": "text"
      },
      "source": [
        "<a href=\"https://colab.research.google.com/github/tomektom10/dataScienceBootCamp/blob/main/model_lstm_energia_oryginalny.ipynb\" target=\"_parent\"><img src=\"https://colab.research.google.com/assets/colab-badge.svg\" alt=\"Open In Colab\"/></a>"
      ]
    },
    {
      "cell_type": "code",
      "source": [
        "\n",
        "from sklearn.model_selection import train_test_split\n",
        "from sklearn.preprocessing import MinMaxScaler"
      ],
      "metadata": {
        "id": "RgaLieSWELoL"
      },
      "execution_count": 102,
      "outputs": []
    },
    {
      "cell_type": "code",
      "execution_count": 103,
      "metadata": {
        "id": "B6bZFIBhA7L-"
      },
      "outputs": [],
      "source": [
        "import pandas as pd\n",
        "import pandas as pd\n",
        "import numpy as np\n",
        "df = pd.read_excel(\"PROGNOZY + dane_na_model + dni.xlsx\")"
      ]
    },
    {
      "cell_type": "code",
      "source": [
        "df"
      ],
      "metadata": {
        "colab": {
          "base_uri": "https://localhost:8080/",
          "height": 930
        },
        "id": "IO84NLxFBGOG",
        "outputId": "2131af59-d585-4f43-a674-4f3bd6d5c04a"
      },
      "execution_count": 104,
      "outputs": [
        {
          "output_type": "execute_result",
          "data": {
            "text/plain": [
              "                 Datetime  Hour  Day  SK Backcast  SK Residual Load Backcast  \\\n",
              "0     2023-01-01 00:00:00     1    7         1.47                     2259.6   \n",
              "1     2023-01-01 01:00:00     2    7        -1.24                     2221.9   \n",
              "2     2023-01-01 02:00:00     3    7        -1.69                     2164.5   \n",
              "3     2023-01-01 03:00:00     4    7        -3.52                     2086.6   \n",
              "4     2023-01-01 04:00:00     5    7        -3.14                     2074.1   \n",
              "...                   ...   ...  ...          ...                        ...   \n",
              "13865 2024-07-31 19:00:00    20    3       126.10                     2884.8   \n",
              "13866 2024-07-31 20:00:00    21    3       161.32                     2937.5   \n",
              "13867 2024-07-31 21:00:00    22    3       116.30                     2860.2   \n",
              "13868 2024-07-31 22:00:00    23    3       102.43                     2687.7   \n",
              "13869 2024-07-31 23:00:00    24    3        89.53                     2531.7   \n",
              "\n",
              "       SK Residual Production Backcast  \\\n",
              "0                                323.9   \n",
              "1                                346.4   \n",
              "2                                129.3   \n",
              "3                                175.5   \n",
              "4                                211.7   \n",
              "...                                ...   \n",
              "13865                           1375.8   \n",
              "13866                           1361.0   \n",
              "13867                           1448.5   \n",
              "13868                           1323.4   \n",
              "13869                           1281.7   \n",
              "\n",
              "       SK Exchange Day-Ahead Schedule Net Export MWh/h H Backcast  \\\n",
              "0                                                   -1.3            \n",
              "1                                                   58.5            \n",
              "2                                                  -98.9            \n",
              "3                                                   24.1            \n",
              "4                                                   71.7            \n",
              "...                                                  ...            \n",
              "13865                                              391.1            \n",
              "13866                                              330.8            \n",
              "13867                                              506.9            \n",
              "13868                                              534.4            \n",
              "13869                                              622.6            \n",
              "\n",
              "       SK Consumption MWh/h 15min Backcast  \\\n",
              "0                                   2259.6   \n",
              "1                                   2221.9   \n",
              "2                                   2164.5   \n",
              "3                                   2086.6   \n",
              "4                                   2074.1   \n",
              "...                                    ...   \n",
              "13865                               2903.9   \n",
              "13866                               2938.2   \n",
              "13867                               2860.2   \n",
              "13868                               2687.7   \n",
              "13869                               2531.7   \n",
              "\n",
              "       SK Nuclear Production MWh/h 15min Backcast  \\\n",
              "0                                          1940.0   \n",
              "1                                          1940.0   \n",
              "2                                          1940.0   \n",
              "3                                          1940.0   \n",
              "4                                          1940.0   \n",
              "...                                           ...   \n",
              "13865                                      1940.0   \n",
              "13866                                      1940.0   \n",
              "13867                                      1940.0   \n",
              "13868                                      1940.0   \n",
              "13869                                      1940.0   \n",
              "\n",
              "       SK Solar Photovoltaic Production MWh/h 15min Backcast  ...  \\\n",
              "0                                                    0.0      ...   \n",
              "1                                                    0.0      ...   \n",
              "2                                                    0.0      ...   \n",
              "3                                                    0.0      ...   \n",
              "4                                                    0.0      ...   \n",
              "...                                                  ...      ...   \n",
              "13865                                               19.1      ...   \n",
              "13866                                                0.8      ...   \n",
              "13867                                                0.0      ...   \n",
              "13868                                                0.0      ...   \n",
              "13869                                                0.0      ...   \n",
              "\n",
              "       PL>SK Exchange Day-Ahead Schedule MWh/h H Backcast  \\\n",
              "0                                                   -0.3    \n",
              "1                                                   -0.3    \n",
              "2                                                   -0.3    \n",
              "3                                                   -0.3    \n",
              "4                                                   -0.3    \n",
              "...                                                  ...    \n",
              "13865                                            -1500.0    \n",
              "13866                                            -1500.0    \n",
              "13867                                            -1500.0    \n",
              "13868                                            -1500.0    \n",
              "13869                                             -683.5    \n",
              "\n",
              "       SK>HU Exchange Day-Ahead Schedule MWh/h H Backcast  \\\n",
              "0                                                 1300.0    \n",
              "1                                                 1300.0    \n",
              "2                                                 1300.0    \n",
              "3                                                 1300.0    \n",
              "4                                                 1300.0    \n",
              "...                                                  ...    \n",
              "13865                                                0.0    \n",
              "13866                                                0.0    \n",
              "13867                                                0.0    \n",
              "13868                                                0.0    \n",
              "13869                                                0.0    \n",
              "\n",
              "       SK>PL Exchange Day-Ahead Schedule MWh/h H Backcast  \\\n",
              "0                                                    0.3    \n",
              "1                                                    0.3    \n",
              "2                                                    0.3    \n",
              "3                                                    0.3    \n",
              "4                                                    0.3    \n",
              "...                                                  ...    \n",
              "13865                                             1500.0    \n",
              "13866                                             1500.0    \n",
              "13867                                             1500.0    \n",
              "13868                                             1500.0    \n",
              "13869                                              683.5    \n",
              "\n",
              "       CZ>SK Exchange Day-Ahead Schedule MWh/h H Backcast  \\\n",
              "0                                                 1301.5    \n",
              "1                                                 1241.7    \n",
              "2                                                 1399.2    \n",
              "3                                                 1276.2    \n",
              "4                                                 1228.6    \n",
              "...                                                  ...    \n",
              "13865                                             1308.9    \n",
              "13866                                             1369.2    \n",
              "13867                                             1193.1    \n",
              "13868                                             1165.6    \n",
              "13869                                              260.9    \n",
              "\n",
              "       SK>CZ Exchange Day-Ahead Schedule MWh/h H Backcast     Bilans  \\\n",
              "0                                                -1301.5    -5.00000   \n",
              "1                                                -1241.7    -4.99750   \n",
              "2                                                -1399.2    -5.00000   \n",
              "3                                                -1276.2    -5.00000   \n",
              "4                                                -1228.6    -5.00000   \n",
              "...                                                  ...         ...   \n",
              "13865                                            -1308.9   307.98750   \n",
              "13866                                            -1369.2   133.26250   \n",
              "13867                                            -1193.1   251.44005   \n",
              "13868                                            -1165.6   400.00875   \n",
              "13869                                             -260.9   258.21750   \n",
              "\n",
              "       Weighted average price of all trades (EUR/MWh)  \\\n",
              "0                                               18.93   \n",
              "1                                                1.35   \n",
              "2                                                2.05   \n",
              "3                                                2.26   \n",
              "4                                                3.12   \n",
              "...                                               ...   \n",
              "13865                                          170.96   \n",
              "13866                                          158.80   \n",
              "13867                                          177.99   \n",
              "13868                                          139.59   \n",
              "13869                                          131.97   \n",
              "\n",
              "       Minimal price (EUR/MWh)  Maximal price (EUR/MWh)  Price SK (EUR/MWh)  \n",
              "0                         7.00                    30.26               20.26  \n",
              "1                         0.30                    10.33                0.33  \n",
              "2                         0.50                    10.50                0.50  \n",
              "3                         0.00                    10.50                0.50  \n",
              "4                         0.00                    10.10                0.10  \n",
              "...                        ...                      ...                 ...  \n",
              "13865                   124.01                   194.00               94.80  \n",
              "13866                   150.00                   167.79              173.31  \n",
              "13867                   130.51                   202.93               97.29  \n",
              "13868                    80.01                   169.31              106.68  \n",
              "13869                    76.07                   179.00               96.06  \n",
              "\n",
              "[13870 rows x 21 columns]"
            ],
            "text/html": [
              "\n",
              "  <div id=\"df-cc051ace-033a-4368-a1d3-b32f816ebec1\" class=\"colab-df-container\">\n",
              "    <div>\n",
              "<style scoped>\n",
              "    .dataframe tbody tr th:only-of-type {\n",
              "        vertical-align: middle;\n",
              "    }\n",
              "\n",
              "    .dataframe tbody tr th {\n",
              "        vertical-align: top;\n",
              "    }\n",
              "\n",
              "    .dataframe thead th {\n",
              "        text-align: right;\n",
              "    }\n",
              "</style>\n",
              "<table border=\"1\" class=\"dataframe\">\n",
              "  <thead>\n",
              "    <tr style=\"text-align: right;\">\n",
              "      <th></th>\n",
              "      <th>Datetime</th>\n",
              "      <th>Hour</th>\n",
              "      <th>Day</th>\n",
              "      <th>SK Backcast</th>\n",
              "      <th>SK Residual Load Backcast</th>\n",
              "      <th>SK Residual Production Backcast</th>\n",
              "      <th>SK Exchange Day-Ahead Schedule Net Export MWh/h H Backcast</th>\n",
              "      <th>SK Consumption MWh/h 15min Backcast</th>\n",
              "      <th>SK Nuclear Production MWh/h 15min Backcast</th>\n",
              "      <th>SK Solar Photovoltaic Production MWh/h 15min Backcast</th>\n",
              "      <th>...</th>\n",
              "      <th>PL&gt;SK Exchange Day-Ahead Schedule MWh/h H Backcast</th>\n",
              "      <th>SK&gt;HU Exchange Day-Ahead Schedule MWh/h H Backcast</th>\n",
              "      <th>SK&gt;PL Exchange Day-Ahead Schedule MWh/h H Backcast</th>\n",
              "      <th>CZ&gt;SK Exchange Day-Ahead Schedule MWh/h H Backcast</th>\n",
              "      <th>SK&gt;CZ Exchange Day-Ahead Schedule MWh/h H Backcast</th>\n",
              "      <th>Bilans</th>\n",
              "      <th>Weighted average price of all trades (EUR/MWh)</th>\n",
              "      <th>Minimal price (EUR/MWh)</th>\n",
              "      <th>Maximal price (EUR/MWh)</th>\n",
              "      <th>Price SK (EUR/MWh)</th>\n",
              "    </tr>\n",
              "  </thead>\n",
              "  <tbody>\n",
              "    <tr>\n",
              "      <th>0</th>\n",
              "      <td>2023-01-01 00:00:00</td>\n",
              "      <td>1</td>\n",
              "      <td>7</td>\n",
              "      <td>1.47</td>\n",
              "      <td>2259.6</td>\n",
              "      <td>323.9</td>\n",
              "      <td>-1.3</td>\n",
              "      <td>2259.6</td>\n",
              "      <td>1940.0</td>\n",
              "      <td>0.0</td>\n",
              "      <td>...</td>\n",
              "      <td>-0.3</td>\n",
              "      <td>1300.0</td>\n",
              "      <td>0.3</td>\n",
              "      <td>1301.5</td>\n",
              "      <td>-1301.5</td>\n",
              "      <td>-5.00000</td>\n",
              "      <td>18.93</td>\n",
              "      <td>7.00</td>\n",
              "      <td>30.26</td>\n",
              "      <td>20.26</td>\n",
              "    </tr>\n",
              "    <tr>\n",
              "      <th>1</th>\n",
              "      <td>2023-01-01 01:00:00</td>\n",
              "      <td>2</td>\n",
              "      <td>7</td>\n",
              "      <td>-1.24</td>\n",
              "      <td>2221.9</td>\n",
              "      <td>346.4</td>\n",
              "      <td>58.5</td>\n",
              "      <td>2221.9</td>\n",
              "      <td>1940.0</td>\n",
              "      <td>0.0</td>\n",
              "      <td>...</td>\n",
              "      <td>-0.3</td>\n",
              "      <td>1300.0</td>\n",
              "      <td>0.3</td>\n",
              "      <td>1241.7</td>\n",
              "      <td>-1241.7</td>\n",
              "      <td>-4.99750</td>\n",
              "      <td>1.35</td>\n",
              "      <td>0.30</td>\n",
              "      <td>10.33</td>\n",
              "      <td>0.33</td>\n",
              "    </tr>\n",
              "    <tr>\n",
              "      <th>2</th>\n",
              "      <td>2023-01-01 02:00:00</td>\n",
              "      <td>3</td>\n",
              "      <td>7</td>\n",
              "      <td>-1.69</td>\n",
              "      <td>2164.5</td>\n",
              "      <td>129.3</td>\n",
              "      <td>-98.9</td>\n",
              "      <td>2164.5</td>\n",
              "      <td>1940.0</td>\n",
              "      <td>0.0</td>\n",
              "      <td>...</td>\n",
              "      <td>-0.3</td>\n",
              "      <td>1300.0</td>\n",
              "      <td>0.3</td>\n",
              "      <td>1399.2</td>\n",
              "      <td>-1399.2</td>\n",
              "      <td>-5.00000</td>\n",
              "      <td>2.05</td>\n",
              "      <td>0.50</td>\n",
              "      <td>10.50</td>\n",
              "      <td>0.50</td>\n",
              "    </tr>\n",
              "    <tr>\n",
              "      <th>3</th>\n",
              "      <td>2023-01-01 03:00:00</td>\n",
              "      <td>4</td>\n",
              "      <td>7</td>\n",
              "      <td>-3.52</td>\n",
              "      <td>2086.6</td>\n",
              "      <td>175.5</td>\n",
              "      <td>24.1</td>\n",
              "      <td>2086.6</td>\n",
              "      <td>1940.0</td>\n",
              "      <td>0.0</td>\n",
              "      <td>...</td>\n",
              "      <td>-0.3</td>\n",
              "      <td>1300.0</td>\n",
              "      <td>0.3</td>\n",
              "      <td>1276.2</td>\n",
              "      <td>-1276.2</td>\n",
              "      <td>-5.00000</td>\n",
              "      <td>2.26</td>\n",
              "      <td>0.00</td>\n",
              "      <td>10.50</td>\n",
              "      <td>0.50</td>\n",
              "    </tr>\n",
              "    <tr>\n",
              "      <th>4</th>\n",
              "      <td>2023-01-01 04:00:00</td>\n",
              "      <td>5</td>\n",
              "      <td>7</td>\n",
              "      <td>-3.14</td>\n",
              "      <td>2074.1</td>\n",
              "      <td>211.7</td>\n",
              "      <td>71.7</td>\n",
              "      <td>2074.1</td>\n",
              "      <td>1940.0</td>\n",
              "      <td>0.0</td>\n",
              "      <td>...</td>\n",
              "      <td>-0.3</td>\n",
              "      <td>1300.0</td>\n",
              "      <td>0.3</td>\n",
              "      <td>1228.6</td>\n",
              "      <td>-1228.6</td>\n",
              "      <td>-5.00000</td>\n",
              "      <td>3.12</td>\n",
              "      <td>0.00</td>\n",
              "      <td>10.10</td>\n",
              "      <td>0.10</td>\n",
              "    </tr>\n",
              "    <tr>\n",
              "      <th>...</th>\n",
              "      <td>...</td>\n",
              "      <td>...</td>\n",
              "      <td>...</td>\n",
              "      <td>...</td>\n",
              "      <td>...</td>\n",
              "      <td>...</td>\n",
              "      <td>...</td>\n",
              "      <td>...</td>\n",
              "      <td>...</td>\n",
              "      <td>...</td>\n",
              "      <td>...</td>\n",
              "      <td>...</td>\n",
              "      <td>...</td>\n",
              "      <td>...</td>\n",
              "      <td>...</td>\n",
              "      <td>...</td>\n",
              "      <td>...</td>\n",
              "      <td>...</td>\n",
              "      <td>...</td>\n",
              "      <td>...</td>\n",
              "      <td>...</td>\n",
              "    </tr>\n",
              "    <tr>\n",
              "      <th>13865</th>\n",
              "      <td>2024-07-31 19:00:00</td>\n",
              "      <td>20</td>\n",
              "      <td>3</td>\n",
              "      <td>126.10</td>\n",
              "      <td>2884.8</td>\n",
              "      <td>1375.8</td>\n",
              "      <td>391.1</td>\n",
              "      <td>2903.9</td>\n",
              "      <td>1940.0</td>\n",
              "      <td>19.1</td>\n",
              "      <td>...</td>\n",
              "      <td>-1500.0</td>\n",
              "      <td>0.0</td>\n",
              "      <td>1500.0</td>\n",
              "      <td>1308.9</td>\n",
              "      <td>-1308.9</td>\n",
              "      <td>307.98750</td>\n",
              "      <td>170.96</td>\n",
              "      <td>124.01</td>\n",
              "      <td>194.00</td>\n",
              "      <td>94.80</td>\n",
              "    </tr>\n",
              "    <tr>\n",
              "      <th>13866</th>\n",
              "      <td>2024-07-31 20:00:00</td>\n",
              "      <td>21</td>\n",
              "      <td>3</td>\n",
              "      <td>161.32</td>\n",
              "      <td>2937.5</td>\n",
              "      <td>1361.0</td>\n",
              "      <td>330.8</td>\n",
              "      <td>2938.2</td>\n",
              "      <td>1940.0</td>\n",
              "      <td>0.8</td>\n",
              "      <td>...</td>\n",
              "      <td>-1500.0</td>\n",
              "      <td>0.0</td>\n",
              "      <td>1500.0</td>\n",
              "      <td>1369.2</td>\n",
              "      <td>-1369.2</td>\n",
              "      <td>133.26250</td>\n",
              "      <td>158.80</td>\n",
              "      <td>150.00</td>\n",
              "      <td>167.79</td>\n",
              "      <td>173.31</td>\n",
              "    </tr>\n",
              "    <tr>\n",
              "      <th>13867</th>\n",
              "      <td>2024-07-31 21:00:00</td>\n",
              "      <td>22</td>\n",
              "      <td>3</td>\n",
              "      <td>116.30</td>\n",
              "      <td>2860.2</td>\n",
              "      <td>1448.5</td>\n",
              "      <td>506.9</td>\n",
              "      <td>2860.2</td>\n",
              "      <td>1940.0</td>\n",
              "      <td>0.0</td>\n",
              "      <td>...</td>\n",
              "      <td>-1500.0</td>\n",
              "      <td>0.0</td>\n",
              "      <td>1500.0</td>\n",
              "      <td>1193.1</td>\n",
              "      <td>-1193.1</td>\n",
              "      <td>251.44005</td>\n",
              "      <td>177.99</td>\n",
              "      <td>130.51</td>\n",
              "      <td>202.93</td>\n",
              "      <td>97.29</td>\n",
              "    </tr>\n",
              "    <tr>\n",
              "      <th>13868</th>\n",
              "      <td>2024-07-31 22:00:00</td>\n",
              "      <td>23</td>\n",
              "      <td>3</td>\n",
              "      <td>102.43</td>\n",
              "      <td>2687.7</td>\n",
              "      <td>1323.4</td>\n",
              "      <td>534.4</td>\n",
              "      <td>2687.7</td>\n",
              "      <td>1940.0</td>\n",
              "      <td>0.0</td>\n",
              "      <td>...</td>\n",
              "      <td>-1500.0</td>\n",
              "      <td>0.0</td>\n",
              "      <td>1500.0</td>\n",
              "      <td>1165.6</td>\n",
              "      <td>-1165.6</td>\n",
              "      <td>400.00875</td>\n",
              "      <td>139.59</td>\n",
              "      <td>80.01</td>\n",
              "      <td>169.31</td>\n",
              "      <td>106.68</td>\n",
              "    </tr>\n",
              "    <tr>\n",
              "      <th>13869</th>\n",
              "      <td>2024-07-31 23:00:00</td>\n",
              "      <td>24</td>\n",
              "      <td>3</td>\n",
              "      <td>89.53</td>\n",
              "      <td>2531.7</td>\n",
              "      <td>1281.7</td>\n",
              "      <td>622.6</td>\n",
              "      <td>2531.7</td>\n",
              "      <td>1940.0</td>\n",
              "      <td>0.0</td>\n",
              "      <td>...</td>\n",
              "      <td>-683.5</td>\n",
              "      <td>0.0</td>\n",
              "      <td>683.5</td>\n",
              "      <td>260.9</td>\n",
              "      <td>-260.9</td>\n",
              "      <td>258.21750</td>\n",
              "      <td>131.97</td>\n",
              "      <td>76.07</td>\n",
              "      <td>179.00</td>\n",
              "      <td>96.06</td>\n",
              "    </tr>\n",
              "  </tbody>\n",
              "</table>\n",
              "<p>13870 rows × 21 columns</p>\n",
              "</div>\n",
              "    <div class=\"colab-df-buttons\">\n",
              "\n",
              "  <div class=\"colab-df-container\">\n",
              "    <button class=\"colab-df-convert\" onclick=\"convertToInteractive('df-cc051ace-033a-4368-a1d3-b32f816ebec1')\"\n",
              "            title=\"Convert this dataframe to an interactive table.\"\n",
              "            style=\"display:none;\">\n",
              "\n",
              "  <svg xmlns=\"http://www.w3.org/2000/svg\" height=\"24px\" viewBox=\"0 -960 960 960\">\n",
              "    <path d=\"M120-120v-720h720v720H120Zm60-500h600v-160H180v160Zm220 220h160v-160H400v160Zm0 220h160v-160H400v160ZM180-400h160v-160H180v160Zm440 0h160v-160H620v160ZM180-180h160v-160H180v160Zm440 0h160v-160H620v160Z\"/>\n",
              "  </svg>\n",
              "    </button>\n",
              "\n",
              "  <style>\n",
              "    .colab-df-container {\n",
              "      display:flex;\n",
              "      gap: 12px;\n",
              "    }\n",
              "\n",
              "    .colab-df-convert {\n",
              "      background-color: #E8F0FE;\n",
              "      border: none;\n",
              "      border-radius: 50%;\n",
              "      cursor: pointer;\n",
              "      display: none;\n",
              "      fill: #1967D2;\n",
              "      height: 32px;\n",
              "      padding: 0 0 0 0;\n",
              "      width: 32px;\n",
              "    }\n",
              "\n",
              "    .colab-df-convert:hover {\n",
              "      background-color: #E2EBFA;\n",
              "      box-shadow: 0px 1px 2px rgba(60, 64, 67, 0.3), 0px 1px 3px 1px rgba(60, 64, 67, 0.15);\n",
              "      fill: #174EA6;\n",
              "    }\n",
              "\n",
              "    .colab-df-buttons div {\n",
              "      margin-bottom: 4px;\n",
              "    }\n",
              "\n",
              "    [theme=dark] .colab-df-convert {\n",
              "      background-color: #3B4455;\n",
              "      fill: #D2E3FC;\n",
              "    }\n",
              "\n",
              "    [theme=dark] .colab-df-convert:hover {\n",
              "      background-color: #434B5C;\n",
              "      box-shadow: 0px 1px 3px 1px rgba(0, 0, 0, 0.15);\n",
              "      filter: drop-shadow(0px 1px 2px rgba(0, 0, 0, 0.3));\n",
              "      fill: #FFFFFF;\n",
              "    }\n",
              "  </style>\n",
              "\n",
              "    <script>\n",
              "      const buttonEl =\n",
              "        document.querySelector('#df-cc051ace-033a-4368-a1d3-b32f816ebec1 button.colab-df-convert');\n",
              "      buttonEl.style.display =\n",
              "        google.colab.kernel.accessAllowed ? 'block' : 'none';\n",
              "\n",
              "      async function convertToInteractive(key) {\n",
              "        const element = document.querySelector('#df-cc051ace-033a-4368-a1d3-b32f816ebec1');\n",
              "        const dataTable =\n",
              "          await google.colab.kernel.invokeFunction('convertToInteractive',\n",
              "                                                    [key], {});\n",
              "        if (!dataTable) return;\n",
              "\n",
              "        const docLinkHtml = 'Like what you see? Visit the ' +\n",
              "          '<a target=\"_blank\" href=https://colab.research.google.com/notebooks/data_table.ipynb>data table notebook</a>'\n",
              "          + ' to learn more about interactive tables.';\n",
              "        element.innerHTML = '';\n",
              "        dataTable['output_type'] = 'display_data';\n",
              "        await google.colab.output.renderOutput(dataTable, element);\n",
              "        const docLink = document.createElement('div');\n",
              "        docLink.innerHTML = docLinkHtml;\n",
              "        element.appendChild(docLink);\n",
              "      }\n",
              "    </script>\n",
              "  </div>\n",
              "\n",
              "\n",
              "<div id=\"df-db7f4829-87da-4dac-98b0-6d0b9c8e1185\">\n",
              "  <button class=\"colab-df-quickchart\" onclick=\"quickchart('df-db7f4829-87da-4dac-98b0-6d0b9c8e1185')\"\n",
              "            title=\"Suggest charts\"\n",
              "            style=\"display:none;\">\n",
              "\n",
              "<svg xmlns=\"http://www.w3.org/2000/svg\" height=\"24px\"viewBox=\"0 0 24 24\"\n",
              "     width=\"24px\">\n",
              "    <g>\n",
              "        <path d=\"M19 3H5c-1.1 0-2 .9-2 2v14c0 1.1.9 2 2 2h14c1.1 0 2-.9 2-2V5c0-1.1-.9-2-2-2zM9 17H7v-7h2v7zm4 0h-2V7h2v10zm4 0h-2v-4h2v4z\"/>\n",
              "    </g>\n",
              "</svg>\n",
              "  </button>\n",
              "\n",
              "<style>\n",
              "  .colab-df-quickchart {\n",
              "      --bg-color: #E8F0FE;\n",
              "      --fill-color: #1967D2;\n",
              "      --hover-bg-color: #E2EBFA;\n",
              "      --hover-fill-color: #174EA6;\n",
              "      --disabled-fill-color: #AAA;\n",
              "      --disabled-bg-color: #DDD;\n",
              "  }\n",
              "\n",
              "  [theme=dark] .colab-df-quickchart {\n",
              "      --bg-color: #3B4455;\n",
              "      --fill-color: #D2E3FC;\n",
              "      --hover-bg-color: #434B5C;\n",
              "      --hover-fill-color: #FFFFFF;\n",
              "      --disabled-bg-color: #3B4455;\n",
              "      --disabled-fill-color: #666;\n",
              "  }\n",
              "\n",
              "  .colab-df-quickchart {\n",
              "    background-color: var(--bg-color);\n",
              "    border: none;\n",
              "    border-radius: 50%;\n",
              "    cursor: pointer;\n",
              "    display: none;\n",
              "    fill: var(--fill-color);\n",
              "    height: 32px;\n",
              "    padding: 0;\n",
              "    width: 32px;\n",
              "  }\n",
              "\n",
              "  .colab-df-quickchart:hover {\n",
              "    background-color: var(--hover-bg-color);\n",
              "    box-shadow: 0 1px 2px rgba(60, 64, 67, 0.3), 0 1px 3px 1px rgba(60, 64, 67, 0.15);\n",
              "    fill: var(--button-hover-fill-color);\n",
              "  }\n",
              "\n",
              "  .colab-df-quickchart-complete:disabled,\n",
              "  .colab-df-quickchart-complete:disabled:hover {\n",
              "    background-color: var(--disabled-bg-color);\n",
              "    fill: var(--disabled-fill-color);\n",
              "    box-shadow: none;\n",
              "  }\n",
              "\n",
              "  .colab-df-spinner {\n",
              "    border: 2px solid var(--fill-color);\n",
              "    border-color: transparent;\n",
              "    border-bottom-color: var(--fill-color);\n",
              "    animation:\n",
              "      spin 1s steps(1) infinite;\n",
              "  }\n",
              "\n",
              "  @keyframes spin {\n",
              "    0% {\n",
              "      border-color: transparent;\n",
              "      border-bottom-color: var(--fill-color);\n",
              "      border-left-color: var(--fill-color);\n",
              "    }\n",
              "    20% {\n",
              "      border-color: transparent;\n",
              "      border-left-color: var(--fill-color);\n",
              "      border-top-color: var(--fill-color);\n",
              "    }\n",
              "    30% {\n",
              "      border-color: transparent;\n",
              "      border-left-color: var(--fill-color);\n",
              "      border-top-color: var(--fill-color);\n",
              "      border-right-color: var(--fill-color);\n",
              "    }\n",
              "    40% {\n",
              "      border-color: transparent;\n",
              "      border-right-color: var(--fill-color);\n",
              "      border-top-color: var(--fill-color);\n",
              "    }\n",
              "    60% {\n",
              "      border-color: transparent;\n",
              "      border-right-color: var(--fill-color);\n",
              "    }\n",
              "    80% {\n",
              "      border-color: transparent;\n",
              "      border-right-color: var(--fill-color);\n",
              "      border-bottom-color: var(--fill-color);\n",
              "    }\n",
              "    90% {\n",
              "      border-color: transparent;\n",
              "      border-bottom-color: var(--fill-color);\n",
              "    }\n",
              "  }\n",
              "</style>\n",
              "\n",
              "  <script>\n",
              "    async function quickchart(key) {\n",
              "      const quickchartButtonEl =\n",
              "        document.querySelector('#' + key + ' button');\n",
              "      quickchartButtonEl.disabled = true;  // To prevent multiple clicks.\n",
              "      quickchartButtonEl.classList.add('colab-df-spinner');\n",
              "      try {\n",
              "        const charts = await google.colab.kernel.invokeFunction(\n",
              "            'suggestCharts', [key], {});\n",
              "      } catch (error) {\n",
              "        console.error('Error during call to suggestCharts:', error);\n",
              "      }\n",
              "      quickchartButtonEl.classList.remove('colab-df-spinner');\n",
              "      quickchartButtonEl.classList.add('colab-df-quickchart-complete');\n",
              "    }\n",
              "    (() => {\n",
              "      let quickchartButtonEl =\n",
              "        document.querySelector('#df-db7f4829-87da-4dac-98b0-6d0b9c8e1185 button');\n",
              "      quickchartButtonEl.style.display =\n",
              "        google.colab.kernel.accessAllowed ? 'block' : 'none';\n",
              "    })();\n",
              "  </script>\n",
              "</div>\n",
              "\n",
              "  <div id=\"id_fc892e07-f2b2-430a-8a9d-a6a5eeafb826\">\n",
              "    <style>\n",
              "      .colab-df-generate {\n",
              "        background-color: #E8F0FE;\n",
              "        border: none;\n",
              "        border-radius: 50%;\n",
              "        cursor: pointer;\n",
              "        display: none;\n",
              "        fill: #1967D2;\n",
              "        height: 32px;\n",
              "        padding: 0 0 0 0;\n",
              "        width: 32px;\n",
              "      }\n",
              "\n",
              "      .colab-df-generate:hover {\n",
              "        background-color: #E2EBFA;\n",
              "        box-shadow: 0px 1px 2px rgba(60, 64, 67, 0.3), 0px 1px 3px 1px rgba(60, 64, 67, 0.15);\n",
              "        fill: #174EA6;\n",
              "      }\n",
              "\n",
              "      [theme=dark] .colab-df-generate {\n",
              "        background-color: #3B4455;\n",
              "        fill: #D2E3FC;\n",
              "      }\n",
              "\n",
              "      [theme=dark] .colab-df-generate:hover {\n",
              "        background-color: #434B5C;\n",
              "        box-shadow: 0px 1px 3px 1px rgba(0, 0, 0, 0.15);\n",
              "        filter: drop-shadow(0px 1px 2px rgba(0, 0, 0, 0.3));\n",
              "        fill: #FFFFFF;\n",
              "      }\n",
              "    </style>\n",
              "    <button class=\"colab-df-generate\" onclick=\"generateWithVariable('df')\"\n",
              "            title=\"Generate code using this dataframe.\"\n",
              "            style=\"display:none;\">\n",
              "\n",
              "  <svg xmlns=\"http://www.w3.org/2000/svg\" height=\"24px\"viewBox=\"0 0 24 24\"\n",
              "       width=\"24px\">\n",
              "    <path d=\"M7,19H8.4L18.45,9,17,7.55,7,17.6ZM5,21V16.75L18.45,3.32a2,2,0,0,1,2.83,0l1.4,1.43a1.91,1.91,0,0,1,.58,1.4,1.91,1.91,0,0,1-.58,1.4L9.25,21ZM18.45,9,17,7.55Zm-12,3A5.31,5.31,0,0,0,4.9,8.1,5.31,5.31,0,0,0,1,6.5,5.31,5.31,0,0,0,4.9,4.9,5.31,5.31,0,0,0,6.5,1,5.31,5.31,0,0,0,8.1,4.9,5.31,5.31,0,0,0,12,6.5,5.46,5.46,0,0,0,6.5,12Z\"/>\n",
              "  </svg>\n",
              "    </button>\n",
              "    <script>\n",
              "      (() => {\n",
              "      const buttonEl =\n",
              "        document.querySelector('#id_fc892e07-f2b2-430a-8a9d-a6a5eeafb826 button.colab-df-generate');\n",
              "      buttonEl.style.display =\n",
              "        google.colab.kernel.accessAllowed ? 'block' : 'none';\n",
              "\n",
              "      buttonEl.onclick = () => {\n",
              "        google.colab.notebook.generateWithVariable('df');\n",
              "      }\n",
              "      })();\n",
              "    </script>\n",
              "  </div>\n",
              "\n",
              "    </div>\n",
              "  </div>\n"
            ],
            "application/vnd.google.colaboratory.intrinsic+json": {
              "type": "dataframe",
              "variable_name": "df"
            }
          },
          "metadata": {},
          "execution_count": 104
        }
      ]
    },
    {
      "cell_type": "code",
      "source": [
        "#futures=['SK Residual Production Backcast', \"SK Residual Load Backcast\", 'Weighted average price of all trades (EUR/MWh)'  ]"
      ],
      "metadata": {
        "id": "xFqDJGqeBJWT"
      },
      "execution_count": 105,
      "outputs": []
    },
    {
      "cell_type": "code",
      "source": [
        "df.columns"
      ],
      "metadata": {
        "colab": {
          "base_uri": "https://localhost:8080/"
        },
        "id": "Nl3nw3fjBh26",
        "outputId": "4f1f4c6f-206f-4c6b-8bae-50bc3fb6eba9"
      },
      "execution_count": 106,
      "outputs": [
        {
          "output_type": "execute_result",
          "data": {
            "text/plain": [
              "Index(['Datetime', 'Hour', 'Day', 'SK Backcast', 'SK Residual Load Backcast',\n",
              "       'SK Residual Production Backcast',\n",
              "       'SK Exchange Day-Ahead Schedule Net Export MWh/h H Backcast',\n",
              "       'SK Consumption MWh/h 15min Backcast',\n",
              "       'SK Nuclear Production MWh/h 15min Backcast',\n",
              "       'SK Solar Photovoltaic Production MWh/h 15min Backcast',\n",
              "       'HU>SK Exchange Day-Ahead Schedule MWh/h H Backcast',\n",
              "       'PL>SK Exchange Day-Ahead Schedule MWh/h H Backcast',\n",
              "       'SK>HU Exchange Day-Ahead Schedule MWh/h H Backcast',\n",
              "       'SK>PL Exchange Day-Ahead Schedule MWh/h H Backcast',\n",
              "       'CZ>SK Exchange Day-Ahead Schedule MWh/h H Backcast',\n",
              "       'SK>CZ Exchange Day-Ahead Schedule MWh/h H Backcast', 'Bilans',\n",
              "       'Weighted average price of all trades (EUR/MWh)',\n",
              "       'Minimal price (EUR/MWh)', 'Maximal price (EUR/MWh)',\n",
              "       'Price SK (EUR/MWh)'],\n",
              "      dtype='object')"
            ]
          },
          "metadata": {},
          "execution_count": 106
        }
      ]
    },
    {
      "cell_type": "code",
      "source": [
        "target = df['Weighted average price of all trades (EUR/MWh)'].values"
      ],
      "metadata": {
        "id": "0RaP9fThBix0"
      },
      "execution_count": 107,
      "outputs": []
    },
    {
      "cell_type": "code",
      "source": [
        "input = df[[ \"Hour\", \"Day\",  'SK Residual Production Backcast', \"SK Residual Load Backcast\", \"Weighted average price of all trades (EUR/MWh)\"]].values"
      ],
      "metadata": {
        "id": "jboJYqiUDeFq"
      },
      "execution_count": 108,
      "outputs": []
    },
    {
      "cell_type": "code",
      "source": [
        "scaler = MinMaxScaler()\n",
        "\n",
        "futures_scaled = scaler.fit_transform(input)\n",
        "\n",
        "\n"
      ],
      "metadata": {
        "id": "b_zN82Xusi6m"
      },
      "execution_count": 109,
      "outputs": []
    },
    {
      "cell_type": "code",
      "source": [
        "# Create sequences for LSTM\n",
        "def create_sequences(data, window_size, prediction_size):\n",
        "    X = []\n",
        "    y = []\n",
        "    for i in range(len(data) - window_size - prediction_size + 1):\n",
        "        X.append(data[i:(i + window_size)])\n",
        "        y.append(data[i + window_size:i + window_size + prediction_size, -1])  # Predicting only the price\n",
        "    return np.array(X), np.array(y)"
      ],
      "metadata": {
        "id": "f44LCvuwuCZW"
      },
      "execution_count": 110,
      "outputs": []
    },
    {
      "cell_type": "code",
      "source": [
        "#liczbs godzina na bazie ktorych generujemy predykcje\n",
        "window_size = 48\n",
        "\n",
        "prediction_size = 24"
      ],
      "metadata": {
        "id": "uIVNZdvuuCR3"
      },
      "execution_count": 111,
      "outputs": []
    },
    {
      "cell_type": "code",
      "source": [
        "X,y = create_sequences (futures_scaled, window_size, prediction_size)"
      ],
      "metadata": {
        "id": "bAJjWVExuX9n"
      },
      "execution_count": 112,
      "outputs": []
    },
    {
      "cell_type": "code",
      "source": [
        "X_train, X_test, y_train, y_test = train_test_split(X, y, test_size=0.2, random_state=42)"
      ],
      "metadata": {
        "id": "pBSGQVebvj8a"
      },
      "execution_count": 113,
      "outputs": []
    },
    {
      "cell_type": "code",
      "source": [
        "print(f'Shape of X_train: {X_train.shape}')\n",
        "print(f'Shape of y_train: {y_train.shape}')"
      ],
      "metadata": {
        "colab": {
          "base_uri": "https://localhost:8080/"
        },
        "id": "r-eua9FhuX4f",
        "outputId": "c8c45128-92ed-4f23-c827-b243e432c966"
      },
      "execution_count": 114,
      "outputs": [
        {
          "output_type": "stream",
          "name": "stdout",
          "text": [
            "Shape of X_train: (11039, 48, 5)\n",
            "Shape of y_train: (11039, 24)\n"
          ]
        }
      ]
    },
    {
      "cell_type": "code",
      "source": [],
      "metadata": {
        "id": "-L3aGtpFD68t"
      },
      "execution_count": 114,
      "outputs": []
    },
    {
      "cell_type": "code",
      "source": [],
      "metadata": {
        "id": "h1A-KaBQFAgS"
      },
      "execution_count": 114,
      "outputs": []
    },
    {
      "cell_type": "code",
      "source": [],
      "metadata": {
        "id": "hC70gSzaGFck"
      },
      "execution_count": 114,
      "outputs": []
    },
    {
      "cell_type": "code",
      "source": [
        "# # Przekształcenie danych do formatu akceptowalnego przez LSTM (próbki, kroki czasowe, cechy)\n",
        "# X_train = np.reshape(X_train, (X_train.shape[0], 1, X_train.shape[1]))\n",
        "# # X_test = np.reshape(X_test, (X_test.shape[0], 1, X_test.shape[1]))"
      ],
      "metadata": {
        "id": "7fujrvH1GZHs"
      },
      "execution_count": 115,
      "outputs": []
    },
    {
      "cell_type": "code",
      "source": [
        "import tensorflow as tf\n",
        "from tensorflow.keras.models import Sequential\n",
        "from tensorflow.keras.layers import LSTM, Dense, Dropout"
      ],
      "metadata": {
        "id": "x8ElScNcG8pR"
      },
      "execution_count": 116,
      "outputs": []
    },
    {
      "cell_type": "code",
      "source": [
        "# Inicjalizacja modelu LSTM\n",
        "model = Sequential()\n",
        "\n",
        "# Dodanie warstwy LSTM\n",
        "model.add(LSTM(units=6, return_sequences=False, input_shape=(X_train.shape[1], X_train.shape[2])))\n",
        "model.add(Dropout(0.2))\n",
        "\n",
        "# Dodanie kolejnej warstwy LSTM\n",
        "#model.add(LSTM(units=2, return_sequences=False))\n",
        "#model.add(Dropout(0.2))\n",
        "\n",
        "# Dodanie warstwy wyjściowej\n",
        "model.add(Dense(units = prediction_size))\n"
      ],
      "metadata": {
        "colab": {
          "base_uri": "https://localhost:8080/"
        },
        "id": "sXD6ZL9PHIVp",
        "outputId": "a58c038e-61a6-436b-cafc-6ed9d2539b72"
      },
      "execution_count": 117,
      "outputs": [
        {
          "output_type": "stream",
          "name": "stderr",
          "text": [
            "/usr/local/lib/python3.10/dist-packages/keras/src/layers/rnn/rnn.py:204: UserWarning: Do not pass an `input_shape`/`input_dim` argument to a layer. When using Sequential models, prefer using an `Input(shape)` object as the first layer in the model instead.\n",
            "  super().__init__(**kwargs)\n"
          ]
        }
      ]
    },
    {
      "cell_type": "code",
      "source": [
        "# Kompilacja modelu\n",
        "model.compile(optimizer='adam', loss='mean_squared_error')\n",
        "\n",
        "# Wyświetlenie architektury modelu\n",
        "model.summary()"
      ],
      "metadata": {
        "colab": {
          "base_uri": "https://localhost:8080/",
          "height": 238
        },
        "id": "3MvRFxgeHmw-",
        "outputId": "cbf16775-e74b-4a21-fde7-1b9a5dd32354"
      },
      "execution_count": 118,
      "outputs": [
        {
          "output_type": "display_data",
          "data": {
            "text/plain": [
              "\u001b[1mModel: \"sequential_4\"\u001b[0m\n"
            ],
            "text/html": [
              "<pre style=\"white-space:pre;overflow-x:auto;line-height:normal;font-family:Menlo,'DejaVu Sans Mono',consolas,'Courier New',monospace\"><span style=\"font-weight: bold\">Model: \"sequential_4\"</span>\n",
              "</pre>\n"
            ]
          },
          "metadata": {}
        },
        {
          "output_type": "display_data",
          "data": {
            "text/plain": [
              "┏━━━━━━━━━━━━━━━━━━━━━━━━━━━━━━━━━━━━━━┳━━━━━━━━━━━━━━━━━━━━━━━━━━━━━┳━━━━━━━━━━━━━━━━━┓\n",
              "┃\u001b[1m \u001b[0m\u001b[1mLayer (type)                        \u001b[0m\u001b[1m \u001b[0m┃\u001b[1m \u001b[0m\u001b[1mOutput Shape               \u001b[0m\u001b[1m \u001b[0m┃\u001b[1m \u001b[0m\u001b[1m        Param #\u001b[0m\u001b[1m \u001b[0m┃\n",
              "┡━━━━━━━━━━━━━━━━━━━━━━━━━━━━━━━━━━━━━━╇━━━━━━━━━━━━━━━━━━━━━━━━━━━━━╇━━━━━━━━━━━━━━━━━┩\n",
              "│ lstm_5 (\u001b[38;5;33mLSTM\u001b[0m)                        │ (\u001b[38;5;45mNone\u001b[0m, \u001b[38;5;34m6\u001b[0m)                   │             \u001b[38;5;34m288\u001b[0m │\n",
              "├──────────────────────────────────────┼─────────────────────────────┼─────────────────┤\n",
              "│ dropout_5 (\u001b[38;5;33mDropout\u001b[0m)                  │ (\u001b[38;5;45mNone\u001b[0m, \u001b[38;5;34m6\u001b[0m)                   │               \u001b[38;5;34m0\u001b[0m │\n",
              "├──────────────────────────────────────┼─────────────────────────────┼─────────────────┤\n",
              "│ dense_4 (\u001b[38;5;33mDense\u001b[0m)                      │ (\u001b[38;5;45mNone\u001b[0m, \u001b[38;5;34m24\u001b[0m)                  │             \u001b[38;5;34m168\u001b[0m │\n",
              "└──────────────────────────────────────┴─────────────────────────────┴─────────────────┘\n"
            ],
            "text/html": [
              "<pre style=\"white-space:pre;overflow-x:auto;line-height:normal;font-family:Menlo,'DejaVu Sans Mono',consolas,'Courier New',monospace\">┏━━━━━━━━━━━━━━━━━━━━━━━━━━━━━━━━━━━━━━┳━━━━━━━━━━━━━━━━━━━━━━━━━━━━━┳━━━━━━━━━━━━━━━━━┓\n",
              "┃<span style=\"font-weight: bold\"> Layer (type)                         </span>┃<span style=\"font-weight: bold\"> Output Shape                </span>┃<span style=\"font-weight: bold\">         Param # </span>┃\n",
              "┡━━━━━━━━━━━━━━━━━━━━━━━━━━━━━━━━━━━━━━╇━━━━━━━━━━━━━━━━━━━━━━━━━━━━━╇━━━━━━━━━━━━━━━━━┩\n",
              "│ lstm_5 (<span style=\"color: #0087ff; text-decoration-color: #0087ff\">LSTM</span>)                        │ (<span style=\"color: #00d7ff; text-decoration-color: #00d7ff\">None</span>, <span style=\"color: #00af00; text-decoration-color: #00af00\">6</span>)                   │             <span style=\"color: #00af00; text-decoration-color: #00af00\">288</span> │\n",
              "├──────────────────────────────────────┼─────────────────────────────┼─────────────────┤\n",
              "│ dropout_5 (<span style=\"color: #0087ff; text-decoration-color: #0087ff\">Dropout</span>)                  │ (<span style=\"color: #00d7ff; text-decoration-color: #00d7ff\">None</span>, <span style=\"color: #00af00; text-decoration-color: #00af00\">6</span>)                   │               <span style=\"color: #00af00; text-decoration-color: #00af00\">0</span> │\n",
              "├──────────────────────────────────────┼─────────────────────────────┼─────────────────┤\n",
              "│ dense_4 (<span style=\"color: #0087ff; text-decoration-color: #0087ff\">Dense</span>)                      │ (<span style=\"color: #00d7ff; text-decoration-color: #00d7ff\">None</span>, <span style=\"color: #00af00; text-decoration-color: #00af00\">24</span>)                  │             <span style=\"color: #00af00; text-decoration-color: #00af00\">168</span> │\n",
              "└──────────────────────────────────────┴─────────────────────────────┴─────────────────┘\n",
              "</pre>\n"
            ]
          },
          "metadata": {}
        },
        {
          "output_type": "display_data",
          "data": {
            "text/plain": [
              "\u001b[1m Total params: \u001b[0m\u001b[38;5;34m456\u001b[0m (1.78 KB)\n"
            ],
            "text/html": [
              "<pre style=\"white-space:pre;overflow-x:auto;line-height:normal;font-family:Menlo,'DejaVu Sans Mono',consolas,'Courier New',monospace\"><span style=\"font-weight: bold\"> Total params: </span><span style=\"color: #00af00; text-decoration-color: #00af00\">456</span> (1.78 KB)\n",
              "</pre>\n"
            ]
          },
          "metadata": {}
        },
        {
          "output_type": "display_data",
          "data": {
            "text/plain": [
              "\u001b[1m Trainable params: \u001b[0m\u001b[38;5;34m456\u001b[0m (1.78 KB)\n"
            ],
            "text/html": [
              "<pre style=\"white-space:pre;overflow-x:auto;line-height:normal;font-family:Menlo,'DejaVu Sans Mono',consolas,'Courier New',monospace\"><span style=\"font-weight: bold\"> Trainable params: </span><span style=\"color: #00af00; text-decoration-color: #00af00\">456</span> (1.78 KB)\n",
              "</pre>\n"
            ]
          },
          "metadata": {}
        },
        {
          "output_type": "display_data",
          "data": {
            "text/plain": [
              "\u001b[1m Non-trainable params: \u001b[0m\u001b[38;5;34m0\u001b[0m (0.00 B)\n"
            ],
            "text/html": [
              "<pre style=\"white-space:pre;overflow-x:auto;line-height:normal;font-family:Menlo,'DejaVu Sans Mono',consolas,'Courier New',monospace\"><span style=\"font-weight: bold\"> Non-trainable params: </span><span style=\"color: #00af00; text-decoration-color: #00af00\">0</span> (0.00 B)\n",
              "</pre>\n"
            ]
          },
          "metadata": {}
        }
      ]
    },
    {
      "cell_type": "code",
      "source": [
        "# Trenowanie modelu LSTM\n",
        "history = model.fit(X_train, y_train, epochs=20, batch_size=32, validation_data=(X_test, y_test), verbose=1)"
      ],
      "metadata": {
        "colab": {
          "base_uri": "https://localhost:8080/"
        },
        "id": "OHK21QMFIC6i",
        "outputId": "0e5d36ee-a1d7-40a7-cbb3-557bf87aed5a"
      },
      "execution_count": 119,
      "outputs": [
        {
          "output_type": "stream",
          "name": "stdout",
          "text": [
            "Epoch 1/20\n",
            "\u001b[1m345/345\u001b[0m \u001b[32m━━━━━━━━━━━━━━━━━━━━\u001b[0m\u001b[37m\u001b[0m \u001b[1m3s\u001b[0m 5ms/step - loss: 0.0992 - val_loss: 0.0035\n",
            "Epoch 2/20\n",
            "\u001b[1m345/345\u001b[0m \u001b[32m━━━━━━━━━━━━━━━━━━━━\u001b[0m\u001b[37m\u001b[0m \u001b[1m2s\u001b[0m 5ms/step - loss: 0.0078 - val_loss: 0.0024\n",
            "Epoch 3/20\n",
            "\u001b[1m345/345\u001b[0m \u001b[32m━━━━━━━━━━━━━━━━━━━━\u001b[0m\u001b[37m\u001b[0m \u001b[1m2s\u001b[0m 5ms/step - loss: 0.0041 - val_loss: 0.0021\n",
            "Epoch 4/20\n",
            "\u001b[1m345/345\u001b[0m \u001b[32m━━━━━━━━━━━━━━━━━━━━\u001b[0m\u001b[37m\u001b[0m \u001b[1m2s\u001b[0m 5ms/step - loss: 0.0031 - val_loss: 0.0020\n",
            "Epoch 5/20\n",
            "\u001b[1m345/345\u001b[0m \u001b[32m━━━━━━━━━━━━━━━━━━━━\u001b[0m\u001b[37m\u001b[0m \u001b[1m2s\u001b[0m 5ms/step - loss: 0.0026 - val_loss: 0.0020\n",
            "Epoch 6/20\n",
            "\u001b[1m345/345\u001b[0m \u001b[32m━━━━━━━━━━━━━━━━━━━━\u001b[0m\u001b[37m\u001b[0m \u001b[1m2s\u001b[0m 5ms/step - loss: 0.0024 - val_loss: 0.0019\n",
            "Epoch 7/20\n",
            "\u001b[1m345/345\u001b[0m \u001b[32m━━━━━━━━━━━━━━━━━━━━\u001b[0m\u001b[37m\u001b[0m \u001b[1m2s\u001b[0m 5ms/step - loss: 0.0022 - val_loss: 0.0019\n",
            "Epoch 8/20\n",
            "\u001b[1m345/345\u001b[0m \u001b[32m━━━━━━━━━━━━━━━━━━━━\u001b[0m\u001b[37m\u001b[0m \u001b[1m2s\u001b[0m 5ms/step - loss: 0.0020 - val_loss: 0.0018\n",
            "Epoch 9/20\n",
            "\u001b[1m345/345\u001b[0m \u001b[32m━━━━━━━━━━━━━━━━━━━━\u001b[0m\u001b[37m\u001b[0m \u001b[1m2s\u001b[0m 5ms/step - loss: 0.0019 - val_loss: 0.0017\n",
            "Epoch 10/20\n",
            "\u001b[1m345/345\u001b[0m \u001b[32m━━━━━━━━━━━━━━━━━━━━\u001b[0m\u001b[37m\u001b[0m \u001b[1m2s\u001b[0m 5ms/step - loss: 0.0019 - val_loss: 0.0017\n",
            "Epoch 11/20\n",
            "\u001b[1m345/345\u001b[0m \u001b[32m━━━━━━━━━━━━━━━━━━━━\u001b[0m\u001b[37m\u001b[0m \u001b[1m2s\u001b[0m 5ms/step - loss: 0.0017 - val_loss: 0.0017\n",
            "Epoch 12/20\n",
            "\u001b[1m345/345\u001b[0m \u001b[32m━━━━━━━━━━━━━━━━━━━━\u001b[0m\u001b[37m\u001b[0m \u001b[1m2s\u001b[0m 5ms/step - loss: 0.0018 - val_loss: 0.0016\n",
            "Epoch 13/20\n",
            "\u001b[1m345/345\u001b[0m \u001b[32m━━━━━━━━━━━━━━━━━━━━\u001b[0m\u001b[37m\u001b[0m \u001b[1m2s\u001b[0m 5ms/step - loss: 0.0018 - val_loss: 0.0016\n",
            "Epoch 14/20\n",
            "\u001b[1m345/345\u001b[0m \u001b[32m━━━━━━━━━━━━━━━━━━━━\u001b[0m\u001b[37m\u001b[0m \u001b[1m2s\u001b[0m 5ms/step - loss: 0.0017 - val_loss: 0.0016\n",
            "Epoch 15/20\n",
            "\u001b[1m345/345\u001b[0m \u001b[32m━━━━━━━━━━━━━━━━━━━━\u001b[0m\u001b[37m\u001b[0m \u001b[1m2s\u001b[0m 5ms/step - loss: 0.0018 - val_loss: 0.0016\n",
            "Epoch 16/20\n",
            "\u001b[1m345/345\u001b[0m \u001b[32m━━━━━━━━━━━━━━━━━━━━\u001b[0m\u001b[37m\u001b[0m \u001b[1m2s\u001b[0m 5ms/step - loss: 0.0016 - val_loss: 0.0016\n",
            "Epoch 17/20\n",
            "\u001b[1m345/345\u001b[0m \u001b[32m━━━━━━━━━━━━━━━━━━━━\u001b[0m\u001b[37m\u001b[0m \u001b[1m2s\u001b[0m 5ms/step - loss: 0.0018 - val_loss: 0.0016\n",
            "Epoch 18/20\n",
            "\u001b[1m345/345\u001b[0m \u001b[32m━━━━━━━━━━━━━━━━━━━━\u001b[0m\u001b[37m\u001b[0m \u001b[1m2s\u001b[0m 5ms/step - loss: 0.0017 - val_loss: 0.0015\n",
            "Epoch 19/20\n",
            "\u001b[1m345/345\u001b[0m \u001b[32m━━━━━━━━━━━━━━━━━━━━\u001b[0m\u001b[37m\u001b[0m \u001b[1m2s\u001b[0m 5ms/step - loss: 0.0017 - val_loss: 0.0015\n",
            "Epoch 20/20\n",
            "\u001b[1m345/345\u001b[0m \u001b[32m━━━━━━━━━━━━━━━━━━━━\u001b[0m\u001b[37m\u001b[0m \u001b[1m2s\u001b[0m 5ms/step - loss: 0.0016 - val_loss: 0.0015\n"
          ]
        }
      ]
    },
    {
      "cell_type": "code",
      "source": [
        "# Wykres strat treningowych i walidacyjnych\n",
        "import matplotlib.pyplot as plt\n",
        "\n",
        "plt.plot(history.history['loss'], label='Strata treningowa')\n",
        "plt.plot(history.history['val_loss'], label='Strata walidacyjna')\n",
        "plt.title('Strata modelu')\n",
        "plt.xlabel('Epoki')\n",
        "plt.ylabel('Strata')\n",
        "plt.legend()\n",
        "plt.show()"
      ],
      "metadata": {
        "colab": {
          "base_uri": "https://localhost:8080/",
          "height": 472
        },
        "id": "AHp0yU1kIRpo",
        "outputId": "16b63b2f-fb03-43b8-dc76-8fa6c60f3643"
      },
      "execution_count": 120,
      "outputs": [
        {
          "output_type": "display_data",
          "data": {
            "text/plain": [
              "<Figure size 640x480 with 1 Axes>"
            ],
            "image/png": "[encoded data removed]"
          },
          "metadata": {}
        }
      ]
    },
    {
      "cell_type": "code",
      "source": [
        "# Evaluate the model on test data\n",
        "test_loss = model.evaluate(X_test, y_test)\n",
        "print(f'Test Loss: {test_loss}')"
      ],
      "metadata": {
        "id": "250bV7W6JZsX",
        "colab": {
          "base_uri": "https://localhost:8080/"
        },
        "outputId": "320cb307-b6ad-4b06-e32b-f1a163379691"
      },
      "execution_count": 121,
      "outputs": [
        {
          "output_type": "stream",
          "name": "stdout",
          "text": [
            "\u001b[1m87/87\u001b[0m \u001b[32m━━━━━━━━━━━━━━━━━━━━\u001b[0m\u001b[37m\u001b[0m \u001b[1m0s\u001b[0m 2ms/step - loss: 0.0015\n",
            "Test Loss: 0.0015014949021860957\n"
          ]
        }
      ]
    },
    {
      "cell_type": "code",
      "source": [
        "# Make predictions\n",
        "predictions = model.predict(X_test)"
      ],
      "metadata": {
        "colab": {
          "base_uri": "https://localhost:8080/"
        },
        "id": "ESwFfSzU13n3",
        "outputId": "6ee05e99-8314-4c6b-e018-897fd833e098"
      },
      "execution_count": 122,
      "outputs": [
        {
          "output_type": "stream",
          "name": "stdout",
          "text": [
            "\u001b[1m87/87\u001b[0m \u001b[32m━━━━━━━━━━━━━━━━━━━━\u001b[0m\u001b[37m\u001b[0m \u001b[1m0s\u001b[0m 3ms/step\n"
          ]
        }
      ]
    },
    {
      "cell_type": "markdown",
      "source": [],
      "metadata": {
        "id": "74dt32FP2xTU"
      }
    },
    {
      "cell_type": "code",
      "source": [
        "y_test_24 = y_test[:, -1]"
      ],
      "metadata": {
        "id": "tTOIwU9u_zAs"
      },
      "execution_count": 123,
      "outputs": []
    },
    {
      "cell_type": "code",
      "source": [
        "predictions_24 = predictions[:, -1]"
      ],
      "metadata": {
        "id": "TG-d0snMCmko"
      },
      "execution_count": 124,
      "outputs": []
    },
    {
      "cell_type": "code",
      "source": [],
      "metadata": {
        "id": "_PTe9ERNDE2J"
      },
      "execution_count": 124,
      "outputs": []
    },
    {
      "cell_type": "markdown",
      "source": [],
      "metadata": {
        "id": "-VeJW2LM2xNt"
      }
    },
    {
      "cell_type": "code",
      "source": [
        "y_test_rescaled = scaler.inverse_transform(np.concatenate([np.zeros((y_test_24.shape[0], 4)), y_test_24.reshape(-1, 1)], axis=1))[:, -1]\n"
      ],
      "metadata": {
        "id": "vLwFTkK12AJK"
      },
      "execution_count": 125,
      "outputs": []
    },
    {
      "cell_type": "code",
      "source": [
        "np.concatenate([np.zeros((y_test.shape[0], 4)), y_test],axis=1).shape"
      ],
      "metadata": {
        "colab": {
          "base_uri": "https://localhost:8080/"
        },
        "id": "6a1IxrgmAcxl",
        "outputId": "3b63dfff-60be-4f3d-e9c4-2e1f579663bb"
      },
      "execution_count": 126,
      "outputs": [
        {
          "output_type": "execute_result",
          "data": {
            "text/plain": [
              "(2760, 28)"
            ]
          },
          "metadata": {},
          "execution_count": 126
        }
      ]
    },
    {
      "cell_type": "code",
      "source": [
        "np.zeros((y_test.shape[0], 4)).shape"
      ],
      "metadata": {
        "colab": {
          "base_uri": "https://localhost:8080/"
        },
        "id": "EdOLjmGvBhvi",
        "outputId": "5c22f4d2-9bbf-4f49-f9be-7eeaa6d74e04"
      },
      "execution_count": 127,
      "outputs": [
        {
          "output_type": "execute_result",
          "data": {
            "text/plain": [
              "(2760, 4)"
            ]
          },
          "metadata": {},
          "execution_count": 127
        }
      ]
    },
    {
      "cell_type": "code",
      "source": [],
      "metadata": {
        "id": "T1mGanQ5DmAJ"
      },
      "execution_count": 127,
      "outputs": []
    },
    {
      "cell_type": "code",
      "source": [],
      "metadata": {
        "id": "hvbZoDITDl3x"
      },
      "execution_count": 127,
      "outputs": []
    },
    {
      "cell_type": "code",
      "source": [
        "predictions_rescaled = scaler.inverse_transform(np.concatenate([np.zeros((predictions_24.shape[0], 4)), predictions_24.reshape(-1, 1)], axis=1))[:, -1]"
      ],
      "metadata": {
        "id": "ec9vHu3XAC9s"
      },
      "execution_count": 128,
      "outputs": []
    },
    {
      "cell_type": "code",
      "source": [
        "predictions_rescaled"
      ],
      "metadata": {
        "colab": {
          "base_uri": "https://localhost:8080/"
        },
        "id": "6BVG-wVy8GNL",
        "outputId": "c8f3cc1d-dd8d-4352-fe59-62381cb7454b"
      },
      "execution_count": 146,
      "outputs": [
        {
          "output_type": "execute_result",
          "data": {
            "text/plain": [
              "array([ 38.80531726, 102.20561759,  65.19292467, ...,  78.40239843,\n",
              "        62.78703215,  95.31125074])"
            ]
          },
          "metadata": {},
          "execution_count": 146
        }
      ]
    },
    {
      "cell_type": "code",
      "source": [
        "# y_test_rescaled = scaler.inverse_transform(y_test)\n",
        "\n"
      ],
      "metadata": {
        "id": "mVb6xb-V2XLf"
      },
      "execution_count": 129,
      "outputs": []
    },
    {
      "cell_type": "code",
      "source": [
        "# Plot true vs predicted prices for the next 24 hours\n",
        "plt.figure(figsize=(10, 6))\n",
        "plt.plot(y_test_24[:100], label='True Prices')\n",
        "plt.plot(predictions_24[:100], label='Predicted Prices')\n",
        "plt.title('True vs Predicted Prices for the Next 24 Hours')\n",
        "plt.xlabel('Time Steps')\n",
        "plt.ylabel('Price')\n",
        "plt.legend()\n",
        "plt.show()"
      ],
      "metadata": {
        "colab": {
          "base_uri": "https://localhost:8080/",
          "height": 564
        },
        "id": "9PfI-YCi3Cd1",
        "outputId": "4fb2af79-77f7-43fc-f1ad-aeeefda4dc22"
      },
      "execution_count": 130,
      "outputs": [
        {
          "output_type": "display_data",
          "data": {
            "text/plain": [
              "<Figure size 1000x600 with 1 Axes>"
            ],
            "image/png": "[encoded data removed]"
          },
          "metadata": {}
        }
      ]
    },
    {
      "cell_type": "code",
      "source": [
        "true_24th = y_test[:, -1]        # True values for the 24th hour\n",
        "predicted_24th = predictions[:, -1]  # Predicted values for the 24th hour"
      ],
      "metadata": {
        "id": "OhMfX_HE3w5M"
      },
      "execution_count": 131,
      "outputs": []
    },
    {
      "cell_type": "code",
      "source": [
        "percent_errors = np.abs(true_24th - predicted_24th) / np.abs(true_24th) * 100"
      ],
      "metadata": {
        "id": "M-w9r8ZM4bKL"
      },
      "execution_count": 132,
      "outputs": []
    },
    {
      "cell_type": "code",
      "source": [
        "sr_blad = np.mean(percent_errors)"
      ],
      "metadata": {
        "id": "x02Xv9CH4hc_"
      },
      "execution_count": 133,
      "outputs": []
    },
    {
      "cell_type": "code",
      "source": [
        "sr_blad"
      ],
      "metadata": {
        "colab": {
          "base_uri": "https://localhost:8080/"
        },
        "id": "fHqpsnK_4wsU",
        "outputId": "883caec3-121d-4e38-eb71-0bdca6808ec4"
      },
      "execution_count": 134,
      "outputs": [
        {
          "output_type": "execute_result",
          "data": {
            "text/plain": [
              "7.122761395473498"
            ]
          },
          "metadata": {},
          "execution_count": 134
        }
      ]
    },
    {
      "cell_type": "code",
      "source": [
        "##### do zmiany parametrow sieciu moge zmienic size okna, liczbe unit do danych,"
      ],
      "metadata": {
        "id": "r9Njwp0J4yFV"
      },
      "execution_count": 135,
      "outputs": []
    },
    {
      "cell_type": "code",
      "source": [
        "percent_errors = np.abs(y_test_24 - predictions_24) / np.abs(y_test_24) * 100"
      ],
      "metadata": {
        "id": "USVOjUfE5p-f"
      },
      "execution_count": 136,
      "outputs": []
    },
    {
      "cell_type": "code",
      "source": [
        "sr_blad_real = np.mean(percent_errors)"
      ],
      "metadata": {
        "id": "BjsW3SW3EZKz"
      },
      "execution_count": 137,
      "outputs": []
    },
    {
      "cell_type": "code",
      "source": [
        "sr_blad_real"
      ],
      "metadata": {
        "colab": {
          "base_uri": "https://localhost:8080/"
        },
        "id": "-FoiRFBUElB7",
        "outputId": "ee108c7d-1962-41e8-90dc-9fa7b1bee82f"
      },
      "execution_count": 138,
      "outputs": [
        {
          "output_type": "execute_result",
          "data": {
            "text/plain": [
              "7.122761395473498"
            ]
          },
          "metadata": {},
          "execution_count": 138
        }
      ]
    },
    {
      "cell_type": "code",
      "source": [
        "###### WPROWADZANIE REALNYCH WARTOSCI"
      ],
      "metadata": {
        "id": "Vs_CxTXvEl_S"
      },
      "execution_count": 139,
      "outputs": []
    },
    {
      "cell_type": "code",
      "source": [
        "X_test[-1]"
      ],
      "metadata": {
        "colab": {
          "base_uri": "https://localhost:8080/"
        },
        "id": "TCudeYoMFF6Z",
        "outputId": "90851dec-d246-4dec-a3b1-087421cde40a"
      },
      "execution_count": 140,
      "outputs": [
        {
          "output_type": "execute_result",
          "data": {
            "text/plain": [
              "array([[0.34782609, 0.16666667, 0.64344977, 0.48443925, 0.38388988],\n",
              "       [0.39130435, 0.16666667, 0.61660858, 0.47487339, 0.3937136 ],\n",
              "       [0.43478261, 0.16666667, 0.56834369, 0.42648141, 0.37071315],\n",
              "       [0.47826087, 0.16666667, 0.52000303, 0.42184998, 0.36143846],\n",
              "       [0.52173913, 0.16666667, 0.53987347, 0.44171753, 0.33615365],\n",
              "       [0.56521739, 0.16666667, 0.53345204, 0.4387309 , 0.33647719],\n",
              "       [0.60869565, 0.16666667, 0.53915366, 0.42752024, 0.32920253],\n",
              "       [0.65217391, 0.16666667, 0.54748826, 0.43440246, 0.33062413],\n",
              "       [0.69565217, 0.16666667, 0.60251553, 0.44812362, 0.34537932],\n",
              "       [0.73913043, 0.16666667, 0.6691923 , 0.47253603, 0.36133061],\n",
              "       [0.7826087 , 0.16666667, 0.68175102, 0.49552006, 0.38124277],\n",
              "       [0.82608696, 0.16666667, 0.70936884, 0.53027745, 0.3987235 ],\n",
              "       [0.86956522, 0.16666667, 0.71880209, 0.52716097, 0.41577286],\n",
              "       [0.91304348, 0.16666667, 0.72259054, 0.49274986, 0.40814526],\n",
              "       [0.95652174, 0.16666667, 0.68212987, 0.42544258, 0.3918018 ],\n",
              "       [1.        , 0.16666667, 0.65600849, 0.36203091, 0.38938018],\n",
              "       [0.        , 0.33333333, 0.68228141, 0.31082543, 0.3694092 ],\n",
              "       [0.04347826, 0.33333333, 0.67144643, 0.2625633 , 0.37237985],\n",
              "       [0.08695652, 0.33333333, 0.6499659 , 0.24161364, 0.37034059],\n",
              "       [0.13043478, 0.33333333, 0.66849144, 0.24607194, 0.37101708],\n",
              "       [0.17391304, 0.33333333, 0.6693249 , 0.26632905, 0.36894841],\n",
              "       [0.2173913 , 0.33333333, 0.7111873 , 0.30879107, 0.37819369],\n",
              "       [0.26086957, 0.33333333, 0.71834748, 0.44738779, 0.3970372 ],\n",
              "       [0.30434783, 0.33333333, 0.74573799, 0.49945894, 0.42463578],\n",
              "       [0.34782609, 0.33333333, 0.73446734, 0.50157988, 0.41207671],\n",
              "       [0.39130435, 0.33333333, 0.70643279, 0.48439597, 0.37669366],\n",
              "       [0.43478261, 0.33333333, 0.68866495, 0.42466346, 0.37200729],\n",
              "       [0.47826087, 0.33333333, 0.66074405, 0.4156603 , 0.36346791],\n",
              "       [0.52173913, 0.33333333, 0.67209047, 0.42518288, 0.35966391],\n",
              "       [0.56521739, 0.33333333, 0.65068571, 0.41163485, 0.3553305 ],\n",
              "       [0.60869565, 0.33333333, 0.65263676, 0.4070467 , 0.36432087],\n",
              "       [0.65217391, 0.33333333, 0.67171162, 0.40938406, 0.36811506],\n",
              "       [0.69565217, 0.33333333, 0.68561524, 0.44054885, 0.38517422],\n",
              "       [0.73913043, 0.33333333, 0.742783  , 0.45323118, 0.38847821],\n",
              "       [0.7826087 , 0.33333333, 0.77310956, 0.48946024, 0.39295869],\n",
              "       [0.82608696, 0.33333333, 0.81557812, 0.52967147, 0.44587149],\n",
              "       [0.86956522, 0.33333333, 0.81876042, 0.52555945, 0.44545971],\n",
              "       [0.91304348, 0.33333333, 0.81252841, 0.49023936, 0.45956783],\n",
              "       [0.95652174, 0.33333333, 0.80415593, 0.42574557, 0.4173121 ],\n",
              "       [1.        , 0.33333333, 0.7784134 , 0.36908627, 0.39821369],\n",
              "       [0.        , 0.5       , 0.74494242, 0.31956889, 0.38499775],\n",
              "       [0.04347826, 0.5       , 0.7350735 , 0.27459637, 0.38889978],\n",
              "       [0.08695652, 0.5       , 0.71827171, 0.24754361, 0.38456636],\n",
              "       [0.13043478, 0.5       , 0.72084786, 0.24910185, 0.38456636],\n",
              "       [0.17391304, 0.5       , 0.73355811, 0.26494395, 0.38714485],\n",
              "       [0.2173913 , 0.5       , 0.76289968, 0.30095659, 0.39509598],\n",
              "       [0.26086957, 0.5       , 0.7886801 , 0.43609055, 0.40012549],\n",
              "       [0.30434783, 0.5       , 0.78894529, 0.48824828, 0.4478127 ]])"
            ]
          },
          "metadata": {},
          "execution_count": 140
        }
      ]
    },
    {
      "cell_type": "code",
      "source": [
        "predictions = model.predict(np.array([X_test[-1]]))"
      ],
      "metadata": {
        "colab": {
          "base_uri": "https://localhost:8080/"
        },
        "id": "cTTtw8lqFChU",
        "outputId": "5f4aa00d-0b91-41bb-fb45-26075b8e83cb"
      },
      "execution_count": 141,
      "outputs": [
        {
          "output_type": "stream",
          "name": "stdout",
          "text": [
            "\u001b[1m1/1\u001b[0m \u001b[32m━━━━━━━━━━━━━━━━━━━━\u001b[0m\u001b[37m\u001b[0m \u001b[1m0s\u001b[0m 21ms/step\n"
          ]
        }
      ]
    },
    {
      "cell_type": "code",
      "source": [],
      "metadata": {
        "id": "yhNEleIMGhTB"
      },
      "execution_count": 141,
      "outputs": []
    },
    {
      "cell_type": "code",
      "source": [
        "predictions.shape"
      ],
      "metadata": {
        "colab": {
          "base_uri": "https://localhost:8080/"
        },
        "id": "ALkpE2yxFcdA",
        "outputId": "8771d26d-9eb8-4258-8f3c-14a09c3685d4"
      },
      "execution_count": 142,
      "outputs": [
        {
          "output_type": "execute_result",
          "data": {
            "text/plain": [
              "(1, 24)"
            ]
          },
          "metadata": {},
          "execution_count": 142
        }
      ]
    },
    {
      "cell_type": "code",
      "source": [
        "predictions_24 = np.array([predictions[:, -1]])"
      ],
      "metadata": {
        "id": "3u_-6czMGiNq"
      },
      "execution_count": 143,
      "outputs": []
    },
    {
      "cell_type": "code",
      "source": [
        "predictions_24.shape"
      ],
      "metadata": {
        "colab": {
          "base_uri": "https://localhost:8080/"
        },
        "id": "AtPozMi4HDEi",
        "outputId": "763a713e-6ee4-40b1-cda3-9ec76ae86e97"
      },
      "execution_count": 144,
      "outputs": [
        {
          "output_type": "execute_result",
          "data": {
            "text/plain": [
              "(1, 1)"
            ]
          },
          "metadata": {},
          "execution_count": 144
        }
      ]
    },
    {
      "cell_type": "code",
      "source": [
        "predictions_rescaled = scaler.inverse_transform(np.concatenate([np.zeros((predictions_24.shape[0], 2)), predictions_24.reshape(-1, 1)], axis=1))[:, -1]"
      ],
      "metadata": {
        "id": "0t_iv3Y0GATe",
        "colab": {
          "base_uri": "https://localhost:8080/",
          "height": 263
        },
        "outputId": "bfb14a71-4a55-4a34-be81-fb1bedfc9a77"
      },
      "execution_count": 145,
      "outputs": [
        {
          "output_type": "error",
          "ename": "ValueError",
          "evalue": "operands could not be broadcast together with shapes (1,3) (5,) (1,3) ",
          "traceback": [
            "\u001b[0;31m---------------------------------------------------------------------------\u001b[0m",
            "\u001b[0;31mValueError\u001b[0m                                Traceback (most recent call last)",
            "\u001b[0;32m<ipython-input-145-e79d5782d287>\u001b[0m in \u001b[0;36m<cell line: 1>\u001b[0;34m()\u001b[0m\n\u001b[0;32m----> 1\u001b[0;31m \u001b[0mpredictions_rescaled\u001b[0m \u001b[0;34m=\u001b[0m \u001b[0mscaler\u001b[0m\u001b[0;34m.\u001b[0m\u001b[0minverse_transform\u001b[0m\u001b[0;34m(\u001b[0m\u001b[0mnp\u001b[0m\u001b[0;34m.\u001b[0m\u001b[0mconcatenate\u001b[0m\u001b[0;34m(\u001b[0m\u001b[0;34m[\u001b[0m\u001b[0mnp\u001b[0m\u001b[0;34m.\u001b[0m\u001b[0mzeros\u001b[0m\u001b[0;34m(\u001b[0m\u001b[0;34m(\u001b[0m\u001b[0mpredictions_24\u001b[0m\u001b[0;34m.\u001b[0m\u001b[0mshape\u001b[0m\u001b[0;34m[\u001b[0m\u001b[0;36m0\u001b[0m\u001b[0;34m]\u001b[0m\u001b[0;34m,\u001b[0m \u001b[0;36m2\u001b[0m\u001b[0;34m)\u001b[0m\u001b[0;34m)\u001b[0m\u001b[0;34m,\u001b[0m \u001b[0mpredictions_24\u001b[0m\u001b[0;34m.\u001b[0m\u001b[0mreshape\u001b[0m\u001b[0;34m(\u001b[0m\u001b[0;34m-\u001b[0m\u001b[0;36m1\u001b[0m\u001b[0;34m,\u001b[0m \u001b[0;36m1\u001b[0m\u001b[0;34m)\u001b[0m\u001b[0;34m]\u001b[0m\u001b[0;34m,\u001b[0m \u001b[0maxis\u001b[0m\u001b[0;34m=\u001b[0m\u001b[0;36m1\u001b[0m\u001b[0;34m)\u001b[0m\u001b[0;34m)\u001b[0m\u001b[0;34m[\u001b[0m\u001b[0;34m:\u001b[0m\u001b[0;34m,\u001b[0m \u001b[0;34m-\u001b[0m\u001b[0;36m1\u001b[0m\u001b[0;34m]\u001b[0m\u001b[0;34m\u001b[0m\u001b[0;34m\u001b[0m\u001b[0m\n\u001b[0m",
            "\u001b[0;32m/usr/local/lib/python3.10/dist-packages/sklearn/preprocessing/_data.py\u001b[0m in \u001b[0;36minverse_transform\u001b[0;34m(self, X)\u001b[0m\n\u001b[1;32m    546\u001b[0m         )\n\u001b[1;32m    547\u001b[0m \u001b[0;34m\u001b[0m\u001b[0m\n\u001b[0;32m--> 548\u001b[0;31m         \u001b[0mX\u001b[0m \u001b[0;34m-=\u001b[0m \u001b[0mself\u001b[0m\u001b[0;34m.\u001b[0m\u001b[0mmin_\u001b[0m\u001b[0;34m\u001b[0m\u001b[0;34m\u001b[0m\u001b[0m\n\u001b[0m\u001b[1;32m    549\u001b[0m         \u001b[0mX\u001b[0m \u001b[0;34m/=\u001b[0m \u001b[0mself\u001b[0m\u001b[0;34m.\u001b[0m\u001b[0mscale_\u001b[0m\u001b[0;34m\u001b[0m\u001b[0;34m\u001b[0m\u001b[0m\n\u001b[1;32m    550\u001b[0m         \u001b[0;32mreturn\u001b[0m \u001b[0mX\u001b[0m\u001b[0;34m\u001b[0m\u001b[0;34m\u001b[0m\u001b[0m\n",
            "\u001b[0;31mValueError\u001b[0m: operands could not be broadcast together with shapes (1,3) (5,) (1,3) "
          ]
        }
      ]
    },
    {
      "cell_type": "code",
      "source": [
        "predictions_rescaled"
      ],
      "metadata": {
        "id": "Jb9JJzSuGTEL"
      },
      "execution_count": null,
      "outputs": []
    },
    {
      "cell_type": "code",
      "source": [
        "#wczytywanie realnych danych"
      ],
      "metadata": {
        "id": "INrQPeTTHTVN"
      },
      "execution_count": null,
      "outputs": []
    },
    {
      "cell_type": "code",
      "source": [
        "df1 = pd.read_excel(\"nowe_dane1.xlsx\")"
      ],
      "metadata": {
        "id": "OUdJCUmJKbBc"
      },
      "execution_count": null,
      "outputs": []
    },
    {
      "cell_type": "code",
      "source": [
        "df1.values"
      ],
      "metadata": {
        "id": "wYGrgOI7Kq2P"
      },
      "execution_count": null,
      "outputs": []
    },
    {
      "cell_type": "code",
      "source": [
        "probka = df1.values"
      ],
      "metadata": {
        "id": "HEn61Z22Lk5I"
      },
      "execution_count": null,
      "outputs": []
    },
    {
      "cell_type": "code",
      "source": [
        "probka_scaled = scaler.transform(probka)"
      ],
      "metadata": {
        "id": "9vLs6RccKuVv"
      },
      "execution_count": null,
      "outputs": []
    },
    {
      "cell_type": "code",
      "source": [
        "probka_scaled.shape"
      ],
      "metadata": {
        "id": "1T1YWxdbMVVc"
      },
      "execution_count": null,
      "outputs": []
    },
    {
      "cell_type": "code",
      "source": [
        "predictions = model.predict(np.array([probka_scaled]))"
      ],
      "metadata": {
        "id": "Aw3Qyb1OLqkL"
      },
      "execution_count": null,
      "outputs": []
    },
    {
      "cell_type": "code",
      "source": [
        "predictions.shape"
      ],
      "metadata": {
        "id": "5oJmA1IvNXxM"
      },
      "execution_count": null,
      "outputs": []
    },
    {
      "cell_type": "code",
      "source": [
        "predictions = predictions.reshape(24)"
      ],
      "metadata": {
        "id": "jyzlpNVpNjhT"
      },
      "execution_count": null,
      "outputs": []
    },
    {
      "cell_type": "code",
      "source": [
        "predictions_rescaled = scaler.inverse_transform(np.concatenate([np.zeros((predictions.shape[0], 2)), predictions.reshape(-1, 1)], axis=1))[:, -1]"
      ],
      "metadata": {
        "id": "dT3t5XweL9Kt"
      },
      "execution_count": null,
      "outputs": []
    },
    {
      "cell_type": "code",
      "source": [
        "predictions_rescaled"
      ],
      "metadata": {
        "id": "aeRfHk2GNs44"
      },
      "execution_count": null,
      "outputs": []
    },
    {
      "cell_type": "code",
      "source": [],
      "metadata": {
        "id": "gatOvrN3Nu6h"
      },
      "execution_count": null,
      "outputs": []
    }
  ]
}