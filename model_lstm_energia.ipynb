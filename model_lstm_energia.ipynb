{
  "nbformat": 4,
  "nbformat_minor": 0,
  "metadata": {
    "colab": {
      "provenance": [],
      "authorship_tag": "ABX9TyOkI4ul+xYcLz1BQ8Q2gJEA",
      "include_colab_link": true
    },
    "kernelspec": {
      "name": "python3",
      "display_name": "Python 3"
    },
    "language_info": {
      "name": "python"
    }
  },
  "cells": [
    {
      "cell_type": "markdown",
      "metadata": {
        "id": "view-in-github",
        "colab_type": "text"
      },
      "source": [
        "<a href=\"https://colab.research.google.com/github/tomektom10/dataScienceBootCamp/blob/main/model_lstm_energia.ipynb\" target=\"_parent\"><img src=\"https://colab.research.google.com/assets/colab-badge.svg\" alt=\"Open In Colab\"/></a>"
      ]
    },
    {
      "cell_type": "code",
      "source": [
        "\n",
        "from sklearn.model_selection import train_test_split\n",
        "from sklearn.preprocessing import MinMaxScaler"
      ],
      "metadata": {
        "id": "RgaLieSWELoL"
      },
      "execution_count": 1,
      "outputs": []
    },
    {
      "cell_type": "code",
      "execution_count": 2,
      "metadata": {
        "id": "B6bZFIBhA7L-"
      },
      "outputs": [],
      "source": [
        "import pandas as pd\n",
        "import pandas as pd\n",
        "import numpy as np\n",
        "df = pd.read_excel(\"PROGNOZY + dane_na_model.xlsx\")"
      ]
    },
    {
      "cell_type": "code",
      "source": [
        "df"
      ],
      "metadata": {
        "colab": {
          "base_uri": "https://localhost:8080/",
          "height": 929
        },
        "id": "IO84NLxFBGOG",
        "outputId": "52d9a567-a1bf-4838-c0b1-d977fa1f2c56"
      },
      "execution_count": 3,
      "outputs": [
        {
          "output_type": "execute_result",
          "data": {
            "text/plain": [
              "                 Datetime  Unnamed: 1  SK Backcast  SK Residual Load Backcast  \\\n",
              "0     2023-01-01 00:00:00           1         1.47                     2259.6   \n",
              "1     2023-01-01 01:00:00           2        -1.24                     2221.9   \n",
              "2     2023-01-01 02:00:00           3        -1.69                     2164.5   \n",
              "3     2023-01-01 03:00:00           4        -3.52                     2086.6   \n",
              "4     2023-01-01 04:00:00           5        -3.14                     2074.1   \n",
              "...                   ...         ...          ...                        ...   \n",
              "13865 2024-07-31 19:00:00          20       126.10                     2884.8   \n",
              "13866 2024-07-31 20:00:00          21       161.32                     2937.5   \n",
              "13867 2024-07-31 21:00:00          22       116.30                     2860.2   \n",
              "13868 2024-07-31 22:00:00          23       102.43                     2687.7   \n",
              "13869 2024-07-31 23:00:00          24        89.53                     2531.7   \n",
              "\n",
              "       SK Residual Production Backcast  \\\n",
              "0                                323.9   \n",
              "1                                346.4   \n",
              "2                                129.3   \n",
              "3                                175.5   \n",
              "4                                211.7   \n",
              "...                                ...   \n",
              "13865                           1375.8   \n",
              "13866                           1361.0   \n",
              "13867                           1448.5   \n",
              "13868                           1323.4   \n",
              "13869                           1281.7   \n",
              "\n",
              "       SK Exchange Day-Ahead Schedule Net Export MWh/h H Backcast  \\\n",
              "0                                                   -1.3            \n",
              "1                                                   58.5            \n",
              "2                                                  -98.9            \n",
              "3                                                   24.1            \n",
              "4                                                   71.7            \n",
              "...                                                  ...            \n",
              "13865                                              391.1            \n",
              "13866                                              330.8            \n",
              "13867                                              506.9            \n",
              "13868                                              534.4            \n",
              "13869                                              622.6            \n",
              "\n",
              "       SK Consumption MWh/h 15min Backcast  \\\n",
              "0                                   2259.6   \n",
              "1                                   2221.9   \n",
              "2                                   2164.5   \n",
              "3                                   2086.6   \n",
              "4                                   2074.1   \n",
              "...                                    ...   \n",
              "13865                               2903.9   \n",
              "13866                               2938.2   \n",
              "13867                               2860.2   \n",
              "13868                               2687.7   \n",
              "13869                               2531.7   \n",
              "\n",
              "       SK Nuclear Production MWh/h 15min Backcast  \\\n",
              "0                                          1940.0   \n",
              "1                                          1940.0   \n",
              "2                                          1940.0   \n",
              "3                                          1940.0   \n",
              "4                                          1940.0   \n",
              "...                                           ...   \n",
              "13865                                      1940.0   \n",
              "13866                                      1940.0   \n",
              "13867                                      1940.0   \n",
              "13868                                      1940.0   \n",
              "13869                                      1940.0   \n",
              "\n",
              "       SK Solar Photovoltaic Production MWh/h 15min Backcast  \\\n",
              "0                                                    0.0       \n",
              "1                                                    0.0       \n",
              "2                                                    0.0       \n",
              "3                                                    0.0       \n",
              "4                                                    0.0       \n",
              "...                                                  ...       \n",
              "13865                                               19.1       \n",
              "13866                                                0.8       \n",
              "13867                                                0.0       \n",
              "13868                                                0.0       \n",
              "13869                                                0.0       \n",
              "\n",
              "       HU>SK Exchange Day-Ahead Schedule MWh/h H Backcast  \\\n",
              "0                                                -1300.0    \n",
              "1                                                -1300.0    \n",
              "2                                                -1300.0    \n",
              "3                                                -1300.0    \n",
              "4                                                -1300.0    \n",
              "...                                                  ...    \n",
              "13865                                                0.0    \n",
              "13866                                                0.0    \n",
              "13867                                                0.0    \n",
              "13868                                                0.0    \n",
              "13869                                                0.0    \n",
              "\n",
              "       PL>SK Exchange Day-Ahead Schedule MWh/h H Backcast  \\\n",
              "0                                                   -0.3    \n",
              "1                                                   -0.3    \n",
              "2                                                   -0.3    \n",
              "3                                                   -0.3    \n",
              "4                                                   -0.3    \n",
              "...                                                  ...    \n",
              "13865                                            -1500.0    \n",
              "13866                                            -1500.0    \n",
              "13867                                            -1500.0    \n",
              "13868                                            -1500.0    \n",
              "13869                                             -683.5    \n",
              "\n",
              "       SK>HU Exchange Day-Ahead Schedule MWh/h H Backcast  \\\n",
              "0                                                 1300.0    \n",
              "1                                                 1300.0    \n",
              "2                                                 1300.0    \n",
              "3                                                 1300.0    \n",
              "4                                                 1300.0    \n",
              "...                                                  ...    \n",
              "13865                                                0.0    \n",
              "13866                                                0.0    \n",
              "13867                                                0.0    \n",
              "13868                                                0.0    \n",
              "13869                                                0.0    \n",
              "\n",
              "       SK>PL Exchange Day-Ahead Schedule MWh/h H Backcast  \\\n",
              "0                                                    0.3    \n",
              "1                                                    0.3    \n",
              "2                                                    0.3    \n",
              "3                                                    0.3    \n",
              "4                                                    0.3    \n",
              "...                                                  ...    \n",
              "13865                                             1500.0    \n",
              "13866                                             1500.0    \n",
              "13867                                             1500.0    \n",
              "13868                                             1500.0    \n",
              "13869                                              683.5    \n",
              "\n",
              "       CZ>SK Exchange Day-Ahead Schedule MWh/h H Backcast  \\\n",
              "0                                                 1301.5    \n",
              "1                                                 1241.7    \n",
              "2                                                 1399.2    \n",
              "3                                                 1276.2    \n",
              "4                                                 1228.6    \n",
              "...                                                  ...    \n",
              "13865                                             1308.9    \n",
              "13866                                             1369.2    \n",
              "13867                                             1193.1    \n",
              "13868                                             1165.6    \n",
              "13869                                              260.9    \n",
              "\n",
              "       SK>CZ Exchange Day-Ahead Schedule MWh/h H Backcast     Bilans  \\\n",
              "0                                                -1301.5    -5.00000   \n",
              "1                                                -1241.7    -4.99750   \n",
              "2                                                -1399.2    -5.00000   \n",
              "3                                                -1276.2    -5.00000   \n",
              "4                                                -1228.6    -5.00000   \n",
              "...                                                  ...         ...   \n",
              "13865                                            -1308.9   307.98750   \n",
              "13866                                            -1369.2   133.26250   \n",
              "13867                                            -1193.1   251.44005   \n",
              "13868                                            -1165.6   400.00875   \n",
              "13869                                             -260.9   258.21750   \n",
              "\n",
              "       Weighted average price of all trades (EUR/MWh)  \\\n",
              "0                                               18.93   \n",
              "1                                                1.35   \n",
              "2                                                2.05   \n",
              "3                                                2.26   \n",
              "4                                                3.12   \n",
              "...                                               ...   \n",
              "13865                                          170.96   \n",
              "13866                                          158.80   \n",
              "13867                                          177.99   \n",
              "13868                                          139.59   \n",
              "13869                                          131.97   \n",
              "\n",
              "       Minimal price (EUR/MWh)  Maximal price (EUR/MWh)  Price SK (EUR/MWh)  \n",
              "0                         7.00                    30.26               20.26  \n",
              "1                         0.30                    10.33                0.33  \n",
              "2                         0.50                    10.50                0.50  \n",
              "3                         0.00                    10.50                0.50  \n",
              "4                         0.00                    10.10                0.10  \n",
              "...                        ...                      ...                 ...  \n",
              "13865                   124.01                   194.00               94.80  \n",
              "13866                   150.00                   167.79              173.31  \n",
              "13867                   130.51                   202.93               97.29  \n",
              "13868                    80.01                   169.31              106.68  \n",
              "13869                    76.07                   179.00               96.06  \n",
              "\n",
              "[13870 rows x 20 columns]"
            ],
            "text/html": [
              "\n",
              "  <div id=\"df-59986809-e1b3-4ab9-80ae-87f1d6d72cf9\" class=\"colab-df-container\">\n",
              "    <div>\n",
              "<style scoped>\n",
              "    .dataframe tbody tr th:only-of-type {\n",
              "        vertical-align: middle;\n",
              "    }\n",
              "\n",
              "    .dataframe tbody tr th {\n",
              "        vertical-align: top;\n",
              "    }\n",
              "\n",
              "    .dataframe thead th {\n",
              "        text-align: right;\n",
              "    }\n",
              "</style>\n",
              "<table border=\"1\" class=\"dataframe\">\n",
              "  <thead>\n",
              "    <tr style=\"text-align: right;\">\n",
              "      <th></th>\n",
              "      <th>Datetime</th>\n",
              "      <th>Unnamed: 1</th>\n",
              "      <th>SK Backcast</th>\n",
              "      <th>SK Residual Load Backcast</th>\n",
              "      <th>SK Residual Production Backcast</th>\n",
              "      <th>SK Exchange Day-Ahead Schedule Net Export MWh/h H Backcast</th>\n",
              "      <th>SK Consumption MWh/h 15min Backcast</th>\n",
              "      <th>SK Nuclear Production MWh/h 15min Backcast</th>\n",
              "      <th>SK Solar Photovoltaic Production MWh/h 15min Backcast</th>\n",
              "      <th>HU&gt;SK Exchange Day-Ahead Schedule MWh/h H Backcast</th>\n",
              "      <th>PL&gt;SK Exchange Day-Ahead Schedule MWh/h H Backcast</th>\n",
              "      <th>SK&gt;HU Exchange Day-Ahead Schedule MWh/h H Backcast</th>\n",
              "      <th>SK&gt;PL Exchange Day-Ahead Schedule MWh/h H Backcast</th>\n",
              "      <th>CZ&gt;SK Exchange Day-Ahead Schedule MWh/h H Backcast</th>\n",
              "      <th>SK&gt;CZ Exchange Day-Ahead Schedule MWh/h H Backcast</th>\n",
              "      <th>Bilans</th>\n",
              "      <th>Weighted average price of all trades (EUR/MWh)</th>\n",
              "      <th>Minimal price (EUR/MWh)</th>\n",
              "      <th>Maximal price (EUR/MWh)</th>\n",
              "      <th>Price SK (EUR/MWh)</th>\n",
              "    </tr>\n",
              "  </thead>\n",
              "  <tbody>\n",
              "    <tr>\n",
              "      <th>0</th>\n",
              "      <td>2023-01-01 00:00:00</td>\n",
              "      <td>1</td>\n",
              "      <td>1.47</td>\n",
              "      <td>2259.6</td>\n",
              "      <td>323.9</td>\n",
              "      <td>-1.3</td>\n",
              "      <td>2259.6</td>\n",
              "      <td>1940.0</td>\n",
              "      <td>0.0</td>\n",
              "      <td>-1300.0</td>\n",
              "      <td>-0.3</td>\n",
              "      <td>1300.0</td>\n",
              "      <td>0.3</td>\n",
              "      <td>1301.5</td>\n",
              "      <td>-1301.5</td>\n",
              "      <td>-5.00000</td>\n",
              "      <td>18.93</td>\n",
              "      <td>7.00</td>\n",
              "      <td>30.26</td>\n",
              "      <td>20.26</td>\n",
              "    </tr>\n",
              "    <tr>\n",
              "      <th>1</th>\n",
              "      <td>2023-01-01 01:00:00</td>\n",
              "      <td>2</td>\n",
              "      <td>-1.24</td>\n",
              "      <td>2221.9</td>\n",
              "      <td>346.4</td>\n",
              "      <td>58.5</td>\n",
              "      <td>2221.9</td>\n",
              "      <td>1940.0</td>\n",
              "      <td>0.0</td>\n",
              "      <td>-1300.0</td>\n",
              "      <td>-0.3</td>\n",
              "      <td>1300.0</td>\n",
              "      <td>0.3</td>\n",
              "      <td>1241.7</td>\n",
              "      <td>-1241.7</td>\n",
              "      <td>-4.99750</td>\n",
              "      <td>1.35</td>\n",
              "      <td>0.30</td>\n",
              "      <td>10.33</td>\n",
              "      <td>0.33</td>\n",
              "    </tr>\n",
              "    <tr>\n",
              "      <th>2</th>\n",
              "      <td>2023-01-01 02:00:00</td>\n",
              "      <td>3</td>\n",
              "      <td>-1.69</td>\n",
              "      <td>2164.5</td>\n",
              "      <td>129.3</td>\n",
              "      <td>-98.9</td>\n",
              "      <td>2164.5</td>\n",
              "      <td>1940.0</td>\n",
              "      <td>0.0</td>\n",
              "      <td>-1300.0</td>\n",
              "      <td>-0.3</td>\n",
              "      <td>1300.0</td>\n",
              "      <td>0.3</td>\n",
              "      <td>1399.2</td>\n",
              "      <td>-1399.2</td>\n",
              "      <td>-5.00000</td>\n",
              "      <td>2.05</td>\n",
              "      <td>0.50</td>\n",
              "      <td>10.50</td>\n",
              "      <td>0.50</td>\n",
              "    </tr>\n",
              "    <tr>\n",
              "      <th>3</th>\n",
              "      <td>2023-01-01 03:00:00</td>\n",
              "      <td>4</td>\n",
              "      <td>-3.52</td>\n",
              "      <td>2086.6</td>\n",
              "      <td>175.5</td>\n",
              "      <td>24.1</td>\n",
              "      <td>2086.6</td>\n",
              "      <td>1940.0</td>\n",
              "      <td>0.0</td>\n",
              "      <td>-1300.0</td>\n",
              "      <td>-0.3</td>\n",
              "      <td>1300.0</td>\n",
              "      <td>0.3</td>\n",
              "      <td>1276.2</td>\n",
              "      <td>-1276.2</td>\n",
              "      <td>-5.00000</td>\n",
              "      <td>2.26</td>\n",
              "      <td>0.00</td>\n",
              "      <td>10.50</td>\n",
              "      <td>0.50</td>\n",
              "    </tr>\n",
              "    <tr>\n",
              "      <th>4</th>\n",
              "      <td>2023-01-01 04:00:00</td>\n",
              "      <td>5</td>\n",
              "      <td>-3.14</td>\n",
              "      <td>2074.1</td>\n",
              "      <td>211.7</td>\n",
              "      <td>71.7</td>\n",
              "      <td>2074.1</td>\n",
              "      <td>1940.0</td>\n",
              "      <td>0.0</td>\n",
              "      <td>-1300.0</td>\n",
              "      <td>-0.3</td>\n",
              "      <td>1300.0</td>\n",
              "      <td>0.3</td>\n",
              "      <td>1228.6</td>\n",
              "      <td>-1228.6</td>\n",
              "      <td>-5.00000</td>\n",
              "      <td>3.12</td>\n",
              "      <td>0.00</td>\n",
              "      <td>10.10</td>\n",
              "      <td>0.10</td>\n",
              "    </tr>\n",
              "    <tr>\n",
              "      <th>...</th>\n",
              "      <td>...</td>\n",
              "      <td>...</td>\n",
              "      <td>...</td>\n",
              "      <td>...</td>\n",
              "      <td>...</td>\n",
              "      <td>...</td>\n",
              "      <td>...</td>\n",
              "      <td>...</td>\n",
              "      <td>...</td>\n",
              "      <td>...</td>\n",
              "      <td>...</td>\n",
              "      <td>...</td>\n",
              "      <td>...</td>\n",
              "      <td>...</td>\n",
              "      <td>...</td>\n",
              "      <td>...</td>\n",
              "      <td>...</td>\n",
              "      <td>...</td>\n",
              "      <td>...</td>\n",
              "      <td>...</td>\n",
              "    </tr>\n",
              "    <tr>\n",
              "      <th>13865</th>\n",
              "      <td>2024-07-31 19:00:00</td>\n",
              "      <td>20</td>\n",
              "      <td>126.10</td>\n",
              "      <td>2884.8</td>\n",
              "      <td>1375.8</td>\n",
              "      <td>391.1</td>\n",
              "      <td>2903.9</td>\n",
              "      <td>1940.0</td>\n",
              "      <td>19.1</td>\n",
              "      <td>0.0</td>\n",
              "      <td>-1500.0</td>\n",
              "      <td>0.0</td>\n",
              "      <td>1500.0</td>\n",
              "      <td>1308.9</td>\n",
              "      <td>-1308.9</td>\n",
              "      <td>307.98750</td>\n",
              "      <td>170.96</td>\n",
              "      <td>124.01</td>\n",
              "      <td>194.00</td>\n",
              "      <td>94.80</td>\n",
              "    </tr>\n",
              "    <tr>\n",
              "      <th>13866</th>\n",
              "      <td>2024-07-31 20:00:00</td>\n",
              "      <td>21</td>\n",
              "      <td>161.32</td>\n",
              "      <td>2937.5</td>\n",
              "      <td>1361.0</td>\n",
              "      <td>330.8</td>\n",
              "      <td>2938.2</td>\n",
              "      <td>1940.0</td>\n",
              "      <td>0.8</td>\n",
              "      <td>0.0</td>\n",
              "      <td>-1500.0</td>\n",
              "      <td>0.0</td>\n",
              "      <td>1500.0</td>\n",
              "      <td>1369.2</td>\n",
              "      <td>-1369.2</td>\n",
              "      <td>133.26250</td>\n",
              "      <td>158.80</td>\n",
              "      <td>150.00</td>\n",
              "      <td>167.79</td>\n",
              "      <td>173.31</td>\n",
              "    </tr>\n",
              "    <tr>\n",
              "      <th>13867</th>\n",
              "      <td>2024-07-31 21:00:00</td>\n",
              "      <td>22</td>\n",
              "      <td>116.30</td>\n",
              "      <td>2860.2</td>\n",
              "      <td>1448.5</td>\n",
              "      <td>506.9</td>\n",
              "      <td>2860.2</td>\n",
              "      <td>1940.0</td>\n",
              "      <td>0.0</td>\n",
              "      <td>0.0</td>\n",
              "      <td>-1500.0</td>\n",
              "      <td>0.0</td>\n",
              "      <td>1500.0</td>\n",
              "      <td>1193.1</td>\n",
              "      <td>-1193.1</td>\n",
              "      <td>251.44005</td>\n",
              "      <td>177.99</td>\n",
              "      <td>130.51</td>\n",
              "      <td>202.93</td>\n",
              "      <td>97.29</td>\n",
              "    </tr>\n",
              "    <tr>\n",
              "      <th>13868</th>\n",
              "      <td>2024-07-31 22:00:00</td>\n",
              "      <td>23</td>\n",
              "      <td>102.43</td>\n",
              "      <td>2687.7</td>\n",
              "      <td>1323.4</td>\n",
              "      <td>534.4</td>\n",
              "      <td>2687.7</td>\n",
              "      <td>1940.0</td>\n",
              "      <td>0.0</td>\n",
              "      <td>0.0</td>\n",
              "      <td>-1500.0</td>\n",
              "      <td>0.0</td>\n",
              "      <td>1500.0</td>\n",
              "      <td>1165.6</td>\n",
              "      <td>-1165.6</td>\n",
              "      <td>400.00875</td>\n",
              "      <td>139.59</td>\n",
              "      <td>80.01</td>\n",
              "      <td>169.31</td>\n",
              "      <td>106.68</td>\n",
              "    </tr>\n",
              "    <tr>\n",
              "      <th>13869</th>\n",
              "      <td>2024-07-31 23:00:00</td>\n",
              "      <td>24</td>\n",
              "      <td>89.53</td>\n",
              "      <td>2531.7</td>\n",
              "      <td>1281.7</td>\n",
              "      <td>622.6</td>\n",
              "      <td>2531.7</td>\n",
              "      <td>1940.0</td>\n",
              "      <td>0.0</td>\n",
              "      <td>0.0</td>\n",
              "      <td>-683.5</td>\n",
              "      <td>0.0</td>\n",
              "      <td>683.5</td>\n",
              "      <td>260.9</td>\n",
              "      <td>-260.9</td>\n",
              "      <td>258.21750</td>\n",
              "      <td>131.97</td>\n",
              "      <td>76.07</td>\n",
              "      <td>179.00</td>\n",
              "      <td>96.06</td>\n",
              "    </tr>\n",
              "  </tbody>\n",
              "</table>\n",
              "<p>13870 rows × 20 columns</p>\n",
              "</div>\n",
              "    <div class=\"colab-df-buttons\">\n",
              "\n",
              "  <div class=\"colab-df-container\">\n",
              "    <button class=\"colab-df-convert\" onclick=\"convertToInteractive('df-59986809-e1b3-4ab9-80ae-87f1d6d72cf9')\"\n",
              "            title=\"Convert this dataframe to an interactive table.\"\n",
              "            style=\"display:none;\">\n",
              "\n",
              "  <svg xmlns=\"http://www.w3.org/2000/svg\" height=\"24px\" viewBox=\"0 -960 960 960\">\n",
              "    <path d=\"M120-120v-720h720v720H120Zm60-500h600v-160H180v160Zm220 220h160v-160H400v160Zm0 220h160v-160H400v160ZM180-400h160v-160H180v160Zm440 0h160v-160H620v160ZM180-180h160v-160H180v160Zm440 0h160v-160H620v160Z\"/>\n",
              "  </svg>\n",
              "    </button>\n",
              "\n",
              "  <style>\n",
              "    .colab-df-container {\n",
              "      display:flex;\n",
              "      gap: 12px;\n",
              "    }\n",
              "\n",
              "    .colab-df-convert {\n",
              "      background-color: #E8F0FE;\n",
              "      border: none;\n",
              "      border-radius: 50%;\n",
              "      cursor: pointer;\n",
              "      display: none;\n",
              "      fill: #1967D2;\n",
              "      height: 32px;\n",
              "      padding: 0 0 0 0;\n",
              "      width: 32px;\n",
              "    }\n",
              "\n",
              "    .colab-df-convert:hover {\n",
              "      background-color: #E2EBFA;\n",
              "      box-shadow: 0px 1px 2px rgba(60, 64, 67, 0.3), 0px 1px 3px 1px rgba(60, 64, 67, 0.15);\n",
              "      fill: #174EA6;\n",
              "    }\n",
              "\n",
              "    .colab-df-buttons div {\n",
              "      margin-bottom: 4px;\n",
              "    }\n",
              "\n",
              "    [theme=dark] .colab-df-convert {\n",
              "      background-color: #3B4455;\n",
              "      fill: #D2E3FC;\n",
              "    }\n",
              "\n",
              "    [theme=dark] .colab-df-convert:hover {\n",
              "      background-color: #434B5C;\n",
              "      box-shadow: 0px 1px 3px 1px rgba(0, 0, 0, 0.15);\n",
              "      filter: drop-shadow(0px 1px 2px rgba(0, 0, 0, 0.3));\n",
              "      fill: #FFFFFF;\n",
              "    }\n",
              "  </style>\n",
              "\n",
              "    <script>\n",
              "      const buttonEl =\n",
              "        document.querySelector('#df-59986809-e1b3-4ab9-80ae-87f1d6d72cf9 button.colab-df-convert');\n",
              "      buttonEl.style.display =\n",
              "        google.colab.kernel.accessAllowed ? 'block' : 'none';\n",
              "\n",
              "      async function convertToInteractive(key) {\n",
              "        const element = document.querySelector('#df-59986809-e1b3-4ab9-80ae-87f1d6d72cf9');\n",
              "        const dataTable =\n",
              "          await google.colab.kernel.invokeFunction('convertToInteractive',\n",
              "                                                    [key], {});\n",
              "        if (!dataTable) return;\n",
              "\n",
              "        const docLinkHtml = 'Like what you see? Visit the ' +\n",
              "          '<a target=\"_blank\" href=https://colab.research.google.com/notebooks/data_table.ipynb>data table notebook</a>'\n",
              "          + ' to learn more about interactive tables.';\n",
              "        element.innerHTML = '';\n",
              "        dataTable['output_type'] = 'display_data';\n",
              "        await google.colab.output.renderOutput(dataTable, element);\n",
              "        const docLink = document.createElement('div');\n",
              "        docLink.innerHTML = docLinkHtml;\n",
              "        element.appendChild(docLink);\n",
              "      }\n",
              "    </script>\n",
              "  </div>\n",
              "\n",
              "\n",
              "<div id=\"df-ad18fe09-56ff-4f35-b7ee-36b2dd2bbaf2\">\n",
              "  <button class=\"colab-df-quickchart\" onclick=\"quickchart('df-ad18fe09-56ff-4f35-b7ee-36b2dd2bbaf2')\"\n",
              "            title=\"Suggest charts\"\n",
              "            style=\"display:none;\">\n",
              "\n",
              "<svg xmlns=\"http://www.w3.org/2000/svg\" height=\"24px\"viewBox=\"0 0 24 24\"\n",
              "     width=\"24px\">\n",
              "    <g>\n",
              "        <path d=\"M19 3H5c-1.1 0-2 .9-2 2v14c0 1.1.9 2 2 2h14c1.1 0 2-.9 2-2V5c0-1.1-.9-2-2-2zM9 17H7v-7h2v7zm4 0h-2V7h2v10zm4 0h-2v-4h2v4z\"/>\n",
              "    </g>\n",
              "</svg>\n",
              "  </button>\n",
              "\n",
              "<style>\n",
              "  .colab-df-quickchart {\n",
              "      --bg-color: #E8F0FE;\n",
              "      --fill-color: #1967D2;\n",
              "      --hover-bg-color: #E2EBFA;\n",
              "      --hover-fill-color: #174EA6;\n",
              "      --disabled-fill-color: #AAA;\n",
              "      --disabled-bg-color: #DDD;\n",
              "  }\n",
              "\n",
              "  [theme=dark] .colab-df-quickchart {\n",
              "      --bg-color: #3B4455;\n",
              "      --fill-color: #D2E3FC;\n",
              "      --hover-bg-color: #434B5C;\n",
              "      --hover-fill-color: #FFFFFF;\n",
              "      --disabled-bg-color: #3B4455;\n",
              "      --disabled-fill-color: #666;\n",
              "  }\n",
              "\n",
              "  .colab-df-quickchart {\n",
              "    background-color: var(--bg-color);\n",
              "    border: none;\n",
              "    border-radius: 50%;\n",
              "    cursor: pointer;\n",
              "    display: none;\n",
              "    fill: var(--fill-color);\n",
              "    height: 32px;\n",
              "    padding: 0;\n",
              "    width: 32px;\n",
              "  }\n",
              "\n",
              "  .colab-df-quickchart:hover {\n",
              "    background-color: var(--hover-bg-color);\n",
              "    box-shadow: 0 1px 2px rgba(60, 64, 67, 0.3), 0 1px 3px 1px rgba(60, 64, 67, 0.15);\n",
              "    fill: var(--button-hover-fill-color);\n",
              "  }\n",
              "\n",
              "  .colab-df-quickchart-complete:disabled,\n",
              "  .colab-df-quickchart-complete:disabled:hover {\n",
              "    background-color: var(--disabled-bg-color);\n",
              "    fill: var(--disabled-fill-color);\n",
              "    box-shadow: none;\n",
              "  }\n",
              "\n",
              "  .colab-df-spinner {\n",
              "    border: 2px solid var(--fill-color);\n",
              "    border-color: transparent;\n",
              "    border-bottom-color: var(--fill-color);\n",
              "    animation:\n",
              "      spin 1s steps(1) infinite;\n",
              "  }\n",
              "\n",
              "  @keyframes spin {\n",
              "    0% {\n",
              "      border-color: transparent;\n",
              "      border-bottom-color: var(--fill-color);\n",
              "      border-left-color: var(--fill-color);\n",
              "    }\n",
              "    20% {\n",
              "      border-color: transparent;\n",
              "      border-left-color: var(--fill-color);\n",
              "      border-top-color: var(--fill-color);\n",
              "    }\n",
              "    30% {\n",
              "      border-color: transparent;\n",
              "      border-left-color: var(--fill-color);\n",
              "      border-top-color: var(--fill-color);\n",
              "      border-right-color: var(--fill-color);\n",
              "    }\n",
              "    40% {\n",
              "      border-color: transparent;\n",
              "      border-right-color: var(--fill-color);\n",
              "      border-top-color: var(--fill-color);\n",
              "    }\n",
              "    60% {\n",
              "      border-color: transparent;\n",
              "      border-right-color: var(--fill-color);\n",
              "    }\n",
              "    80% {\n",
              "      border-color: transparent;\n",
              "      border-right-color: var(--fill-color);\n",
              "      border-bottom-color: var(--fill-color);\n",
              "    }\n",
              "    90% {\n",
              "      border-color: transparent;\n",
              "      border-bottom-color: var(--fill-color);\n",
              "    }\n",
              "  }\n",
              "</style>\n",
              "\n",
              "  <script>\n",
              "    async function quickchart(key) {\n",
              "      const quickchartButtonEl =\n",
              "        document.querySelector('#' + key + ' button');\n",
              "      quickchartButtonEl.disabled = true;  // To prevent multiple clicks.\n",
              "      quickchartButtonEl.classList.add('colab-df-spinner');\n",
              "      try {\n",
              "        const charts = await google.colab.kernel.invokeFunction(\n",
              "            'suggestCharts', [key], {});\n",
              "      } catch (error) {\n",
              "        console.error('Error during call to suggestCharts:', error);\n",
              "      }\n",
              "      quickchartButtonEl.classList.remove('colab-df-spinner');\n",
              "      quickchartButtonEl.classList.add('colab-df-quickchart-complete');\n",
              "    }\n",
              "    (() => {\n",
              "      let quickchartButtonEl =\n",
              "        document.querySelector('#df-ad18fe09-56ff-4f35-b7ee-36b2dd2bbaf2 button');\n",
              "      quickchartButtonEl.style.display =\n",
              "        google.colab.kernel.accessAllowed ? 'block' : 'none';\n",
              "    })();\n",
              "  </script>\n",
              "</div>\n",
              "\n",
              "  <div id=\"id_f2770bb7-61c4-4d34-b416-73ccc5c7c3af\">\n",
              "    <style>\n",
              "      .colab-df-generate {\n",
              "        background-color: #E8F0FE;\n",
              "        border: none;\n",
              "        border-radius: 50%;\n",
              "        cursor: pointer;\n",
              "        display: none;\n",
              "        fill: #1967D2;\n",
              "        height: 32px;\n",
              "        padding: 0 0 0 0;\n",
              "        width: 32px;\n",
              "      }\n",
              "\n",
              "      .colab-df-generate:hover {\n",
              "        background-color: #E2EBFA;\n",
              "        box-shadow: 0px 1px 2px rgba(60, 64, 67, 0.3), 0px 1px 3px 1px rgba(60, 64, 67, 0.15);\n",
              "        fill: #174EA6;\n",
              "      }\n",
              "\n",
              "      [theme=dark] .colab-df-generate {\n",
              "        background-color: #3B4455;\n",
              "        fill: #D2E3FC;\n",
              "      }\n",
              "\n",
              "      [theme=dark] .colab-df-generate:hover {\n",
              "        background-color: #434B5C;\n",
              "        box-shadow: 0px 1px 3px 1px rgba(0, 0, 0, 0.15);\n",
              "        filter: drop-shadow(0px 1px 2px rgba(0, 0, 0, 0.3));\n",
              "        fill: #FFFFFF;\n",
              "      }\n",
              "    </style>\n",
              "    <button class=\"colab-df-generate\" onclick=\"generateWithVariable('df')\"\n",
              "            title=\"Generate code using this dataframe.\"\n",
              "            style=\"display:none;\">\n",
              "\n",
              "  <svg xmlns=\"http://www.w3.org/2000/svg\" height=\"24px\"viewBox=\"0 0 24 24\"\n",
              "       width=\"24px\">\n",
              "    <path d=\"M7,19H8.4L18.45,9,17,7.55,7,17.6ZM5,21V16.75L18.45,3.32a2,2,0,0,1,2.83,0l1.4,1.43a1.91,1.91,0,0,1,.58,1.4,1.91,1.91,0,0,1-.58,1.4L9.25,21ZM18.45,9,17,7.55Zm-12,3A5.31,5.31,0,0,0,4.9,8.1,5.31,5.31,0,0,0,1,6.5,5.31,5.31,0,0,0,4.9,4.9,5.31,5.31,0,0,0,6.5,1,5.31,5.31,0,0,0,8.1,4.9,5.31,5.31,0,0,0,12,6.5,5.46,5.46,0,0,0,6.5,12Z\"/>\n",
              "  </svg>\n",
              "    </button>\n",
              "    <script>\n",
              "      (() => {\n",
              "      const buttonEl =\n",
              "        document.querySelector('#id_f2770bb7-61c4-4d34-b416-73ccc5c7c3af button.colab-df-generate');\n",
              "      buttonEl.style.display =\n",
              "        google.colab.kernel.accessAllowed ? 'block' : 'none';\n",
              "\n",
              "      buttonEl.onclick = () => {\n",
              "        google.colab.notebook.generateWithVariable('df');\n",
              "      }\n",
              "      })();\n",
              "    </script>\n",
              "  </div>\n",
              "\n",
              "    </div>\n",
              "  </div>\n"
            ],
            "application/vnd.google.colaboratory.intrinsic+json": {
              "type": "dataframe",
              "variable_name": "df",
              "summary": "{\n  \"name\": \"df\",\n  \"rows\": 13870,\n  \"fields\": [\n    {\n      \"column\": \"Datetime\",\n      \"properties\": {\n        \"dtype\": \"date\",\n        \"min\": \"2023-01-01 00:00:00\",\n        \"max\": \"2024-07-31 23:00:00\",\n        \"num_unique_values\": 13870,\n        \"samples\": [\n          \"2023-04-08 07:00:00\",\n          \"2023-02-14 22:00:00\",\n          \"2023-10-05 00:00:00\"\n        ],\n        \"semantic_type\": \"\",\n        \"description\": \"\"\n      }\n    },\n    {\n      \"column\": \"Unnamed: 1\",\n      \"properties\": {\n        \"dtype\": \"number\",\n        \"std\": 6,\n        \"min\": 1,\n        \"max\": 24,\n        \"num_unique_values\": 24,\n        \"samples\": [\n          9,\n          17,\n          1\n        ],\n        \"semantic_type\": \"\",\n        \"description\": \"\"\n      }\n    },\n    {\n      \"column\": \"SK Backcast\",\n      \"properties\": {\n        \"dtype\": \"number\",\n        \"std\": 39.41338584748082,\n        \"min\": -23.24,\n        \"max\": 372.75,\n        \"num_unique_values\": 8824,\n        \"samples\": [\n          134.34,\n          86.72,\n          141.6\n        ],\n        \"semantic_type\": \"\",\n        \"description\": \"\"\n      }\n    },\n    {\n      \"column\": \"SK Residual Load Backcast\",\n      \"properties\": {\n        \"dtype\": \"number\",\n        \"std\": 436.39741760662406,\n        \"min\": 1758.6,\n        \"max\": 4068.9,\n        \"num_unique_values\": 9295,\n        \"samples\": [\n          3011.1,\n          3192.3,\n          2818.3\n        ],\n        \"semantic_type\": \"\",\n        \"description\": \"\"\n      }\n    },\n    {\n      \"column\": \"SK Residual Production Backcast\",\n      \"properties\": {\n        \"dtype\": \"number\",\n        \"std\": 555.9245867097904,\n        \"min\": -1807.5,\n        \"max\": 3471.7,\n        \"num_unique_values\": 9877,\n        \"samples\": [\n          2013.7,\n          2291.9,\n          1692.4\n        ],\n        \"semantic_type\": \"\",\n        \"description\": \"\"\n      }\n    },\n    {\n      \"column\": \"SK Exchange Day-Ahead Schedule Net Export MWh/h H Backcast\",\n      \"properties\": {\n        \"dtype\": \"number\",\n        \"std\": 568.2578299377236,\n        \"min\": -3300.0,\n        \"max\": 2367.0,\n        \"num_unique_values\": 9761,\n        \"samples\": [\n          817.5,\n          -463.1,\n          409.7\n        ],\n        \"semantic_type\": \"\",\n        \"description\": \"\"\n      }\n    },\n    {\n      \"column\": \"SK Consumption MWh/h 15min Backcast\",\n      \"properties\": {\n        \"dtype\": \"number\",\n        \"std\": 445.2305799371822,\n        \"min\": 1758.6,\n        \"max\": 4068.9,\n        \"num_unique_values\": 9348,\n        \"samples\": [\n          2119.6,\n          3293.2,\n          3144.3\n        ],\n        \"semantic_type\": \"\",\n        \"description\": \"\"\n      }\n    },\n    {\n      \"column\": \"SK Nuclear Production MWh/h 15min Backcast\",\n      \"properties\": {\n        \"dtype\": \"number\",\n        \"std\": 235.4470574974946,\n        \"min\": 1096.2,\n        \"max\": 2061.2,\n        \"num_unique_values\": 17,\n        \"samples\": [\n          1940.0,\n          1499.4,\n          1471.2\n        ],\n        \"semantic_type\": \"\",\n        \"description\": \"\"\n      }\n    },\n    {\n      \"column\": \"SK Solar Photovoltaic Production MWh/h 15min Backcast\",\n      \"properties\": {\n        \"dtype\": \"number\",\n        \"std\": 100.62409131705394,\n        \"min\": 0.0,\n        \"max\": 426.8,\n        \"num_unique_values\": 2958,\n        \"samples\": [\n          259.1,\n          213.7,\n          152.8\n        ],\n        \"semantic_type\": \"\",\n        \"description\": \"\"\n      }\n    },\n    {\n      \"column\": \"HU>SK Exchange Day-Ahead Schedule MWh/h H Backcast\",\n      \"properties\": {\n        \"dtype\": \"number\",\n        \"std\": 749.9144437092586,\n        \"min\": -1300.0,\n        \"max\": 1000.0,\n        \"num_unique_values\": 5657,\n        \"samples\": [\n          -37.2,\n          124.0,\n          -113.3\n        ],\n        \"semantic_type\": \"\",\n        \"description\": \"\"\n      }\n    },\n    {\n      \"column\": \"PL>SK Exchange Day-Ahead Schedule MWh/h H Backcast\",\n      \"properties\": {\n        \"dtype\": \"number\",\n        \"std\": 737.054533745453,\n        \"min\": -1500.0,\n        \"max\": 1500.0,\n        \"num_unique_values\": 9064,\n        \"samples\": [\n          869.2,\n          59.5,\n          1061.6\n        ],\n        \"semantic_type\": \"\",\n        \"description\": \"\"\n      }\n    },\n    {\n      \"column\": \"SK>HU Exchange Day-Ahead Schedule MWh/h H Backcast\",\n      \"properties\": {\n        \"dtype\": \"number\",\n        \"std\": 749.9144437092586,\n        \"min\": -1000.0,\n        \"max\": 1300.0,\n        \"num_unique_values\": 5657,\n        \"samples\": [\n          37.2,\n          -124.0,\n          113.3\n        ],\n        \"semantic_type\": \"\",\n        \"description\": \"\"\n      }\n    },\n    {\n      \"column\": \"SK>PL Exchange Day-Ahead Schedule MWh/h H Backcast\",\n      \"properties\": {\n        \"dtype\": \"number\",\n        \"std\": 737.054533745453,\n        \"min\": -1500.0,\n        \"max\": 1500.0,\n        \"num_unique_values\": 9064,\n        \"samples\": [\n          -869.2,\n          -59.5,\n          -1061.6\n        ],\n        \"semantic_type\": \"\",\n        \"description\": \"\"\n      }\n    },\n    {\n      \"column\": \"CZ>SK Exchange Day-Ahead Schedule MWh/h H Backcast\",\n      \"properties\": {\n        \"dtype\": \"number\",\n        \"std\": 756.7580989310827,\n        \"min\": -1200.0,\n        \"max\": 2000.0,\n        \"num_unique_values\": 9896,\n        \"samples\": [\n          242.6,\n          -288.9,\n          501.2\n        ],\n        \"semantic_type\": \"\",\n        \"description\": \"\"\n      }\n    },\n    {\n      \"column\": \"SK>CZ Exchange Day-Ahead Schedule MWh/h H Backcast\",\n      \"properties\": {\n        \"dtype\": \"number\",\n        \"std\": 756.7580989310827,\n        \"min\": -2000.0,\n        \"max\": 1200.0,\n        \"num_unique_values\": 9896,\n        \"samples\": [\n          -242.6,\n          288.9,\n          -501.2\n        ],\n        \"semantic_type\": \"\",\n        \"description\": \"\"\n      }\n    },\n    {\n      \"column\": \"Bilans\",\n      \"properties\": {\n        \"dtype\": \"number\",\n        \"std\": 83.93594640582457,\n        \"min\": -812.3249999999999,\n        \"max\": 913.59,\n        \"num_unique_values\": 9941,\n        \"samples\": [\n          264.42749999999995,\n          62.375,\n          47.67125\n        ],\n        \"semantic_type\": \"\",\n        \"description\": \"\"\n      }\n    },\n    {\n      \"column\": \"Weighted average price of all trades (EUR/MWh)\",\n      \"properties\": {\n        \"dtype\": \"number\",\n        \"std\": 50.412641500347114,\n        \"min\": -289.95,\n        \"max\": 730.03,\n        \"num_unique_values\": 9320,\n        \"samples\": [\n          137.29,\n          48.48,\n          4.35\n        ],\n        \"semantic_type\": \"\",\n        \"description\": \"\"\n      }\n    },\n    {\n      \"column\": \"Minimal price (EUR/MWh)\",\n      \"properties\": {\n        \"dtype\": \"number\",\n        \"std\": 47.53372661638501,\n        \"min\": -350.0,\n        \"max\": 560.0,\n        \"num_unique_values\": 6610,\n        \"samples\": [\n          60.81,\n          124.09,\n          61.81\n        ],\n        \"semantic_type\": \"\",\n        \"description\": \"\"\n      }\n    },\n    {\n      \"column\": \"Maximal price (EUR/MWh)\",\n      \"properties\": {\n        \"dtype\": \"number\",\n        \"std\": 61.685212458721736,\n        \"min\": -177.35,\n        \"max\": 1029.93,\n        \"num_unique_values\": 7194,\n        \"samples\": [\n          83.48,\n          12.96,\n          36.27\n        ],\n        \"semantic_type\": \"\",\n        \"description\": \"\"\n      }\n    },\n    {\n      \"column\": \"Price SK (EUR/MWh)\",\n      \"properties\": {\n        \"dtype\": \"number\",\n        \"std\": 49.00674851137142,\n        \"min\": -146.13,\n        \"max\": 613.45,\n        \"num_unique_values\": 8975,\n        \"samples\": [\n          102.96,\n          207.22,\n          52.26\n        ],\n        \"semantic_type\": \"\",\n        \"description\": \"\"\n      }\n    }\n  ]\n}"
            }
          },
          "metadata": {},
          "execution_count": 3
        }
      ]
    },
    {
      "cell_type": "code",
      "source": [
        "futures=['SK Residual Load Backcast', \"SK Residual Production Backcast\", 'Weighted average price of all trades (EUR/MWh)' ]"
      ],
      "metadata": {
        "id": "xFqDJGqeBJWT"
      },
      "execution_count": 4,
      "outputs": []
    },
    {
      "cell_type": "code",
      "source": [
        "df.columns"
      ],
      "metadata": {
        "colab": {
          "base_uri": "https://localhost:8080/"
        },
        "id": "Nl3nw3fjBh26",
        "outputId": "1616cd35-dcd6-49fa-bcda-90a4dfea3238"
      },
      "execution_count": 5,
      "outputs": [
        {
          "output_type": "execute_result",
          "data": {
            "text/plain": [
              "Index(['Datetime', 'Unnamed: 1', 'SK Backcast', 'SK Residual Load Backcast',\n",
              "       'SK Residual Production Backcast',\n",
              "       'SK Exchange Day-Ahead Schedule Net Export MWh/h H Backcast',\n",
              "       'SK Consumption MWh/h 15min Backcast',\n",
              "       'SK Nuclear Production MWh/h 15min Backcast',\n",
              "       'SK Solar Photovoltaic Production MWh/h 15min Backcast',\n",
              "       'HU>SK Exchange Day-Ahead Schedule MWh/h H Backcast',\n",
              "       'PL>SK Exchange Day-Ahead Schedule MWh/h H Backcast',\n",
              "       'SK>HU Exchange Day-Ahead Schedule MWh/h H Backcast',\n",
              "       'SK>PL Exchange Day-Ahead Schedule MWh/h H Backcast',\n",
              "       'CZ>SK Exchange Day-Ahead Schedule MWh/h H Backcast',\n",
              "       'SK>CZ Exchange Day-Ahead Schedule MWh/h H Backcast', 'Bilans',\n",
              "       'Weighted average price of all trades (EUR/MWh)',\n",
              "       'Minimal price (EUR/MWh)', 'Maximal price (EUR/MWh)',\n",
              "       'Price SK (EUR/MWh)'],\n",
              "      dtype='object')"
            ]
          },
          "metadata": {},
          "execution_count": 5
        }
      ]
    },
    {
      "cell_type": "code",
      "source": [
        "target = df['Weighted average price of all trades (EUR/MWh)'].values"
      ],
      "metadata": {
        "id": "0RaP9fThBix0"
      },
      "execution_count": 6,
      "outputs": []
    },
    {
      "cell_type": "code",
      "source": [
        "input = df[[ 'SK Residual Production Backcast', \"SK Residual Load Backcast\", \"Weighted average price of all trades (EUR/MWh)\"]].values"
      ],
      "metadata": {
        "id": "jboJYqiUDeFq"
      },
      "execution_count": 7,
      "outputs": []
    },
    {
      "cell_type": "code",
      "source": [
        "scaler = MinMaxScaler()\n",
        "\n",
        "futures_scaled = scaler.fit_transform(input)\n",
        "\n",
        "\n"
      ],
      "metadata": {
        "id": "b_zN82Xusi6m"
      },
      "execution_count": 8,
      "outputs": []
    },
    {
      "cell_type": "code",
      "source": [
        "# Create sequences for LSTM\n",
        "def create_sequences(data, window_size, prediction_size):\n",
        "    X = []\n",
        "    y = []\n",
        "    for i in range(len(data) - window_size - prediction_size + 1):\n",
        "        X.append(data[i:(i + window_size)])\n",
        "        y.append(data[i + window_size:i + window_size + prediction_size, -1])  # Predicting only the price\n",
        "    return np.array(X), np.array(y)"
      ],
      "metadata": {
        "id": "f44LCvuwuCZW"
      },
      "execution_count": 9,
      "outputs": []
    },
    {
      "cell_type": "code",
      "source": [
        "#liczbs godzina na bazie ktorych generujemy predykcje\n",
        "window_size = 48\n",
        "\n",
        "prediction_size = 24"
      ],
      "metadata": {
        "id": "uIVNZdvuuCR3"
      },
      "execution_count": 10,
      "outputs": []
    },
    {
      "cell_type": "code",
      "source": [
        "X,y = create_sequences (futures_scaled, window_size, prediction_size)"
      ],
      "metadata": {
        "id": "bAJjWVExuX9n"
      },
      "execution_count": 11,
      "outputs": []
    },
    {
      "cell_type": "code",
      "source": [
        "X_train, X_test, y_train, y_test = train_test_split(X, y, test_size=0.2, random_state=42)"
      ],
      "metadata": {
        "id": "pBSGQVebvj8a"
      },
      "execution_count": 12,
      "outputs": []
    },
    {
      "cell_type": "code",
      "source": [
        "print(f'Shape of X_train: {X_train.shape}')\n",
        "print(f'Shape of y_train: {y_train.shape}')"
      ],
      "metadata": {
        "colab": {
          "base_uri": "https://localhost:8080/"
        },
        "id": "r-eua9FhuX4f",
        "outputId": "6f3a12b3-b35a-47c1-f19a-58356200fee5"
      },
      "execution_count": 13,
      "outputs": [
        {
          "output_type": "stream",
          "name": "stdout",
          "text": [
            "Shape of X_train: (11039, 48, 3)\n",
            "Shape of y_train: (11039, 24)\n"
          ]
        }
      ]
    },
    {
      "cell_type": "code",
      "source": [],
      "metadata": {
        "id": "-L3aGtpFD68t"
      },
      "execution_count": 13,
      "outputs": []
    },
    {
      "cell_type": "code",
      "source": [],
      "metadata": {
        "id": "h1A-KaBQFAgS"
      },
      "execution_count": 13,
      "outputs": []
    },
    {
      "cell_type": "code",
      "source": [],
      "metadata": {
        "id": "hC70gSzaGFck"
      },
      "execution_count": 13,
      "outputs": []
    },
    {
      "cell_type": "code",
      "source": [
        "# # Przekształcenie danych do formatu akceptowalnego przez LSTM (próbki, kroki czasowe, cechy)\n",
        "# X_train = np.reshape(X_train, (X_train.shape[0], 1, X_train.shape[1]))\n",
        "# # X_test = np.reshape(X_test, (X_test.shape[0], 1, X_test.shape[1]))"
      ],
      "metadata": {
        "id": "7fujrvH1GZHs"
      },
      "execution_count": 14,
      "outputs": []
    },
    {
      "cell_type": "code",
      "source": [
        "import tensorflow as tf\n",
        "from tensorflow.keras.models import Sequential\n",
        "from tensorflow.keras.layers import LSTM, Dense, Dropout"
      ],
      "metadata": {
        "id": "x8ElScNcG8pR"
      },
      "execution_count": 15,
      "outputs": []
    },
    {
      "cell_type": "code",
      "source": [
        "# Inicjalizacja modelu LSTM\n",
        "model = Sequential()\n",
        "\n",
        "# Dodanie warstwy LSTM\n",
        "model.add(LSTM(units=50, return_sequences=True, input_shape=(X_train.shape[1], X_train.shape[2])))\n",
        "model.add(Dropout(0.2))\n",
        "\n",
        "# Dodanie kolejnej warstwy LSTM\n",
        "model.add(LSTM(units=50, return_sequences=False))\n",
        "model.add(Dropout(0.2))\n",
        "\n",
        "# Dodanie warstwy wyjściowej\n",
        "model.add(Dense(units = prediction_size))\n"
      ],
      "metadata": {
        "colab": {
          "base_uri": "https://localhost:8080/"
        },
        "id": "sXD6ZL9PHIVp",
        "outputId": "8e89bb9e-adb3-4cf1-fb07-06ed69158b2d"
      },
      "execution_count": 16,
      "outputs": [
        {
          "output_type": "stream",
          "name": "stderr",
          "text": [
            "/usr/local/lib/python3.10/dist-packages/keras/src/layers/rnn/rnn.py:204: UserWarning: Do not pass an `input_shape`/`input_dim` argument to a layer. When using Sequential models, prefer using an `Input(shape)` object as the first layer in the model instead.\n",
            "  super().__init__(**kwargs)\n"
          ]
        }
      ]
    },
    {
      "cell_type": "code",
      "source": [
        "# Kompilacja modelu\n",
        "model.compile(optimizer='adam', loss='mean_squared_error')\n",
        "\n",
        "# Wyświetlenie architektury modelu\n",
        "model.summary()"
      ],
      "metadata": {
        "colab": {
          "base_uri": "https://localhost:8080/",
          "height": 300
        },
        "id": "3MvRFxgeHmw-",
        "outputId": "238a40ec-9c69-45a0-a9b5-25cfc5dcaab5"
      },
      "execution_count": 17,
      "outputs": [
        {
          "output_type": "display_data",
          "data": {
            "text/plain": [
              "\u001b[1mModel: \"sequential\"\u001b[0m\n"
            ],
            "text/html": [
              "<pre style=\"white-space:pre;overflow-x:auto;line-height:normal;font-family:Menlo,'DejaVu Sans Mono',consolas,'Courier New',monospace\"><span style=\"font-weight: bold\">Model: \"sequential\"</span>\n",
              "</pre>\n"
            ]
          },
          "metadata": {}
        },
        {
          "output_type": "display_data",
          "data": {
            "text/plain": [
              "┏━━━━━━━━━━━━━━━━━━━━━━━━━━━━━━━━━━━━━━┳━━━━━━━━━━━━━━━━━━━━━━━━━━━━━┳━━━━━━━━━━━━━━━━━┓\n",
              "┃\u001b[1m \u001b[0m\u001b[1mLayer (type)                        \u001b[0m\u001b[1m \u001b[0m┃\u001b[1m \u001b[0m\u001b[1mOutput Shape               \u001b[0m\u001b[1m \u001b[0m┃\u001b[1m \u001b[0m\u001b[1m        Param #\u001b[0m\u001b[1m \u001b[0m┃\n",
              "┡━━━━━━━━━━━━━━━━━━━━━━━━━━━━━━━━━━━━━━╇━━━━━━━━━━━━━━━━━━━━━━━━━━━━━╇━━━━━━━━━━━━━━━━━┩\n",
              "│ lstm (\u001b[38;5;33mLSTM\u001b[0m)                          │ (\u001b[38;5;45mNone\u001b[0m, \u001b[38;5;34m48\u001b[0m, \u001b[38;5;34m50\u001b[0m)              │          \u001b[38;5;34m10,800\u001b[0m │\n",
              "├──────────────────────────────────────┼─────────────────────────────┼─────────────────┤\n",
              "│ dropout (\u001b[38;5;33mDropout\u001b[0m)                    │ (\u001b[38;5;45mNone\u001b[0m, \u001b[38;5;34m48\u001b[0m, \u001b[38;5;34m50\u001b[0m)              │               \u001b[38;5;34m0\u001b[0m │\n",
              "├──────────────────────────────────────┼─────────────────────────────┼─────────────────┤\n",
              "│ lstm_1 (\u001b[38;5;33mLSTM\u001b[0m)                        │ (\u001b[38;5;45mNone\u001b[0m, \u001b[38;5;34m50\u001b[0m)                  │          \u001b[38;5;34m20,200\u001b[0m │\n",
              "├──────────────────────────────────────┼─────────────────────────────┼─────────────────┤\n",
              "│ dropout_1 (\u001b[38;5;33mDropout\u001b[0m)                  │ (\u001b[38;5;45mNone\u001b[0m, \u001b[38;5;34m50\u001b[0m)                  │               \u001b[38;5;34m0\u001b[0m │\n",
              "├──────────────────────────────────────┼─────────────────────────────┼─────────────────┤\n",
              "│ dense (\u001b[38;5;33mDense\u001b[0m)                        │ (\u001b[38;5;45mNone\u001b[0m, \u001b[38;5;34m24\u001b[0m)                  │           \u001b[38;5;34m1,224\u001b[0m │\n",
              "└──────────────────────────────────────┴─────────────────────────────┴─────────────────┘\n"
            ],
            "text/html": [
              "<pre style=\"white-space:pre;overflow-x:auto;line-height:normal;font-family:Menlo,'DejaVu Sans Mono',consolas,'Courier New',monospace\">┏━━━━━━━━━━━━━━━━━━━━━━━━━━━━━━━━━━━━━━┳━━━━━━━━━━━━━━━━━━━━━━━━━━━━━┳━━━━━━━━━━━━━━━━━┓\n",
              "┃<span style=\"font-weight: bold\"> Layer (type)                         </span>┃<span style=\"font-weight: bold\"> Output Shape                </span>┃<span style=\"font-weight: bold\">         Param # </span>┃\n",
              "┡━━━━━━━━━━━━━━━━━━━━━━━━━━━━━━━━━━━━━━╇━━━━━━━━━━━━━━━━━━━━━━━━━━━━━╇━━━━━━━━━━━━━━━━━┩\n",
              "│ lstm (<span style=\"color: #0087ff; text-decoration-color: #0087ff\">LSTM</span>)                          │ (<span style=\"color: #00d7ff; text-decoration-color: #00d7ff\">None</span>, <span style=\"color: #00af00; text-decoration-color: #00af00\">48</span>, <span style=\"color: #00af00; text-decoration-color: #00af00\">50</span>)              │          <span style=\"color: #00af00; text-decoration-color: #00af00\">10,800</span> │\n",
              "├──────────────────────────────────────┼─────────────────────────────┼─────────────────┤\n",
              "│ dropout (<span style=\"color: #0087ff; text-decoration-color: #0087ff\">Dropout</span>)                    │ (<span style=\"color: #00d7ff; text-decoration-color: #00d7ff\">None</span>, <span style=\"color: #00af00; text-decoration-color: #00af00\">48</span>, <span style=\"color: #00af00; text-decoration-color: #00af00\">50</span>)              │               <span style=\"color: #00af00; text-decoration-color: #00af00\">0</span> │\n",
              "├──────────────────────────────────────┼─────────────────────────────┼─────────────────┤\n",
              "│ lstm_1 (<span style=\"color: #0087ff; text-decoration-color: #0087ff\">LSTM</span>)                        │ (<span style=\"color: #00d7ff; text-decoration-color: #00d7ff\">None</span>, <span style=\"color: #00af00; text-decoration-color: #00af00\">50</span>)                  │          <span style=\"color: #00af00; text-decoration-color: #00af00\">20,200</span> │\n",
              "├──────────────────────────────────────┼─────────────────────────────┼─────────────────┤\n",
              "│ dropout_1 (<span style=\"color: #0087ff; text-decoration-color: #0087ff\">Dropout</span>)                  │ (<span style=\"color: #00d7ff; text-decoration-color: #00d7ff\">None</span>, <span style=\"color: #00af00; text-decoration-color: #00af00\">50</span>)                  │               <span style=\"color: #00af00; text-decoration-color: #00af00\">0</span> │\n",
              "├──────────────────────────────────────┼─────────────────────────────┼─────────────────┤\n",
              "│ dense (<span style=\"color: #0087ff; text-decoration-color: #0087ff\">Dense</span>)                        │ (<span style=\"color: #00d7ff; text-decoration-color: #00d7ff\">None</span>, <span style=\"color: #00af00; text-decoration-color: #00af00\">24</span>)                  │           <span style=\"color: #00af00; text-decoration-color: #00af00\">1,224</span> │\n",
              "└──────────────────────────────────────┴─────────────────────────────┴─────────────────┘\n",
              "</pre>\n"
            ]
          },
          "metadata": {}
        },
        {
          "output_type": "display_data",
          "data": {
            "text/plain": [
              "\u001b[1m Total params: \u001b[0m\u001b[38;5;34m32,224\u001b[0m (125.88 KB)\n"
            ],
            "text/html": [
              "<pre style=\"white-space:pre;overflow-x:auto;line-height:normal;font-family:Menlo,'DejaVu Sans Mono',consolas,'Courier New',monospace\"><span style=\"font-weight: bold\"> Total params: </span><span style=\"color: #00af00; text-decoration-color: #00af00\">32,224</span> (125.88 KB)\n",
              "</pre>\n"
            ]
          },
          "metadata": {}
        },
        {
          "output_type": "display_data",
          "data": {
            "text/plain": [
              "\u001b[1m Trainable params: \u001b[0m\u001b[38;5;34m32,224\u001b[0m (125.88 KB)\n"
            ],
            "text/html": [
              "<pre style=\"white-space:pre;overflow-x:auto;line-height:normal;font-family:Menlo,'DejaVu Sans Mono',consolas,'Courier New',monospace\"><span style=\"font-weight: bold\"> Trainable params: </span><span style=\"color: #00af00; text-decoration-color: #00af00\">32,224</span> (125.88 KB)\n",
              "</pre>\n"
            ]
          },
          "metadata": {}
        },
        {
          "output_type": "display_data",
          "data": {
            "text/plain": [
              "\u001b[1m Non-trainable params: \u001b[0m\u001b[38;5;34m0\u001b[0m (0.00 B)\n"
            ],
            "text/html": [
              "<pre style=\"white-space:pre;overflow-x:auto;line-height:normal;font-family:Menlo,'DejaVu Sans Mono',consolas,'Courier New',monospace\"><span style=\"font-weight: bold\"> Non-trainable params: </span><span style=\"color: #00af00; text-decoration-color: #00af00\">0</span> (0.00 B)\n",
              "</pre>\n"
            ]
          },
          "metadata": {}
        }
      ]
    },
    {
      "cell_type": "code",
      "source": [
        "# Trenowanie modelu LSTM\n",
        "history = model.fit(X_train, y_train, epochs=3, batch_size=32, validation_data=(X_test, y_test), verbose=1)"
      ],
      "metadata": {
        "colab": {
          "base_uri": "https://localhost:8080/"
        },
        "id": "OHK21QMFIC6i",
        "outputId": "5ea500b7-6dfd-4064-8a05-65dfa55abbcb"
      },
      "execution_count": 18,
      "outputs": [
        {
          "output_type": "stream",
          "name": "stdout",
          "text": [
            "Epoch 1/3\n",
            "\u001b[1m345/345\u001b[0m \u001b[32m━━━━━━━━━━━━━━━━━━━━\u001b[0m\u001b[37m\u001b[0m \u001b[1m27s\u001b[0m 58ms/step - loss: 0.0250 - val_loss: 0.0018\n",
            "Epoch 2/3\n",
            "\u001b[1m345/345\u001b[0m \u001b[32m━━━━━━━━━━━━━━━━━━━━\u001b[0m\u001b[37m\u001b[0m \u001b[1m18s\u001b[0m 51ms/step - loss: 0.0037 - val_loss: 0.0017\n",
            "Epoch 3/3\n",
            "\u001b[1m345/345\u001b[0m \u001b[32m━━━━━━━━━━━━━━━━━━━━\u001b[0m\u001b[37m\u001b[0m \u001b[1m27s\u001b[0m 71ms/step - loss: 0.0029 - val_loss: 0.0018\n"
          ]
        }
      ]
    },
    {
      "cell_type": "code",
      "source": [
        "# Wykres strat treningowych i walidacyjnych\n",
        "import matplotlib.pyplot as plt\n",
        "\n",
        "plt.plot(history.history['loss'], label='Strata treningowa')\n",
        "plt.plot(history.history['val_loss'], label='Strata walidacyjna')\n",
        "plt.title('Strata modelu')\n",
        "plt.xlabel('Epoki')\n",
        "plt.ylabel('Strata')\n",
        "plt.legend()\n",
        "plt.show()"
      ],
      "metadata": {
        "colab": {
          "base_uri": "https://localhost:8080/",
          "height": 472
        },
        "id": "AHp0yU1kIRpo",
        "outputId": "a50b186f-dd93-40d3-8121-e0bf4d47802a"
      },
      "execution_count": 19,
      "outputs": [
        {
          "output_type": "display_data",
          "data": {
            "text/plain": [
              "<Figure size 640x480 with 1 Axes>"
            ],
            "image/png": "[encoded data removed]"
          },
          "metadata": {}
        }
      ]
    },
    {
      "cell_type": "code",
      "source": [
        "# Evaluate the model on test data\n",
        "test_loss = model.evaluate(X_test, y_test)\n",
        "print(f'Test Loss: {test_loss}')"
      ],
      "metadata": {
        "id": "250bV7W6JZsX",
        "colab": {
          "base_uri": "https://localhost:8080/"
        },
        "outputId": "9192818f-db52-4b79-b739-b7020ca0c191"
      },
      "execution_count": 20,
      "outputs": [
        {
          "output_type": "stream",
          "name": "stdout",
          "text": [
            "\u001b[1m87/87\u001b[0m \u001b[32m━━━━━━━━━━━━━━━━━━━━\u001b[0m\u001b[37m\u001b[0m \u001b[1m1s\u001b[0m 14ms/step - loss: 0.0018\n",
            "Test Loss: 0.0017876700730994344\n"
          ]
        }
      ]
    },
    {
      "cell_type": "code",
      "source": [
        "# Make predictions\n",
        "predictions = model.predict(X_test)"
      ],
      "metadata": {
        "colab": {
          "base_uri": "https://localhost:8080/"
        },
        "id": "ESwFfSzU13n3",
        "outputId": "d644a832-d458-49ff-dcff-506456f015a8"
      },
      "execution_count": 21,
      "outputs": [
        {
          "output_type": "stream",
          "name": "stdout",
          "text": [
            "\u001b[1m87/87\u001b[0m \u001b[32m━━━━━━━━━━━━━━━━━━━━\u001b[0m\u001b[37m\u001b[0m \u001b[1m2s\u001b[0m 24ms/step\n"
          ]
        }
      ]
    },
    {
      "cell_type": "markdown",
      "source": [],
      "metadata": {
        "id": "74dt32FP2xTU"
      }
    },
    {
      "cell_type": "code",
      "source": [
        "y_test_24 = y_test[:, -1]"
      ],
      "metadata": {
        "id": "tTOIwU9u_zAs"
      },
      "execution_count": 37,
      "outputs": []
    },
    {
      "cell_type": "code",
      "source": [
        "predictions_24 = predictions[:, -1]"
      ],
      "metadata": {
        "id": "TG-d0snMCmko"
      },
      "execution_count": 38,
      "outputs": []
    },
    {
      "cell_type": "code",
      "source": [],
      "metadata": {
        "id": "_PTe9ERNDE2J"
      },
      "execution_count": null,
      "outputs": []
    },
    {
      "cell_type": "markdown",
      "source": [],
      "metadata": {
        "id": "-VeJW2LM2xNt"
      }
    },
    {
      "cell_type": "code",
      "source": [
        "y_test_rescaled = scaler.inverse_transform(np.concatenate([np.zeros((y_test_24.shape[0], 2)), y_test_24.reshape(-1, 1)], axis=1))[:, -1]\n"
      ],
      "metadata": {
        "id": "vLwFTkK12AJK"
      },
      "execution_count": 40,
      "outputs": []
    },
    {
      "cell_type": "code",
      "source": [
        "np.concatenate([np.zeros((y_test.shape[0], 2)), y_test],axis=1).shape"
      ],
      "metadata": {
        "colab": {
          "base_uri": "https://localhost:8080/"
        },
        "id": "6a1IxrgmAcxl",
        "outputId": "cd545736-9a12-462f-929b-0c49b9c5509f"
      },
      "execution_count": 34,
      "outputs": [
        {
          "output_type": "execute_result",
          "data": {
            "text/plain": [
              "(2760, 26)"
            ]
          },
          "metadata": {},
          "execution_count": 34
        }
      ]
    },
    {
      "cell_type": "code",
      "source": [
        "np.zeros((y_test.shape[0], 2)).shape"
      ],
      "metadata": {
        "colab": {
          "base_uri": "https://localhost:8080/"
        },
        "id": "EdOLjmGvBhvi",
        "outputId": "be3510d0-d782-4aed-9729-609e8aac2515"
      },
      "execution_count": 36,
      "outputs": [
        {
          "output_type": "execute_result",
          "data": {
            "text/plain": [
              "(2760, 2)"
            ]
          },
          "metadata": {},
          "execution_count": 36
        }
      ]
    },
    {
      "cell_type": "code",
      "source": [],
      "metadata": {
        "id": "T1mGanQ5DmAJ"
      },
      "execution_count": null,
      "outputs": []
    },
    {
      "cell_type": "code",
      "source": [],
      "metadata": {
        "id": "hvbZoDITDl3x"
      },
      "execution_count": null,
      "outputs": []
    },
    {
      "cell_type": "code",
      "source": [
        "predictions_rescaled = scaler.inverse_transform(np.concatenate([np.zeros((predictions_24.shape[0], 2)), predictions_24.reshape(-1, 1)], axis=1))[:, -1]"
      ],
      "metadata": {
        "id": "ec9vHu3XAC9s"
      },
      "execution_count": 41,
      "outputs": []
    },
    {
      "cell_type": "code",
      "source": [
        "# y_test_rescaled = scaler.inverse_transform(y_test)\n",
        "\n"
      ],
      "metadata": {
        "id": "mVb6xb-V2XLf"
      },
      "execution_count": 23,
      "outputs": []
    },
    {
      "cell_type": "code",
      "source": [
        "# Plot true vs predicted prices for the next 24 hours\n",
        "plt.figure(figsize=(10, 6))\n",
        "plt.plot(y_test_24[:100], label='True Prices')\n",
        "plt.plot(predictions_24[:100], label='Predicted Prices')\n",
        "plt.title('True vs Predicted Prices for the Next 24 Hours')\n",
        "plt.xlabel('Time Steps')\n",
        "plt.ylabel('Price')\n",
        "plt.legend()\n",
        "plt.show()"
      ],
      "metadata": {
        "colab": {
          "base_uri": "https://localhost:8080/",
          "height": 564
        },
        "id": "9PfI-YCi3Cd1",
        "outputId": "710113d2-687e-44aa-cbf1-d05e7e36fa19"
      },
      "execution_count": 42,
      "outputs": [
        {
          "output_type": "display_data",
          "data": {
            "text/plain": [
              "<Figure size 1000x600 with 1 Axes>"
            ],
            "image/png": "[encoded data removed]"
          },
          "metadata": {}
        }
      ]
    },
    {
      "cell_type": "code",
      "source": [
        "true_24th = y_test[:, -1]        # True values for the 24th hour\n",
        "predicted_24th = predictions[:, -1]  # Predicted values for the 24th hour"
      ],
      "metadata": {
        "id": "OhMfX_HE3w5M"
      },
      "execution_count": 43,
      "outputs": []
    },
    {
      "cell_type": "code",
      "source": [
        "percent_errors = np.abs(true_24th - predicted_24th) / np.abs(true_24th) * 100"
      ],
      "metadata": {
        "id": "M-w9r8ZM4bKL"
      },
      "execution_count": 44,
      "outputs": []
    },
    {
      "cell_type": "code",
      "source": [
        "sr_blad = np.mean(percent_errors)"
      ],
      "metadata": {
        "id": "x02Xv9CH4hc_"
      },
      "execution_count": 45,
      "outputs": []
    },
    {
      "cell_type": "code",
      "source": [
        "sr_blad"
      ],
      "metadata": {
        "colab": {
          "base_uri": "https://localhost:8080/"
        },
        "id": "fHqpsnK_4wsU",
        "outputId": "c4da45dc-1077-48ea-dc05-2d9e129df8f3"
      },
      "execution_count": 46,
      "outputs": [
        {
          "output_type": "execute_result",
          "data": {
            "text/plain": [
              "8.42473225014884"
            ]
          },
          "metadata": {},
          "execution_count": 46
        }
      ]
    },
    {
      "cell_type": "code",
      "source": [
        "##### do zmiany parametrow sieciu moge zmienic size okna, liczbe unit do danych,"
      ],
      "metadata": {
        "id": "r9Njwp0J4yFV"
      },
      "execution_count": 29,
      "outputs": []
    },
    {
      "cell_type": "code",
      "source": [
        "percent_errors = np.abs(y_test_24 - predictions_24) / np.abs(y_test_24) * 100"
      ],
      "metadata": {
        "id": "USVOjUfE5p-f"
      },
      "execution_count": 47,
      "outputs": []
    },
    {
      "cell_type": "code",
      "source": [
        "sr_blad_real = np.mean(percent_errors)"
      ],
      "metadata": {
        "id": "BjsW3SW3EZKz"
      },
      "execution_count": 48,
      "outputs": []
    },
    {
      "cell_type": "code",
      "source": [
        "sr_blad_real"
      ],
      "metadata": {
        "colab": {
          "base_uri": "https://localhost:8080/"
        },
        "id": "-FoiRFBUElB7",
        "outputId": "7bb873b2-9854-40ef-ca72-8bad9552449d"
      },
      "execution_count": 49,
      "outputs": [
        {
          "output_type": "execute_result",
          "data": {
            "text/plain": [
              "8.42473225014884"
            ]
          },
          "metadata": {},
          "execution_count": 49
        }
      ]
    },
    {
      "cell_type": "code",
      "source": [
        "###### WPROWADZANIE REALNYCH WARTOSCI"
      ],
      "metadata": {
        "id": "Vs_CxTXvEl_S"
      },
      "execution_count": null,
      "outputs": []
    },
    {
      "cell_type": "code",
      "source": [
        "X_test[-1]"
      ],
      "metadata": {
        "colab": {
          "base_uri": "https://localhost:8080/"
        },
        "id": "TCudeYoMFF6Z",
        "outputId": "62d8a309-2f4a-4970-b509-8c9a2d566761"
      },
      "execution_count": 50,
      "outputs": [
        {
          "output_type": "execute_result",
          "data": {
            "text/plain": [
              "array([[0.64344977, 0.48443925, 0.38388988],\n",
              "       [0.61660858, 0.47487339, 0.3937136 ],\n",
              "       [0.56834369, 0.42648141, 0.37071315],\n",
              "       [0.52000303, 0.42184998, 0.36143846],\n",
              "       [0.53987347, 0.44171753, 0.33615365],\n",
              "       [0.53345204, 0.4387309 , 0.33647719],\n",
              "       [0.53915366, 0.42752024, 0.32920253],\n",
              "       [0.54748826, 0.43440246, 0.33062413],\n",
              "       [0.60251553, 0.44812362, 0.34537932],\n",
              "       [0.6691923 , 0.47253603, 0.36133061],\n",
              "       [0.68175102, 0.49552006, 0.38124277],\n",
              "       [0.70936884, 0.53027745, 0.3987235 ],\n",
              "       [0.71880209, 0.52716097, 0.41577286],\n",
              "       [0.72259054, 0.49274986, 0.40814526],\n",
              "       [0.68212987, 0.42544258, 0.3918018 ],\n",
              "       [0.65600849, 0.36203091, 0.38938018],\n",
              "       [0.68228141, 0.31082543, 0.3694092 ],\n",
              "       [0.67144643, 0.2625633 , 0.37237985],\n",
              "       [0.6499659 , 0.24161364, 0.37034059],\n",
              "       [0.66849144, 0.24607194, 0.37101708],\n",
              "       [0.6693249 , 0.26632905, 0.36894841],\n",
              "       [0.7111873 , 0.30879107, 0.37819369],\n",
              "       [0.71834748, 0.44738779, 0.3970372 ],\n",
              "       [0.74573799, 0.49945894, 0.42463578],\n",
              "       [0.73446734, 0.50157988, 0.41207671],\n",
              "       [0.70643279, 0.48439597, 0.37669366],\n",
              "       [0.68866495, 0.42466346, 0.37200729],\n",
              "       [0.66074405, 0.4156603 , 0.36346791],\n",
              "       [0.67209047, 0.42518288, 0.35966391],\n",
              "       [0.65068571, 0.41163485, 0.3553305 ],\n",
              "       [0.65263676, 0.4070467 , 0.36432087],\n",
              "       [0.67171162, 0.40938406, 0.36811506],\n",
              "       [0.68561524, 0.44054885, 0.38517422],\n",
              "       [0.742783  , 0.45323118, 0.38847821],\n",
              "       [0.77310956, 0.48946024, 0.39295869],\n",
              "       [0.81557812, 0.52967147, 0.44587149],\n",
              "       [0.81876042, 0.52555945, 0.44545971],\n",
              "       [0.81252841, 0.49023936, 0.45956783],\n",
              "       [0.80415593, 0.42574557, 0.4173121 ],\n",
              "       [0.7784134 , 0.36908627, 0.39821369],\n",
              "       [0.74494242, 0.31956889, 0.38499775],\n",
              "       [0.7350735 , 0.27459637, 0.38889978],\n",
              "       [0.71827171, 0.24754361, 0.38456636],\n",
              "       [0.72084786, 0.24910185, 0.38456636],\n",
              "       [0.73355811, 0.26494395, 0.38714485],\n",
              "       [0.76289968, 0.30095659, 0.39509598],\n",
              "       [0.7886801 , 0.43609055, 0.40012549],\n",
              "       [0.78894529, 0.48824828, 0.4478127 ]])"
            ]
          },
          "metadata": {},
          "execution_count": 50
        }
      ]
    },
    {
      "cell_type": "code",
      "source": [
        "predictions = model.predict(np.array([X_test[-1]]))"
      ],
      "metadata": {
        "colab": {
          "base_uri": "https://localhost:8080/"
        },
        "id": "cTTtw8lqFChU",
        "outputId": "8c86a6ae-4b53-4902-866e-8e787ecf02b1"
      },
      "execution_count": 54,
      "outputs": [
        {
          "output_type": "stream",
          "name": "stdout",
          "text": [
            "\u001b[1m1/1\u001b[0m \u001b[32m━━━━━━━━━━━━━━━━━━━━\u001b[0m\u001b[37m\u001b[0m \u001b[1m0s\u001b[0m 24ms/step\n"
          ]
        }
      ]
    },
    {
      "cell_type": "code",
      "source": [],
      "metadata": {
        "id": "yhNEleIMGhTB"
      },
      "execution_count": null,
      "outputs": []
    },
    {
      "cell_type": "code",
      "source": [
        "predictions.shape"
      ],
      "metadata": {
        "colab": {
          "base_uri": "https://localhost:8080/"
        },
        "id": "ALkpE2yxFcdA",
        "outputId": "7db51ffe-506d-4e3f-adb4-58bf3fddfa5c"
      },
      "execution_count": 57,
      "outputs": [
        {
          "output_type": "execute_result",
          "data": {
            "text/plain": [
              "(1, 24)"
            ]
          },
          "metadata": {},
          "execution_count": 57
        }
      ]
    },
    {
      "cell_type": "code",
      "source": [
        "predictions_24 = np.array([predictions[:, -1]])"
      ],
      "metadata": {
        "id": "3u_-6czMGiNq"
      },
      "execution_count": 63,
      "outputs": []
    },
    {
      "cell_type": "code",
      "source": [
        "predictions_24.shape"
      ],
      "metadata": {
        "colab": {
          "base_uri": "https://localhost:8080/"
        },
        "id": "AtPozMi4HDEi",
        "outputId": "b3e07030-fccc-4680-abaa-22c47626e026"
      },
      "execution_count": 64,
      "outputs": [
        {
          "output_type": "execute_result",
          "data": {
            "text/plain": [
              "(1, 1)"
            ]
          },
          "metadata": {},
          "execution_count": 64
        }
      ]
    },
    {
      "cell_type": "code",
      "source": [
        "predictions_rescaled = scaler.inverse_transform(np.concatenate([np.zeros((predictions_24.shape[0], 2)), predictions_24.reshape(-1, 1)], axis=1))[:, -1]"
      ],
      "metadata": {
        "id": "0t_iv3Y0GATe"
      },
      "execution_count": 65,
      "outputs": []
    },
    {
      "cell_type": "code",
      "source": [
        "predictions_rescaled"
      ],
      "metadata": {
        "colab": {
          "base_uri": "https://localhost:8080/"
        },
        "id": "Jb9JJzSuGTEL",
        "outputId": "355f29dc-d74d-4356-8825-947dc5ca552f"
      },
      "execution_count": 66,
      "outputs": [
        {
          "output_type": "execute_result",
          "data": {
            "text/plain": [
              "array([101.17884162])"
            ]
          },
          "metadata": {},
          "execution_count": 66
        }
      ]
    },
    {
      "cell_type": "code",
      "source": [
        "#wczytywanie realnych danych"
      ],
      "metadata": {
        "id": "INrQPeTTHTVN"
      },
      "execution_count": null,
      "outputs": []
    },
    {
      "cell_type": "code",
      "source": [
        "df1 = pd.read_excel(\"nowe_dane1.xlsx\")"
      ],
      "metadata": {
        "id": "OUdJCUmJKbBc"
      },
      "execution_count": 77,
      "outputs": []
    },
    {
      "cell_type": "code",
      "source": [
        "df1.values"
      ],
      "metadata": {
        "colab": {
          "base_uri": "https://localhost:8080/"
        },
        "id": "wYGrgOI7Kq2P",
        "outputId": "1544593e-f8ae-49d8-dd76-eb982d10d245"
      },
      "execution_count": 78,
      "outputs": [
        {
          "output_type": "execute_result",
          "data": {
            "text/plain": [
              "array([[2316.46,  689.63,   87.78],\n",
              "       [2228.42,  668.88,   96.45],\n",
              "       [2154.2 ,  571.75,   91.05],\n",
              "       [2101.5 ,  589.57,   91.38],\n",
              "       [2140.44,  631.83,   96.37],\n",
              "       [2275.89, 1038.93,   97.12],\n",
              "       [2612.5 ,  989.35,  200.2 ],\n",
              "       [2795.79, 1044.65,  217.87],\n",
              "       [2834.83, 1155.05,  173.51],\n",
              "       [2791.76, 1225.4 ,  114.97],\n",
              "       [2696.27,  784.23,   95.51],\n",
              "       [2743.58,  538.25,   89.89],\n",
              "       [2817.08,  248.82,   88.74],\n",
              "       [2876.81,  109.23,   90.11],\n",
              "       [2922.82,   20.18,   98.99],\n",
              "       [2981.09,  394.3 ,  115.54],\n",
              "       [3099.98,  710.43,  189.96],\n",
              "       [3156.7 ,  794.65,  249.32],\n",
              "       [3157.92, -242.72,  436.78],\n",
              "       [3209.65, -781.1 ,  515.42],\n",
              "       [3196.17, -194.9 ,  347.97],\n",
              "       [3003.81, 1126.95,  180.84],\n",
              "       [2791.42,  978.48,   97.11],\n",
              "       [2611.6 ,  954.18,   99.64],\n",
              "       [2464.5 , 1011.85,   96.47],\n",
              "       [2362.01,  993.28,  103.54],\n",
              "       [2297.95,  921.98,  101.54],\n",
              "       [2289.69, 1016.22,   98.6 ],\n",
              "       [2348.25,  960.15,  101.59],\n",
              "       [2481.09, 1244.73,  117.66],\n",
              "       [2790.84, 1254.63,  151.76],\n",
              "       [2912.23, 1155.85,  150.65],\n",
              "       [2913.25, 1254.88,  129.53],\n",
              "       [2877.58, 1229.6 ,  103.78],\n",
              "       [2801.89,  613.75,   76.19],\n",
              "       [2830.16,  329.08,   71.61],\n",
              "       [2865.29,  119.93,   68.43],\n",
              "       [2883.57,  -18.5 ,   71.02],\n",
              "       [2919.93,   11.5 ,   83.17],\n",
              "       [2995.57,  322.7 ,   98.69],\n",
              "       [3140.87,  602.95,  131.62],\n",
              "       [3186.75,  738.67,  216.89],\n",
              "       [3180.8 , -153.3 ,  421.88],\n",
              "       [3254.05, -332.  ,  915.22],\n",
              "       [3241.02,  444.38,  814.3 ],\n",
              "       [3034.72, 1333.  ,  219.79],\n",
              "       [2822.96,  991.95,  124.66],\n",
              "       [2640.75,  866.12,  120.24]])"
            ]
          },
          "metadata": {},
          "execution_count": 78
        }
      ]
    },
    {
      "cell_type": "code",
      "source": [
        "probka = df1.values"
      ],
      "metadata": {
        "id": "HEn61Z22Lk5I"
      },
      "execution_count": 79,
      "outputs": []
    },
    {
      "cell_type": "code",
      "source": [
        "probka_scaled = scaler.transform(probka)"
      ],
      "metadata": {
        "id": "9vLs6RccKuVv"
      },
      "execution_count": 80,
      "outputs": []
    },
    {
      "cell_type": "code",
      "source": [
        "probka_scaled.shape"
      ],
      "metadata": {
        "colab": {
          "base_uri": "https://localhost:8080/"
        },
        "id": "1T1YWxdbMVVc",
        "outputId": "9933c3e5-fd3e-4ba1-bc63-5b5676d0638a"
      },
      "execution_count": 81,
      "outputs": [
        {
          "output_type": "execute_result",
          "data": {
            "text/plain": [
              "(48, 3)"
            ]
          },
          "metadata": {},
          "execution_count": 81
        }
      ]
    },
    {
      "cell_type": "code",
      "source": [
        "predictions = model.predict(np.array([probka_scaled]))"
      ],
      "metadata": {
        "colab": {
          "base_uri": "https://localhost:8080/"
        },
        "id": "Aw3Qyb1OLqkL",
        "outputId": "10100aa8-be83-44ae-8c28-573bc2311b08"
      },
      "execution_count": 83,
      "outputs": [
        {
          "output_type": "stream",
          "name": "stdout",
          "text": [
            "\u001b[1m1/1\u001b[0m \u001b[32m━━━━━━━━━━━━━━━━━━━━\u001b[0m\u001b[37m\u001b[0m \u001b[1m0s\u001b[0m 24ms/step\n"
          ]
        }
      ]
    },
    {
      "cell_type": "code",
      "source": [
        "predictions.shape"
      ],
      "metadata": {
        "colab": {
          "base_uri": "https://localhost:8080/"
        },
        "id": "5oJmA1IvNXxM",
        "outputId": "d91f5bdc-bd2a-42e0-f704-021548a61a1e"
      },
      "execution_count": 84,
      "outputs": [
        {
          "output_type": "execute_result",
          "data": {
            "text/plain": [
              "(1, 24)"
            ]
          },
          "metadata": {},
          "execution_count": 84
        }
      ]
    },
    {
      "cell_type": "code",
      "source": [
        "predictions = predictions.reshape(24)"
      ],
      "metadata": {
        "id": "jyzlpNVpNjhT"
      },
      "execution_count": 85,
      "outputs": []
    },
    {
      "cell_type": "code",
      "source": [
        "predictions_rescaled = scaler.inverse_transform(np.concatenate([np.zeros((predictions.shape[0], 2)), predictions.reshape(-1, 1)], axis=1))[:, -1]"
      ],
      "metadata": {
        "id": "dT3t5XweL9Kt"
      },
      "execution_count": 86,
      "outputs": []
    },
    {
      "cell_type": "code",
      "source": [
        "predictions_rescaled"
      ],
      "metadata": {
        "colab": {
          "base_uri": "https://localhost:8080/"
        },
        "id": "aeRfHk2GNs44",
        "outputId": "22ab30a3-c796-4502-fab4-e1ede52c870b"
      },
      "execution_count": 87,
      "outputs": [
        {
          "output_type": "execute_result",
          "data": {
            "text/plain": [
              "array([178.48034743, 190.78566983, 169.4277691 , 177.11518345,\n",
              "       144.89381788, 195.65864559, 176.41953042, 195.1016672 ,\n",
              "       198.87469956, 225.92835257, 203.48920306, 205.06429405,\n",
              "       196.31599743, 204.0331712 , 178.39444332, 220.68084585,\n",
              "       197.37350555, 174.62493711, 192.61798678, 196.30867157,\n",
              "       184.44770381, 181.05157344, 166.07130783, 157.63498355])"
            ]
          },
          "metadata": {},
          "execution_count": 87
        }
      ]
    },
    {
      "cell_type": "code",
      "source": [],
      "metadata": {
        "id": "gatOvrN3Nu6h"
      },
      "execution_count": null,
      "outputs": []
    }
  ]
}