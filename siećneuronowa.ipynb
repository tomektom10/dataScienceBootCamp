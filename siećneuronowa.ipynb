{
  "nbformat": 4,
  "nbformat_minor": 0,
  "metadata": {
    "colab": {
      "provenance": [],
      "authorship_tag": "ABX9TyMdLX/E6OVPew/kvUFHCNFq",
      "include_colab_link": true
    },
    "kernelspec": {
      "name": "python3",
      "display_name": "Python 3"
    },
    "language_info": {
      "name": "python"
    }
  },
  "cells": [
    {
      "cell_type": "markdown",
      "metadata": {
        "id": "view-in-github",
        "colab_type": "text"
      },
      "source": [
        "<a href=\"https://colab.research.google.com/github/tomektom10/dataScienceBootCamp/blob/main/sie%C4%87neuronowa.ipynb\" target=\"_parent\"><img src=\"https://colab.research.google.com/assets/colab-badge.svg\" alt=\"Open In Colab\"/></a>"
      ]
    },
    {
      "cell_type": "code",
      "execution_count": 300,
      "metadata": {
        "id": "HFetTQ4tANJX"
      },
      "outputs": [],
      "source": [
        "import pandas as pd\n",
        "#df = pd.read_excel(\"dane-brent-uun24-dec24-15-min.xlsx\",sheet_name=\"BRENT GODZINNY\")\n",
        "df = pd.read_csv(\"dane-brent-uun24-dec24-15-min.csv\",sep=\";\")\n",
        "df\n",
        "df.columns\n",
        "import numpy as np\n",
        "import calendar\n",
        "import datetime\n",
        "import matplotlib.pyplot as plt\n"
      ]
    },
    {
      "cell_type": "code",
      "source": [
        "from sklearn.preprocessing import MinMaxScaler\n",
        "from sklearn.metrics import mean_squared_error\n",
        "from tensorflow.keras.models import Sequential\n",
        "from tensorflow.keras.layers import LSTM, Dense"
      ],
      "metadata": {
        "id": "QNLGKgTcHnHA"
      },
      "execution_count": 301,
      "outputs": []
    },
    {
      "cell_type": "code",
      "source": [
        "df"
      ],
      "metadata": {
        "colab": {
          "base_uri": "https://localhost:8080/",
          "height": 424
        },
        "id": "h2hN_LJuCVja",
        "outputId": "45a4681b-8770-4466-8079-870a0f7fda8e"
      },
      "execution_count": 302,
      "outputs": [
        {
          "output_type": "execute_result",
          "data": {
            "text/plain": [
              "            Timestamp  Open  High   Low Close SMA (30) SMA (15)\n",
              "0    07.12.2023 19:15  1,01  1,05  1,01  1,03     1,12     1,08\n",
              "1    07.12.2023 19:30  1,03  1,07  1,03  1,07     1,12     1,07\n",
              "2    07.12.2023 19:45  1,07  1,07  1,03  1,04     1,12     1,06\n",
              "3    07.12.2023 20:00  1,03  1,05  1,01  1,02     1,11     1,06\n",
              "4    07.12.2023 20:15  1,03  1,06  0,98  1,03     1,11     1,05\n",
              "..                ...   ...   ...   ...   ...      ...      ...\n",
              "567  18.12.2023 18:45   NaN   NaN   NaN   NaN      NaN      NaN\n",
              "568  18.12.2023 19:00   NaN   NaN   NaN   NaN      NaN      NaN\n",
              "569  18.12.2023 19:15   NaN   NaN   NaN   NaN      NaN      NaN\n",
              "570  18.12.2023 19:30   NaN   NaN   NaN   NaN      NaN      NaN\n",
              "571  18.12.2023 19:45   NaN   NaN   NaN   NaN      NaN      NaN\n",
              "\n",
              "[572 rows x 7 columns]"
            ],
            "text/html": [
              "\n",
              "  <div id=\"df-a314056a-4d72-4ab4-83fa-0bddd8099933\" class=\"colab-df-container\">\n",
              "    <div>\n",
              "<style scoped>\n",
              "    .dataframe tbody tr th:only-of-type {\n",
              "        vertical-align: middle;\n",
              "    }\n",
              "\n",
              "    .dataframe tbody tr th {\n",
              "        vertical-align: top;\n",
              "    }\n",
              "\n",
              "    .dataframe thead th {\n",
              "        text-align: right;\n",
              "    }\n",
              "</style>\n",
              "<table border=\"1\" class=\"dataframe\">\n",
              "  <thead>\n",
              "    <tr style=\"text-align: right;\">\n",
              "      <th></th>\n",
              "      <th>Timestamp</th>\n",
              "      <th>Open</th>\n",
              "      <th>High</th>\n",
              "      <th>Low</th>\n",
              "      <th>Close</th>\n",
              "      <th>SMA (30)</th>\n",
              "      <th>SMA (15)</th>\n",
              "    </tr>\n",
              "  </thead>\n",
              "  <tbody>\n",
              "    <tr>\n",
              "      <th>0</th>\n",
              "      <td>07.12.2023 19:15</td>\n",
              "      <td>1,01</td>\n",
              "      <td>1,05</td>\n",
              "      <td>1,01</td>\n",
              "      <td>1,03</td>\n",
              "      <td>1,12</td>\n",
              "      <td>1,08</td>\n",
              "    </tr>\n",
              "    <tr>\n",
              "      <th>1</th>\n",
              "      <td>07.12.2023 19:30</td>\n",
              "      <td>1,03</td>\n",
              "      <td>1,07</td>\n",
              "      <td>1,03</td>\n",
              "      <td>1,07</td>\n",
              "      <td>1,12</td>\n",
              "      <td>1,07</td>\n",
              "    </tr>\n",
              "    <tr>\n",
              "      <th>2</th>\n",
              "      <td>07.12.2023 19:45</td>\n",
              "      <td>1,07</td>\n",
              "      <td>1,07</td>\n",
              "      <td>1,03</td>\n",
              "      <td>1,04</td>\n",
              "      <td>1,12</td>\n",
              "      <td>1,06</td>\n",
              "    </tr>\n",
              "    <tr>\n",
              "      <th>3</th>\n",
              "      <td>07.12.2023 20:00</td>\n",
              "      <td>1,03</td>\n",
              "      <td>1,05</td>\n",
              "      <td>1,01</td>\n",
              "      <td>1,02</td>\n",
              "      <td>1,11</td>\n",
              "      <td>1,06</td>\n",
              "    </tr>\n",
              "    <tr>\n",
              "      <th>4</th>\n",
              "      <td>07.12.2023 20:15</td>\n",
              "      <td>1,03</td>\n",
              "      <td>1,06</td>\n",
              "      <td>0,98</td>\n",
              "      <td>1,03</td>\n",
              "      <td>1,11</td>\n",
              "      <td>1,05</td>\n",
              "    </tr>\n",
              "    <tr>\n",
              "      <th>...</th>\n",
              "      <td>...</td>\n",
              "      <td>...</td>\n",
              "      <td>...</td>\n",
              "      <td>...</td>\n",
              "      <td>...</td>\n",
              "      <td>...</td>\n",
              "      <td>...</td>\n",
              "    </tr>\n",
              "    <tr>\n",
              "      <th>567</th>\n",
              "      <td>18.12.2023 18:45</td>\n",
              "      <td>NaN</td>\n",
              "      <td>NaN</td>\n",
              "      <td>NaN</td>\n",
              "      <td>NaN</td>\n",
              "      <td>NaN</td>\n",
              "      <td>NaN</td>\n",
              "    </tr>\n",
              "    <tr>\n",
              "      <th>568</th>\n",
              "      <td>18.12.2023 19:00</td>\n",
              "      <td>NaN</td>\n",
              "      <td>NaN</td>\n",
              "      <td>NaN</td>\n",
              "      <td>NaN</td>\n",
              "      <td>NaN</td>\n",
              "      <td>NaN</td>\n",
              "    </tr>\n",
              "    <tr>\n",
              "      <th>569</th>\n",
              "      <td>18.12.2023 19:15</td>\n",
              "      <td>NaN</td>\n",
              "      <td>NaN</td>\n",
              "      <td>NaN</td>\n",
              "      <td>NaN</td>\n",
              "      <td>NaN</td>\n",
              "      <td>NaN</td>\n",
              "    </tr>\n",
              "    <tr>\n",
              "      <th>570</th>\n",
              "      <td>18.12.2023 19:30</td>\n",
              "      <td>NaN</td>\n",
              "      <td>NaN</td>\n",
              "      <td>NaN</td>\n",
              "      <td>NaN</td>\n",
              "      <td>NaN</td>\n",
              "      <td>NaN</td>\n",
              "    </tr>\n",
              "    <tr>\n",
              "      <th>571</th>\n",
              "      <td>18.12.2023 19:45</td>\n",
              "      <td>NaN</td>\n",
              "      <td>NaN</td>\n",
              "      <td>NaN</td>\n",
              "      <td>NaN</td>\n",
              "      <td>NaN</td>\n",
              "      <td>NaN</td>\n",
              "    </tr>\n",
              "  </tbody>\n",
              "</table>\n",
              "<p>572 rows × 7 columns</p>\n",
              "</div>\n",
              "    <div class=\"colab-df-buttons\">\n",
              "\n",
              "  <div class=\"colab-df-container\">\n",
              "    <button class=\"colab-df-convert\" onclick=\"convertToInteractive('df-a314056a-4d72-4ab4-83fa-0bddd8099933')\"\n",
              "            title=\"Convert this dataframe to an interactive table.\"\n",
              "            style=\"display:none;\">\n",
              "\n",
              "  <svg xmlns=\"http://www.w3.org/2000/svg\" height=\"24px\" viewBox=\"0 -960 960 960\">\n",
              "    <path d=\"M120-120v-720h720v720H120Zm60-500h600v-160H180v160Zm220 220h160v-160H400v160Zm0 220h160v-160H400v160ZM180-400h160v-160H180v160Zm440 0h160v-160H620v160ZM180-180h160v-160H180v160Zm440 0h160v-160H620v160Z\"/>\n",
              "  </svg>\n",
              "    </button>\n",
              "\n",
              "  <style>\n",
              "    .colab-df-container {\n",
              "      display:flex;\n",
              "      gap: 12px;\n",
              "    }\n",
              "\n",
              "    .colab-df-convert {\n",
              "      background-color: #E8F0FE;\n",
              "      border: none;\n",
              "      border-radius: 50%;\n",
              "      cursor: pointer;\n",
              "      display: none;\n",
              "      fill: #1967D2;\n",
              "      height: 32px;\n",
              "      padding: 0 0 0 0;\n",
              "      width: 32px;\n",
              "    }\n",
              "\n",
              "    .colab-df-convert:hover {\n",
              "      background-color: #E2EBFA;\n",
              "      box-shadow: 0px 1px 2px rgba(60, 64, 67, 0.3), 0px 1px 3px 1px rgba(60, 64, 67, 0.15);\n",
              "      fill: #174EA6;\n",
              "    }\n",
              "\n",
              "    .colab-df-buttons div {\n",
              "      margin-bottom: 4px;\n",
              "    }\n",
              "\n",
              "    [theme=dark] .colab-df-convert {\n",
              "      background-color: #3B4455;\n",
              "      fill: #D2E3FC;\n",
              "    }\n",
              "\n",
              "    [theme=dark] .colab-df-convert:hover {\n",
              "      background-color: #434B5C;\n",
              "      box-shadow: 0px 1px 3px 1px rgba(0, 0, 0, 0.15);\n",
              "      filter: drop-shadow(0px 1px 2px rgba(0, 0, 0, 0.3));\n",
              "      fill: #FFFFFF;\n",
              "    }\n",
              "  </style>\n",
              "\n",
              "    <script>\n",
              "      const buttonEl =\n",
              "        document.querySelector('#df-a314056a-4d72-4ab4-83fa-0bddd8099933 button.colab-df-convert');\n",
              "      buttonEl.style.display =\n",
              "        google.colab.kernel.accessAllowed ? 'block' : 'none';\n",
              "\n",
              "      async function convertToInteractive(key) {\n",
              "        const element = document.querySelector('#df-a314056a-4d72-4ab4-83fa-0bddd8099933');\n",
              "        const dataTable =\n",
              "          await google.colab.kernel.invokeFunction('convertToInteractive',\n",
              "                                                    [key], {});\n",
              "        if (!dataTable) return;\n",
              "\n",
              "        const docLinkHtml = 'Like what you see? Visit the ' +\n",
              "          '<a target=\"_blank\" href=https://colab.research.google.com/notebooks/data_table.ipynb>data table notebook</a>'\n",
              "          + ' to learn more about interactive tables.';\n",
              "        element.innerHTML = '';\n",
              "        dataTable['output_type'] = 'display_data';\n",
              "        await google.colab.output.renderOutput(dataTable, element);\n",
              "        const docLink = document.createElement('div');\n",
              "        docLink.innerHTML = docLinkHtml;\n",
              "        element.appendChild(docLink);\n",
              "      }\n",
              "    </script>\n",
              "  </div>\n",
              "\n",
              "\n",
              "<div id=\"df-4a11a177-8be1-49c4-b338-7bfa79a74884\">\n",
              "  <button class=\"colab-df-quickchart\" onclick=\"quickchart('df-4a11a177-8be1-49c4-b338-7bfa79a74884')\"\n",
              "            title=\"Suggest charts\"\n",
              "            style=\"display:none;\">\n",
              "\n",
              "<svg xmlns=\"http://www.w3.org/2000/svg\" height=\"24px\"viewBox=\"0 0 24 24\"\n",
              "     width=\"24px\">\n",
              "    <g>\n",
              "        <path d=\"M19 3H5c-1.1 0-2 .9-2 2v14c0 1.1.9 2 2 2h14c1.1 0 2-.9 2-2V5c0-1.1-.9-2-2-2zM9 17H7v-7h2v7zm4 0h-2V7h2v10zm4 0h-2v-4h2v4z\"/>\n",
              "    </g>\n",
              "</svg>\n",
              "  </button>\n",
              "\n",
              "<style>\n",
              "  .colab-df-quickchart {\n",
              "      --bg-color: #E8F0FE;\n",
              "      --fill-color: #1967D2;\n",
              "      --hover-bg-color: #E2EBFA;\n",
              "      --hover-fill-color: #174EA6;\n",
              "      --disabled-fill-color: #AAA;\n",
              "      --disabled-bg-color: #DDD;\n",
              "  }\n",
              "\n",
              "  [theme=dark] .colab-df-quickchart {\n",
              "      --bg-color: #3B4455;\n",
              "      --fill-color: #D2E3FC;\n",
              "      --hover-bg-color: #434B5C;\n",
              "      --hover-fill-color: #FFFFFF;\n",
              "      --disabled-bg-color: #3B4455;\n",
              "      --disabled-fill-color: #666;\n",
              "  }\n",
              "\n",
              "  .colab-df-quickchart {\n",
              "    background-color: var(--bg-color);\n",
              "    border: none;\n",
              "    border-radius: 50%;\n",
              "    cursor: pointer;\n",
              "    display: none;\n",
              "    fill: var(--fill-color);\n",
              "    height: 32px;\n",
              "    padding: 0;\n",
              "    width: 32px;\n",
              "  }\n",
              "\n",
              "  .colab-df-quickchart:hover {\n",
              "    background-color: var(--hover-bg-color);\n",
              "    box-shadow: 0 1px 2px rgba(60, 64, 67, 0.3), 0 1px 3px 1px rgba(60, 64, 67, 0.15);\n",
              "    fill: var(--button-hover-fill-color);\n",
              "  }\n",
              "\n",
              "  .colab-df-quickchart-complete:disabled,\n",
              "  .colab-df-quickchart-complete:disabled:hover {\n",
              "    background-color: var(--disabled-bg-color);\n",
              "    fill: var(--disabled-fill-color);\n",
              "    box-shadow: none;\n",
              "  }\n",
              "\n",
              "  .colab-df-spinner {\n",
              "    border: 2px solid var(--fill-color);\n",
              "    border-color: transparent;\n",
              "    border-bottom-color: var(--fill-color);\n",
              "    animation:\n",
              "      spin 1s steps(1) infinite;\n",
              "  }\n",
              "\n",
              "  @keyframes spin {\n",
              "    0% {\n",
              "      border-color: transparent;\n",
              "      border-bottom-color: var(--fill-color);\n",
              "      border-left-color: var(--fill-color);\n",
              "    }\n",
              "    20% {\n",
              "      border-color: transparent;\n",
              "      border-left-color: var(--fill-color);\n",
              "      border-top-color: var(--fill-color);\n",
              "    }\n",
              "    30% {\n",
              "      border-color: transparent;\n",
              "      border-left-color: var(--fill-color);\n",
              "      border-top-color: var(--fill-color);\n",
              "      border-right-color: var(--fill-color);\n",
              "    }\n",
              "    40% {\n",
              "      border-color: transparent;\n",
              "      border-right-color: var(--fill-color);\n",
              "      border-top-color: var(--fill-color);\n",
              "    }\n",
              "    60% {\n",
              "      border-color: transparent;\n",
              "      border-right-color: var(--fill-color);\n",
              "    }\n",
              "    80% {\n",
              "      border-color: transparent;\n",
              "      border-right-color: var(--fill-color);\n",
              "      border-bottom-color: var(--fill-color);\n",
              "    }\n",
              "    90% {\n",
              "      border-color: transparent;\n",
              "      border-bottom-color: var(--fill-color);\n",
              "    }\n",
              "  }\n",
              "</style>\n",
              "\n",
              "  <script>\n",
              "    async function quickchart(key) {\n",
              "      const quickchartButtonEl =\n",
              "        document.querySelector('#' + key + ' button');\n",
              "      quickchartButtonEl.disabled = true;  // To prevent multiple clicks.\n",
              "      quickchartButtonEl.classList.add('colab-df-spinner');\n",
              "      try {\n",
              "        const charts = await google.colab.kernel.invokeFunction(\n",
              "            'suggestCharts', [key], {});\n",
              "      } catch (error) {\n",
              "        console.error('Error during call to suggestCharts:', error);\n",
              "      }\n",
              "      quickchartButtonEl.classList.remove('colab-df-spinner');\n",
              "      quickchartButtonEl.classList.add('colab-df-quickchart-complete');\n",
              "    }\n",
              "    (() => {\n",
              "      let quickchartButtonEl =\n",
              "        document.querySelector('#df-4a11a177-8be1-49c4-b338-7bfa79a74884 button');\n",
              "      quickchartButtonEl.style.display =\n",
              "        google.colab.kernel.accessAllowed ? 'block' : 'none';\n",
              "    })();\n",
              "  </script>\n",
              "</div>\n",
              "    </div>\n",
              "  </div>\n"
            ]
          },
          "metadata": {},
          "execution_count": 302
        }
      ]
    },
    {
      "cell_type": "code",
      "source": [
        "df.info()"
      ],
      "metadata": {
        "colab": {
          "base_uri": "https://localhost:8080/"
        },
        "id": "_rwcMjLlC2D7",
        "outputId": "7f6e76f8-9ab3-47c2-8a20-8e7fbe585305"
      },
      "execution_count": 303,
      "outputs": [
        {
          "output_type": "stream",
          "name": "stdout",
          "text": [
            "<class 'pandas.core.frame.DataFrame'>\n",
            "RangeIndex: 572 entries, 0 to 571\n",
            "Data columns (total 7 columns):\n",
            " #   Column     Non-Null Count  Dtype \n",
            "---  ------     --------------  ----- \n",
            " 0   Timestamp  572 non-null    object\n",
            " 1   Open       567 non-null    object\n",
            " 2   High       567 non-null    object\n",
            " 3   Low        567 non-null    object\n",
            " 4   Close      567 non-null    object\n",
            " 5   SMA (30)   567 non-null    object\n",
            " 6   SMA (15)   567 non-null    object\n",
            "dtypes: object(7)\n",
            "memory usage: 31.4+ KB\n"
          ]
        }
      ]
    },
    {
      "cell_type": "code",
      "source": [
        "df = df.dropna()"
      ],
      "metadata": {
        "id": "5Wh6M5_9D1_b"
      },
      "execution_count": 304,
      "outputs": []
    },
    {
      "cell_type": "code",
      "source": [
        "df[\"Close\"] = df[\"Close\"].str.replace(\",\", \".\").astype(float)"
      ],
      "metadata": {
        "colab": {
          "base_uri": "https://localhost:8080/"
        },
        "id": "U_kOHj1kK8co",
        "outputId": "e914b7ba-2ba5-4e22-9fcb-c860df2d219b"
      },
      "execution_count": 305,
      "outputs": [
        {
          "output_type": "stream",
          "name": "stderr",
          "text": [
            "<ipython-input-305-dbd163b9d827>:1: SettingWithCopyWarning: \n",
            "A value is trying to be set on a copy of a slice from a DataFrame.\n",
            "Try using .loc[row_indexer,col_indexer] = value instead\n",
            "\n",
            "See the caveats in the documentation: https://pandas.pydata.org/pandas-docs/stable/user_guide/indexing.html#returning-a-view-versus-a-copy\n",
            "  df[\"Close\"] = df[\"Close\"].str.replace(\",\", \".\").astype(float)\n"
          ]
        }
      ]
    },
    {
      "cell_type": "code",
      "source": [
        "df"
      ],
      "metadata": {
        "colab": {
          "base_uri": "https://localhost:8080/",
          "height": 424
        },
        "id": "ajFKTSc8EuoP",
        "outputId": "35a20dcc-7315-48a3-d169-3c610b059218"
      },
      "execution_count": 306,
      "outputs": [
        {
          "output_type": "execute_result",
          "data": {
            "text/plain": [
              "            Timestamp  Open  High   Low  Close SMA (30) SMA (15)\n",
              "0    07.12.2023 19:15  1,01  1,05  1,01   1.03     1,12     1,08\n",
              "1    07.12.2023 19:30  1,03  1,07  1,03   1.07     1,12     1,07\n",
              "2    07.12.2023 19:45  1,07  1,07  1,03   1.04     1,12     1,06\n",
              "3    07.12.2023 20:00  1,03  1,05  1,01   1.02     1,11     1,06\n",
              "4    07.12.2023 20:15  1,03  1,06  0,98   1.03     1,11     1,05\n",
              "..                ...   ...   ...   ...    ...      ...      ...\n",
              "562  18.12.2023 17:30  1,22  1,26  1,21   1.21     1,15     1,23\n",
              "563  18.12.2023 17:45  1,21  1,22  1,17   1.20     1,15     1,23\n",
              "564  18.12.2023 18:00  1,21  1,26  1,21   1.24     1,16     1,23\n",
              "565  18.12.2023 18:15  1,23  1,27  1,23   1.27     1,17     1,23\n",
              "566  18.12.2023 18:30  1,27  1,28  1,27   1.27     1,17     1,24\n",
              "\n",
              "[567 rows x 7 columns]"
            ],
            "text/html": [
              "\n",
              "  <div id=\"df-defa6c06-c0c6-4aec-b2a2-c3e535a1c8f4\" class=\"colab-df-container\">\n",
              "    <div>\n",
              "<style scoped>\n",
              "    .dataframe tbody tr th:only-of-type {\n",
              "        vertical-align: middle;\n",
              "    }\n",
              "\n",
              "    .dataframe tbody tr th {\n",
              "        vertical-align: top;\n",
              "    }\n",
              "\n",
              "    .dataframe thead th {\n",
              "        text-align: right;\n",
              "    }\n",
              "</style>\n",
              "<table border=\"1\" class=\"dataframe\">\n",
              "  <thead>\n",
              "    <tr style=\"text-align: right;\">\n",
              "      <th></th>\n",
              "      <th>Timestamp</th>\n",
              "      <th>Open</th>\n",
              "      <th>High</th>\n",
              "      <th>Low</th>\n",
              "      <th>Close</th>\n",
              "      <th>SMA (30)</th>\n",
              "      <th>SMA (15)</th>\n",
              "    </tr>\n",
              "  </thead>\n",
              "  <tbody>\n",
              "    <tr>\n",
              "      <th>0</th>\n",
              "      <td>07.12.2023 19:15</td>\n",
              "      <td>1,01</td>\n",
              "      <td>1,05</td>\n",
              "      <td>1,01</td>\n",
              "      <td>1.03</td>\n",
              "      <td>1,12</td>\n",
              "      <td>1,08</td>\n",
              "    </tr>\n",
              "    <tr>\n",
              "      <th>1</th>\n",
              "      <td>07.12.2023 19:30</td>\n",
              "      <td>1,03</td>\n",
              "      <td>1,07</td>\n",
              "      <td>1,03</td>\n",
              "      <td>1.07</td>\n",
              "      <td>1,12</td>\n",
              "      <td>1,07</td>\n",
              "    </tr>\n",
              "    <tr>\n",
              "      <th>2</th>\n",
              "      <td>07.12.2023 19:45</td>\n",
              "      <td>1,07</td>\n",
              "      <td>1,07</td>\n",
              "      <td>1,03</td>\n",
              "      <td>1.04</td>\n",
              "      <td>1,12</td>\n",
              "      <td>1,06</td>\n",
              "    </tr>\n",
              "    <tr>\n",
              "      <th>3</th>\n",
              "      <td>07.12.2023 20:00</td>\n",
              "      <td>1,03</td>\n",
              "      <td>1,05</td>\n",
              "      <td>1,01</td>\n",
              "      <td>1.02</td>\n",
              "      <td>1,11</td>\n",
              "      <td>1,06</td>\n",
              "    </tr>\n",
              "    <tr>\n",
              "      <th>4</th>\n",
              "      <td>07.12.2023 20:15</td>\n",
              "      <td>1,03</td>\n",
              "      <td>1,06</td>\n",
              "      <td>0,98</td>\n",
              "      <td>1.03</td>\n",
              "      <td>1,11</td>\n",
              "      <td>1,05</td>\n",
              "    </tr>\n",
              "    <tr>\n",
              "      <th>...</th>\n",
              "      <td>...</td>\n",
              "      <td>...</td>\n",
              "      <td>...</td>\n",
              "      <td>...</td>\n",
              "      <td>...</td>\n",
              "      <td>...</td>\n",
              "      <td>...</td>\n",
              "    </tr>\n",
              "    <tr>\n",
              "      <th>562</th>\n",
              "      <td>18.12.2023 17:30</td>\n",
              "      <td>1,22</td>\n",
              "      <td>1,26</td>\n",
              "      <td>1,21</td>\n",
              "      <td>1.21</td>\n",
              "      <td>1,15</td>\n",
              "      <td>1,23</td>\n",
              "    </tr>\n",
              "    <tr>\n",
              "      <th>563</th>\n",
              "      <td>18.12.2023 17:45</td>\n",
              "      <td>1,21</td>\n",
              "      <td>1,22</td>\n",
              "      <td>1,17</td>\n",
              "      <td>1.20</td>\n",
              "      <td>1,15</td>\n",
              "      <td>1,23</td>\n",
              "    </tr>\n",
              "    <tr>\n",
              "      <th>564</th>\n",
              "      <td>18.12.2023 18:00</td>\n",
              "      <td>1,21</td>\n",
              "      <td>1,26</td>\n",
              "      <td>1,21</td>\n",
              "      <td>1.24</td>\n",
              "      <td>1,16</td>\n",
              "      <td>1,23</td>\n",
              "    </tr>\n",
              "    <tr>\n",
              "      <th>565</th>\n",
              "      <td>18.12.2023 18:15</td>\n",
              "      <td>1,23</td>\n",
              "      <td>1,27</td>\n",
              "      <td>1,23</td>\n",
              "      <td>1.27</td>\n",
              "      <td>1,17</td>\n",
              "      <td>1,23</td>\n",
              "    </tr>\n",
              "    <tr>\n",
              "      <th>566</th>\n",
              "      <td>18.12.2023 18:30</td>\n",
              "      <td>1,27</td>\n",
              "      <td>1,28</td>\n",
              "      <td>1,27</td>\n",
              "      <td>1.27</td>\n",
              "      <td>1,17</td>\n",
              "      <td>1,24</td>\n",
              "    </tr>\n",
              "  </tbody>\n",
              "</table>\n",
              "<p>567 rows × 7 columns</p>\n",
              "</div>\n",
              "    <div class=\"colab-df-buttons\">\n",
              "\n",
              "  <div class=\"colab-df-container\">\n",
              "    <button class=\"colab-df-convert\" onclick=\"convertToInteractive('df-defa6c06-c0c6-4aec-b2a2-c3e535a1c8f4')\"\n",
              "            title=\"Convert this dataframe to an interactive table.\"\n",
              "            style=\"display:none;\">\n",
              "\n",
              "  <svg xmlns=\"http://www.w3.org/2000/svg\" height=\"24px\" viewBox=\"0 -960 960 960\">\n",
              "    <path d=\"M120-120v-720h720v720H120Zm60-500h600v-160H180v160Zm220 220h160v-160H400v160Zm0 220h160v-160H400v160ZM180-400h160v-160H180v160Zm440 0h160v-160H620v160ZM180-180h160v-160H180v160Zm440 0h160v-160H620v160Z\"/>\n",
              "  </svg>\n",
              "    </button>\n",
              "\n",
              "  <style>\n",
              "    .colab-df-container {\n",
              "      display:flex;\n",
              "      gap: 12px;\n",
              "    }\n",
              "\n",
              "    .colab-df-convert {\n",
              "      background-color: #E8F0FE;\n",
              "      border: none;\n",
              "      border-radius: 50%;\n",
              "      cursor: pointer;\n",
              "      display: none;\n",
              "      fill: #1967D2;\n",
              "      height: 32px;\n",
              "      padding: 0 0 0 0;\n",
              "      width: 32px;\n",
              "    }\n",
              "\n",
              "    .colab-df-convert:hover {\n",
              "      background-color: #E2EBFA;\n",
              "      box-shadow: 0px 1px 2px rgba(60, 64, 67, 0.3), 0px 1px 3px 1px rgba(60, 64, 67, 0.15);\n",
              "      fill: #174EA6;\n",
              "    }\n",
              "\n",
              "    .colab-df-buttons div {\n",
              "      margin-bottom: 4px;\n",
              "    }\n",
              "\n",
              "    [theme=dark] .colab-df-convert {\n",
              "      background-color: #3B4455;\n",
              "      fill: #D2E3FC;\n",
              "    }\n",
              "\n",
              "    [theme=dark] .colab-df-convert:hover {\n",
              "      background-color: #434B5C;\n",
              "      box-shadow: 0px 1px 3px 1px rgba(0, 0, 0, 0.15);\n",
              "      filter: drop-shadow(0px 1px 2px rgba(0, 0, 0, 0.3));\n",
              "      fill: #FFFFFF;\n",
              "    }\n",
              "  </style>\n",
              "\n",
              "    <script>\n",
              "      const buttonEl =\n",
              "        document.querySelector('#df-defa6c06-c0c6-4aec-b2a2-c3e535a1c8f4 button.colab-df-convert');\n",
              "      buttonEl.style.display =\n",
              "        google.colab.kernel.accessAllowed ? 'block' : 'none';\n",
              "\n",
              "      async function convertToInteractive(key) {\n",
              "        const element = document.querySelector('#df-defa6c06-c0c6-4aec-b2a2-c3e535a1c8f4');\n",
              "        const dataTable =\n",
              "          await google.colab.kernel.invokeFunction('convertToInteractive',\n",
              "                                                    [key], {});\n",
              "        if (!dataTable) return;\n",
              "\n",
              "        const docLinkHtml = 'Like what you see? Visit the ' +\n",
              "          '<a target=\"_blank\" href=https://colab.research.google.com/notebooks/data_table.ipynb>data table notebook</a>'\n",
              "          + ' to learn more about interactive tables.';\n",
              "        element.innerHTML = '';\n",
              "        dataTable['output_type'] = 'display_data';\n",
              "        await google.colab.output.renderOutput(dataTable, element);\n",
              "        const docLink = document.createElement('div');\n",
              "        docLink.innerHTML = docLinkHtml;\n",
              "        element.appendChild(docLink);\n",
              "      }\n",
              "    </script>\n",
              "  </div>\n",
              "\n",
              "\n",
              "<div id=\"df-0f41b5ef-0b54-4a27-a9e8-317b410c24a2\">\n",
              "  <button class=\"colab-df-quickchart\" onclick=\"quickchart('df-0f41b5ef-0b54-4a27-a9e8-317b410c24a2')\"\n",
              "            title=\"Suggest charts\"\n",
              "            style=\"display:none;\">\n",
              "\n",
              "<svg xmlns=\"http://www.w3.org/2000/svg\" height=\"24px\"viewBox=\"0 0 24 24\"\n",
              "     width=\"24px\">\n",
              "    <g>\n",
              "        <path d=\"M19 3H5c-1.1 0-2 .9-2 2v14c0 1.1.9 2 2 2h14c1.1 0 2-.9 2-2V5c0-1.1-.9-2-2-2zM9 17H7v-7h2v7zm4 0h-2V7h2v10zm4 0h-2v-4h2v4z\"/>\n",
              "    </g>\n",
              "</svg>\n",
              "  </button>\n",
              "\n",
              "<style>\n",
              "  .colab-df-quickchart {\n",
              "      --bg-color: #E8F0FE;\n",
              "      --fill-color: #1967D2;\n",
              "      --hover-bg-color: #E2EBFA;\n",
              "      --hover-fill-color: #174EA6;\n",
              "      --disabled-fill-color: #AAA;\n",
              "      --disabled-bg-color: #DDD;\n",
              "  }\n",
              "\n",
              "  [theme=dark] .colab-df-quickchart {\n",
              "      --bg-color: #3B4455;\n",
              "      --fill-color: #D2E3FC;\n",
              "      --hover-bg-color: #434B5C;\n",
              "      --hover-fill-color: #FFFFFF;\n",
              "      --disabled-bg-color: #3B4455;\n",
              "      --disabled-fill-color: #666;\n",
              "  }\n",
              "\n",
              "  .colab-df-quickchart {\n",
              "    background-color: var(--bg-color);\n",
              "    border: none;\n",
              "    border-radius: 50%;\n",
              "    cursor: pointer;\n",
              "    display: none;\n",
              "    fill: var(--fill-color);\n",
              "    height: 32px;\n",
              "    padding: 0;\n",
              "    width: 32px;\n",
              "  }\n",
              "\n",
              "  .colab-df-quickchart:hover {\n",
              "    background-color: var(--hover-bg-color);\n",
              "    box-shadow: 0 1px 2px rgba(60, 64, 67, 0.3), 0 1px 3px 1px rgba(60, 64, 67, 0.15);\n",
              "    fill: var(--button-hover-fill-color);\n",
              "  }\n",
              "\n",
              "  .colab-df-quickchart-complete:disabled,\n",
              "  .colab-df-quickchart-complete:disabled:hover {\n",
              "    background-color: var(--disabled-bg-color);\n",
              "    fill: var(--disabled-fill-color);\n",
              "    box-shadow: none;\n",
              "  }\n",
              "\n",
              "  .colab-df-spinner {\n",
              "    border: 2px solid var(--fill-color);\n",
              "    border-color: transparent;\n",
              "    border-bottom-color: var(--fill-color);\n",
              "    animation:\n",
              "      spin 1s steps(1) infinite;\n",
              "  }\n",
              "\n",
              "  @keyframes spin {\n",
              "    0% {\n",
              "      border-color: transparent;\n",
              "      border-bottom-color: var(--fill-color);\n",
              "      border-left-color: var(--fill-color);\n",
              "    }\n",
              "    20% {\n",
              "      border-color: transparent;\n",
              "      border-left-color: var(--fill-color);\n",
              "      border-top-color: var(--fill-color);\n",
              "    }\n",
              "    30% {\n",
              "      border-color: transparent;\n",
              "      border-left-color: var(--fill-color);\n",
              "      border-top-color: var(--fill-color);\n",
              "      border-right-color: var(--fill-color);\n",
              "    }\n",
              "    40% {\n",
              "      border-color: transparent;\n",
              "      border-right-color: var(--fill-color);\n",
              "      border-top-color: var(--fill-color);\n",
              "    }\n",
              "    60% {\n",
              "      border-color: transparent;\n",
              "      border-right-color: var(--fill-color);\n",
              "    }\n",
              "    80% {\n",
              "      border-color: transparent;\n",
              "      border-right-color: var(--fill-color);\n",
              "      border-bottom-color: var(--fill-color);\n",
              "    }\n",
              "    90% {\n",
              "      border-color: transparent;\n",
              "      border-bottom-color: var(--fill-color);\n",
              "    }\n",
              "  }\n",
              "</style>\n",
              "\n",
              "  <script>\n",
              "    async function quickchart(key) {\n",
              "      const quickchartButtonEl =\n",
              "        document.querySelector('#' + key + ' button');\n",
              "      quickchartButtonEl.disabled = true;  // To prevent multiple clicks.\n",
              "      quickchartButtonEl.classList.add('colab-df-spinner');\n",
              "      try {\n",
              "        const charts = await google.colab.kernel.invokeFunction(\n",
              "            'suggestCharts', [key], {});\n",
              "      } catch (error) {\n",
              "        console.error('Error during call to suggestCharts:', error);\n",
              "      }\n",
              "      quickchartButtonEl.classList.remove('colab-df-spinner');\n",
              "      quickchartButtonEl.classList.add('colab-df-quickchart-complete');\n",
              "    }\n",
              "    (() => {\n",
              "      let quickchartButtonEl =\n",
              "        document.querySelector('#df-0f41b5ef-0b54-4a27-a9e8-317b410c24a2 button');\n",
              "      quickchartButtonEl.style.display =\n",
              "        google.colab.kernel.accessAllowed ? 'block' : 'none';\n",
              "    })();\n",
              "  </script>\n",
              "</div>\n",
              "    </div>\n",
              "  </div>\n"
            ]
          },
          "metadata": {},
          "execution_count": 306
        }
      ]
    },
    {
      "cell_type": "code",
      "source": [
        "from statsmodels.tsa.arima.model import ARIMA\n",
        "from sklearn.metrics import mean_squared_error\n",
        "from math import sqrt"
      ],
      "metadata": {
        "id": "nJLhdsdgEv5K"
      },
      "execution_count": 307,
      "outputs": []
    },
    {
      "cell_type": "code",
      "source": [
        "windows_size = 5\n",
        "split_point = 0.9\n",
        "split_point_nb = int(split_point * len(df))"
      ],
      "metadata": {
        "id": "Vq8Qy37PFQcK"
      },
      "execution_count": 308,
      "outputs": []
    },
    {
      "cell_type": "code",
      "source": [
        "#skalowanie do sieci nauronowych"
      ],
      "metadata": {
        "id": "UfYJk0A1IEoY"
      },
      "execution_count": 309,
      "outputs": []
    },
    {
      "cell_type": "code",
      "source": [
        "scaler = MinMaxScaler(feature_range=(0, 1))\n",
        "scaled_data = scaler.fit_transform(df['Close'].values.reshape(-1,1))"
      ],
      "metadata": {
        "id": "0AguU9K6H9nZ"
      },
      "execution_count": 310,
      "outputs": []
    },
    {
      "cell_type": "code",
      "source": [
        "trein,test = scaled_data[0:split_point_nb], scaled_data[split_point_nb:]"
      ],
      "metadata": {
        "id": "pl4EnSATIDcy"
      },
      "execution_count": 311,
      "outputs": []
    },
    {
      "cell_type": "code",
      "source": [
        "def generuj_okienka(data, windows_size):\n",
        "  windows = []\n",
        "  y = []\n",
        "  for i in range(len(data) -windows_size):\n",
        "    window = data[i:i+windows_size]\n",
        "    windows.append(window)\n",
        "    y.append(data[i+windows_size])\n",
        "  return np.array(windows),np.array(y)\n",
        "\n"
      ],
      "metadata": {
        "id": "w07JUMvuIpQ3"
      },
      "execution_count": 312,
      "outputs": []
    },
    {
      "cell_type": "code",
      "source": [
        "x_train, y_train = generuj_okienka(trein, windows_size)"
      ],
      "metadata": {
        "id": "OiRNO1H8J9hZ"
      },
      "execution_count": 313,
      "outputs": []
    },
    {
      "cell_type": "code",
      "source": [
        "x_test, y_test = generuj_okienka(test, windows_size)"
      ],
      "metadata": {
        "id": "_qyL9_9-J9Z3"
      },
      "execution_count": 314,
      "outputs": []
    },
    {
      "cell_type": "code",
      "source": [
        "x_train = x_train.reshape((x_train.shape[0], x_train.shape[1], 1))\n",
        "x_test = x_test.reshape((x_test.shape[0], x_test.shape[1], 1))"
      ],
      "metadata": {
        "id": "vrqVR_q-J9OI"
      },
      "execution_count": 315,
      "outputs": []
    },
    {
      "cell_type": "code",
      "source": [
        "#ARCHITEKTURA SIECI TU MOGE MODYFOKOWAC moge zwiekszyc LSTM\n",
        "model = Sequential()\n",
        "model.add(LSTM(50, activation='relu', input_shape=(windows_size, 1)))\n",
        "model.add(Dense(1))\n",
        "model.compile(optimizer='adam', loss='mean_squared_error')"
      ],
      "metadata": {
        "id": "qL1vFt38L3C8"
      },
      "execution_count": 316,
      "outputs": []
    },
    {
      "cell_type": "code",
      "source": [
        "model.fit(x_train, y_train, epochs=100, batch_size=32, validation_split=0.2)"
      ],
      "metadata": {
        "colab": {
          "base_uri": "https://localhost:8080/"
        },
        "id": "1xPP1MgOMZZu",
        "outputId": "8e6afc95-4e61-4ca7-a45f-03b509a311ca"
      },
      "execution_count": 317,
      "outputs": [
        {
          "output_type": "stream",
          "name": "stdout",
          "text": [
            "Epoch 1/100\n",
            "13/13 [==============================] - 3s 43ms/step - loss: 0.3537 - val_loss: 0.3158\n",
            "Epoch 2/100\n",
            "13/13 [==============================] - 0s 10ms/step - loss: 0.2331 - val_loss: 0.1880\n",
            "Epoch 3/100\n",
            "13/13 [==============================] - 0s 10ms/step - loss: 0.1230 - val_loss: 0.0631\n",
            "Epoch 4/100\n",
            "13/13 [==============================] - 0s 11ms/step - loss: 0.0330 - val_loss: 0.0021\n",
            "Epoch 5/100\n",
            "13/13 [==============================] - 0s 10ms/step - loss: 0.0157 - val_loss: 0.0019\n",
            "Epoch 6/100\n",
            "13/13 [==============================] - 0s 10ms/step - loss: 0.0097 - val_loss: 0.0035\n",
            "Epoch 7/100\n",
            "13/13 [==============================] - 0s 12ms/step - loss: 0.0061 - val_loss: 0.0019\n",
            "Epoch 8/100\n",
            "13/13 [==============================] - 0s 12ms/step - loss: 0.0039 - val_loss: 0.0027\n",
            "Epoch 9/100\n",
            "13/13 [==============================] - 0s 13ms/step - loss: 0.0028 - val_loss: 0.0025\n",
            "Epoch 10/100\n",
            "13/13 [==============================] - 0s 11ms/step - loss: 0.0026 - val_loss: 0.0023\n",
            "Epoch 11/100\n",
            "13/13 [==============================] - 0s 9ms/step - loss: 0.0024 - val_loss: 0.0025\n",
            "Epoch 12/100\n",
            "13/13 [==============================] - 0s 9ms/step - loss: 0.0024 - val_loss: 0.0022\n",
            "Epoch 13/100\n",
            "13/13 [==============================] - 0s 10ms/step - loss: 0.0024 - val_loss: 0.0025\n",
            "Epoch 14/100\n",
            "13/13 [==============================] - 0s 8ms/step - loss: 0.0024 - val_loss: 0.0019\n",
            "Epoch 15/100\n",
            "13/13 [==============================] - 0s 8ms/step - loss: 0.0023 - val_loss: 0.0019\n",
            "Epoch 16/100\n",
            "13/13 [==============================] - 0s 7ms/step - loss: 0.0023 - val_loss: 0.0022\n",
            "Epoch 17/100\n",
            "13/13 [==============================] - 0s 7ms/step - loss: 0.0022 - val_loss: 0.0018\n",
            "Epoch 18/100\n",
            "13/13 [==============================] - 0s 7ms/step - loss: 0.0022 - val_loss: 0.0021\n",
            "Epoch 19/100\n",
            "13/13 [==============================] - 0s 6ms/step - loss: 0.0022 - val_loss: 0.0019\n",
            "Epoch 20/100\n",
            "13/13 [==============================] - 0s 9ms/step - loss: 0.0022 - val_loss: 0.0019\n",
            "Epoch 21/100\n",
            "13/13 [==============================] - 0s 7ms/step - loss: 0.0021 - val_loss: 0.0017\n",
            "Epoch 22/100\n",
            "13/13 [==============================] - 0s 6ms/step - loss: 0.0021 - val_loss: 0.0019\n",
            "Epoch 23/100\n",
            "13/13 [==============================] - 0s 7ms/step - loss: 0.0021 - val_loss: 0.0019\n",
            "Epoch 24/100\n",
            "13/13 [==============================] - 0s 7ms/step - loss: 0.0021 - val_loss: 0.0017\n",
            "Epoch 25/100\n",
            "13/13 [==============================] - 0s 8ms/step - loss: 0.0021 - val_loss: 0.0017\n",
            "Epoch 26/100\n",
            "13/13 [==============================] - 0s 8ms/step - loss: 0.0021 - val_loss: 0.0017\n",
            "Epoch 27/100\n",
            "13/13 [==============================] - 0s 9ms/step - loss: 0.0020 - val_loss: 0.0018\n",
            "Epoch 28/100\n",
            "13/13 [==============================] - 0s 8ms/step - loss: 0.0020 - val_loss: 0.0017\n",
            "Epoch 29/100\n",
            "13/13 [==============================] - 0s 8ms/step - loss: 0.0020 - val_loss: 0.0017\n",
            "Epoch 30/100\n",
            "13/13 [==============================] - 0s 9ms/step - loss: 0.0020 - val_loss: 0.0017\n",
            "Epoch 31/100\n",
            "13/13 [==============================] - 0s 9ms/step - loss: 0.0020 - val_loss: 0.0016\n",
            "Epoch 32/100\n",
            "13/13 [==============================] - 0s 8ms/step - loss: 0.0019 - val_loss: 0.0016\n",
            "Epoch 33/100\n",
            "13/13 [==============================] - 0s 9ms/step - loss: 0.0019 - val_loss: 0.0016\n",
            "Epoch 34/100\n",
            "13/13 [==============================] - 0s 7ms/step - loss: 0.0019 - val_loss: 0.0015\n",
            "Epoch 35/100\n",
            "13/13 [==============================] - 0s 7ms/step - loss: 0.0019 - val_loss: 0.0015\n",
            "Epoch 36/100\n",
            "13/13 [==============================] - 0s 8ms/step - loss: 0.0019 - val_loss: 0.0015\n",
            "Epoch 37/100\n",
            "13/13 [==============================] - 0s 8ms/step - loss: 0.0018 - val_loss: 0.0015\n",
            "Epoch 38/100\n",
            "13/13 [==============================] - 0s 8ms/step - loss: 0.0018 - val_loss: 0.0015\n",
            "Epoch 39/100\n",
            "13/13 [==============================] - 0s 9ms/step - loss: 0.0018 - val_loss: 0.0015\n",
            "Epoch 40/100\n",
            "13/13 [==============================] - 0s 8ms/step - loss: 0.0018 - val_loss: 0.0014\n",
            "Epoch 41/100\n",
            "13/13 [==============================] - 0s 7ms/step - loss: 0.0018 - val_loss: 0.0014\n",
            "Epoch 42/100\n",
            "13/13 [==============================] - 0s 6ms/step - loss: 0.0017 - val_loss: 0.0014\n",
            "Epoch 43/100\n",
            "13/13 [==============================] - 0s 7ms/step - loss: 0.0017 - val_loss: 0.0014\n",
            "Epoch 44/100\n",
            "13/13 [==============================] - 0s 8ms/step - loss: 0.0018 - val_loss: 0.0014\n",
            "Epoch 45/100\n",
            "13/13 [==============================] - 0s 9ms/step - loss: 0.0017 - val_loss: 0.0014\n",
            "Epoch 46/100\n",
            "13/13 [==============================] - 0s 9ms/step - loss: 0.0017 - val_loss: 0.0014\n",
            "Epoch 47/100\n",
            "13/13 [==============================] - 0s 8ms/step - loss: 0.0016 - val_loss: 0.0014\n",
            "Epoch 48/100\n",
            "13/13 [==============================] - 0s 10ms/step - loss: 0.0017 - val_loss: 0.0014\n",
            "Epoch 49/100\n",
            "13/13 [==============================] - 0s 9ms/step - loss: 0.0016 - val_loss: 0.0014\n",
            "Epoch 50/100\n",
            "13/13 [==============================] - 0s 10ms/step - loss: 0.0017 - val_loss: 0.0014\n",
            "Epoch 51/100\n",
            "13/13 [==============================] - 0s 10ms/step - loss: 0.0016 - val_loss: 0.0016\n",
            "Epoch 52/100\n",
            "13/13 [==============================] - 0s 8ms/step - loss: 0.0016 - val_loss: 0.0016\n",
            "Epoch 53/100\n",
            "13/13 [==============================] - 0s 10ms/step - loss: 0.0016 - val_loss: 0.0013\n",
            "Epoch 54/100\n",
            "13/13 [==============================] - 0s 9ms/step - loss: 0.0015 - val_loss: 0.0013\n",
            "Epoch 55/100\n",
            "13/13 [==============================] - 0s 9ms/step - loss: 0.0016 - val_loss: 0.0012\n",
            "Epoch 56/100\n",
            "13/13 [==============================] - 0s 11ms/step - loss: 0.0015 - val_loss: 0.0012\n",
            "Epoch 57/100\n",
            "13/13 [==============================] - 0s 9ms/step - loss: 0.0016 - val_loss: 0.0018\n",
            "Epoch 58/100\n",
            "13/13 [==============================] - 0s 11ms/step - loss: 0.0017 - val_loss: 0.0014\n",
            "Epoch 59/100\n",
            "13/13 [==============================] - 0s 9ms/step - loss: 0.0015 - val_loss: 0.0012\n",
            "Epoch 60/100\n",
            "13/13 [==============================] - 0s 9ms/step - loss: 0.0015 - val_loss: 0.0012\n",
            "Epoch 61/100\n",
            "13/13 [==============================] - 0s 9ms/step - loss: 0.0015 - val_loss: 0.0012\n",
            "Epoch 62/100\n",
            "13/13 [==============================] - 0s 10ms/step - loss: 0.0014 - val_loss: 0.0012\n",
            "Epoch 63/100\n",
            "13/13 [==============================] - 0s 8ms/step - loss: 0.0015 - val_loss: 0.0014\n",
            "Epoch 64/100\n",
            "13/13 [==============================] - 0s 10ms/step - loss: 0.0015 - val_loss: 0.0012\n",
            "Epoch 65/100\n",
            "13/13 [==============================] - 0s 9ms/step - loss: 0.0014 - val_loss: 0.0012\n",
            "Epoch 66/100\n",
            "13/13 [==============================] - 0s 8ms/step - loss: 0.0014 - val_loss: 0.0012\n",
            "Epoch 67/100\n",
            "13/13 [==============================] - 0s 9ms/step - loss: 0.0014 - val_loss: 0.0012\n",
            "Epoch 68/100\n",
            "13/13 [==============================] - 0s 9ms/step - loss: 0.0014 - val_loss: 0.0012\n",
            "Epoch 69/100\n",
            "13/13 [==============================] - 0s 10ms/step - loss: 0.0014 - val_loss: 0.0011\n",
            "Epoch 70/100\n",
            "13/13 [==============================] - 0s 8ms/step - loss: 0.0014 - val_loss: 0.0011\n",
            "Epoch 71/100\n",
            "13/13 [==============================] - 0s 9ms/step - loss: 0.0014 - val_loss: 0.0012\n",
            "Epoch 72/100\n",
            "13/13 [==============================] - 0s 10ms/step - loss: 0.0014 - val_loss: 0.0011\n",
            "Epoch 73/100\n",
            "13/13 [==============================] - 0s 10ms/step - loss: 0.0014 - val_loss: 0.0012\n",
            "Epoch 74/100\n",
            "13/13 [==============================] - 0s 8ms/step - loss: 0.0013 - val_loss: 0.0011\n",
            "Epoch 75/100\n",
            "13/13 [==============================] - 0s 9ms/step - loss: 0.0014 - val_loss: 0.0012\n",
            "Epoch 76/100\n",
            "13/13 [==============================] - 0s 8ms/step - loss: 0.0013 - val_loss: 0.0011\n",
            "Epoch 77/100\n",
            "13/13 [==============================] - 0s 8ms/step - loss: 0.0013 - val_loss: 0.0011\n",
            "Epoch 78/100\n",
            "13/13 [==============================] - 0s 8ms/step - loss: 0.0013 - val_loss: 0.0011\n",
            "Epoch 79/100\n",
            "13/13 [==============================] - 0s 10ms/step - loss: 0.0014 - val_loss: 0.0015\n",
            "Epoch 80/100\n",
            "13/13 [==============================] - 0s 8ms/step - loss: 0.0014 - val_loss: 0.0012\n",
            "Epoch 81/100\n",
            "13/13 [==============================] - 0s 10ms/step - loss: 0.0013 - val_loss: 0.0011\n",
            "Epoch 82/100\n",
            "13/13 [==============================] - 0s 9ms/step - loss: 0.0013 - val_loss: 0.0012\n",
            "Epoch 83/100\n",
            "13/13 [==============================] - 0s 9ms/step - loss: 0.0013 - val_loss: 0.0011\n",
            "Epoch 84/100\n",
            "13/13 [==============================] - 0s 9ms/step - loss: 0.0013 - val_loss: 0.0012\n",
            "Epoch 85/100\n",
            "13/13 [==============================] - 0s 9ms/step - loss: 0.0014 - val_loss: 0.0012\n",
            "Epoch 86/100\n",
            "13/13 [==============================] - 0s 9ms/step - loss: 0.0014 - val_loss: 0.0011\n",
            "Epoch 87/100\n",
            "13/13 [==============================] - 0s 9ms/step - loss: 0.0013 - val_loss: 0.0012\n",
            "Epoch 88/100\n",
            "13/13 [==============================] - 0s 8ms/step - loss: 0.0013 - val_loss: 0.0011\n",
            "Epoch 89/100\n",
            "13/13 [==============================] - 0s 8ms/step - loss: 0.0013 - val_loss: 0.0011\n",
            "Epoch 90/100\n",
            "13/13 [==============================] - 0s 10ms/step - loss: 0.0013 - val_loss: 0.0011\n",
            "Epoch 91/100\n",
            "13/13 [==============================] - 0s 7ms/step - loss: 0.0014 - val_loss: 0.0011\n",
            "Epoch 92/100\n",
            "13/13 [==============================] - 0s 8ms/step - loss: 0.0013 - val_loss: 0.0011\n",
            "Epoch 93/100\n",
            "13/13 [==============================] - 0s 8ms/step - loss: 0.0012 - val_loss: 0.0011\n",
            "Epoch 94/100\n",
            "13/13 [==============================] - 0s 6ms/step - loss: 0.0013 - val_loss: 0.0011\n",
            "Epoch 95/100\n",
            "13/13 [==============================] - 0s 7ms/step - loss: 0.0012 - val_loss: 0.0011\n",
            "Epoch 96/100\n",
            "13/13 [==============================] - 0s 7ms/step - loss: 0.0012 - val_loss: 0.0011\n",
            "Epoch 97/100\n",
            "13/13 [==============================] - 0s 11ms/step - loss: 0.0012 - val_loss: 0.0013\n",
            "Epoch 98/100\n",
            "13/13 [==============================] - 0s 10ms/step - loss: 0.0013 - val_loss: 0.0011\n",
            "Epoch 99/100\n",
            "13/13 [==============================] - 0s 11ms/step - loss: 0.0013 - val_loss: 0.0011\n",
            "Epoch 100/100\n",
            "13/13 [==============================] - 0s 11ms/step - loss: 0.0012 - val_loss: 0.0012\n"
          ]
        },
        {
          "output_type": "execute_result",
          "data": {
            "text/plain": [
              "<keras.src.callbacks.History at 0x7a057c2fee60>"
            ]
          },
          "metadata": {},
          "execution_count": 317
        }
      ]
    },
    {
      "cell_type": "code",
      "source": [
        "predictions = model.predict(x_test)\n"
      ],
      "metadata": {
        "colab": {
          "base_uri": "https://localhost:8080/"
        },
        "id": "6HbfZ97xMZPU",
        "outputId": "e07ec4db-7358-4a13-c9ff-6dade766f6ae"
      },
      "execution_count": 318,
      "outputs": [
        {
          "output_type": "stream",
          "name": "stdout",
          "text": [
            "2/2 [==============================] - 0s 5ms/step\n"
          ]
        }
      ]
    },
    {
      "cell_type": "code",
      "source": [
        "predictions_real = scaler.inverse_transform(predictions)"
      ],
      "metadata": {
        "id": "NEdR8kerOiHH"
      },
      "execution_count": 319,
      "outputs": []
    },
    {
      "cell_type": "code",
      "source": [],
      "metadata": {
        "id": "5UUAbxeoO-jt"
      },
      "execution_count": 319,
      "outputs": []
    },
    {
      "cell_type": "code",
      "source": [
        "# Plotting the results\n",
        "plt.figure(figsize=(12, 6))\n",
        "#plt.plot(train, label='Training Data')\n",
        "plt.plot(test, label='Actual Test Data')\n",
        "plt.plot(predictions, label='ARIMA Predictions', color='red')\n",
        "plt.title('LSTM Predictions vs Actual Data')\n",
        "plt.xlabel('Date')\n",
        "plt.ylabel('Price')\n",
        "plt.legend()\n",
        "plt.show()"
      ],
      "metadata": {
        "colab": {
          "base_uri": "https://localhost:8080/",
          "height": 564
        },
        "id": "jjXYei2oFA_c",
        "outputId": "a59559d3-1a00-41de-c371-5c3a0ee16874"
      },
      "execution_count": 320,
      "outputs": [
        {
          "output_type": "display_data",
          "data": {
            "text/plain": [
              "<Figure size 1200x600 with 1 Axes>"
            ],
            "image/png": "[encoded data removed]"
          },
          "metadata": {}
        }
      ]
    },
    {
      "cell_type": "code",
      "source": [
        "predictions = model.predict(x_test)"
      ],
      "metadata": {
        "id": "WqACfzjAF6PX",
        "colab": {
          "base_uri": "https://localhost:8080/"
        },
        "outputId": "67596d17-7fb7-4cfc-a006-191845d89148"
      },
      "execution_count": 321,
      "outputs": [
        {
          "output_type": "stream",
          "name": "stdout",
          "text": [
            "2/2 [==============================] - 0s 5ms/step\n"
          ]
        }
      ]
    },
    {
      "cell_type": "code",
      "source": [
        "x_test[0]"
      ],
      "metadata": {
        "colab": {
          "base_uri": "https://localhost:8080/"
        },
        "id": "xX1HXP1RHgPJ",
        "outputId": "fb6afb27-ec8b-4afa-86e7-9d833f4ff55e"
      },
      "execution_count": 322,
      "outputs": [
        {
          "output_type": "execute_result",
          "data": {
            "text/plain": [
              "array([[0.73972603],\n",
              "       [0.75342466],\n",
              "       [0.73972603],\n",
              "       [0.7260274 ],\n",
              "       [0.7260274 ]])"
            ]
          },
          "metadata": {},
          "execution_count": 322
        }
      ]
    },
    {
      "cell_type": "code",
      "source": [
        "from sklearn.metrics import mean_squared_error"
      ],
      "metadata": {
        "id": "xTLnUFqUQ_7y"
      },
      "execution_count": 323,
      "outputs": []
    },
    {
      "cell_type": "code",
      "source": [
        "mse = mean_squared_error(y_test, predictions)"
      ],
      "metadata": {
        "id": "mGM6M_6TQ_xh"
      },
      "execution_count": 324,
      "outputs": []
    },
    {
      "cell_type": "code",
      "source": [
        "mse"
      ],
      "metadata": {
        "colab": {
          "base_uri": "https://localhost:8080/"
        },
        "id": "RvwYWLWeRdEe",
        "outputId": "c5dd80dc-d216-4b75-93e2-c6b423117f28"
      },
      "execution_count": 325,
      "outputs": [
        {
          "output_type": "execute_result",
          "data": {
            "text/plain": [
              "0.002298080353222798"
            ]
          },
          "metadata": {},
          "execution_count": 325
        }
      ]
    },
    {
      "cell_type": "code",
      "source": [
        "#MSE 10 window = 0.0023883501780096184\n",
        " #     15 = 0.0034732914563747044\n",
        " # 5 = 0.002798899567247003"
      ],
      "metadata": {
        "id": "mA0X5BPMRc8C"
      },
      "execution_count": 326,
      "outputs": []
    },
    {
      "cell_type": "code",
      "source": [
        "lista_ostatnich_cen = [1.25, 1.26, 1.22, 1.21, 1.15]"
      ],
      "metadata": {
        "id": "s4y3xpRPXylp"
      },
      "execution_count": null,
      "outputs": []
    },
    {
      "cell_type": "code",
      "source": [
        "def zrob_predykcje(model, lista_ostatnich_cen, scaler):\n",
        "  scaled_data_do_przewidywania = scaler.fit_transform(np.array(lista_ostatnich_cen).reshape(-1,1))\n",
        "  predykcja_ceny = model.predict(np.array([scaled_data_do_przewidywania]))\n",
        "  predykcja_ceny_real = scaler.inverse_transform(list(predictions[0].reshape(1,-1)))\n",
        "  return predykcja_ceny_real"
      ],
      "metadata": {
        "id": "FWbVa4EPS8OR"
      },
      "execution_count": 327,
      "outputs": []
    },
    {
      "cell_type": "code",
      "source": [
        "lista_ostatnich_cen = [1.25, 1.26, 1.22, 1.21, 1.15]"
      ],
      "metadata": {
        "id": "pbZ1K9dDQa2y"
      },
      "execution_count": 328,
      "outputs": []
    },
    {
      "cell_type": "code",
      "source": [
        "przewidywanie = zrob_predykcje(model, lista_ostatnich_cen, scaler)"
      ],
      "metadata": {
        "colab": {
          "base_uri": "https://localhost:8080/"
        },
        "id": "VOqBweI0Ts6P",
        "outputId": "29f3a07e-f5ee-4cc3-df25-a69ea58d6f43"
      },
      "execution_count": 329,
      "outputs": [
        {
          "output_type": "stream",
          "name": "stdout",
          "text": [
            "1/1 [==============================] - 0s 32ms/step\n"
          ]
        }
      ]
    },
    {
      "cell_type": "code",
      "source": [
        "przewidywanie"
      ],
      "metadata": {
        "colab": {
          "base_uri": "https://localhost:8080/"
        },
        "id": "hT1aUnI4UDwa",
        "outputId": "6eaa20df-67eb-41c2-e849-63f60065d059"
      },
      "execution_count": 330,
      "outputs": [
        {
          "output_type": "execute_result",
          "data": {
            "text/plain": [
              "array([[1.22885455]])"
            ]
          },
          "metadata": {},
          "execution_count": 330
        }
      ]
    },
    {
      "cell_type": "code",
      "source": [],
      "metadata": {
        "id": "xJNLh8c4UDqC"
      },
      "execution_count": 330,
      "outputs": []
    },
    {
      "cell_type": "code",
      "source": [
        "scaled_data_do_przewidywania = scaler.fit_transform(np.array(dane_do_przewidywania).reshape(-1,1))"
      ],
      "metadata": {
        "id": "LCSH_fxbReTG"
      },
      "execution_count": 331,
      "outputs": []
    },
    {
      "cell_type": "code",
      "source": [
        "np.array([scaled_data_do_przewidywania]).shape"
      ],
      "metadata": {
        "colab": {
          "base_uri": "https://localhost:8080/"
        },
        "id": "gMeDQVFARv4E",
        "outputId": "c3fc14e1-9f1b-4f81-8612-eca03f69c441"
      },
      "execution_count": 332,
      "outputs": [
        {
          "output_type": "execute_result",
          "data": {
            "text/plain": [
              "(1, 5, 1)"
            ]
          },
          "metadata": {},
          "execution_count": 332
        }
      ]
    },
    {
      "cell_type": "code",
      "source": [
        "predykcja_ceny = model.predict(np.array([scaled_data_do_przewidywania]))"
      ],
      "metadata": {
        "colab": {
          "base_uri": "https://localhost:8080/"
        },
        "id": "vbAST6aUR7yG",
        "outputId": "f14cdbe7-7597-4d4e-cc78-5c6afc71eb45"
      },
      "execution_count": 333,
      "outputs": [
        {
          "output_type": "stream",
          "name": "stdout",
          "text": [
            "1/1 [==============================] - 0s 34ms/step\n"
          ]
        }
      ]
    },
    {
      "cell_type": "code",
      "source": [
        "predykcja_ceny[0][0]"
      ],
      "metadata": {
        "colab": {
          "base_uri": "https://localhost:8080/"
        },
        "id": "fUek__5qSQit",
        "outputId": "8c60f72e-1e18-4470-952e-393cafe94c96"
      },
      "execution_count": 334,
      "outputs": [
        {
          "output_type": "execute_result",
          "data": {
            "text/plain": [
              "0.7533171"
            ]
          },
          "metadata": {},
          "execution_count": 334
        }
      ]
    },
    {
      "cell_type": "code",
      "source": [
        "predykcja_ceny_real = scaler.inverse_transform(list(predictions[0].reshape(1,-1)))"
      ],
      "metadata": {
        "id": "7pWraekDSbCc"
      },
      "execution_count": 335,
      "outputs": []
    },
    {
      "cell_type": "code",
      "source": [
        "predykcja_ceny_real"
      ],
      "metadata": {
        "colab": {
          "base_uri": "https://localhost:8080/"
        },
        "id": "hch9b8aQUnpt",
        "outputId": "7b6b8e48-8553-4473-f635-1aea406f81e1"
      },
      "execution_count": 336,
      "outputs": [
        {
          "output_type": "execute_result",
          "data": {
            "text/plain": [
              "array([[1.23018017]])"
            ]
          },
          "metadata": {},
          "execution_count": 336
        }
      ]
    },
    {
      "cell_type": "code",
      "source": [],
      "metadata": {
        "id": "TCLBAsq-VFPC"
      },
      "execution_count": 336,
      "outputs": []
    }
  ]
}