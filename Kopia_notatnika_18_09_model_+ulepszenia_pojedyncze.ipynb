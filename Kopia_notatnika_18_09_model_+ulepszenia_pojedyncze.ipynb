{
  "nbformat": 4,
  "nbformat_minor": 0,
  "metadata": {
    "colab": {
      "provenance": [],
      "machine_shape": "hm",
      "include_colab_link": true
    },
    "kernelspec": {
      "name": "python3",
      "display_name": "Python 3"
    },
    "language_info": {
      "name": "python"
    }
  },
  "cells": [
    {
      "cell_type": "markdown",
      "metadata": {
        "id": "view-in-github",
        "colab_type": "text"
      },
      "source": [
        "<a href=\"https://colab.research.google.com/github/tomektom10/dataScienceBootCamp/blob/main/Kopia_notatnika_18_09_model_%2Bulepszenia_pojedyncze.ipynb\" target=\"_parent\"><img src=\"https://colab.research.google.com/assets/colab-badge.svg\" alt=\"Open In Colab\"/></a>"
      ]
    },
    {
      "cell_type": "code",
      "source": [
        "# pip install bayesian-optimization"
      ],
      "metadata": {
        "id": "OUufsRaCKVeQ"
      },
      "execution_count": null,
      "outputs": []
    },
    {
      "cell_type": "code",
      "source": [
        "\n",
        "from sklearn.model_selection import train_test_split\n",
        "from sklearn.preprocessing import MinMaxScaler"
      ],
      "metadata": {
        "id": "RgaLieSWELoL"
      },
      "execution_count": null,
      "outputs": []
    },
    {
      "cell_type": "code",
      "execution_count": null,
      "metadata": {
        "id": "B6bZFIBhA7L-"
      },
      "outputs": [],
      "source": [
        "#  import pandas as pd\n",
        "# import pandas as pd\n",
        "# import numpy as np\n",
        "# df = pd.read_excel(\"DANE_KRZYCHU_całe.xlsx\")"
      ]
    },
    {
      "cell_type": "code",
      "source": [
        "\n",
        "df_12 = df[df['Hour'] == 24]\n",
        "\n"
      ],
      "metadata": {
        "id": "Q3rgmllz9MKi"
      },
      "execution_count": null,
      "outputs": []
    },
    {
      "cell_type": "code",
      "source": [
        "#missing_per_column = df.isna().sum()\n",
        "#missing_per_column"
      ],
      "metadata": {
        "id": "FiXY1fbsPoUZ"
      },
      "execution_count": null,
      "outputs": []
    },
    {
      "cell_type": "code",
      "source": [
        "#futures=['SK Residual Production Backcast', \"SK Residual Load Backcast\", 'Weighted average price of all trades (EUR/MWh)'  ]"
      ],
      "metadata": {
        "id": "xFqDJGqeBJWT"
      },
      "execution_count": null,
      "outputs": []
    },
    {
      "cell_type": "markdown",
      "source": [],
      "metadata": {
        "id": "g86y_GyOA6oY"
      }
    },
    {
      "cell_type": "code",
      "source": [
        "target = df_12['Weighted average price of all trades (EUR/MWh)'].values"
      ],
      "metadata": {
        "id": "0RaP9fThBix0"
      },
      "execution_count": null,
      "outputs": []
    },
    {
      "cell_type": "code",
      "source": [
        "input = df_12[[\n",
        "              \"Hour\",\n",
        "              \"Day\",\n",
        "              \"SK Price Spot EUR/MWh OKTE \",\n",
        "             'SK Nuclear Production MWh/h H Actual',\n",
        "             'SK Hydro Run-of-river Production MWh/h H Actual',\n",
        "             'SK Natural Gas Power Production MWh/h H Actual',\n",
        "             \"SK Solar Photovoltaic Production MWh/h H Actual\",\n",
        "             \"SK Hydro Pumped-storage Production MWh/h H Actual\",\n",
        "              'SK Other Power Production MWh/h H Actual',\n",
        "              'SK Hydro Reservoir Production MWh/h H Actual',\n",
        "             \"SK Consumption MWh/h H Actual\",\n",
        "             'SK Exchange Physical Flow Net Import MWh/h H Actual',\n",
        "             \"Weighted average price of all trades (EUR/MWh)\"]].values\n",
        "\n",
        "\n",
        "\n",
        "\n",
        "\n"
      ],
      "metadata": {
        "id": "jboJYqiUDeFq"
      },
      "execution_count": null,
      "outputs": []
    },
    {
      "cell_type": "code",
      "source": [
        "scaler = MinMaxScaler()\n",
        "\n",
        "futures_scaled = scaler.fit_transform(input)\n",
        "\n",
        "\n"
      ],
      "metadata": {
        "id": "b_zN82Xusi6m"
      },
      "execution_count": null,
      "outputs": []
    },
    {
      "cell_type": "code",
      "source": [
        "# Create sequences for LSTM\n",
        "def create_sequences(data, window_size, prediction_size):\n",
        "    X = []\n",
        "    y = []\n",
        "    for i in range(len(data) - window_size - prediction_size + 1):\n",
        "        X.append(data[i:(i + window_size)])\n",
        "        y.append(data[i + window_size:i + window_size + prediction_size, -1])  # Predicting only the price\n",
        "    return np.array(X), np.array(y)"
      ],
      "metadata": {
        "id": "f44LCvuwuCZW"
      },
      "execution_count": null,
      "outputs": []
    },
    {
      "cell_type": "code",
      "source": [
        "#liczbs godzina na bazie ktorych generujemy predykcje\n",
        "window_size = 11\n",
        "\n",
        "prediction_size = 1"
      ],
      "metadata": {
        "id": "uIVNZdvuuCR3"
      },
      "execution_count": null,
      "outputs": []
    },
    {
      "cell_type": "code",
      "source": [
        "X,y = create_sequences (futures_scaled, window_size, prediction_size)"
      ],
      "metadata": {
        "id": "bAJjWVExuX9n"
      },
      "execution_count": null,
      "outputs": []
    },
    {
      "cell_type": "markdown",
      "source": [],
      "metadata": {
        "id": "EQx8ewX48j3E"
      }
    },
    {
      "cell_type": "code",
      "source": [
        "X_train, X_test, y_train, y_test = train_test_split(X, y, test_size=0.01, random_state=42)"
      ],
      "metadata": {
        "id": "pBSGQVebvj8a"
      },
      "execution_count": null,
      "outputs": []
    },
    {
      "cell_type": "code",
      "source": [
        "print(f'Shape of X_train: {X_train.shape}')\n",
        "print(f'Shape of y_train: {y_train.shape}')"
      ],
      "metadata": {
        "id": "r-eua9FhuX4f",
        "colab": {
          "base_uri": "https://localhost:8080/"
        },
        "outputId": "99b837da-97fa-4f04-f54e-5aa6f0dbddbc"
      },
      "execution_count": null,
      "outputs": [
        {
          "output_type": "stream",
          "name": "stdout",
          "text": [
            "Shape of X_train: (594, 11, 13)\n",
            "Shape of y_train: (594, 1)\n"
          ]
        }
      ]
    },
    {
      "cell_type": "code",
      "source": [],
      "metadata": {
        "id": "-L3aGtpFD68t"
      },
      "execution_count": null,
      "outputs": []
    },
    {
      "cell_type": "code",
      "source": [],
      "metadata": {
        "id": "h1A-KaBQFAgS"
      },
      "execution_count": null,
      "outputs": []
    },
    {
      "cell_type": "code",
      "source": [],
      "metadata": {
        "id": "RBYBMngvLQOA"
      },
      "execution_count": null,
      "outputs": []
    },
    {
      "cell_type": "code",
      "source": [
        "# from bayes_opt import BayesianOptimization\n",
        "# from keras.models import Sequential\n",
        "# from keras.layers import LSTM, Dense, Dropout\n",
        "# from keras.optimizers import Adam\n",
        "# from sklearn.model_selection import train_test_split\n",
        "# import numpy as np\n",
        "\n",
        "# def build_and_evaluate_lstm(window_size, lstm_units, dropout_rate, learning_rate):\n",
        "#     # Ensure the hyperparameters are in the correct format\n",
        "#     window_size = int(window_size)\n",
        "#     lstm_units = int(lstm_units)\n",
        "\n",
        "#     # Create sequences with the specified window size\n",
        "#     X, y = create_sequences(futures_scaled, window_size, prediction_size)\n",
        "#     X_train, X_val, y_train, y_val = train_test_split(X, y, test_size=0.2, random_state=42)\n",
        "\n",
        "#     # Build the LSTM model\n",
        "#     model = Sequential()\n",
        "#     model.add(LSTM(units=lstm_units, return_sequences=False, input_shape=(X_train.shape[1], X_train.shape[2])))\n",
        "#     model.add(Dropout(dropout_rate))\n",
        "#     model.add(Dense(units=prediction_size))\n",
        "\n",
        "#     # Compile the model\n",
        "#     optimizer = Adam(learning_rate=learning_rate)\n",
        "#     model.compile(optimizer=optimizer, loss='mean_squared_error')\n",
        "\n",
        "#     # Train the model\n",
        "#     history = model.fit(X_train, y_train, epochs=5, batch_size=32, validation_data=(X_val, y_val), verbose=0)\n",
        "\n",
        "#     # Return the validation loss\n",
        "#     val_loss = history.history['val_loss'][-1]\n",
        "#     return -val_loss"
      ],
      "metadata": {
        "id": "SxUdAXAFLQQ5"
      },
      "execution_count": null,
      "outputs": []
    },
    {
      "cell_type": "code",
      "source": [
        "# # Define the parameter space for optimization\n",
        "# param_bounds = {\n",
        "#     'window_size': (10, 100),       # The range for window size\n",
        "#     'lstm_units': (10, 100),        # The range for LSTM units\n",
        "#     'dropout_rate': (0.1, 0.5),     # The range for dropout rate\n",
        "#     'learning_rate': (0.0001, 0.01) # The range for learning rate\n",
        "# }\n",
        "\n",
        "# # Perform Bayesian optimization\n",
        "# optimizer = BayesianOptimization(\n",
        "#     f=build_and_evaluate_lstm,\n",
        "#     pbounds=param_bounds,\n",
        "#     random_state=42,\n",
        "#     verbose=2\n",
        "# )\n",
        "\n",
        "# optimizer.maximize(init_points=5, n_iter=20)\n",
        "\n",
        "# # Extract the best parameters\n",
        "# best_params = optimizer.max['params']\n",
        "# best_window_size = int(best_params['window_size'])\n",
        "# best_lstm_units = int(best_params['lstm_units'])\n",
        "# best_dropout_rate = best_params['dropout_rate']\n",
        "# best_learning_rate = best_params['learning_rate']\n",
        "\n",
        "# print(\"Best Parameters:\")\n",
        "# print(f\"Window Size: {best_window_size}\")\n",
        "# print(f\"LSTM Units: {best_lstm_units}\")\n",
        "# print(f\"Dropout Rate: {best_dropout_rate}\")\n",
        "# print(f\"Learning Rate: {best_learning_rate}\")"
      ],
      "metadata": {
        "id": "BTHGhbK8LZhu"
      },
      "execution_count": null,
      "outputs": []
    },
    {
      "cell_type": "code",
      "source": [],
      "metadata": {
        "id": "ZP-kkMYULQUA"
      },
      "execution_count": null,
      "outputs": []
    },
    {
      "cell_type": "code",
      "source": [],
      "metadata": {
        "id": "D8WdlWjvLQWd"
      },
      "execution_count": null,
      "outputs": []
    },
    {
      "cell_type": "code",
      "source": [],
      "metadata": {
        "id": "hC70gSzaGFck"
      },
      "execution_count": null,
      "outputs": []
    },
    {
      "cell_type": "code",
      "source": [
        "# # Przekształcenie danych do formatu akceptowalnego przez LSTM (próbki, kroki czasowe, cechy)\n",
        "# X_train = np.reshape(X_train, (X_train.shape[0], 1, X_train.shape[1]))\n",
        "# # X_test = np.reshape(X_test, (X_test.shape[0], 1, X_test.shape[1]))"
      ],
      "metadata": {
        "id": "7fujrvH1GZHs"
      },
      "execution_count": null,
      "outputs": []
    },
    {
      "cell_type": "code",
      "source": [
        "import tensorflow as tf\n",
        "from tensorflow.keras.models import Sequential\n",
        "from tensorflow.keras.layers import LSTM, Dense, Dropout"
      ],
      "metadata": {
        "id": "x8ElScNcG8pR"
      },
      "execution_count": null,
      "outputs": []
    },
    {
      "cell_type": "code",
      "source": [
        "# Inicjalizacja modelu LSTM\n",
        "model = Sequential()\n",
        "\n",
        "# Dodanie warstwy LSTM\n",
        "model.add(LSTM(units=82, return_sequences=False, input_shape=(X_train.shape[1], X_train.shape[2])))\n",
        "model.add(Dropout(0.2))\n",
        "\n",
        "# Dodanie kolejnej warstwy LSTM\n",
        "#model.add(LSTM(units=2, return_sequences=False))\n",
        "#model.add(Dropout(0.2))\n",
        "\n",
        "# Dodanie warstwy wyjściowej\n",
        "model.add(Dense(units = prediction_size))\n"
      ],
      "metadata": {
        "id": "sXD6ZL9PHIVp",
        "colab": {
          "base_uri": "https://localhost:8080/"
        },
        "outputId": "9873d3f9-11ff-44a5-f15d-161e4061b60b"
      },
      "execution_count": null,
      "outputs": [
        {
          "output_type": "stream",
          "name": "stderr",
          "text": [
            "/usr/local/lib/python3.10/dist-packages/keras/src/layers/rnn/rnn.py:204: UserWarning: Do not pass an `input_shape`/`input_dim` argument to a layer. When using Sequential models, prefer using an `Input(shape)` object as the first layer in the model instead.\n",
            "  super().__init__(**kwargs)\n"
          ]
        }
      ]
    },
    {
      "cell_type": "code",
      "source": [
        "# Kompilacja modelu\n",
        "model.compile(optimizer='adam', loss='mean_squared_error')\n",
        "\n",
        "# Wyświetlenie architektury modelu\n",
        "model.summary()"
      ],
      "metadata": {
        "id": "3MvRFxgeHmw-",
        "colab": {
          "base_uri": "https://localhost:8080/",
          "height": 238
        },
        "outputId": "74d8d24c-7221-4ae0-cd79-72a7da90db20"
      },
      "execution_count": null,
      "outputs": [
        {
          "output_type": "display_data",
          "data": {
            "text/plain": [
              "\u001b[1mModel: \"sequential_67\"\u001b[0m\n"
            ],
            "text/html": [
              "<pre style=\"white-space:pre;overflow-x:auto;line-height:normal;font-family:Menlo,'DejaVu Sans Mono',consolas,'Courier New',monospace\"><span style=\"font-weight: bold\">Model: \"sequential_67\"</span>\n",
              "</pre>\n"
            ]
          },
          "metadata": {}
        },
        {
          "output_type": "display_data",
          "data": {
            "text/plain": [
              "┏━━━━━━━━━━━━━━━━━━━━━━━━━━━━━━━━━━━━━━┳━━━━━━━━━━━━━━━━━━━━━━━━━━━━━┳━━━━━━━━━━━━━━━━━┓\n",
              "┃\u001b[1m \u001b[0m\u001b[1mLayer (type)                        \u001b[0m\u001b[1m \u001b[0m┃\u001b[1m \u001b[0m\u001b[1mOutput Shape               \u001b[0m\u001b[1m \u001b[0m┃\u001b[1m \u001b[0m\u001b[1m        Param #\u001b[0m\u001b[1m \u001b[0m┃\n",
              "┡━━━━━━━━━━━━━━━━━━━━━━━━━━━━━━━━━━━━━━╇━━━━━━━━━━━━━━━━━━━━━━━━━━━━━╇━━━━━━━━━━━━━━━━━┩\n",
              "│ lstm_67 (\u001b[38;5;33mLSTM\u001b[0m)                       │ (\u001b[38;5;45mNone\u001b[0m, \u001b[38;5;34m82\u001b[0m)                  │          \u001b[38;5;34m31,488\u001b[0m │\n",
              "├──────────────────────────────────────┼─────────────────────────────┼─────────────────┤\n",
              "│ dropout_67 (\u001b[38;5;33mDropout\u001b[0m)                 │ (\u001b[38;5;45mNone\u001b[0m, \u001b[38;5;34m82\u001b[0m)                  │               \u001b[38;5;34m0\u001b[0m │\n",
              "├──────────────────────────────────────┼─────────────────────────────┼─────────────────┤\n",
              "│ dense_67 (\u001b[38;5;33mDense\u001b[0m)                     │ (\u001b[38;5;45mNone\u001b[0m, \u001b[38;5;34m1\u001b[0m)                   │              \u001b[38;5;34m83\u001b[0m │\n",
              "└──────────────────────────────────────┴─────────────────────────────┴─────────────────┘\n"
            ],
            "text/html": [
              "<pre style=\"white-space:pre;overflow-x:auto;line-height:normal;font-family:Menlo,'DejaVu Sans Mono',consolas,'Courier New',monospace\">┏━━━━━━━━━━━━━━━━━━━━━━━━━━━━━━━━━━━━━━┳━━━━━━━━━━━━━━━━━━━━━━━━━━━━━┳━━━━━━━━━━━━━━━━━┓\n",
              "┃<span style=\"font-weight: bold\"> Layer (type)                         </span>┃<span style=\"font-weight: bold\"> Output Shape                </span>┃<span style=\"font-weight: bold\">         Param # </span>┃\n",
              "┡━━━━━━━━━━━━━━━━━━━━━━━━━━━━━━━━━━━━━━╇━━━━━━━━━━━━━━━━━━━━━━━━━━━━━╇━━━━━━━━━━━━━━━━━┩\n",
              "│ lstm_67 (<span style=\"color: #0087ff; text-decoration-color: #0087ff\">LSTM</span>)                       │ (<span style=\"color: #00d7ff; text-decoration-color: #00d7ff\">None</span>, <span style=\"color: #00af00; text-decoration-color: #00af00\">82</span>)                  │          <span style=\"color: #00af00; text-decoration-color: #00af00\">31,488</span> │\n",
              "├──────────────────────────────────────┼─────────────────────────────┼─────────────────┤\n",
              "│ dropout_67 (<span style=\"color: #0087ff; text-decoration-color: #0087ff\">Dropout</span>)                 │ (<span style=\"color: #00d7ff; text-decoration-color: #00d7ff\">None</span>, <span style=\"color: #00af00; text-decoration-color: #00af00\">82</span>)                  │               <span style=\"color: #00af00; text-decoration-color: #00af00\">0</span> │\n",
              "├──────────────────────────────────────┼─────────────────────────────┼─────────────────┤\n",
              "│ dense_67 (<span style=\"color: #0087ff; text-decoration-color: #0087ff\">Dense</span>)                     │ (<span style=\"color: #00d7ff; text-decoration-color: #00d7ff\">None</span>, <span style=\"color: #00af00; text-decoration-color: #00af00\">1</span>)                   │              <span style=\"color: #00af00; text-decoration-color: #00af00\">83</span> │\n",
              "└──────────────────────────────────────┴─────────────────────────────┴─────────────────┘\n",
              "</pre>\n"
            ]
          },
          "metadata": {}
        },
        {
          "output_type": "display_data",
          "data": {
            "text/plain": [
              "\u001b[1m Total params: \u001b[0m\u001b[38;5;34m31,571\u001b[0m (123.32 KB)\n"
            ],
            "text/html": [
              "<pre style=\"white-space:pre;overflow-x:auto;line-height:normal;font-family:Menlo,'DejaVu Sans Mono',consolas,'Courier New',monospace\"><span style=\"font-weight: bold\"> Total params: </span><span style=\"color: #00af00; text-decoration-color: #00af00\">31,571</span> (123.32 KB)\n",
              "</pre>\n"
            ]
          },
          "metadata": {}
        },
        {
          "output_type": "display_data",
          "data": {
            "text/plain": [
              "\u001b[1m Trainable params: \u001b[0m\u001b[38;5;34m31,571\u001b[0m (123.32 KB)\n"
            ],
            "text/html": [
              "<pre style=\"white-space:pre;overflow-x:auto;line-height:normal;font-family:Menlo,'DejaVu Sans Mono',consolas,'Courier New',monospace\"><span style=\"font-weight: bold\"> Trainable params: </span><span style=\"color: #00af00; text-decoration-color: #00af00\">31,571</span> (123.32 KB)\n",
              "</pre>\n"
            ]
          },
          "metadata": {}
        },
        {
          "output_type": "display_data",
          "data": {
            "text/plain": [
              "\u001b[1m Non-trainable params: \u001b[0m\u001b[38;5;34m0\u001b[0m (0.00 B)\n"
            ],
            "text/html": [
              "<pre style=\"white-space:pre;overflow-x:auto;line-height:normal;font-family:Menlo,'DejaVu Sans Mono',consolas,'Courier New',monospace\"><span style=\"font-weight: bold\"> Non-trainable params: </span><span style=\"color: #00af00; text-decoration-color: #00af00\">0</span> (0.00 B)\n",
              "</pre>\n"
            ]
          },
          "metadata": {}
        }
      ]
    },
    {
      "cell_type": "code",
      "source": [
        "# Trenowanie modelu LSTM\n",
        "history = model.fit(X_train, y_train, epochs=50, batch_size=32, validation_data=(X_test, y_test), verbose=1)"
      ],
      "metadata": {
        "id": "OHK21QMFIC6i",
        "colab": {
          "base_uri": "https://localhost:8080/"
        },
        "outputId": "2c1ed2a7-53e2-4c42-dcd6-1dbc1401d39d"
      },
      "execution_count": null,
      "outputs": [
        {
          "output_type": "stream",
          "name": "stdout",
          "text": [
            "Epoch 1/50\n",
            "\u001b[1m19/19\u001b[0m \u001b[32m━━━━━━━━━━━━━━━━━━━━\u001b[0m\u001b[37m\u001b[0m \u001b[1m2s\u001b[0m 23ms/step - loss: 0.0389 - val_loss: 0.0080\n",
            "Epoch 2/50\n",
            "\u001b[1m19/19\u001b[0m \u001b[32m━━━━━━━━━━━━━━━━━━━━\u001b[0m\u001b[37m\u001b[0m \u001b[1m0s\u001b[0m 9ms/step - loss: 0.0143 - val_loss: 0.0144\n",
            "Epoch 3/50\n",
            "\u001b[1m19/19\u001b[0m \u001b[32m━━━━━━━━━━━━━━━━━━━━\u001b[0m\u001b[37m\u001b[0m \u001b[1m0s\u001b[0m 9ms/step - loss: 0.0141 - val_loss: 0.0118\n",
            "Epoch 4/50\n",
            "\u001b[1m19/19\u001b[0m \u001b[32m━━━━━━━━━━━━━━━━━━━━\u001b[0m\u001b[37m\u001b[0m \u001b[1m0s\u001b[0m 8ms/step - loss: 0.0124 - val_loss: 0.0083\n",
            "Epoch 5/50\n",
            "\u001b[1m19/19\u001b[0m \u001b[32m━━━━━━━━━━━━━━━━━━━━\u001b[0m\u001b[37m\u001b[0m \u001b[1m0s\u001b[0m 8ms/step - loss: 0.0127 - val_loss: 0.0075\n",
            "Epoch 6/50\n",
            "\u001b[1m19/19\u001b[0m \u001b[32m━━━━━━━━━━━━━━━━━━━━\u001b[0m\u001b[37m\u001b[0m \u001b[1m0s\u001b[0m 8ms/step - loss: 0.0118 - val_loss: 0.0085\n",
            "Epoch 7/50\n",
            "\u001b[1m19/19\u001b[0m \u001b[32m━━━━━━━━━━━━━━━━━━━━\u001b[0m\u001b[37m\u001b[0m \u001b[1m0s\u001b[0m 8ms/step - loss: 0.0093 - val_loss: 0.0098\n",
            "Epoch 8/50\n",
            "\u001b[1m19/19\u001b[0m \u001b[32m━━━━━━━━━━━━━━━━━━━━\u001b[0m\u001b[37m\u001b[0m \u001b[1m0s\u001b[0m 8ms/step - loss: 0.0090 - val_loss: 0.0094\n",
            "Epoch 9/50\n",
            "\u001b[1m19/19\u001b[0m \u001b[32m━━━━━━━━━━━━━━━━━━━━\u001b[0m\u001b[37m\u001b[0m \u001b[1m0s\u001b[0m 8ms/step - loss: 0.0093 - val_loss: 0.0084\n",
            "Epoch 10/50\n",
            "\u001b[1m19/19\u001b[0m \u001b[32m━━━━━━━━━━━━━━━━━━━━\u001b[0m\u001b[37m\u001b[0m \u001b[1m0s\u001b[0m 8ms/step - loss: 0.0091 - val_loss: 0.0092\n",
            "Epoch 11/50\n",
            "\u001b[1m19/19\u001b[0m \u001b[32m━━━━━━━━━━━━━━━━━━━━\u001b[0m\u001b[37m\u001b[0m \u001b[1m0s\u001b[0m 8ms/step - loss: 0.0090 - val_loss: 0.0095\n",
            "Epoch 12/50\n",
            "\u001b[1m19/19\u001b[0m \u001b[32m━━━━━━━━━━━━━━━━━━━━\u001b[0m\u001b[37m\u001b[0m \u001b[1m0s\u001b[0m 8ms/step - loss: 0.0089 - val_loss: 0.0078\n",
            "Epoch 13/50\n",
            "\u001b[1m19/19\u001b[0m \u001b[32m━━━━━━━━━━━━━━━━━━━━\u001b[0m\u001b[37m\u001b[0m \u001b[1m0s\u001b[0m 8ms/step - loss: 0.0087 - val_loss: 0.0088\n",
            "Epoch 14/50\n",
            "\u001b[1m19/19\u001b[0m \u001b[32m━━━━━━━━━━━━━━━━━━━━\u001b[0m\u001b[37m\u001b[0m \u001b[1m0s\u001b[0m 8ms/step - loss: 0.0082 - val_loss: 0.0083\n",
            "Epoch 15/50\n",
            "\u001b[1m19/19\u001b[0m \u001b[32m━━━━━━━━━━━━━━━━━━━━\u001b[0m\u001b[37m\u001b[0m \u001b[1m0s\u001b[0m 8ms/step - loss: 0.0090 - val_loss: 0.0072\n",
            "Epoch 16/50\n",
            "\u001b[1m19/19\u001b[0m \u001b[32m━━━━━━━━━━━━━━━━━━━━\u001b[0m\u001b[37m\u001b[0m \u001b[1m0s\u001b[0m 8ms/step - loss: 0.0097 - val_loss: 0.0109\n",
            "Epoch 17/50\n",
            "\u001b[1m19/19\u001b[0m \u001b[32m━━━━━━━━━━━━━━━━━━━━\u001b[0m\u001b[37m\u001b[0m \u001b[1m0s\u001b[0m 9ms/step - loss: 0.0084 - val_loss: 0.0104\n",
            "Epoch 18/50\n",
            "\u001b[1m19/19\u001b[0m \u001b[32m━━━━━━━━━━━━━━━━━━━━\u001b[0m\u001b[37m\u001b[0m \u001b[1m0s\u001b[0m 9ms/step - loss: 0.0096 - val_loss: 0.0076\n",
            "Epoch 19/50\n",
            "\u001b[1m19/19\u001b[0m \u001b[32m━━━━━━━━━━━━━━━━━━━━\u001b[0m\u001b[37m\u001b[0m \u001b[1m0s\u001b[0m 8ms/step - loss: 0.0101 - val_loss: 0.0072\n",
            "Epoch 20/50\n",
            "\u001b[1m19/19\u001b[0m \u001b[32m━━━━━━━━━━━━━━━━━━━━\u001b[0m\u001b[37m\u001b[0m \u001b[1m0s\u001b[0m 8ms/step - loss: 0.0085 - val_loss: 0.0087\n",
            "Epoch 21/50\n",
            "\u001b[1m19/19\u001b[0m \u001b[32m━━━━━━━━━━━━━━━━━━━━\u001b[0m\u001b[37m\u001b[0m \u001b[1m0s\u001b[0m 8ms/step - loss: 0.0076 - val_loss: 0.0090\n",
            "Epoch 22/50\n",
            "\u001b[1m19/19\u001b[0m \u001b[32m━━━━━━━━━━━━━━━━━━━━\u001b[0m\u001b[37m\u001b[0m \u001b[1m0s\u001b[0m 8ms/step - loss: 0.0089 - val_loss: 0.0080\n",
            "Epoch 23/50\n",
            "\u001b[1m19/19\u001b[0m \u001b[32m━━━━━━━━━━━━━━━━━━━━\u001b[0m\u001b[37m\u001b[0m \u001b[1m0s\u001b[0m 8ms/step - loss: 0.0081 - val_loss: 0.0074\n",
            "Epoch 24/50\n",
            "\u001b[1m19/19\u001b[0m \u001b[32m━━━━━━━━━━━━━━━━━━━━\u001b[0m\u001b[37m\u001b[0m \u001b[1m0s\u001b[0m 8ms/step - loss: 0.0075 - val_loss: 0.0107\n",
            "Epoch 25/50\n",
            "\u001b[1m19/19\u001b[0m \u001b[32m━━━━━━━━━━━━━━━━━━━━\u001b[0m\u001b[37m\u001b[0m \u001b[1m0s\u001b[0m 8ms/step - loss: 0.0100 - val_loss: 0.0084\n",
            "Epoch 26/50\n",
            "\u001b[1m19/19\u001b[0m \u001b[32m━━━━━━━━━━━━━━━━━━━━\u001b[0m\u001b[37m\u001b[0m \u001b[1m0s\u001b[0m 8ms/step - loss: 0.0092 - val_loss: 0.0083\n",
            "Epoch 27/50\n",
            "\u001b[1m19/19\u001b[0m \u001b[32m━━━━━━━━━━━━━━━━━━━━\u001b[0m\u001b[37m\u001b[0m \u001b[1m0s\u001b[0m 9ms/step - loss: 0.0084 - val_loss: 0.0076\n",
            "Epoch 28/50\n",
            "\u001b[1m19/19\u001b[0m \u001b[32m━━━━━━━━━━━━━━━━━━━━\u001b[0m\u001b[37m\u001b[0m \u001b[1m0s\u001b[0m 8ms/step - loss: 0.0081 - val_loss: 0.0069\n",
            "Epoch 29/50\n",
            "\u001b[1m19/19\u001b[0m \u001b[32m━━━━━━━━━━━━━━━━━━━━\u001b[0m\u001b[37m\u001b[0m \u001b[1m0s\u001b[0m 8ms/step - loss: 0.0082 - val_loss: 0.0080\n",
            "Epoch 30/50\n",
            "\u001b[1m19/19\u001b[0m \u001b[32m━━━━━━━━━━━━━━━━━━━━\u001b[0m\u001b[37m\u001b[0m \u001b[1m0s\u001b[0m 8ms/step - loss: 0.0085 - val_loss: 0.0082\n",
            "Epoch 31/50\n",
            "\u001b[1m19/19\u001b[0m \u001b[32m━━━━━━━━━━━━━━━━━━━━\u001b[0m\u001b[37m\u001b[0m \u001b[1m0s\u001b[0m 8ms/step - loss: 0.0081 - val_loss: 0.0085\n",
            "Epoch 32/50\n",
            "\u001b[1m19/19\u001b[0m \u001b[32m━━━━━━━━━━━━━━━━━━━━\u001b[0m\u001b[37m\u001b[0m \u001b[1m0s\u001b[0m 8ms/step - loss: 0.0092 - val_loss: 0.0082\n",
            "Epoch 33/50\n",
            "\u001b[1m19/19\u001b[0m \u001b[32m━━━━━━━━━━━━━━━━━━━━\u001b[0m\u001b[37m\u001b[0m \u001b[1m0s\u001b[0m 8ms/step - loss: 0.0082 - val_loss: 0.0080\n",
            "Epoch 34/50\n",
            "\u001b[1m19/19\u001b[0m \u001b[32m━━━━━━━━━━━━━━━━━━━━\u001b[0m\u001b[37m\u001b[0m \u001b[1m0s\u001b[0m 8ms/step - loss: 0.0081 - val_loss: 0.0073\n",
            "Epoch 35/50\n",
            "\u001b[1m19/19\u001b[0m \u001b[32m━━━━━━━━━━━━━━━━━━━━\u001b[0m\u001b[37m\u001b[0m \u001b[1m0s\u001b[0m 8ms/step - loss: 0.0086 - val_loss: 0.0095\n",
            "Epoch 36/50\n",
            "\u001b[1m19/19\u001b[0m \u001b[32m━━━━━━━━━━━━━━━━━━━━\u001b[0m\u001b[37m\u001b[0m \u001b[1m0s\u001b[0m 8ms/step - loss: 0.0087 - val_loss: 0.0095\n",
            "Epoch 37/50\n",
            "\u001b[1m19/19\u001b[0m \u001b[32m━━━━━━━━━━━━━━━━━━━━\u001b[0m\u001b[37m\u001b[0m \u001b[1m0s\u001b[0m 8ms/step - loss: 0.0084 - val_loss: 0.0079\n",
            "Epoch 38/50\n",
            "\u001b[1m19/19\u001b[0m \u001b[32m━━━━━━━━━━━━━━━━━━━━\u001b[0m\u001b[37m\u001b[0m \u001b[1m0s\u001b[0m 8ms/step - loss: 0.0089 - val_loss: 0.0081\n",
            "Epoch 39/50\n",
            "\u001b[1m19/19\u001b[0m \u001b[32m━━━━━━━━━━━━━━━━━━━━\u001b[0m\u001b[37m\u001b[0m \u001b[1m0s\u001b[0m 8ms/step - loss: 0.0070 - val_loss: 0.0069\n",
            "Epoch 40/50\n",
            "\u001b[1m19/19\u001b[0m \u001b[32m━━━━━━━━━━━━━━━━━━━━\u001b[0m\u001b[37m\u001b[0m \u001b[1m0s\u001b[0m 8ms/step - loss: 0.0089 - val_loss: 0.0084\n",
            "Epoch 41/50\n",
            "\u001b[1m19/19\u001b[0m \u001b[32m━━━━━━━━━━━━━━━━━━━━\u001b[0m\u001b[37m\u001b[0m \u001b[1m0s\u001b[0m 9ms/step - loss: 0.0084 - val_loss: 0.0089\n",
            "Epoch 42/50\n",
            "\u001b[1m19/19\u001b[0m \u001b[32m━━━━━━━━━━━━━━━━━━━━\u001b[0m\u001b[37m\u001b[0m \u001b[1m0s\u001b[0m 8ms/step - loss: 0.0073 - val_loss: 0.0086\n",
            "Epoch 43/50\n",
            "\u001b[1m19/19\u001b[0m \u001b[32m━━━━━━━━━━━━━━━━━━━━\u001b[0m\u001b[37m\u001b[0m \u001b[1m0s\u001b[0m 8ms/step - loss: 0.0072 - val_loss: 0.0065\n",
            "Epoch 44/50\n",
            "\u001b[1m19/19\u001b[0m \u001b[32m━━━━━━━━━━━━━━━━━━━━\u001b[0m\u001b[37m\u001b[0m \u001b[1m0s\u001b[0m 9ms/step - loss: 0.0100 - val_loss: 0.0073\n",
            "Epoch 45/50\n",
            "\u001b[1m19/19\u001b[0m \u001b[32m━━━━━━━━━━━━━━━━━━━━\u001b[0m\u001b[37m\u001b[0m \u001b[1m0s\u001b[0m 8ms/step - loss: 0.0078 - val_loss: 0.0086\n",
            "Epoch 46/50\n",
            "\u001b[1m19/19\u001b[0m \u001b[32m━━━━━━━━━━━━━━━━━━━━\u001b[0m\u001b[37m\u001b[0m \u001b[1m0s\u001b[0m 8ms/step - loss: 0.0082 - val_loss: 0.0085\n",
            "Epoch 47/50\n",
            "\u001b[1m19/19\u001b[0m \u001b[32m━━━━━━━━━━━━━━━━━━━━\u001b[0m\u001b[37m\u001b[0m \u001b[1m0s\u001b[0m 8ms/step - loss: 0.0077 - val_loss: 0.0088\n",
            "Epoch 48/50\n",
            "\u001b[1m19/19\u001b[0m \u001b[32m━━━━━━━━━━━━━━━━━━━━\u001b[0m\u001b[37m\u001b[0m \u001b[1m0s\u001b[0m 8ms/step - loss: 0.0080 - val_loss: 0.0077\n",
            "Epoch 49/50\n",
            "\u001b[1m19/19\u001b[0m \u001b[32m━━━━━━━━━━━━━━━━━━━━\u001b[0m\u001b[37m\u001b[0m \u001b[1m0s\u001b[0m 8ms/step - loss: 0.0079 - val_loss: 0.0078\n",
            "Epoch 50/50\n",
            "\u001b[1m19/19\u001b[0m \u001b[32m━━━━━━━━━━━━━━━━━━━━\u001b[0m\u001b[37m\u001b[0m \u001b[1m0s\u001b[0m 8ms/step - loss: 0.0083 - val_loss: 0.0068\n"
          ]
        }
      ]
    },
    {
      "cell_type": "code",
      "source": [
        "# Wykres strat treningowych i walidacyjnych\n",
        "import matplotlib.pyplot as plt\n",
        "\n",
        "plt.plot(history.history['loss'], label='Strata treningowa')\n",
        "plt.plot(history.history['val_loss'], label='Strata walidacyjna')\n",
        "plt.title('Strata modelu')\n",
        "plt.xlabel('Epoki')\n",
        "plt.ylabel('Strata')\n",
        "plt.legend()\n",
        "plt.show()"
      ],
      "metadata": {
        "id": "AHp0yU1kIRpo",
        "colab": {
          "base_uri": "https://localhost:8080/",
          "height": 472
        },
        "outputId": "7f0d7dd7-e146-47d6-a9ef-3bfc2cfbcc17"
      },
      "execution_count": null,
      "outputs": [
        {
          "output_type": "display_data",
          "data": {
            "text/plain": [
              "<Figure size 640x480 with 1 Axes>"
            ],
            "image/png": "[encoded data removed]"
          },
          "metadata": {}
        }
      ]
    },
    {
      "cell_type": "code",
      "source": [
        "# Evaluate the model on test data\n",
        "test_loss = model.evaluate(X_test, y_test)\n",
        "print(f'Test Loss: {test_loss}')"
      ],
      "metadata": {
        "id": "250bV7W6JZsX",
        "colab": {
          "base_uri": "https://localhost:8080/"
        },
        "outputId": "3de42327-156a-4e85-ea0c-b4bb8b541512"
      },
      "execution_count": null,
      "outputs": [
        {
          "output_type": "stream",
          "name": "stdout",
          "text": [
            "\u001b[1m1/1\u001b[0m \u001b[32m━━━━━━━━━━━━━━━━━━━━\u001b[0m\u001b[37m\u001b[0m \u001b[1m0s\u001b[0m 26ms/step - loss: 0.0068\n",
            "Test Loss: 0.0067875138483941555\n"
          ]
        }
      ]
    },
    {
      "cell_type": "code",
      "source": [
        "# Make predictions\n",
        "predictions = model.predict(X_test)"
      ],
      "metadata": {
        "id": "ESwFfSzU13n3",
        "colab": {
          "base_uri": "https://localhost:8080/"
        },
        "outputId": "96db823e-2612-47e4-ba2a-3e01a1983747"
      },
      "execution_count": null,
      "outputs": [
        {
          "output_type": "stream",
          "name": "stdout",
          "text": [
            "\u001b[1m1/1\u001b[0m \u001b[32m━━━━━━━━━━━━━━━━━━━━\u001b[0m\u001b[37m\u001b[0m \u001b[1m0s\u001b[0m 158ms/step\n"
          ]
        }
      ]
    },
    {
      "cell_type": "markdown",
      "source": [],
      "metadata": {
        "id": "74dt32FP2xTU"
      }
    },
    {
      "cell_type": "code",
      "source": [
        "y_test_24 = y_test[:, -1]"
      ],
      "metadata": {
        "id": "tTOIwU9u_zAs"
      },
      "execution_count": null,
      "outputs": []
    },
    {
      "cell_type": "code",
      "source": [
        "predictions_24 = predictions[:, -1]"
      ],
      "metadata": {
        "id": "TG-d0snMCmko"
      },
      "execution_count": null,
      "outputs": []
    },
    {
      "cell_type": "markdown",
      "source": [],
      "metadata": {
        "id": "-VeJW2LM2xNt"
      }
    },
    {
      "cell_type": "code",
      "source": [
        "y_test_rescaled = scaler.inverse_transform(np.concatenate([np.zeros((y_test_24.shape[0], 12)), y_test_24.reshape(-1, 1)], axis=1))[:, -1]\n"
      ],
      "metadata": {
        "id": "vLwFTkK12AJK"
      },
      "execution_count": null,
      "outputs": []
    },
    {
      "cell_type": "code",
      "source": [
        "np.concatenate([np.zeros((y_test.shape[0], 12)), y_test],axis=1).shape"
      ],
      "metadata": {
        "id": "6a1IxrgmAcxl",
        "colab": {
          "base_uri": "https://localhost:8080/"
        },
        "outputId": "b5143175-86ec-4b1d-99cc-4c3cc2cbb1bd"
      },
      "execution_count": null,
      "outputs": [
        {
          "output_type": "execute_result",
          "data": {
            "text/plain": [
              "(7, 13)"
            ]
          },
          "metadata": {},
          "execution_count": 4186
        }
      ]
    },
    {
      "cell_type": "code",
      "source": [
        "np.zeros((y_test.shape[0], 12)).shape"
      ],
      "metadata": {
        "id": "EdOLjmGvBhvi",
        "colab": {
          "base_uri": "https://localhost:8080/"
        },
        "outputId": "10bd59ce-bedb-41b8-a448-cf3a9b776253"
      },
      "execution_count": null,
      "outputs": [
        {
          "output_type": "execute_result",
          "data": {
            "text/plain": [
              "(7, 12)"
            ]
          },
          "metadata": {},
          "execution_count": 4187
        }
      ]
    },
    {
      "cell_type": "code",
      "source": [
        "predictions_rescaled = scaler.inverse_transform(np.concatenate([np.zeros((predictions_24.shape[0], 12)), predictions_24.reshape(-1, 1)], axis=1))[:, -1]"
      ],
      "metadata": {
        "id": "ec9vHu3XAC9s"
      },
      "execution_count": null,
      "outputs": []
    },
    {
      "cell_type": "markdown",
      "source": [],
      "metadata": {
        "id": "XST87-1SuR9I"
      }
    },
    {
      "cell_type": "code",
      "source": [
        "predictions_rescaled"
      ],
      "metadata": {
        "id": "6BVG-wVy8GNL",
        "colab": {
          "base_uri": "https://localhost:8080/"
        },
        "outputId": "509a503d-e851-45bf-b075-74b4b53201ec"
      },
      "execution_count": null,
      "outputs": [
        {
          "output_type": "execute_result",
          "data": {
            "text/plain": [
              "array([110.56769073,  88.01911042, 101.17414575, 103.42496346,\n",
              "       125.80644031,  86.97958689, 119.53588145])"
            ]
          },
          "metadata": {},
          "execution_count": 4189
        }
      ]
    },
    {
      "cell_type": "code",
      "source": [
        "# y_test_rescaled = scaler.inverse_transform(y_test)\n",
        "\n"
      ],
      "metadata": {
        "id": "mVb6xb-V2XLf"
      },
      "execution_count": null,
      "outputs": []
    },
    {
      "cell_type": "code",
      "source": [
        "# # Plot true vs predicted prices for the next 24 hours\n",
        "# plt.figure(figsize=(10, 6))\n",
        "# plt.plot(y_test_24[:100], label='True Prices')\n",
        "# plt.plot(predictions_24[:100], label='Predicted Prices')\n",
        "# plt.title('True vs Predicted Prices for the Next 24 Hours')\n",
        "# plt.xlabel('Time Steps')\n",
        "# plt.ylabel('Price')\n",
        "# plt.legend()\n",
        "# plt.show()"
      ],
      "metadata": {
        "id": "9PfI-YCi3Cd1"
      },
      "execution_count": null,
      "outputs": []
    },
    {
      "cell_type": "code",
      "source": [
        "true_24th = y_test[:, -1]        # True values for the 24th hour\n",
        "predicted_24th = predictions[:, -1]  # Predicted values for the 24th hour"
      ],
      "metadata": {
        "id": "OhMfX_HE3w5M"
      },
      "execution_count": null,
      "outputs": []
    },
    {
      "cell_type": "code",
      "source": [
        "percent_errors = np.abs(true_24th - predicted_24th) / np.abs(true_24th) * 100"
      ],
      "metadata": {
        "id": "M-w9r8ZM4bKL"
      },
      "execution_count": null,
      "outputs": []
    },
    {
      "cell_type": "code",
      "source": [
        "sr_blad = np.mean(percent_errors)"
      ],
      "metadata": {
        "id": "x02Xv9CH4hc_"
      },
      "execution_count": null,
      "outputs": []
    },
    {
      "cell_type": "code",
      "source": [
        "sr_blad"
      ],
      "metadata": {
        "id": "fHqpsnK_4wsU",
        "colab": {
          "base_uri": "https://localhost:8080/"
        },
        "outputId": "f18a271f-81f4-4a6d-f553-cdbc6e34d566"
      },
      "execution_count": null,
      "outputs": [
        {
          "output_type": "execute_result",
          "data": {
            "text/plain": [
              "12.049779585762495"
            ]
          },
          "metadata": {},
          "execution_count": 4195
        }
      ]
    },
    {
      "cell_type": "code",
      "source": [
        "##### do zmiany parametrow sieciu moge zmienic size okna, liczbe unit do danych,"
      ],
      "metadata": {
        "id": "r9Njwp0J4yFV"
      },
      "execution_count": null,
      "outputs": []
    },
    {
      "cell_type": "code",
      "source": [
        "percent_errors = np.abs(y_test_24 - predictions_24) / np.abs(y_test_24) * 100"
      ],
      "metadata": {
        "id": "USVOjUfE5p-f"
      },
      "execution_count": null,
      "outputs": []
    },
    {
      "cell_type": "code",
      "source": [
        "sr_blad_real = np.mean(percent_errors)"
      ],
      "metadata": {
        "id": "BjsW3SW3EZKz"
      },
      "execution_count": null,
      "outputs": []
    },
    {
      "cell_type": "code",
      "source": [
        "sr_blad_real"
      ],
      "metadata": {
        "id": "-FoiRFBUElB7",
        "colab": {
          "base_uri": "https://localhost:8080/"
        },
        "outputId": "2c6fcd75-80fc-4051-ce1c-a12654b833a3"
      },
      "execution_count": null,
      "outputs": [
        {
          "output_type": "execute_result",
          "data": {
            "text/plain": [
              "12.049779585762495"
            ]
          },
          "metadata": {},
          "execution_count": 4199
        }
      ]
    },
    {
      "cell_type": "code",
      "source": [
        "###### WPROWADZANIE REALNYCH WARTOSCI"
      ],
      "metadata": {
        "id": "Vs_CxTXvEl_S"
      },
      "execution_count": null,
      "outputs": []
    },
    {
      "cell_type": "code",
      "source": [
        "#X_test[-1]"
      ],
      "metadata": {
        "id": "TCudeYoMFF6Z"
      },
      "execution_count": null,
      "outputs": []
    },
    {
      "cell_type": "code",
      "source": [
        "predictions = model.predict(np.array([X_test[-1]]))"
      ],
      "metadata": {
        "id": "cTTtw8lqFChU",
        "colab": {
          "base_uri": "https://localhost:8080/"
        },
        "outputId": "41a9ed43-b006-407e-d57d-4ce3052b0ecb"
      },
      "execution_count": null,
      "outputs": [
        {
          "output_type": "stream",
          "name": "stdout",
          "text": [
            "\u001b[1m1/1\u001b[0m \u001b[32m━━━━━━━━━━━━━━━━━━━━\u001b[0m\u001b[37m\u001b[0m \u001b[1m0s\u001b[0m 169ms/step\n"
          ]
        }
      ]
    },
    {
      "cell_type": "code",
      "source": [
        "predictions.shape"
      ],
      "metadata": {
        "id": "ALkpE2yxFcdA",
        "colab": {
          "base_uri": "https://localhost:8080/"
        },
        "outputId": "a235efcb-f629-4823-fd64-40a4b7f015d3"
      },
      "execution_count": null,
      "outputs": [
        {
          "output_type": "execute_result",
          "data": {
            "text/plain": [
              "(1, 1)"
            ]
          },
          "metadata": {},
          "execution_count": 4203
        }
      ]
    },
    {
      "cell_type": "code",
      "source": [
        "predictions_24 = np.array([predictions[:, -1]])"
      ],
      "metadata": {
        "id": "3u_-6czMGiNq"
      },
      "execution_count": null,
      "outputs": []
    },
    {
      "cell_type": "code",
      "source": [
        "predictions_24.shape"
      ],
      "metadata": {
        "id": "AtPozMi4HDEi",
        "colab": {
          "base_uri": "https://localhost:8080/"
        },
        "outputId": "959f2d3a-1aca-401c-aa3d-5daed778fee1"
      },
      "execution_count": null,
      "outputs": [
        {
          "output_type": "execute_result",
          "data": {
            "text/plain": [
              "(1, 1)"
            ]
          },
          "metadata": {},
          "execution_count": 4205
        }
      ]
    },
    {
      "cell_type": "code",
      "source": [
        "predictions_rescaled = scaler.inverse_transform(np.concatenate([np.zeros((predictions_24.shape[0], 12)), predictions_24.reshape(-1, 1)], axis=1))[:, -1]"
      ],
      "metadata": {
        "id": "0t_iv3Y0GATe"
      },
      "execution_count": null,
      "outputs": []
    },
    {
      "cell_type": "code",
      "source": [
        "predictions_rescaled"
      ],
      "metadata": {
        "id": "Jb9JJzSuGTEL",
        "colab": {
          "base_uri": "https://localhost:8080/"
        },
        "outputId": "c0111506-afce-4ed6-8dbc-0a9a138c2933"
      },
      "execution_count": null,
      "outputs": [
        {
          "output_type": "execute_result",
          "data": {
            "text/plain": [
              "array([119.5358662])"
            ]
          },
          "metadata": {},
          "execution_count": 4207
        }
      ]
    },
    {
      "cell_type": "code",
      "source": [
        "#wczytywanie realnych danych"
      ],
      "metadata": {
        "id": "INrQPeTTHTVN"
      },
      "execution_count": null,
      "outputs": []
    },
    {
      "cell_type": "code",
      "source": [
        "#  df1 = pd.read_excel(\"DAN_MODEL_4.09_14.09.xlsx\")"
      ],
      "metadata": {
        "id": "OUdJCUmJKbBc"
      },
      "execution_count": null,
      "outputs": []
    },
    {
      "cell_type": "code",
      "source": [
        "df1= df1[[     \"Hour\",\n",
        "              \"DAY\",\n",
        "              \"SK Price Spot EUR/MWh OKTE \",\n",
        "             'SK Nuclear Production MWh/h H Actual',\n",
        "             'SK Hydro Run-of-river Production MWh/h H Actual',\n",
        "             'SK Natural Gas Power Production MWh/h H Actual',\n",
        "              \"SK Solar Photovoltaic Production MWh/h H Actual\",\n",
        "             \"SK Hydro Pumped-storage Production MWh/h H Actual\",\n",
        "             'SK Other Power Production MWh/h H Actual',\n",
        "             'SK Hydro Reservoir Production MWh/h H Actual',\n",
        "             \"SK Consumption MWh/h H Actual\",\n",
        "             'SK Exchange Physical Flow Net Import MWh/h H Actual',\n",
        "             \"Weighted average price of all trades (EUR/MWh)\"]]\n"
      ],
      "metadata": {
        "id": "UfkTUQUtVmN0"
      },
      "execution_count": null,
      "outputs": []
    },
    {
      "cell_type": "markdown",
      "source": [],
      "metadata": {
        "id": "652i6yhcVJwK"
      }
    },
    {
      "cell_type": "code",
      "source": [
        "df_numeryczny = df1[df1[\"Hour\"]==24]\n"
      ],
      "metadata": {
        "id": "pxrG4gUtVWw8"
      },
      "execution_count": null,
      "outputs": []
    },
    {
      "cell_type": "code",
      "source": [
        "probka = df_numeryczny.values"
      ],
      "metadata": {
        "id": "HEn61Z22Lk5I"
      },
      "execution_count": null,
      "outputs": []
    },
    {
      "cell_type": "code",
      "source": [],
      "metadata": {
        "id": "GK0NNyKCTaik"
      },
      "execution_count": null,
      "outputs": []
    },
    {
      "cell_type": "code",
      "source": [
        "probka_scaled = scaler.transform(probka)"
      ],
      "metadata": {
        "id": "9vLs6RccKuVv"
      },
      "execution_count": null,
      "outputs": []
    },
    {
      "cell_type": "code",
      "source": [
        "probka_scaled.shape"
      ],
      "metadata": {
        "id": "1T1YWxdbMVVc",
        "colab": {
          "base_uri": "https://localhost:8080/"
        },
        "outputId": "44b15314-7c14-4e75-cce4-2a27cf5a0c6c"
      },
      "execution_count": null,
      "outputs": [
        {
          "output_type": "execute_result",
          "data": {
            "text/plain": [
              "(11, 13)"
            ]
          },
          "metadata": {},
          "execution_count": 4214
        }
      ]
    },
    {
      "cell_type": "code",
      "source": [
        "predictions = model.predict(np.array([probka_scaled]))"
      ],
      "metadata": {
        "id": "Aw3Qyb1OLqkL",
        "colab": {
          "base_uri": "https://localhost:8080/"
        },
        "outputId": "bcd15ab6-4623-4524-c741-e862398f695f"
      },
      "execution_count": null,
      "outputs": [
        {
          "output_type": "stream",
          "name": "stdout",
          "text": [
            "\u001b[1m1/1\u001b[0m \u001b[32m━━━━━━━━━━━━━━━━━━━━\u001b[0m\u001b[37m\u001b[0m \u001b[1m0s\u001b[0m 26ms/step\n"
          ]
        }
      ]
    },
    {
      "cell_type": "code",
      "source": [
        "predictions.shape"
      ],
      "metadata": {
        "id": "5oJmA1IvNXxM",
        "colab": {
          "base_uri": "https://localhost:8080/"
        },
        "outputId": "1c32dfa7-09ac-48d8-b4e5-6e88c2e16bd2"
      },
      "execution_count": null,
      "outputs": [
        {
          "output_type": "execute_result",
          "data": {
            "text/plain": [
              "(1, 1)"
            ]
          },
          "metadata": {},
          "execution_count": 4216
        }
      ]
    },
    {
      "cell_type": "code",
      "source": [
        "predictions = predictions.reshape(1)"
      ],
      "metadata": {
        "id": "jyzlpNVpNjhT"
      },
      "execution_count": null,
      "outputs": []
    },
    {
      "cell_type": "markdown",
      "source": [],
      "metadata": {
        "id": "Dxs4AT0-wJE8"
      }
    },
    {
      "cell_type": "code",
      "source": [
        "predictions_rescaled = scaler.inverse_transform(np.concatenate([np.zeros((predictions.shape[0], 12)), predictions.reshape(-1, 1)], axis=1))[:, -1]"
      ],
      "metadata": {
        "id": "dT3t5XweL9Kt"
      },
      "execution_count": null,
      "outputs": []
    },
    {
      "cell_type": "code",
      "source": [
        "predictions_rescaled"
      ],
      "metadata": {
        "id": "aeRfHk2GNs44",
        "colab": {
          "base_uri": "https://localhost:8080/"
        },
        "outputId": "811f41d9-876b-435e-b2d4-0178b4a18cc5"
      },
      "execution_count": null,
      "outputs": [
        {
          "output_type": "execute_result",
          "data": {
            "text/plain": [
              "array([77.68939103])"
            ]
          },
          "metadata": {},
          "execution_count": 4219
        }
      ]
    },
    {
      "cell_type": "code",
      "source": [
        "# Przekształcamy tablicę na pionowy format\n",
        "def make_vertical(arr):\n",
        "    if arr.ndim == 1:\n",
        "        arr = arr.reshape(-1, 1)\n",
        "    return arr\n",
        "\n",
        "# Uzyskujemy pionowy format\n",
        "predictions_vertical = make_vertical(predictions_rescaled)\n",
        "\n",
        "# Wyświetlamy tablicę pionowo bez nawiasów\n",
        "for value in predictions_vertical:\n",
        "    print(value[0])"
      ],
      "metadata": {
        "id": "gatOvrN3Nu6h",
        "colab": {
          "base_uri": "https://localhost:8080/"
        },
        "outputId": "c9768203-d25f-43de-cda9-7366f69d86c7"
      },
      "execution_count": null,
      "outputs": [
        {
          "output_type": "stream",
          "name": "stdout",
          "text": [
            "77.68939103215934\n"
          ]
        }
      ]
    },
    {
      "cell_type": "code",
      "source": [],
      "metadata": {
        "id": "hVFPHvXRk9x-"
      },
      "execution_count": null,
      "outputs": []
    }
  ]
}