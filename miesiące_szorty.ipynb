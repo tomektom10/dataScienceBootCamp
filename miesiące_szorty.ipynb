{
  "nbformat": 4,
  "nbformat_minor": 0,
  "metadata": {
    "colab": {
      "provenance": [],
      "authorship_tag": "ABX9TyNQmIMw1s336Ob//3Y8s2Bn",
      "include_colab_link": true
    },
    "kernelspec": {
      "name": "python3",
      "display_name": "Python 3"
    },
    "language_info": {
      "name": "python"
    }
  },
  "cells": [
    {
      "cell_type": "markdown",
      "metadata": {
        "id": "view-in-github",
        "colab_type": "text"
      },
      "source": [
        "<a href=\"https://colab.research.google.com/github/tomektom10/dataScienceBootCamp/blob/main/miesi%C4%85ce_szorty.ipynb\" target=\"_parent\"><img src=\"https://colab.research.google.com/assets/colab-badge.svg\" alt=\"Open In Colab\"/></a>"
      ]
    },
    {
      "cell_type": "code",
      "execution_count": 1,
      "metadata": {
        "id": "f3gdfoDbqt7j"
      },
      "outputs": [],
      "source": [
        "import pandas as pd\n",
        "import pandas as pd\n",
        "import numpy as np\n"
      ]
    },
    {
      "cell_type": "code",
      "source": [
        "df = pd.read_excel(\"kkkkkkkk.xlsx\")"
      ],
      "metadata": {
        "id": "6rDbZHhjqzYx"
      },
      "execution_count": 2,
      "outputs": []
    },
    {
      "cell_type": "code",
      "source": [
        "df['Profit_Loss'] = df['Bilans'] - df['Price SK (EUR/MWh)']"
      ],
      "metadata": {
        "id": "WomvmQj3q1IN"
      },
      "execution_count": 3,
      "outputs": []
    },
    {
      "cell_type": "code",
      "source": [
        "df.drop('Unnamed: 11', axis=1, inplace=True)"
      ],
      "metadata": {
        "id": "foTtg-gcq2xI"
      },
      "execution_count": 4,
      "outputs": []
    },
    {
      "cell_type": "code",
      "source": [
        "df.drop('Unnamed: 10', axis=1, inplace=True)"
      ],
      "metadata": {
        "id": "RbDnYCGlq3_j"
      },
      "execution_count": 5,
      "outputs": []
    },
    {
      "cell_type": "code",
      "source": [
        "df"
      ],
      "metadata": {
        "colab": {
          "base_uri": "https://localhost:8080/",
          "height": 597
        },
        "id": "qz8hBUqLq6Pd",
        "outputId": "2a9eecd4-b84c-441c-f0eb-6ed100cd1121"
      },
      "execution_count": 6,
      "outputs": [
        {
          "output_type": "execute_result",
          "data": {
            "text/plain": [
              "     Delivery day  Period number         Period  \\\n",
              "0      2023-01-01            1.0  00:00 - 01:00   \n",
              "1      2023-01-01            2.0  01:00 - 02:00   \n",
              "2      2023-01-01            3.0  02:00 - 03:00   \n",
              "3      2023-01-01            4.0  03:00 - 04:00   \n",
              "4      2023-01-01            5.0  04:00 - 05:00   \n",
              "...           ...            ...            ...   \n",
              "8756   2023-12-31           21.0  20:00 - 21:00   \n",
              "8757   2023-12-31           22.0  21:00 - 22:00   \n",
              "8758   2023-12-31           23.0  22:00 - 23:00   \n",
              "8759   2023-12-31           24.0  23:00 - 00:00   \n",
              "8760          NaT            NaN            NaN   \n",
              "\n",
              "      Traded Price Average (EUR/MWh)  \\\n",
              "0                              19.40   \n",
              "1                               3.07   \n",
              "2                               4.18   \n",
              "3                               4.40   \n",
              "4                               5.08   \n",
              "...                              ...   \n",
              "8756                           26.51   \n",
              "8757                           17.22   \n",
              "8758                           16.81   \n",
              "8759                           13.72   \n",
              "8760                             NaN   \n",
              "\n",
              "      Weighted average price of all trades (EUR/MWh)  Minimal price (EUR/MWh)  \\\n",
              "0                                              18.93                     7.00   \n",
              "1                                               1.35                     0.30   \n",
              "2                                               2.05                     0.50   \n",
              "3                                               2.26                     0.00   \n",
              "4                                               3.12                     0.00   \n",
              "...                                              ...                      ...   \n",
              "8756                                           27.36                    14.23   \n",
              "8757                                           18.78                     3.87   \n",
              "8758                                           19.80                     4.23   \n",
              "8759                                           18.38                     6.64   \n",
              "8760                                             NaN                      NaN   \n",
              "\n",
              "      Maximal price (EUR/MWh)  Last price (EUR/MWh)  Bilans  \\\n",
              "0                       30.26                 19.00 -5.0000   \n",
              "1                       10.33                  0.30 -2.2525   \n",
              "2                       10.50                  0.50 -5.0000   \n",
              "3                       10.50                  0.00 -5.0000   \n",
              "4                       10.10                  0.00 -5.0000   \n",
              "...                       ...                   ...     ...   \n",
              "8756                    48.00                 15.00 -5.0000   \n",
              "8757                    45.00                  5.00 -5.0000   \n",
              "8758                    55.00                  5.00 -5.0000   \n",
              "8759                    35.11                  8.59 -5.0000   \n",
              "8760                      NaN                   NaN     NaN   \n",
              "\n",
              "      Price SK (EUR/MWh)  Profit_Loss  \n",
              "0                  20.26     -25.2600  \n",
              "1                   0.33      -2.5825  \n",
              "2                   0.50      -5.5000  \n",
              "3                   0.50      -5.5000  \n",
              "4                   0.10      -5.1000  \n",
              "...                  ...          ...  \n",
              "8756               24.04     -29.0400  \n",
              "8757                9.85     -14.8500  \n",
              "8758               10.68     -15.6800  \n",
              "8759               15.11     -20.1100  \n",
              "8760                 NaN          NaN  \n",
              "\n",
              "[8761 rows x 11 columns]"
            ],
            "text/html": [
              "\n",
              "  <div id=\"df-d483f8bd-0197-40b4-a775-9b69f077c1e1\" class=\"colab-df-container\">\n",
              "    <div>\n",
              "<style scoped>\n",
              "    .dataframe tbody tr th:only-of-type {\n",
              "        vertical-align: middle;\n",
              "    }\n",
              "\n",
              "    .dataframe tbody tr th {\n",
              "        vertical-align: top;\n",
              "    }\n",
              "\n",
              "    .dataframe thead th {\n",
              "        text-align: right;\n",
              "    }\n",
              "</style>\n",
              "<table border=\"1\" class=\"dataframe\">\n",
              "  <thead>\n",
              "    <tr style=\"text-align: right;\">\n",
              "      <th></th>\n",
              "      <th>Delivery day</th>\n",
              "      <th>Period number</th>\n",
              "      <th>Period</th>\n",
              "      <th>Traded Price Average (EUR/MWh)</th>\n",
              "      <th>Weighted average price of all trades (EUR/MWh)</th>\n",
              "      <th>Minimal price (EUR/MWh)</th>\n",
              "      <th>Maximal price (EUR/MWh)</th>\n",
              "      <th>Last price (EUR/MWh)</th>\n",
              "      <th>Bilans</th>\n",
              "      <th>Price SK (EUR/MWh)</th>\n",
              "      <th>Profit_Loss</th>\n",
              "    </tr>\n",
              "  </thead>\n",
              "  <tbody>\n",
              "    <tr>\n",
              "      <th>0</th>\n",
              "      <td>2023-01-01</td>\n",
              "      <td>1.0</td>\n",
              "      <td>00:00 - 01:00</td>\n",
              "      <td>19.40</td>\n",
              "      <td>18.93</td>\n",
              "      <td>7.00</td>\n",
              "      <td>30.26</td>\n",
              "      <td>19.00</td>\n",
              "      <td>-5.0000</td>\n",
              "      <td>20.26</td>\n",
              "      <td>-25.2600</td>\n",
              "    </tr>\n",
              "    <tr>\n",
              "      <th>1</th>\n",
              "      <td>2023-01-01</td>\n",
              "      <td>2.0</td>\n",
              "      <td>01:00 - 02:00</td>\n",
              "      <td>3.07</td>\n",
              "      <td>1.35</td>\n",
              "      <td>0.30</td>\n",
              "      <td>10.33</td>\n",
              "      <td>0.30</td>\n",
              "      <td>-2.2525</td>\n",
              "      <td>0.33</td>\n",
              "      <td>-2.5825</td>\n",
              "    </tr>\n",
              "    <tr>\n",
              "      <th>2</th>\n",
              "      <td>2023-01-01</td>\n",
              "      <td>3.0</td>\n",
              "      <td>02:00 - 03:00</td>\n",
              "      <td>4.18</td>\n",
              "      <td>2.05</td>\n",
              "      <td>0.50</td>\n",
              "      <td>10.50</td>\n",
              "      <td>0.50</td>\n",
              "      <td>-5.0000</td>\n",
              "      <td>0.50</td>\n",
              "      <td>-5.5000</td>\n",
              "    </tr>\n",
              "    <tr>\n",
              "      <th>3</th>\n",
              "      <td>2023-01-01</td>\n",
              "      <td>4.0</td>\n",
              "      <td>03:00 - 04:00</td>\n",
              "      <td>4.40</td>\n",
              "      <td>2.26</td>\n",
              "      <td>0.00</td>\n",
              "      <td>10.50</td>\n",
              "      <td>0.00</td>\n",
              "      <td>-5.0000</td>\n",
              "      <td>0.50</td>\n",
              "      <td>-5.5000</td>\n",
              "    </tr>\n",
              "    <tr>\n",
              "      <th>4</th>\n",
              "      <td>2023-01-01</td>\n",
              "      <td>5.0</td>\n",
              "      <td>04:00 - 05:00</td>\n",
              "      <td>5.08</td>\n",
              "      <td>3.12</td>\n",
              "      <td>0.00</td>\n",
              "      <td>10.10</td>\n",
              "      <td>0.00</td>\n",
              "      <td>-5.0000</td>\n",
              "      <td>0.10</td>\n",
              "      <td>-5.1000</td>\n",
              "    </tr>\n",
              "    <tr>\n",
              "      <th>...</th>\n",
              "      <td>...</td>\n",
              "      <td>...</td>\n",
              "      <td>...</td>\n",
              "      <td>...</td>\n",
              "      <td>...</td>\n",
              "      <td>...</td>\n",
              "      <td>...</td>\n",
              "      <td>...</td>\n",
              "      <td>...</td>\n",
              "      <td>...</td>\n",
              "      <td>...</td>\n",
              "    </tr>\n",
              "    <tr>\n",
              "      <th>8756</th>\n",
              "      <td>2023-12-31</td>\n",
              "      <td>21.0</td>\n",
              "      <td>20:00 - 21:00</td>\n",
              "      <td>26.51</td>\n",
              "      <td>27.36</td>\n",
              "      <td>14.23</td>\n",
              "      <td>48.00</td>\n",
              "      <td>15.00</td>\n",
              "      <td>-5.0000</td>\n",
              "      <td>24.04</td>\n",
              "      <td>-29.0400</td>\n",
              "    </tr>\n",
              "    <tr>\n",
              "      <th>8757</th>\n",
              "      <td>2023-12-31</td>\n",
              "      <td>22.0</td>\n",
              "      <td>21:00 - 22:00</td>\n",
              "      <td>17.22</td>\n",
              "      <td>18.78</td>\n",
              "      <td>3.87</td>\n",
              "      <td>45.00</td>\n",
              "      <td>5.00</td>\n",
              "      <td>-5.0000</td>\n",
              "      <td>9.85</td>\n",
              "      <td>-14.8500</td>\n",
              "    </tr>\n",
              "    <tr>\n",
              "      <th>8758</th>\n",
              "      <td>2023-12-31</td>\n",
              "      <td>23.0</td>\n",
              "      <td>22:00 - 23:00</td>\n",
              "      <td>16.81</td>\n",
              "      <td>19.80</td>\n",
              "      <td>4.23</td>\n",
              "      <td>55.00</td>\n",
              "      <td>5.00</td>\n",
              "      <td>-5.0000</td>\n",
              "      <td>10.68</td>\n",
              "      <td>-15.6800</td>\n",
              "    </tr>\n",
              "    <tr>\n",
              "      <th>8759</th>\n",
              "      <td>2023-12-31</td>\n",
              "      <td>24.0</td>\n",
              "      <td>23:00 - 00:00</td>\n",
              "      <td>13.72</td>\n",
              "      <td>18.38</td>\n",
              "      <td>6.64</td>\n",
              "      <td>35.11</td>\n",
              "      <td>8.59</td>\n",
              "      <td>-5.0000</td>\n",
              "      <td>15.11</td>\n",
              "      <td>-20.1100</td>\n",
              "    </tr>\n",
              "    <tr>\n",
              "      <th>8760</th>\n",
              "      <td>NaT</td>\n",
              "      <td>NaN</td>\n",
              "      <td>NaN</td>\n",
              "      <td>NaN</td>\n",
              "      <td>NaN</td>\n",
              "      <td>NaN</td>\n",
              "      <td>NaN</td>\n",
              "      <td>NaN</td>\n",
              "      <td>NaN</td>\n",
              "      <td>NaN</td>\n",
              "      <td>NaN</td>\n",
              "    </tr>\n",
              "  </tbody>\n",
              "</table>\n",
              "<p>8761 rows × 11 columns</p>\n",
              "</div>\n",
              "    <div class=\"colab-df-buttons\">\n",
              "\n",
              "  <div class=\"colab-df-container\">\n",
              "    <button class=\"colab-df-convert\" onclick=\"convertToInteractive('df-d483f8bd-0197-40b4-a775-9b69f077c1e1')\"\n",
              "            title=\"Convert this dataframe to an interactive table.\"\n",
              "            style=\"display:none;\">\n",
              "\n",
              "  <svg xmlns=\"http://www.w3.org/2000/svg\" height=\"24px\" viewBox=\"0 -960 960 960\">\n",
              "    <path d=\"M120-120v-720h720v720H120Zm60-500h600v-160H180v160Zm220 220h160v-160H400v160Zm0 220h160v-160H400v160ZM180-400h160v-160H180v160Zm440 0h160v-160H620v160ZM180-180h160v-160H180v160Zm440 0h160v-160H620v160Z\"/>\n",
              "  </svg>\n",
              "    </button>\n",
              "\n",
              "  <style>\n",
              "    .colab-df-container {\n",
              "      display:flex;\n",
              "      gap: 12px;\n",
              "    }\n",
              "\n",
              "    .colab-df-convert {\n",
              "      background-color: #E8F0FE;\n",
              "      border: none;\n",
              "      border-radius: 50%;\n",
              "      cursor: pointer;\n",
              "      display: none;\n",
              "      fill: #1967D2;\n",
              "      height: 32px;\n",
              "      padding: 0 0 0 0;\n",
              "      width: 32px;\n",
              "    }\n",
              "\n",
              "    .colab-df-convert:hover {\n",
              "      background-color: #E2EBFA;\n",
              "      box-shadow: 0px 1px 2px rgba(60, 64, 67, 0.3), 0px 1px 3px 1px rgba(60, 64, 67, 0.15);\n",
              "      fill: #174EA6;\n",
              "    }\n",
              "\n",
              "    .colab-df-buttons div {\n",
              "      margin-bottom: 4px;\n",
              "    }\n",
              "\n",
              "    [theme=dark] .colab-df-convert {\n",
              "      background-color: #3B4455;\n",
              "      fill: #D2E3FC;\n",
              "    }\n",
              "\n",
              "    [theme=dark] .colab-df-convert:hover {\n",
              "      background-color: #434B5C;\n",
              "      box-shadow: 0px 1px 3px 1px rgba(0, 0, 0, 0.15);\n",
              "      filter: drop-shadow(0px 1px 2px rgba(0, 0, 0, 0.3));\n",
              "      fill: #FFFFFF;\n",
              "    }\n",
              "  </style>\n",
              "\n",
              "    <script>\n",
              "      const buttonEl =\n",
              "        document.querySelector('#df-d483f8bd-0197-40b4-a775-9b69f077c1e1 button.colab-df-convert');\n",
              "      buttonEl.style.display =\n",
              "        google.colab.kernel.accessAllowed ? 'block' : 'none';\n",
              "\n",
              "      async function convertToInteractive(key) {\n",
              "        const element = document.querySelector('#df-d483f8bd-0197-40b4-a775-9b69f077c1e1');\n",
              "        const dataTable =\n",
              "          await google.colab.kernel.invokeFunction('convertToInteractive',\n",
              "                                                    [key], {});\n",
              "        if (!dataTable) return;\n",
              "\n",
              "        const docLinkHtml = 'Like what you see? Visit the ' +\n",
              "          '<a target=\"_blank\" href=https://colab.research.google.com/notebooks/data_table.ipynb>data table notebook</a>'\n",
              "          + ' to learn more about interactive tables.';\n",
              "        element.innerHTML = '';\n",
              "        dataTable['output_type'] = 'display_data';\n",
              "        await google.colab.output.renderOutput(dataTable, element);\n",
              "        const docLink = document.createElement('div');\n",
              "        docLink.innerHTML = docLinkHtml;\n",
              "        element.appendChild(docLink);\n",
              "      }\n",
              "    </script>\n",
              "  </div>\n",
              "\n",
              "\n",
              "<div id=\"df-e941802c-63e8-4dfd-99d0-32e610fc0f0f\">\n",
              "  <button class=\"colab-df-quickchart\" onclick=\"quickchart('df-e941802c-63e8-4dfd-99d0-32e610fc0f0f')\"\n",
              "            title=\"Suggest charts\"\n",
              "            style=\"display:none;\">\n",
              "\n",
              "<svg xmlns=\"http://www.w3.org/2000/svg\" height=\"24px\"viewBox=\"0 0 24 24\"\n",
              "     width=\"24px\">\n",
              "    <g>\n",
              "        <path d=\"M19 3H5c-1.1 0-2 .9-2 2v14c0 1.1.9 2 2 2h14c1.1 0 2-.9 2-2V5c0-1.1-.9-2-2-2zM9 17H7v-7h2v7zm4 0h-2V7h2v10zm4 0h-2v-4h2v4z\"/>\n",
              "    </g>\n",
              "</svg>\n",
              "  </button>\n",
              "\n",
              "<style>\n",
              "  .colab-df-quickchart {\n",
              "      --bg-color: #E8F0FE;\n",
              "      --fill-color: #1967D2;\n",
              "      --hover-bg-color: #E2EBFA;\n",
              "      --hover-fill-color: #174EA6;\n",
              "      --disabled-fill-color: #AAA;\n",
              "      --disabled-bg-color: #DDD;\n",
              "  }\n",
              "\n",
              "  [theme=dark] .colab-df-quickchart {\n",
              "      --bg-color: #3B4455;\n",
              "      --fill-color: #D2E3FC;\n",
              "      --hover-bg-color: #434B5C;\n",
              "      --hover-fill-color: #FFFFFF;\n",
              "      --disabled-bg-color: #3B4455;\n",
              "      --disabled-fill-color: #666;\n",
              "  }\n",
              "\n",
              "  .colab-df-quickchart {\n",
              "    background-color: var(--bg-color);\n",
              "    border: none;\n",
              "    border-radius: 50%;\n",
              "    cursor: pointer;\n",
              "    display: none;\n",
              "    fill: var(--fill-color);\n",
              "    height: 32px;\n",
              "    padding: 0;\n",
              "    width: 32px;\n",
              "  }\n",
              "\n",
              "  .colab-df-quickchart:hover {\n",
              "    background-color: var(--hover-bg-color);\n",
              "    box-shadow: 0 1px 2px rgba(60, 64, 67, 0.3), 0 1px 3px 1px rgba(60, 64, 67, 0.15);\n",
              "    fill: var(--button-hover-fill-color);\n",
              "  }\n",
              "\n",
              "  .colab-df-quickchart-complete:disabled,\n",
              "  .colab-df-quickchart-complete:disabled:hover {\n",
              "    background-color: var(--disabled-bg-color);\n",
              "    fill: var(--disabled-fill-color);\n",
              "    box-shadow: none;\n",
              "  }\n",
              "\n",
              "  .colab-df-spinner {\n",
              "    border: 2px solid var(--fill-color);\n",
              "    border-color: transparent;\n",
              "    border-bottom-color: var(--fill-color);\n",
              "    animation:\n",
              "      spin 1s steps(1) infinite;\n",
              "  }\n",
              "\n",
              "  @keyframes spin {\n",
              "    0% {\n",
              "      border-color: transparent;\n",
              "      border-bottom-color: var(--fill-color);\n",
              "      border-left-color: var(--fill-color);\n",
              "    }\n",
              "    20% {\n",
              "      border-color: transparent;\n",
              "      border-left-color: var(--fill-color);\n",
              "      border-top-color: var(--fill-color);\n",
              "    }\n",
              "    30% {\n",
              "      border-color: transparent;\n",
              "      border-left-color: var(--fill-color);\n",
              "      border-top-color: var(--fill-color);\n",
              "      border-right-color: var(--fill-color);\n",
              "    }\n",
              "    40% {\n",
              "      border-color: transparent;\n",
              "      border-right-color: var(--fill-color);\n",
              "      border-top-color: var(--fill-color);\n",
              "    }\n",
              "    60% {\n",
              "      border-color: transparent;\n",
              "      border-right-color: var(--fill-color);\n",
              "    }\n",
              "    80% {\n",
              "      border-color: transparent;\n",
              "      border-right-color: var(--fill-color);\n",
              "      border-bottom-color: var(--fill-color);\n",
              "    }\n",
              "    90% {\n",
              "      border-color: transparent;\n",
              "      border-bottom-color: var(--fill-color);\n",
              "    }\n",
              "  }\n",
              "</style>\n",
              "\n",
              "  <script>\n",
              "    async function quickchart(key) {\n",
              "      const quickchartButtonEl =\n",
              "        document.querySelector('#' + key + ' button');\n",
              "      quickchartButtonEl.disabled = true;  // To prevent multiple clicks.\n",
              "      quickchartButtonEl.classList.add('colab-df-spinner');\n",
              "      try {\n",
              "        const charts = await google.colab.kernel.invokeFunction(\n",
              "            'suggestCharts', [key], {});\n",
              "      } catch (error) {\n",
              "        console.error('Error during call to suggestCharts:', error);\n",
              "      }\n",
              "      quickchartButtonEl.classList.remove('colab-df-spinner');\n",
              "      quickchartButtonEl.classList.add('colab-df-quickchart-complete');\n",
              "    }\n",
              "    (() => {\n",
              "      let quickchartButtonEl =\n",
              "        document.querySelector('#df-e941802c-63e8-4dfd-99d0-32e610fc0f0f button');\n",
              "      quickchartButtonEl.style.display =\n",
              "        google.colab.kernel.accessAllowed ? 'block' : 'none';\n",
              "    })();\n",
              "  </script>\n",
              "</div>\n",
              "    </div>\n",
              "  </div>\n"
            ]
          },
          "metadata": {},
          "execution_count": 6
        }
      ]
    },
    {
      "cell_type": "code",
      "source": [
        "\n",
        "from io import StringIO\n",
        "\n",
        "\n",
        "\n",
        "# Convert the 'Delivery day' to datetime\n",
        "df['Delivery day'] = pd.to_datetime(df['Delivery day'])\n",
        "\n",
        "# Filtering the DataFrame for January 2023\n",
        "january_df = df[df['Delivery day'].dt.month == 1]\n",
        "\n",
        "# Group by day and sum the 'Profit_Loss' column\n",
        "daily_profit_loss = january_df.groupby(january_df['Delivery day'].dt.day)['Profit_Loss'].sum()\n",
        "\n",
        "daily_profit_loss\n",
        "###### styczen########"
      ],
      "metadata": {
        "colab": {
          "base_uri": "https://localhost:8080/"
        },
        "id": "LwFkcMKPq6vG",
        "outputId": "533498f1-2f25-4677-ec23-f79adcd5b7c6"
      },
      "execution_count": 7,
      "outputs": [
        {
          "output_type": "execute_result",
          "data": {
            "text/plain": [
              "Delivery day\n",
              "1      102.11000\n",
              "2    -1702.78375\n",
              "3     -308.16125\n",
              "4      358.35625\n",
              "5     -625.59125\n",
              "6    -1603.80500\n",
              "7     -822.54125\n",
              "8     -489.93000\n",
              "9      239.04375\n",
              "10     188.98625\n",
              "11    -864.35650\n",
              "12    -315.76000\n",
              "13     709.23750\n",
              "14     -63.90000\n",
              "15     342.25375\n",
              "16    -944.56000\n",
              "17    -368.93250\n",
              "18    -393.30875\n",
              "19    1197.11000\n",
              "20    1784.45125\n",
              "21     306.58000\n",
              "22    -564.57875\n",
              "23   -1393.79050\n",
              "24   -1223.69000\n",
              "25    1731.39125\n",
              "26     910.87875\n",
              "27     294.78875\n",
              "28     543.82000\n",
              "29    -390.87250\n",
              "30    2218.77250\n",
              "31    -807.57750\n",
              "Name: Profit_Loss, dtype: float64"
            ]
          },
          "metadata": {},
          "execution_count": 7
        }
      ]
    },
    {
      "cell_type": "code",
      "source": [
        "# Summing the 'Profit_Loss' column\n",
        "total_profit_loss = january_df['Profit_Loss'].sum()\n",
        "total_profit_loss\n"
      ],
      "metadata": {
        "colab": {
          "base_uri": "https://localhost:8080/"
        },
        "id": "tmxNkIQmtpNG",
        "outputId": "d751b554-7cfb-4430-d8f4-5c15fc7fa377"
      },
      "execution_count": 10,
      "outputs": [
        {
          "output_type": "execute_result",
          "data": {
            "text/plain": [
              "-1956.3594999999996"
            ]
          },
          "metadata": {},
          "execution_count": 10
        }
      ]
    },
    {
      "cell_type": "code",
      "source": [
        "# Filtering the DataFrame for February 2023\n",
        "february_df = df[df['Delivery day'].dt.month == 2]\n",
        "\n",
        "# Group by day and sum the 'Profit_Loss' column\n",
        "february_daily_profit_loss = february_df.groupby(february_df['Delivery day'].dt.day)['Profit_Loss'].sum()\n",
        "\n",
        "february_daily_profit_loss\n",
        "###### luty##################"
      ],
      "metadata": {
        "colab": {
          "base_uri": "https://localhost:8080/"
        },
        "id": "p57xMIZjreKl",
        "outputId": "ca05dde5-467a-44a3-a92b-428a9e324c54"
      },
      "execution_count": 8,
      "outputs": [
        {
          "output_type": "execute_result",
          "data": {
            "text/plain": [
              "Delivery day\n",
              "1    -1075.23125\n",
              "2     -319.88325\n",
              "3      808.10750\n",
              "4    -1513.90250\n",
              "5     -780.05875\n",
              "6    -1522.01500\n",
              "7     1666.96000\n",
              "8      613.70500\n",
              "9    -1615.80000\n",
              "10     531.63375\n",
              "11     548.27500\n",
              "12    -730.42000\n",
              "13   -1727.88000\n",
              "14   -1070.53625\n",
              "15     375.25375\n",
              "16    1565.96375\n",
              "17     -53.82500\n",
              "18    -969.17625\n",
              "19   -1197.70000\n",
              "20    -476.60375\n",
              "21      26.22500\n",
              "22     441.98000\n",
              "23   -1009.68750\n",
              "24    -808.45375\n",
              "25     127.86550\n",
              "26    -905.06875\n",
              "27     -81.01875\n",
              "28     173.70250\n",
              "Name: Profit_Loss, dtype: float64"
            ]
          },
          "metadata": {},
          "execution_count": 8
        }
      ]
    },
    {
      "cell_type": "code",
      "source": [
        "# Summing the 'Profit_Loss' column\n",
        "total_profit_loss_F = february_df['Profit_Loss'].sum()\n",
        "total_profit_loss_F\n"
      ],
      "metadata": {
        "colab": {
          "base_uri": "https://localhost:8080/"
        },
        "id": "LQL0iM0VtzK6",
        "outputId": "a0757714-4767-4c11-8001-335323e9b1a1"
      },
      "execution_count": 12,
      "outputs": [
        {
          "output_type": "execute_result",
          "data": {
            "text/plain": [
              "-8977.589"
            ]
          },
          "metadata": {},
          "execution_count": 12
        }
      ]
    },
    {
      "cell_type": "code",
      "source": [
        "# Function to calculate the longest sequence of consecutive profits\n",
        "def longest_profit_sequence(profit_loss_series):\n",
        "    max_length = 0\n",
        "    current_length = 0\n",
        "\n",
        "    for value in profit_loss_series:\n",
        "        if value > 0:\n",
        "            current_length += 1\n",
        "            max_length = max(max_length, current_length)\n",
        "        else:\n",
        "            current_length = 0\n",
        "\n",
        "    return max_length\n",
        "\n",
        "# Calculating the longest sequence of profits\n",
        "longest_profit_streak = longest_profit_sequence(df['Profit_Loss'])\n",
        "longest_profit_streak\n"
      ],
      "metadata": {
        "colab": {
          "base_uri": "https://localhost:8080/"
        },
        "id": "m5oaH6DisFsM",
        "outputId": "855935a6-77cd-4429-e9db-4b238ef52cd4"
      },
      "execution_count": 9,
      "outputs": [
        {
          "output_type": "execute_result",
          "data": {
            "text/plain": [
              "38"
            ]
          },
          "metadata": {},
          "execution_count": 9
        }
      ]
    },
    {
      "cell_type": "code",
      "source": [
        "#############marzec ##################"
      ],
      "metadata": {
        "id": "X5EKZNYvsnjv"
      },
      "execution_count": null,
      "outputs": []
    },
    {
      "cell_type": "code",
      "source": [
        "# Filtering the DataFrame for March 2023\n",
        "march_df = df[df['Delivery day'].dt.month == 3]\n",
        "\n",
        "# Group by day and sum the 'Profit_Loss' column\n",
        "march_daily_profit_loss = march_df.groupby(march_df['Delivery day'].dt.day)['Profit_Loss'].sum()\n",
        "\n",
        "march_daily_profit_loss\n"
      ],
      "metadata": {
        "colab": {
          "base_uri": "https://localhost:8080/"
        },
        "id": "NvHE9dlsuOc-",
        "outputId": "523d3485-7d9b-4bfc-a9cf-1d0ef32f225b"
      },
      "execution_count": 13,
      "outputs": [
        {
          "output_type": "execute_result",
          "data": {
            "text/plain": [
              "Delivery day\n",
              "1     -480.94625\n",
              "2    -1057.45000\n",
              "3     -290.35875\n",
              "4     -241.35250\n",
              "5      535.97250\n",
              "6     -645.08500\n",
              "7      240.03000\n",
              "8      -66.03500\n",
              "9      463.82125\n",
              "10    -225.38375\n",
              "11     395.00375\n",
              "12    -107.28000\n",
              "13    -659.00250\n",
              "14     215.33250\n",
              "15     718.87875\n",
              "16    -766.88250\n",
              "17     203.90000\n",
              "18     -83.83250\n",
              "19      82.19000\n",
              "20    -565.03750\n",
              "21    -619.34625\n",
              "22     -12.04125\n",
              "23     232.31750\n",
              "24    -192.94250\n",
              "25    -266.20000\n",
              "26    -366.35500\n",
              "27     -16.60500\n",
              "28    -558.15125\n",
              "29     284.08750\n",
              "30       3.34875\n",
              "31    1070.74875\n",
              "Name: Profit_Loss, dtype: float64"
            ]
          },
          "metadata": {},
          "execution_count": 13
        }
      ]
    },
    {
      "cell_type": "code",
      "source": [
        "# Summing the 'Profit_Loss' column\n",
        "total_profit_loss_M = march_df['Profit_Loss'].sum()\n",
        "total_profit_loss_M"
      ],
      "metadata": {
        "colab": {
          "base_uri": "https://localhost:8080/"
        },
        "id": "h9jP3x_iuPO1",
        "outputId": "f89d0417-ecfa-4961-c261-447ce17b4fab"
      },
      "execution_count": 14,
      "outputs": [
        {
          "output_type": "execute_result",
          "data": {
            "text/plain": [
              "-2774.65625"
            ]
          },
          "metadata": {},
          "execution_count": 14
        }
      ]
    },
    {
      "cell_type": "code",
      "source": [],
      "metadata": {
        "id": "CfB717oHuVjd"
      },
      "execution_count": null,
      "outputs": []
    }
  ]
}